{
 "cells": [
  {
   "cell_type": "markdown",
   "metadata": {},
   "source": [
    "---\n",
    "\"tags\": [\"opérateurs booléens\", \"structures conditionnelles\"]\n",
    "---\n",
    "\n",
    "Nous avons vu précédemment la notion de **bloc**. Il s'agit de parties de programmes qui ne sont pas forcément exécutées lors de la lecture des instructions du programme de haut en bas.\n",
    "\n",
    "En python, les blocs sont délimités grâce aux tabulations et introduits grâce à deux points `:`.\n",
    "\n",
    "```python\n",
    "entrée dans un bloc:\n",
    "    ligne 1 du bloc\n",
    "    ligne 2 du bloc\n",
    "    ...\n",
    "\n",
    "retour dans l’exécution normale du programme ligne à ligne.\n",
    "```\n",
    "\n",
    "Aujourd'hui, nous allons utiliser des structures de contrôle qui permettent d’exécuter: des *blocs*, en fonction de conditions. On parle de **structure conditionnelles**.\n",
    "\n",
    "Nous devons dans un premier temps définir les **opérations booléennes** qui vont nous permettre de définir nos conditions.\n",
    "\n",
    "## Opérateurs booléens\n",
    "\n",
    "Les **opérateurs booléens** sont des opérateurs de *comparaison* qui retournent un objet de type booléen: `True` ou `False`.\n",
    "\n",
    "### Comparaisons de nombres\n",
    "\n",
    "Soit x et y des variables de type `int` ou `float`, les opérateurs de comparaison sont:\n",
    "\n",
    "- `x < y`: x est-il inférieur à y ?\n",
    "- `x <= y`: x est-il inférieur ou égal  à y ?\n",
    "- `x > y`: x est-il supérieur à y ?\n",
    "- `x >= y`: x est-il supérieur ou égal à y ?\n",
    "- `x == y`: x est-il égal à y ?\n",
    "- `x != y`: x est-il différent y ?\n",
    "\n",
    "#### Exemples"
   ]
  },
  {
   "cell_type": "code",
   "execution_count": 15,
   "metadata": {},
   "outputs": [
    {
     "name": "stdout",
     "output_type": "stream",
     "text": [
      "True\n"
     ]
    }
   ],
   "source": [
    "x = 3\n",
    "y = 5\n",
    "print(x < y)"
   ]
  },
  {
   "cell_type": "code",
   "execution_count": 16,
   "metadata": {},
   "outputs": [
    {
     "name": "stdout",
     "output_type": "stream",
     "text": [
      "True\n"
     ]
    }
   ],
   "source": [
    "print(x <= y)"
   ]
  },
  {
   "cell_type": "markdown",
   "metadata": {},
   "source": [
    "Dans l'environnement ipython notebook, le print sur la dernière ligne est optionnel, et le résultat de la dernière expression entrée est evalué et affiché."
   ]
  },
  {
   "cell_type": "code",
   "execution_count": 17,
   "metadata": {},
   "outputs": [
    {
     "data": {
      "text/plain": [
       "False"
      ]
     },
     "execution_count": 17,
     "metadata": {},
     "output_type": "execute_result"
    }
   ],
   "source": [
    "x > y"
   ]
  },
  {
   "cell_type": "code",
   "execution_count": 18,
   "metadata": {},
   "outputs": [
    {
     "data": {
      "text/plain": [
       "False"
      ]
     },
     "execution_count": 18,
     "metadata": {},
     "output_type": "execute_result"
    }
   ],
   "source": [
    "x >= y"
   ]
  },
  {
   "cell_type": "code",
   "execution_count": 19,
   "metadata": {},
   "outputs": [
    {
     "data": {
      "text/plain": [
       "False"
      ]
     },
     "execution_count": 19,
     "metadata": {},
     "output_type": "execute_result"
    }
   ],
   "source": [
    "x == y"
   ]
  },
  {
   "cell_type": "code",
   "execution_count": 20,
   "metadata": {},
   "outputs": [
    {
     "data": {
      "text/plain": [
       "True"
      ]
     },
     "execution_count": 20,
     "metadata": {},
     "output_type": "execute_result"
    }
   ],
   "source": [
    "x != y"
   ]
  },
  {
   "cell_type": "markdown",
   "metadata": {},
   "source": [
    "On peut constater que ces instructions retournent systématiquement un objet de type booléen."
   ]
  },
  {
   "cell_type": "code",
   "execution_count": 21,
   "metadata": {},
   "outputs": [
    {
     "data": {
      "text/plain": [
       "bool"
      ]
     },
     "execution_count": 21,
     "metadata": {},
     "output_type": "execute_result"
    }
   ],
   "source": [
    "type(x > y)"
   ]
  },
  {
   "cell_type": "markdown",
   "metadata": {},
   "source": [
    "Ou un erreur si on cherche à comparer *l'incomparable*:"
   ]
  },
  {
   "cell_type": "code",
   "execution_count": 22,
   "metadata": {},
   "outputs": [
    {
     "ename": "TypeError",
     "evalue": "'<' not supported between instances of 'str' and 'int'",
     "output_type": "error",
     "traceback": [
      "\u001b[0;31m---------------------------------------------------------------------------\u001b[0m",
      "\u001b[0;31mTypeError\u001b[0m                                 Traceback (most recent call last)",
      "\u001b[0;32m<ipython-input-22-b70077822e07>\u001b[0m in \u001b[0;36m<module>\u001b[0;34m\u001b[0m\n\u001b[0;32m----> 1\u001b[0;31m \u001b[0;34m\"un\"\u001b[0m \u001b[0;34m<\u001b[0m \u001b[0;36m2\u001b[0m\u001b[0;34m\u001b[0m\u001b[0;34m\u001b[0m\u001b[0m\n\u001b[0m",
      "\u001b[0;31mTypeError\u001b[0m: '<' not supported between instances of 'str' and 'int'"
     ]
    }
   ],
   "source": [
    "\"un\" < 2"
   ]
  },
  {
   "cell_type": "markdown",
   "metadata": {},
   "source": [
    "**ATTENTION:** Comme vous l'avez remarqué pour tester une égalité on utilise le double signe égal `==`. Tout simplement car le signe égal seul `=` est déjà utilisé pour l'affectation de variables.\n",
    "\n",
    "## Associations d'opérations booléennes: les fonctions logiques\n",
    "\n",
    "Il est également possible d'associer plusieurs opérations logiques grâce aux [trois fonctions logiques fondamentales](https://fr.wikipedia.org/wiki/Alg%C3%A8bre_de_Boole_(logique)#Fonctions_logiques_fondamentales):\n",
    "\n",
    "- `not(a)`: **L'INVERSE** renvoie l'inverse de son argument `a`: `True` si `a` a pour valeur `False`, et vice-versa.\n",
    "- `a and b`: **ET LOGIQUE** renvoie `True` si `a` et `b` ont pour valeur `True`.\n",
    "- `a or b`: **ou LOGIQUE** renvoie `True` si `a` ou `b` ont pour valeur `True`.\n",
    "\n",
    "**Exemples:**\n",
    "\n",
    "```python\n",
    "not(2 < 3)\n",
    ">>> False\n",
    "\n",
    "(1 < 2) or (9 < 5)\n",
    ">>> True\n",
    "\n",
    "(1 < 2) and (9 < 5)\n",
    ">>> False\n",
    "```\n",
    "\n",
    "1. `not(2 < 3)` renvoie `False` car 2 est inférieur à trois donc en prenant l'inverse on obtient `False`\n",
    "2. `(1 < 2) or (9 < 5)` renvoie `True` car une des deux expression est vraie, la première.\n",
    "3. `(1 < 2) and (9 < 5)` renvoie `False` car les deux expressions ne sont pas vraies, seule la première l'est.\n",
    "\n",
    "## Programme à structure conditionnelle\n",
    "\n",
    "Grâce aux opérateurs que l'on vient de voir on va pouvoir maîtriser la façon dont se déroule le programme en fonction de certaines conditions.\n",
    "\n",
    "Le code sera toujours interprété ligne par ligne, cependant certains blocs de code ne seront exécutés que si une condition donnée est vraie.\n",
    "\n",
    "### L'instruction `if`\n",
    "\n",
    "Le bloc d'instruction contenu n'est exécuté que si la condition est vérifiée.\n",
    "\n",
    "**Syntaxe**\n",
    "\n",
    "```python\n",
    "if condition:\n",
    "    instruction 1\n",
    "    instruction 2\n",
    "    ...\n",
    "```\n",
    "\n",
    "```python\n",
    "a = 3\n",
    "if a > 0:\n",
    "    a = -a\n",
    "print(a)\n",
    "\n",
    ">>> -3\n",
    "```\n",
    "\n",
    "Dans le programme précédent l'instruction `if a > 0:` est toujours exécutée par l'interpréteur, car elle est dans le flux normal du programme(en début de ligne).\n",
    "\n",
    "Par contre, l'instruction `a = -a` n'est éxecutée que si la condition `a > 0` a renvoyé `True`, il s'agit d'un **bloc** relatif à l'instruction  `if a > 0:` qui le précéde. Elle est **indentée** avec quatre espaces. Si j'affecte la valeur négative -5 à `a`, ce bloc ne sera pas exécuté, et le changement de signe n'aura pas lieu.\n",
    "\n",
    "```python\n",
    "a = -5\n",
    "if a > 0:\n",
    "    a = -a\n",
    "print(a)\n",
    "\n",
    ">>> -5\n",
    "```\n",
    "\n",
    "### L'instruction else\n",
    "\n",
    "Indique le bloc d'instruction a exécuter si la condition n'est pas vérifiée.\n",
    "\n",
    "**Syntaxe**\n",
    "\n",
    "```python\n",
    "if condition:\n",
    "    bloc d'instructions exécuté si la condition est vraie\n",
    "else:\n",
    "    bloc d'instructions exécuté si la condition est fausse\n",
    "```\n",
    "\n",
    "```python\n",
    "a = -3\n",
    "if a > 0:\n",
    "    a = -a\n",
    "else:\n",
    "    a = a*100\n",
    "\n",
    "print(a)\n",
    "\n",
    ">>> -300\n",
    "```\n",
    "\n",
    "Comme initialement la variable a n'était pas positive, c'est le bloc d'instructions `else` qui a été exécuté.\n",
    "\n",
    "### L'instruction elif\n",
    "\n",
    "Cette instruction permet de réaliser des tests imbriqués, c'est un raccourci pour les instructions else et if.\n",
    "\n",
    "**Syntaxe**\n",
    "\n",
    "```python\n",
    "if condition 1:\n",
    "    bloc d'instructions exécuté si la condition 1 est vraie\n",
    "elif condition 2:\n",
    "    bloc d'instructions exécuté si la condition 1 est fausse et la condition 2 vraie\n",
    "else:\n",
    "    bloc d'instructions exécuté si les conditions 1 et 2 sont fausses\n",
    "```\n",
    "\n",
    "```python\n",
    "a = 3\n",
    "if a == 7:\n",
    "    print(\"C'est un chiffre porte bonheur\")\n",
    "elif a == 3:\n",
    "    print(\"Quelques modifications sont nécessaires\")\n",
    "    a += 4\n",
    "\n",
    "print(a)\n",
    "\n",
    ">>> Quelques modifications sont nécessaires\n",
    ">>> 7\n",
    "\n",
    "```\n",
    "\n",
    "Vous voila maintenant armés pour aborder des programmes beaucoup plus riches dans lesquels vous allez pouvoir **prendre des décisions** en fonction des données qui lui arrivent."
   ]
  },
  {
   "cell_type": "markdown",
   "metadata": {},
   "source": [
    "## Exercices\n",
    "\n",
    "### Donner la valeur renvoyée par les instructions suivantes\n",
    "\n",
    "```python\n",
    "3 > 4\n",
    "\n",
    "4.0 > 3.999\n",
    "\n",
    "4 > 4\n",
    "\n",
    "4 > + 4\n",
    "\n",
    "2 + 2 == 4\n",
    "\n",
    "True or False\n",
    "\n",
    "False or False\n",
    "\n",
    "not False\n",
    "\n",
    "3.0 - 1.0 != 5.0 - 3.0\n",
    "\n",
    "3 > 4 or (2 < 3 and 9 > 10)\n",
    "\n",
    "4 > 5 or 3 < 4 and 9 > 8\n",
    "\n",
    "not(4 > 3 and 100 > 6)\n",
    "```\n",
    "\n",
    "### Donner le type et la valeur renvoyée par les instructions suivantes\n",
    "\n",
    "```python\n",
    "a = 3\n",
    "a == 5.0\n",
    "print(a, type(a))\n",
    "```\n",
    "\n",
    "```python\n",
    "b = 10\n",
    "c = b > 9\n",
    "print(c, type(c))\n",
    "```\n",
    "\n",
    "### Calculer les racines du trinôme\n",
    "\n",
    "Vous devez implémenter un programme qui demande à l'utilisateur les trois coefficients du [trinôme](https://fr.wikipedia.org/wiki/Fonction_du_second_degr%C3%A9)  $ax^2 + bx + c$, et qui lui indique en retour [le nombre de racines et leurs valeurs](https://fr.wikipedia.org/wiki/Fonction_du_second_degr%C3%A9#.C3.89quation).\n",
    "\n",
    "#### Une solution possible\n",
    "\n",
    "Voici une solution proposée par les auteurs du livre [Informatique et sciences du numérique - Spécialité ISN en terminale S](http://www.lsv.fr/~dowek/Isn/)"
   ]
  },
  {
   "cell_type": "code",
   "execution_count": null,
   "metadata": {},
   "outputs": [],
   "source": [
    "import math\n",
    "\n",
    "print(\"\"\"\n",
    "\n",
    "Programme de calcul des racines d'un trinôme\n",
    "============================================\n",
    "\n",
    "ax^2 + bx +c\n",
    "\"\"\")\n",
    "a = float(input(\"Entrer la valeur de a: \"))\n",
    "b = float(input(\"Entrer la valeur de b: \"))\n",
    "c = float(input(\"Entrer la valeur de c: \"))\n",
    "\n",
    "# Calcul du discriminant\n",
    "delta = b * b - 4 * a * c;\n",
    "# Affichage des solutions\n",
    "if delta < 0: \n",
    "    print(\"Pas de solution\")\n",
    "elif delta == 0:\n",
    "    print(\"Une solution : \",end=\"\")\n",
    "    print(- b / (2 * a))\n",
    "else:\n",
    "    print(\"Deux solutions : \",end=\"\")\n",
    "    print((- b - math.sqrt(delta)) / (2 * a),end=\"\")\n",
    "    print(\" et \",end=\"\")\n",
    "    print((- b + math.sqrt(delta)) / (2 * a))"
   ]
  },
  {
   "cell_type": "markdown",
   "metadata": {},
   "source": [
    "## Mini-projet\n",
    "\n",
    "Créez un programme qui permette de calculer la surface de différents [polygones](https://fr.wikipedia.org/wiki/Formulaire_de_g%C3%A9om%C3%A9trie_classique#P.C3.A9rim.C3.A8tre_et_aire)(carré, rectangle...) à partir de questions posées à l'utilisateur.\n",
    "\n",
    "\n",
    "\n",
    "#### Une solution possible\n",
    "\n",
    "Voici une solution proposée par Morgane C. au cours de l'année 2017-2018."
   ]
  },
  {
   "cell_type": "code",
   "execution_count": null,
   "metadata": {},
   "outputs": [],
   "source": [
    "# On importe le module math pour calculer certaines aires (triangle équilatéral).\n",
    "import math\n",
    "\n",
    "# Création des fonctions permettant de calculer les différentes aires.\n",
    "def aire_rectangle(longueur,largeur):\n",
    "    return longueur*largeur\n",
    "def aire_carre(cote):\n",
    "    return cote**2\n",
    "def aire_triangle_quel(cote, hauteur):\n",
    "    return (cote*hauteur)/2\n",
    "def aire_triangle_equi(cote):\n",
    "    return (cote**2*math.sqrt(3))/4\n",
    "\n",
    "#On demande à l'utilisateur la nature du polygone.\n",
    "nature = (input(\"Le polygone est-il un Rectangle, un Carré, un Triangle quelconque, un Triangle équilatéral, \"\n",
    "                \"un Triangle rectangle isocèle?\"\n",
    "                \" Ou est-ce un Losange, ou un Parallélogramme?\"))\n",
    "print (\"Ce polygone est un(e) : \",nature)\n",
    "\n",
    "#On pose les conditions pour calculer l'air de ce polygone.\n",
    "if nature == (\"rectangle\" or \"Rectangle\"):\n",
    "    longueur = float(input(\"Quelle est la longueur du rectangle ?\"))\n",
    "    print (\"La longueur est : \",longueur)\n",
    "    largeur = float(input(\"Quelle est la largeur du rectangle ?\"))\n",
    "    print (\"La longueur est : \", largeur)\n",
    "    print (\"L'aire de ce rectangle est : \",aire_rectangle (longueur, largeur))\n",
    "\n",
    "elif nature == (\"Carré\" or \"carré\"):\n",
    "    cote = float(input(\"Quelle est la longueur du côté du Carré ?\"))\n",
    "    print(\"La longueur du côté du Carré est : \", cote)\n",
    "    print(\"L'aire de ce Carré est : \", aire_carre(cote))\n",
    "    \n",
    "elif nature == (\"triangle quelconque\" or \"Triangle quelconque\"):\n",
    "    cote = float(input(\"Renseigner la longueur du côté le plus grand du Triangle quelconque.\"))\n",
    "    print(\"La longueur du côté le plus grand est :\", cote)\n",
    "    hauteur = float(input(\"Renseigner la hauteur de ce triangle quelconque.\"))\n",
    "    print(\"La hauteur correspond à : \", hauteur)\n",
    "    print(\"L'aire de ce Triangle quelconque est : \", aire_triangle_quel(cote, hauteur))\n",
    "    \n",
    "elif nature == (\"triangle équilatéral\" or \"Triangle équilatéral\"):\n",
    "    cote = float(input(\"Renseigner la longueur d'un côté du Triangle équilatéral.\"))\n",
    "    print(\"La longueur du côté du Triangle équilatéral est : \", cote)\n",
    "    print(\"L'aire du Triangle équilatéral est : \", aire_triangle_equi(cote))\n",
    "    \n",
    "else :\n",
    "    print (\"Nous n'avons pas encore travaillé sur ce polygone ! :-(\")"
   ]
  },
  {
   "cell_type": "code",
   "execution_count": null,
   "metadata": {},
   "outputs": [],
   "source": []
  }
 ],
 "metadata": {
  "kernelspec": {
   "display_name": "Python 3",
   "language": "python",
   "name": "python3"
  },
  "language_info": {
   "codemirror_mode": {
    "name": "ipython",
    "version": 3
   },
   "file_extension": ".py",
   "mimetype": "text/x-python",
   "name": "python",
   "nbconvert_exporter": "python",
   "pygments_lexer": "ipython3",
   "version": "3.7.2"
  }
 },
 "nbformat": 4,
 "nbformat_minor": 2
}
