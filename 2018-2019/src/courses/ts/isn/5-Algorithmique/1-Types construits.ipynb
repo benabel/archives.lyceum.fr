{
 "cells": [
  {
   "cell_type": "markdown",
   "metadata": {},
   "source": [
    "---\n",
    "\"tags\": [\"python\", \"listes\", \"dictionnaires\"]\n",
    "---\n",
    "\n",
    "Dans l'[introduction à Python](https://lyceum.fr/ts/isn/1-Introduction-a-Python), nous avions vu certains types et valeurs de base:\n",
    "\n",
    "- `int`: les entiers\n",
    "- `float`: les rééls(nombres à virgule flottante)\n",
    "- `boolean`: booléen (Vrai ou Faux)\n",
    "- `str`: caractère simple(s'il y en a plusieurs, les chaînes de caractères forment alors un type construit de plusieurs caractères semblable aux listes)\n",
    "\n",
    "Cependant, il existe de nombreux objets qui sont représentés par plusieurs valeurs, c'est le cas par exemple du texte, des images et des sons...\n",
    "\n",
    "Dans ce cas les enregistrements collectent des valeurs de types différents dans des champs nommés.\n",
    "\n",
    "Nous verrons dans ce cours deux exemples de variables construits:\n",
    "\n",
    "- les listes `list`: tableau d'éléments ordonnés dans lesquels les valeurs sont accédées via un **index**.\n",
    "- les dictionnaires `dict`: ensemble d'éléments dans lesquels les valeurs sont accédées via une **clef**."
   ]
  },
  {
   "cell_type": "markdown",
   "metadata": {},
   "source": [
    "## Listes\n",
    "\n",
    "\n",
    "Les listes sont des collections *ordonnées de valeurs*, elles sont\n",
    "entourées par des crochets `[]`, leurs éléments sont séparés par des\n",
    "virgules.\n",
    "\n",
    "Les éléments d'une liste peuvent avoir des types différents.\n"
   ]
  },
  {
   "cell_type": "code",
   "execution_count": 1,
   "metadata": {},
   "outputs": [
    {
     "data": {
      "text/plain": [
       "list"
      ]
     },
     "execution_count": 1,
     "metadata": {},
     "output_type": "execute_result"
    }
   ],
   "source": [
    "ma_liste = [ 1, 'deux' , 3]\n",
    "type(ma_liste)"
   ]
  },
  {
   "cell_type": "markdown",
   "metadata": {},
   "source": [
    "### Longueur et accés aux éléments\n",
    "On peut facilement accéder à la longueur de la liste grace à la fonction\n",
    "`len` et à chacun de ces éléments grâce à leur index *(Attention le\n",
    "premier élement à l'index 0)*"
   ]
  },
  {
   "cell_type": "code",
   "execution_count": 2,
   "metadata": {},
   "outputs": [
    {
     "data": {
      "text/plain": [
       "3"
      ]
     },
     "execution_count": 2,
     "metadata": {},
     "output_type": "execute_result"
    }
   ],
   "source": [
    "len(ma_liste)"
   ]
  },
  {
   "cell_type": "code",
   "execution_count": 3,
   "metadata": {},
   "outputs": [
    {
     "data": {
      "text/plain": [
       "(1, 3)"
      ]
     },
     "execution_count": 3,
     "metadata": {},
     "output_type": "execute_result"
    }
   ],
   "source": [
    "ma_liste[0], ma_liste[2]"
   ]
  },
  {
   "cell_type": "markdown",
   "metadata": {},
   "source": [
    "On peut inversement connaître l'indice correspondant à une valeur grâce à l'attribut `index`."
   ]
  },
  {
   "cell_type": "code",
   "execution_count": 4,
   "metadata": {},
   "outputs": [
    {
     "data": {
      "text/plain": [
       "1"
      ]
     },
     "execution_count": 4,
     "metadata": {},
     "output_type": "execute_result"
    }
   ],
   "source": [
    "ma_liste.index('deux')"
   ]
  },
  {
   "cell_type": "markdown",
   "metadata": {},
   "source": [
    "### Ajout et suppression d'éléments\n",
    "\n",
    "On peut ajouter des éléments à la liste à la fin avec la méthode `append`, ou à un indice quelconque avec la méthode `insert`."
   ]
  },
  {
   "cell_type": "code",
   "execution_count": 5,
   "metadata": {},
   "outputs": [
    {
     "data": {
      "text/plain": [
       "[1, 'deux', 3, 4]"
      ]
     },
     "execution_count": 5,
     "metadata": {},
     "output_type": "execute_result"
    }
   ],
   "source": [
    "ma_liste.append(4)\n",
    "ma_liste"
   ]
  },
  {
   "cell_type": "code",
   "execution_count": 6,
   "metadata": {},
   "outputs": [
    {
     "data": {
      "text/plain": [
       "['zéro', 1, 'deux', 3, 4]"
      ]
     },
     "execution_count": 6,
     "metadata": {},
     "output_type": "execute_result"
    }
   ],
   "source": [
    "ma_liste.insert(0, 'zéro')\n",
    "ma_liste"
   ]
  },
  {
   "cell_type": "markdown",
   "metadata": {},
   "source": [
    "On peut au contraire supprimer des éléments de la liste à la fin avec la méthode `pop()`, ou à un indice quelconque avec la méthode `pop(indice)`."
   ]
  },
  {
   "cell_type": "code",
   "execution_count": 7,
   "metadata": {},
   "outputs": [
    {
     "data": {
      "text/plain": [
       "['zéro', 1, 'deux', 3]"
      ]
     },
     "execution_count": 7,
     "metadata": {},
     "output_type": "execute_result"
    }
   ],
   "source": [
    "ma_liste.pop()\n",
    "ma_liste"
   ]
  },
  {
   "cell_type": "code",
   "execution_count": 8,
   "metadata": {},
   "outputs": [
    {
     "data": {
      "text/plain": [
       "['zéro', 'deux', 3]"
      ]
     },
     "execution_count": 8,
     "metadata": {},
     "output_type": "execute_result"
    }
   ],
   "source": [
    "ma_liste.pop(1)\n",
    "ma_liste"
   ]
  },
  {
   "cell_type": "markdown",
   "metadata": {},
   "source": [
    "### Itération sur les valeurs de la liste\n",
    "\n",
    "On peut utiliser les index ou une méthode simplifiée implémentée dans Python.\n",
    "\n",
    "#### Méthode simplifiée"
   ]
  },
  {
   "cell_type": "code",
   "execution_count": 9,
   "metadata": {},
   "outputs": [
    {
     "name": "stdout",
     "output_type": "stream",
     "text": [
      "zéro\n",
      "deux\n",
      "3\n"
     ]
    }
   ],
   "source": [
    "for e in ma_liste:\n",
    "    print(e)"
   ]
  },
  {
   "cell_type": "markdown",
   "metadata": {},
   "source": [
    "#### Itération de l'index"
   ]
  },
  {
   "cell_type": "code",
   "execution_count": 10,
   "metadata": {},
   "outputs": [
    {
     "name": "stdout",
     "output_type": "stream",
     "text": [
      "0 zéro\n",
      "1 deux\n",
      "2 3\n"
     ]
    }
   ],
   "source": [
    "for i in range(len(ma_liste)):\n",
    "    print(i, ma_liste[i])"
   ]
  },
  {
   "cell_type": "markdown",
   "metadata": {},
   "source": [
    "## Dictionnaires\n",
    "\n",
    "Dans un dictionnaire les valeurs de la collection ne sont pas repéré par\n",
    "un index, mais par une *clé*. Les dictionnaires sont entourés d'accolades `{}`.\n"
   ]
  },
  {
   "cell_type": "code",
   "execution_count": 11,
   "metadata": {},
   "outputs": [
    {
     "data": {
      "text/plain": [
       "dict"
      ]
     },
     "execution_count": 11,
     "metadata": {},
     "output_type": "execute_result"
    }
   ],
   "source": [
    "D = { 'nom': 'Doe' , 'prenom': 'John', 'age': 77 }\n",
    "type(D)"
   ]
  },
  {
   "cell_type": "markdown",
   "metadata": {},
   "source": [
    "Pour accéder aux éléments du dictionnaire, il suffit d'appeler la clé correspondante, d'autres part la fonction len est égalemnt disponible."
   ]
  },
  {
   "cell_type": "code",
   "execution_count": 12,
   "metadata": {},
   "outputs": [
    {
     "data": {
      "text/plain": [
       "3"
      ]
     },
     "execution_count": 12,
     "metadata": {},
     "output_type": "execute_result"
    }
   ],
   "source": [
    "len(D)"
   ]
  },
  {
   "cell_type": "code",
   "execution_count": 13,
   "metadata": {},
   "outputs": [
    {
     "data": {
      "text/plain": [
       "('Doe', 77)"
      ]
     },
     "execution_count": 13,
     "metadata": {},
     "output_type": "execute_result"
    }
   ],
   "source": [
    "D['nom'], D['age']"
   ]
  },
  {
   "cell_type": "markdown",
   "metadata": {},
   "source": [
    "### Ajout et suppression d'éléments\n",
    "\n",
    "On peut ajouter des éléments au dictionnaire en **assignant* des clés paire valeur à notre guise."
   ]
  },
  {
   "cell_type": "code",
   "execution_count": 14,
   "metadata": {},
   "outputs": [
    {
     "data": {
      "text/plain": [
       "{'nom': 'Doe', 'prenom': 'John', 'age': 77, 'adresse': 'Nice'}"
      ]
     },
     "execution_count": 14,
     "metadata": {},
     "output_type": "execute_result"
    }
   ],
   "source": [
    "D[\"adresse\"] = \"Nice\"\n",
    "D"
   ]
  },
  {
   "cell_type": "markdown",
   "metadata": {},
   "source": [
    "On peut au contraire supprimer des éléments du dictionnaire avec la méthode `pop()`."
   ]
  },
  {
   "cell_type": "code",
   "execution_count": 15,
   "metadata": {},
   "outputs": [
    {
     "data": {
      "text/plain": [
       "{'nom': 'Doe', 'prenom': 'John', 'adresse': 'Nice'}"
      ]
     },
     "execution_count": 15,
     "metadata": {},
     "output_type": "execute_result"
    }
   ],
   "source": [
    "D.pop(\"age\")\n",
    "D"
   ]
  },
  {
   "cell_type": "markdown",
   "metadata": {},
   "source": [
    "### Itération sur les dictionnaires\n",
    "\n",
    "\n",
    "Les dictionnaires étant des associations de clés(key) et de valeurs(value), on peut itérer sur les clés, les valeurs, ou les deux.\n",
    "\n",
    "#### Itération sur les clés: `keys()`"
   ]
  },
  {
   "cell_type": "code",
   "execution_count": 16,
   "metadata": {},
   "outputs": [
    {
     "name": "stdout",
     "output_type": "stream",
     "text": [
      "nom\n",
      "prenom\n",
      "adresse\n",
      "\n",
      "ou plus simplement\n",
      "\n",
      "nom\n",
      "prenom\n",
      "adresse\n"
     ]
    }
   ],
   "source": [
    "for key in D.keys():\n",
    "    print(key)\n",
    "\n",
    "print(\"\\nou plus simplement\\n\")\n",
    "for key in D:\n",
    "    print(key)"
   ]
  },
  {
   "cell_type": "markdown",
   "metadata": {},
   "source": [
    "#### Itération sur les valeurs: `values()`"
   ]
  },
  {
   "cell_type": "code",
   "execution_count": 17,
   "metadata": {},
   "outputs": [
    {
     "name": "stdout",
     "output_type": "stream",
     "text": [
      "Doe\n",
      "John\n",
      "Nice\n"
     ]
    }
   ],
   "source": [
    "for value in D.values():\n",
    "    print(value)"
   ]
  },
  {
   "cell_type": "markdown",
   "metadata": {},
   "source": [
    "#### Itération sur les paires clé, valeurs: `items()`"
   ]
  },
  {
   "cell_type": "code",
   "execution_count": 18,
   "metadata": {},
   "outputs": [
    {
     "name": "stdout",
     "output_type": "stream",
     "text": [
      "nom => Doe\n",
      "prenom => John\n",
      "adresse => Nice\n"
     ]
    }
   ],
   "source": [
    "for key, value in D.items():\n",
    "    print(key, '=>', value)"
   ]
  },
  {
   "cell_type": "markdown",
   "metadata": {},
   "source": [
    "## Persistance des données\n",
    "\n",
    "Les listes et dictionnaires sont des objets **mutables**, c'est à dire que l'on peut modifier leur contenu sans créer un nouvel objet. On dit qu'il s'agit de données [non-persistantes](http://fr.wikipedia.org/wiki/Persistance_%28informatique%29).\n"
   ]
  },
  {
   "cell_type": "code",
   "execution_count": 19,
   "metadata": {},
   "outputs": [
    {
     "name": "stdout",
     "output_type": "stream",
     "text": [
      "Valeurs initiales:\n",
      " [1, 'deux', 3] {'nom': 'Doe', 'prenom': 'John', 'age': 77}\n",
      "Modification des valeurs par assignation:\n",
      " [1, 2, 3] {'nom': 'Doe', 'prenom': 'John', 'age': 17}\n",
      "Ajout d'éléments:\n",
      " [1, 2, 3, 4] {'nom': 'Doe', 'prenom': 'John', 'age': 17, 'nationalité': 'française'}\n",
      "Suppression d'éléments:\n",
      " [2, 3, 4] {'nom': 'Doe', 'prenom': 'John', 'nationalité': 'française'}\n"
     ]
    }
   ],
   "source": [
    "# Valeurs initiales\n",
    "liste = [ 1, 'deux' , 3]\n",
    "dict = { 'nom': 'Doe' , 'prenom': 'John', 'age': 77 }\n",
    "print(\"Valeurs initiales:\\n\", liste, dict)\n",
    "\n",
    "# Modification des valeurs par assignation\n",
    "liste[1] = 2\n",
    "dict['age'] = 17\n",
    "\n",
    "print(\"Modification des valeurs par assignation:\\n\", liste, dict)\n",
    "\n",
    "# Ajout d'éléments\n",
    "liste.append(4)\n",
    "dict['nationalité'] = 'française'\n",
    "\n",
    "print(\"Ajout d'éléments:\\n\", liste, dict)\n",
    "\n",
    "# Suppression d'éléments\n",
    "liste.pop(0)\n",
    "dict.pop('age')\n",
    "\n",
    "print(\"Suppression d'éléments:\\n\", liste, dict)"
   ]
  },
  {
   "cell_type": "markdown",
   "metadata": {},
   "source": [
    "Si on a besoin de modifier une liste ou un dictionnaire, mais que l'on veut garder une trace des objets initiaux, il faut commencer par en créer une **copie**, il ne suffit pas de créer une variable suplémentaire sans quoi cette variable serait elle aussi modifiée si l'objet initial changeait: l'assignation est dite par **référence** dans ce cas."
   ]
  },
  {
   "cell_type": "code",
   "execution_count": 20,
   "metadata": {},
   "outputs": [
    {
     "name": "stdout",
     "output_type": "stream",
     "text": [
      "Valeurs initiales:\n",
      " [1, 'deux', 3]\n",
      "Modification de la liste L:\n",
      "La liste L a bien, été modifiée: [1, 2, 3]\n",
      "La liste L_ref a aussi été modifiée car il s'agit juste d'une référence vers la liste L: [1, 2, 3]\n",
      "La copie L_copie n'a pas été modifiée: [1, 'deux', 3]\n"
     ]
    }
   ],
   "source": [
    "# Valeurs initiales\n",
    "L = [ 1, 'deux' , 3]\n",
    "print(\"Valeurs initiales:\\n\", L)\n",
    "\n",
    "# Création d'une référence à la liste par simple assignation\n",
    "L_ref = L\n",
    "\n",
    "# Création d'une copie de la liste\n",
    "L_copie = list(L)\n",
    "\n",
    "# Modification de la liste initiale\n",
    "L[1] = 2\n",
    "\n",
    "print(\"Modification de la liste L:\")\n",
    "print(\"La liste L a bien, été modifiée:\", L)\n",
    "print(\"La liste L_ref a aussi été modifiée car il s'agit juste d'une référence vers la liste L:\", L_ref)\n",
    "print(\"La copie L_copie n'a pas été modifiée:\", L_copie)\n",
    "\n"
   ]
  }
 ],
 "metadata": {
  "frontmatter": {
   "tags": [
    "Python",
    "listes",
    "dictionnaires"
   ]
  },
  "kernelspec": {
   "display_name": "Python 3",
   "language": "python",
   "name": "python3"
  },
  "language_info": {
   "codemirror_mode": {
    "name": "ipython",
    "version": 3
   },
   "file_extension": ".py",
   "mimetype": "text/x-python",
   "name": "python",
   "nbconvert_exporter": "python",
   "pygments_lexer": "ipython3",
   "version": "3.7.2"
  }
 },
 "nbformat": 4,
 "nbformat_minor": 1
}
