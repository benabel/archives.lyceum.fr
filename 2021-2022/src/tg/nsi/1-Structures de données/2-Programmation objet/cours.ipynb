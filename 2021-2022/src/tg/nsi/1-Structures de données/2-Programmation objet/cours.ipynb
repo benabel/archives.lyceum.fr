{
 "cells": [
  {
   "cell_type": "markdown",
   "metadata": {},
   "source": [
    "---\n",
    "tags: [\"cours\", \"terminale\", \"lycée\", \"numérique et sciences informatiques\", \"nsi\", \"poo\", \"attributs\", \"méthodes\"]\n",
    "---\n",
    "\n",
    "::: programme\n",
    "\n",
    "+-------------------------+------------------------------------+------------------------------------------+\n",
    "|        Contenus         |        Capacités attendues         |               Commentaires               |\n",
    "+=========================+====================================+==========================================+\n",
    "| Vocabulaire de la       | Écrire la définition d’une classe. | On n’aborde pas ici tous les             |\n",
    "| programmation objet :   |                                    | aspects de la programmation              |\n",
    "| classes, attributs,     | Accéder aux attributs et           | objet comme le polymorphisme et          |\n",
    "| méthodes, objets.       | méthodes d’une classe.             | l’héritage.                              |\n",
    "+-------------------------+------------------------------------+------------------------------------------+\n",
    "\n",
    ":::\n",
    "\n",
    "::: intro\n",
    "\n",
    "<wc-wikimage title=\"OOP.svg\" class=\"half right\"></wc-wikimage>\n",
    "\n",
    "La _programmation orientée objet&nbsp;(P.O.O.)_ est un [paradigme de programmation](/tg/nsi/4-langages-et-programmation/4-paradigmes-de-programmation/) permettant au développeur de\n",
    "dépasser les objets proposés par le langage de programmation afin d'en créer de nouveaux adaptés au\n",
    "problème qu'il tente de résoudre: des utilisateurs, des messages, des jouets...\n",
    "\n",
    "\n",
    ":::\n",
    "\n",
    "\n",
    "## Attributs et méthodes\n",
    "\n",
    "En POO, les objets sont décrits dans des `class`es contenant:\n",
    "\n",
    "- des _attributs_ qui sont les _données_ associées à l'objet;\n",
    "- des _méthodes_ qui sont les _fonctions_ s'appliquant sur cet objet.\n",
    "\n",
    "En Python, on accède aux attributs et aux méthodes grâce à la **notation pointée**, vous l'avez déjà utilisée car Python est un langage fortement orienté objet.\n",
    "\n",
    "Prenons l'exemple des objets de types [`date`]() du module `datetime`.\n",
    "\n",
    "On commence par créer une date de ce type, ce que l'on appelle une instance de l'objet."
   ]
  },
  {
   "cell_type": "code",
   "execution_count": 1,
   "metadata": {},
   "outputs": [
    {
     "name": "stdout",
     "output_type": "stream",
     "text": [
      "type: <class 'datetime.date'>\n",
      "objet:  1789-07-14\n"
     ]
    }
   ],
   "source": [
    "from datetime import date\n",
    "\n",
    "prise_bastille = date.fromisoformat(\"1789-07-14\")\n",
    "print(\"type:\", type(prise_bastille))\n",
    "print(\"objet: \", prise_bastille)"
   ]
  },
  {
   "cell_type": "markdown",
   "metadata": {},
   "source": [
    "### Les attributs: données\n",
    "\n",
    "Cet objet possède des **attributs*: les _données_ relatives à cet objet.\n",
    "\n",
    "On y accède grâce à la notation pointée: `objet.attribut`"
   ]
  },
  {
   "cell_type": "code",
   "execution_count": 2,
   "metadata": {},
   "outputs": [
    {
     "data": {
      "text/plain": [
       "14"
      ]
     },
     "execution_count": 2,
     "metadata": {},
     "output_type": "execute_result"
    }
   ],
   "source": [
    "prise_bastille.day"
   ]
  },
  {
   "cell_type": "code",
   "execution_count": 3,
   "metadata": {},
   "outputs": [
    {
     "data": {
      "text/plain": [
       "7"
      ]
     },
     "execution_count": 3,
     "metadata": {},
     "output_type": "execute_result"
    }
   ],
   "source": [
    "prise_bastille.month"
   ]
  },
  {
   "cell_type": "code",
   "execution_count": 4,
   "metadata": {},
   "outputs": [
    {
     "data": {
      "text/plain": [
       "1789"
      ]
     },
     "execution_count": 4,
     "metadata": {},
     "output_type": "execute_result"
    }
   ],
   "source": [
    "prise_bastille.year"
   ]
  },
  {
   "cell_type": "markdown",
   "metadata": {},
   "source": [
    "### Les méthodes: fonctions\n",
    "\n",
    "Cet objet possède des **méthodes*: les _fonctions_ s'appliquant sur cet objet.\n",
    "\n",
    "On y accède grâce à la notation pointée: `objet.méthode(...)`"
   ]
  },
  {
   "cell_type": "code",
   "execution_count": 5,
   "metadata": {},
   "outputs": [
    {
     "data": {
      "text/plain": [
       "'Tue Jul 14 00:00:00 1789'"
      ]
     },
     "execution_count": 5,
     "metadata": {},
     "output_type": "execute_result"
    }
   ],
   "source": [
    "# Appel de la méthode sans argument\n",
    "prise_bastille.ctime()"
   ]
  },
  {
   "cell_type": "code",
   "execution_count": 6,
   "metadata": {},
   "outputs": [
    {
     "data": {
      "text/plain": [
       "'Tuesday 14 July 1789'"
      ]
     },
     "execution_count": 6,
     "metadata": {},
     "output_type": "execute_result"
    }
   ],
   "source": [
    "# Appel de la méthode avec un argument de type str\n",
    "prise_bastille.strftime(\"%A %d %B %Y\")"
   ]
  },
  {
   "cell_type": "code",
   "execution_count": 7,
   "metadata": {},
   "outputs": [
    {
     "data": {
      "text/plain": [
       "'mardi 14 juillet 1789'"
      ]
     },
     "execution_count": 7,
     "metadata": {},
     "output_type": "execute_result"
    }
   ],
   "source": [
    "# Même appel mais en utilisant une version française\n",
    "import locale\n",
    "\n",
    "locale.setlocale(locale.LC_ALL, \"fr_FR.UTF-8\")\n",
    "\n",
    "prise_bastille.strftime(\"%A %d %B %Y\")"
   ]
  },
  {
   "cell_type": "markdown",
   "metadata": {},
   "source": [
    "## Création d'une classe et instanciation\n",
    "\n",
    "En Python, on créé une classe avec la mot clé `class` qu'on nomme par habitude avec un nom en\n",
    "[_UpperCamelCase_](https://fr.wikipedia.org/wiki/Camel_case)."
   ]
  },
  {
   "cell_type": "code",
   "execution_count": 37,
   "metadata": {},
   "outputs": [],
   "source": [
    "class ClasseDeLycee:\n",
    "    nom = \"Terminale\"\n",
    "    numero = 1\n",
    "    # liste des élèves\n",
    "    eleves = []"
   ]
  },
  {
   "cell_type": "markdown",
   "metadata": {},
   "source": [
    "L'objet `ClasseDeLycee` est une sorte de «patron» à partir duquel on va pouvoir créer des objets à la\n",
    "demande en créant ce que l'on appelle des instances par appel de la classe."
   ]
  },
  {
   "cell_type": "code",
   "execution_count": 38,
   "metadata": {},
   "outputs": [],
   "source": [
    "## On crée deux instances de l'objet ClasseDeLycee\n",
    "term1 = ClasseDeLycee()\n",
    "term2 = ClasseDeLycee()"
   ]
  },
  {
   "cell_type": "markdown",
   "metadata": {},
   "source": [
    "On peut accéder aux attributs de nos objets à l'aide de la notation pointée: `nom_instance.attribut`."
   ]
  },
  {
   "cell_type": "code",
   "execution_count": 45,
   "metadata": {},
   "outputs": [
    {
     "data": {
      "text/plain": [
       "'Terminale'"
      ]
     },
     "execution_count": 45,
     "metadata": {},
     "output_type": "execute_result"
    }
   ],
   "source": [
    "# nos deux instances contiennent les mêmes attributs nom et numero\n",
    "term1.nom"
   ]
  },
  {
   "cell_type": "code",
   "execution_count": 46,
   "metadata": {},
   "outputs": [
    {
     "data": {
      "text/plain": [
       "'Terminale'"
      ]
     },
     "execution_count": 46,
     "metadata": {},
     "output_type": "execute_result"
    }
   ],
   "source": [
    "term2.nom"
   ]
  },
  {
   "cell_type": "code",
   "execution_count": 48,
   "metadata": {},
   "outputs": [
    {
     "data": {
      "text/plain": [
       "(1, 2)"
      ]
     },
     "execution_count": 48,
     "metadata": {},
     "output_type": "execute_result"
    }
   ],
   "source": [
    "term1.numero, term2.numero"
   ]
  },
  {
   "cell_type": "markdown",
   "metadata": {},
   "source": [
    "On peut modifier les attributs d'un objet ou les supprimer."
   ]
  },
  {
   "cell_type": "code",
   "execution_count": 49,
   "metadata": {},
   "outputs": [
    {
     "data": {
      "text/plain": [
       "('Terminale', 2)"
      ]
     },
     "execution_count": 49,
     "metadata": {},
     "output_type": "execute_result"
    }
   ],
   "source": [
    "# méthode déconseillée\n",
    "# on utilise plutôt des getters et setters pour ça (voir plus bas)\n",
    "term2.numero = 2\n",
    "# les attributs onta bien été modifiés pour l'instance term2\n",
    "term2.nom, term2.numero"
   ]
  },
  {
   "cell_type": "code",
   "execution_count": 50,
   "metadata": {},
   "outputs": [
    {
     "data": {
      "text/plain": [
       "('Terminale', 1)"
      ]
     },
     "execution_count": 50,
     "metadata": {},
     "output_type": "execute_result"
    }
   ],
   "source": [
    "# par contre les attributs de l'instance term1 sont inchangés\n",
    "term1.nom, term1.numero"
   ]
  },
  {
   "cell_type": "code",
   "execution_count": 44,
   "metadata": {},
   "outputs": [
    {
     "ename": "AttributeError",
     "evalue": "nom",
     "output_type": "error",
     "traceback": [
      "\u001b[0;31m---------------------------------------------------------------------------\u001b[0m",
      "\u001b[0;31mAttributeError\u001b[0m                            Traceback (most recent call last)",
      "\u001b[0;32m<ipython-input-44-946079c0e9b2>\u001b[0m in \u001b[0;36m<module>\u001b[0;34m\u001b[0m\n\u001b[0;32m----> 1\u001b[0;31m \u001b[0;32mdel\u001b[0m \u001b[0mterm1\u001b[0m\u001b[0;34m.\u001b[0m\u001b[0mnom\u001b[0m\u001b[0;34m\u001b[0m\u001b[0;34m\u001b[0m\u001b[0m\n\u001b[0m\u001b[1;32m      2\u001b[0m \u001b[0mterm1\u001b[0m\u001b[0;34m.\u001b[0m\u001b[0mnom\u001b[0m\u001b[0;34m\u001b[0m\u001b[0;34m\u001b[0m\u001b[0m\n",
      "\u001b[0;31mAttributeError\u001b[0m: nom"
     ]
    }
   ],
   "source": [
    "del term1.nom\n",
    "term1.nom"
   ]
  },
  {
   "cell_type": "markdown",
   "metadata": {},
   "source": [
    "::: {.plus titre=\"Attributs de classe et d'instance\"}\n",
    "\n",
    "Dans cette partie nous avons utilisé des attributs de classe sans le `self` pour plus de simplicité dans cette introduction.\n",
    "\n",
    "Par la suite, on utilisera des attributs d'instance(`self.attribut`), il y a de légères différences qui sortent du cadre de ce cours.\n",
    "\n",
    ":::"
   ]
  },
  {
   "cell_type": "markdown",
   "metadata": {},
   "source": [
    "## Les méthodes et la variable `self`\n",
    "\n",
    "Les méthodes sont des fonctions définies au sein de la classe qui s'appliquent aux objets créés grâce à cette classe.\n",
    "\n",
    "Une méthode prend toujours en premier paramètre l'objet lui-même par l'intermédiare du paramètre qu'on appelle par convention `self`.\n",
    "\n",
    "De façon générale, le mot clé `self` désignera l'instance de l'objet au sein du code de la classe."
   ]
  },
  {
   "cell_type": "code",
   "execution_count": 56,
   "metadata": {},
   "outputs": [],
   "source": [
    "class ClasseDeLycee:\n",
    "    nom = \"Terminale\"\n",
    "    numero = 1\n",
    "    eleves = []\n",
    "\n",
    "    def ajoute_eleve(self, élève):\n",
    "        \"\"\"Cette méthode ajoute un élève dans la classe\"\"\"\n",
    "        self.eleves.append(élève)"
   ]
  },
  {
   "cell_type": "markdown",
   "metadata": {},
   "source": [
    "Lorsqu'on appelle une méthode sur une instance de la classe, on utilisera encore la notation pointée: `nom_instance.methode(...)`."
   ]
  },
  {
   "cell_type": "code",
   "execution_count": 53,
   "metadata": {},
   "outputs": [],
   "source": [
    "term1 = ClasseDeLycee()\n",
    "term1.ajoute_eleve(\"Alan Turing\")"
   ]
  },
  {
   "cell_type": "code",
   "execution_count": 54,
   "metadata": {},
   "outputs": [
    {
     "data": {
      "text/plain": [
       "['Alan Turing']"
      ]
     },
     "execution_count": 54,
     "metadata": {},
     "output_type": "execute_result"
    }
   ],
   "source": [
    "# l'attribut eleves a bien été modifié\n",
    "term1.eleves"
   ]
  },
  {
   "cell_type": "code",
   "execution_count": 55,
   "metadata": {},
   "outputs": [
    {
     "data": {
      "text/plain": [
       "[]"
      ]
     },
     "execution_count": 55,
     "metadata": {},
     "output_type": "execute_result"
    }
   ],
   "source": [
    "# mais pas pour l'instance term2\n",
    "term2.eleves"
   ]
  },
  {
   "cell_type": "markdown",
   "metadata": {},
   "source": [
    "## Méthodes particulières\n",
    "\n",
    "### Initialisation avec le constructeur `__init__()`\n",
    "\n",
    "Il est souvent interressant de créer des objets différents à partir d'un même classe , il est donc possible d'ajouter des arguments qui seront pris en charge lors de l'instanciation de l'objet en utilisant la méthode prédéfinie: `__init__()`.\n",
    "\n",
    "Voici comment nous pourrions permettre de personnnaliser notre classe dès sa création."
   ]
  },
  {
   "cell_type": "code",
   "execution_count": 59,
   "metadata": {},
   "outputs": [
    {
     "name": "stdout",
     "output_type": "stream",
     "text": [
      "Première 7 ['Ada Lovelace']\n"
     ]
    }
   ],
   "source": [
    "class ClasseDeLycee:\n",
    "    def __init__(self, nom, numero, eleves):\n",
    "        self.nom = nom\n",
    "        self.numero = numero\n",
    "        self.eleves = eleves\n",
    "\n",
    "\n",
    "prem7 = ClasseDeLycee(\"Première\", 7, [\"Ada Lovelace\"])\n",
    "\n",
    "print(prem7.nom, prem7.numero, prem7.eleves)"
   ]
  },
  {
   "cell_type": "markdown",
   "metadata": {},
   "source": [
    "On peut donner des valeurs par défaut aux paramètres dans la signature de la méthode `__init__`."
   ]
  },
  {
   "cell_type": "code",
   "execution_count": 62,
   "metadata": {},
   "outputs": [
    {
     "name": "stdout",
     "output_type": "stream",
     "text": [
      "Terminale 3 []\n"
     ]
    }
   ],
   "source": [
    "class ClasseDeLycee:\n",
    "    def __init__(self, nom=\"Terminale\", numero=3, eleves=[]):\n",
    "        self.nom = nom\n",
    "        self.numero = numero\n",
    "        self.eleves = eleves\n",
    "\n",
    "\n",
    "term3 = ClasseDeLycee()\n",
    "\n",
    "print(term3.nom, term3.numero, term3.eleves)"
   ]
  },
  {
   "cell_type": "code",
   "execution_count": 64,
   "metadata": {},
   "outputs": [
    {
     "name": "stdout",
     "output_type": "stream",
     "text": [
      "Terminale 4 []\n"
     ]
    }
   ],
   "source": [
    "# on peut personnaliser les attributs souhaités de l'instance\n",
    "# en gardant les valeurs par défaut pour les autres\n",
    "\n",
    "term4 = ClasseDeLycee(numero=4)\n",
    "\n",
    "print(term4.nom, term4.numero, term4.eleves)"
   ]
  },
  {
   "cell_type": "markdown",
   "metadata": {},
   "source": [
    "### La méthode `__str__()`\n",
    "\n",
    "Cette méthode est utilisée pour donner une représentation des objets sous forme lisible lors d'un appel de la fonction `print`. \n",
    "\n",
    "Pour l'instant si on affiche notre instance, on a:"
   ]
  },
  {
   "cell_type": "code",
   "execution_count": 71,
   "metadata": {},
   "outputs": [
    {
     "name": "stdout",
     "output_type": "stream",
     "text": [
      "<__main__.ClasseDeLycee object at 0x7fe037f4bc10>\n"
     ]
    }
   ],
   "source": [
    "print(term4)"
   ]
  },
  {
   "cell_type": "code",
   "execution_count": 72,
   "metadata": {},
   "outputs": [
    {
     "name": "stdout",
     "output_type": "stream",
     "text": [
      "<Classe de Lycée Terminale3>\n"
     ]
    }
   ],
   "source": [
    "class ClasseDeLycee:\n",
    "    def __init__(self, nom=\"Terminale\", numero=3, eleves=[]):\n",
    "        self.nom = nom\n",
    "        self.numero = numero\n",
    "        self.eleves = eleves\n",
    "\n",
    "    def __str__(self):\n",
    "        return f\"<Classe de Lycée {self.nom}{self.numero}>\"\n",
    "\n",
    "\n",
    "term3 = ClasseDeLycee()\n",
    "\n",
    "print(term3)"
   ]
  },
  {
   "cell_type": "markdown",
   "metadata": {},
   "source": [
    "::: plus\n",
    "On peut également utiliser la méthode `__repr__()` qui est plus générale et qui sera également utilisée lors d'un appel de la fonction `print` si `__str__` n'est pas définie.\n",
    ":::"
   ]
  },
  {
   "cell_type": "markdown",
   "metadata": {},
   "source": [
    "### Les accesseurs(_getters_) et mutateurs (_setters_)\n",
    "\n",
    "Il est fortement _déconseillé_ de récupérer _(get)_ ou modifier _(set)_ des attributs de l'objet directement par l'utilisation de la notation pointée vue précédemment.\n",
    "\n",
    "Pour chaque attribut, il est conseillé de définir deux méthodes:\n",
    "\n",
    "- `get_nom_attribut`: pour le récupérer.\n",
    "- `set_nom_attribut`: pour le modifier.\n",
    "\n",
    "_C'est long oui, mais c'est la pratique couramment recommandée._\n",
    "\n",
    "Voici ce que cela donnerait dans notre cas, on a trois attributs, il faut donc ajouter six méthodes."
   ]
  },
  {
   "cell_type": "code",
   "execution_count": 77,
   "metadata": {},
   "outputs": [
    {
     "name": "stdout",
     "output_type": "stream",
     "text": [
      "Au début\n",
      "<Classe de Lycée Terminale3>\n"
     ]
    }
   ],
   "source": [
    "class ClasseDeLycee:\n",
    "    def __init__(self, nom=\"Terminale\", numero=3, eleves=[]):\n",
    "        self.nom = nom\n",
    "        self.numero = numero\n",
    "        self.eleves = eleves\n",
    "\n",
    "    def get_nom(self):\n",
    "        return self.nom\n",
    "\n",
    "    def set_nom(self, nom):\n",
    "        self.nom = nom\n",
    "\n",
    "    def get_numero(self):\n",
    "        return self.numero\n",
    "\n",
    "    def set_numero(self, numero):\n",
    "        self.numero = numero\n",
    "\n",
    "    def get_eleves(self):\n",
    "        return self.eleves\n",
    "\n",
    "    def set_eleves(self, eleves):\n",
    "        self.eleves = eleves\n",
    "\n",
    "    def __str__(self):\n",
    "        return f\"<Classe de Lycée {self.nom}{self.numero}>\"\n",
    "\n",
    "\n",
    "c = ClasseDeLycee()\n",
    "\n",
    "print(\"Au début\")\n",
    "print(c)"
   ]
  },
  {
   "cell_type": "code",
   "execution_count": 80,
   "metadata": {},
   "outputs": [
    {
     "name": "stdout",
     "output_type": "stream",
     "text": [
      "<Classe de Lycée Seconde15>\n"
     ]
    }
   ],
   "source": [
    "# Modification des attributs avec les setters\n",
    "c.set_nom(\"Seconde\")\n",
    "c.set_numero(15)\n",
    "print(c)"
   ]
  },
  {
   "cell_type": "code",
   "execution_count": 81,
   "metadata": {},
   "outputs": [
    {
     "data": {
      "text/plain": [
       "('Seconde', [])"
      ]
     },
     "execution_count": 81,
     "metadata": {},
     "output_type": "execute_result"
    }
   ],
   "source": [
    "# Récupération des attributs avec les getters\n",
    "c.get_nom(), c.get_eleves()"
   ]
  },
  {
   "cell_type": "markdown",
   "metadata": {},
   "source": [
    "## En plus: Héritage\n",
    "\n",
    "Un des aspects intéressants _(mais hors-programme)_ est la possibilité de créer des sous classes qui héritent des attributs et méthode de la classe parente.\n",
    "\n",
    "L'héritage q'il est bien réalisé permet d'éviter des répétitions de code _(Principe DRY: Don't Repeat Yourself)_, et permet d'aboutir à une grande structuration des données."
   ]
  },
  {
   "cell_type": "code",
   "execution_count": 89,
   "metadata": {},
   "outputs": [
    {
     "name": "stdout",
     "output_type": "stream",
     "text": [
      "<Classe de Terminale7>\n"
     ]
    }
   ],
   "source": [
    "class Terminale(ClasseDeLycee):\n",
    "    def __init__(self, numero, eleves=[]):\n",
    "        # super appelle le constructeur du parent\n",
    "        super().__init__(\"terminale\", numero, eleves)\n",
    "\n",
    "    # On ne met à jour que les méthodes qui sont changées\n",
    "    # Toutes les autres méthodes sont héritées\n",
    "    def __str__(self):\n",
    "        return f\"<Classe de Terminale{self.numero}>\"\n",
    "\n",
    "\n",
    "term7 = Terminale(7)\n",
    "print(term7)"
   ]
  },
  {
   "cell_type": "code",
   "execution_count": 90,
   "metadata": {},
   "outputs": [
    {
     "data": {
      "text/plain": [
       "[]"
      ]
     },
     "execution_count": 90,
     "metadata": {},
     "output_type": "execute_result"
    }
   ],
   "source": [
    "term7.get_eleves()"
   ]
  },
  {
   "cell_type": "markdown",
   "metadata": {},
   "source": [
    "Toutes les méthodes du parent non modifiées sont _héritées_."
   ]
  },
  {
   "cell_type": "code",
   "execution_count": 91,
   "metadata": {},
   "outputs": [
    {
     "data": {
      "text/plain": [
       "['Albert Einstein', 'Paul MacCartney']"
      ]
     },
     "execution_count": 91,
     "metadata": {},
     "output_type": "execute_result"
    }
   ],
   "source": [
    "term7.set_eleves([\"Albert Einstein\", \"Paul MacCartney\"])\n",
    "term7.get_eleves()"
   ]
  },
  {
   "cell_type": "markdown",
   "metadata": {},
   "source": [
    "Il reste cependant à définir les méthodes et attributs propres à cette classe: `voeux_parcoursup`, `mention_bac`..."
   ]
  }
 ],
 "metadata": {
  "kernelspec": {
   "display_name": "Python 3",
   "language": "python",
   "name": "python3"
  },
  "language_info": {
   "codemirror_mode": {
    "name": "ipython",
    "version": 3
   },
   "file_extension": ".py",
   "mimetype": "text/x-python",
   "name": "python",
   "nbconvert_exporter": "python",
   "pygments_lexer": "ipython3",
   "version": "3.9.7"
  }
 },
 "nbformat": 4,
 "nbformat_minor": 4
}
