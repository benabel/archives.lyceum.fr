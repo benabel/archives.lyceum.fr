{
 "cells": [
  {
   "cell_type": "markdown",
   "metadata": {},
   "source": [
    "---\n",
    "tags: [\"cours\", \"terminale\", \"lycée\", \"numérique et sciences informatiques\", \"nsi\"]\n",
    "---\n",
    "\n",
    "::: programme\n",
    "\n",
    "+------------------------+-----------------------------------+---------------------------------------+\n",
    "|        Contenus        |        Capacités attendues        |             Commentaires              |\n",
    "+========================+===================================+=======================================+\n",
    "| Algorithmes sur les    | Calculer la taille et la hauteur  | Une structure de données              |\n",
    "| arbres binaires et sur | d’un arbre.                       | récursive adaptée est utilisée.       |\n",
    "| les arbres binaires de |                                   |                                       |\n",
    "| recherche.             | Parcourir un arbre de différentes | L’exemple des arbres permet           |\n",
    "|                        | façons (ordres infixe, préfixe ou | d’illustrer la programmation par      |\n",
    "|                        | suffixe ; ordre en largeur        | classe.                               |\n",
    "|                        | d’abord).                         |                                       |\n",
    "|                        |                                   | La recherche dans un arbre de         |\n",
    "|                        | Rechercher une clé dans un        | recherche équilibré est de coût       |\n",
    "|                        | arbre de recherche, insérer une   | logarithmique.                        |\n",
    "|                        | clé.                              |                                       |\n",
    "+------------------------+-----------------------------------+---------------------------------------+\n",
    "\n",
    ":::\n",
    "\n",
    "Dans ce chapitre nous allons voir quelques algorithmes classiques sur les\n",
    "[arbres](/tg/nsi/1-structures-de-donnees/4-arbres/):\n",
    "\n",
    "- Calcul de la taille et de la hauteur de l'arbre.\n",
    "- Parcours de l'arbre de différentes façons\n",
    "- Recherche et insertion d'une clé dans un arbre binaire de recherche.\n",
    "\n",
    "## Description de la structure de données\n",
    "\n",
    "Pour représenter les arbres, nous allons décrire l'arbre à partir d'une classe `Node` _récursive_\n",
    "avec les attributs suivants:\n",
    "\n",
    "- `value`: valeur ou clé du nœud de type numérique,\n",
    "- `left`: sous-arbre gauche de type `Node`,\n",
    "- `right`: sous-arbre droit de type `Node`,\n",
    "\n",
    "Cette structure de données est _récursive_ car les attributes `left` et `right` de l'objet `Node`\n",
    "sont eux-mêmes de type `Node`.\n",
    "\n",
    "::: plus\n",
    "\n",
    "La syntaxe utilisée est basée sur le package python\n",
    "[binarytree](https://binarytree.readthedocs.io/en/latest/index.html) ce qui à l'inconvénient\n",
    "d'être en anglais, mais qui nous permettra de programmer et tester facilement nos algorithmes en\n",
    "Python.\n",
    "\n",
    ":::"
   ]
  },
  {
   "cell_type": "code",
   "execution_count": 1,
   "metadata": {},
   "outputs": [
    {
     "name": "stdout",
     "output_type": "stream",
     "text": [
      "Arbre aléatoire\n"
     ]
    },
    {
     "data": {
      "image/svg+xml": "\n    <svg width=\"320.0\" height=\"240.0\"\n         xmlns=\"http://www.w3.org/2000/svg\">\n        <style>\n            .bt-label {\n                font: 300 16.0px sans-serif;;\n                text-align: center;\n                dominant-baseline: middle;\n                text-anchor: middle;\n            }\n            .bt-node {\n                fill: lightgray;\n                stroke-width: 1.5;\n            }\n\n        </style>\n        <g stroke=\"#111\">\n    <line x1=\"157.0\" x2=\"77.0\" y1=\"48.0\" y2=\"96.0\"/><line x1=\"157.0\" x2=\"237.0\" y1=\"48.0\" y2=\"96.0\"/><line x1=\"77.0\" x2=\"37.0\" y1=\"96.0\" y2=\"144.0\"/><line x1=\"77.0\" x2=\"117.0\" y1=\"96.0\" y2=\"144.0\"/><line x1=\"237.0\" x2=\"197.0\" y1=\"96.0\" y2=\"144.0\"/><line x1=\"117.0\" x2=\"97.0\" y1=\"144.0\" y2=\"192.0\"/><line x1=\"117.0\" x2=\"137.0\" y1=\"144.0\" y2=\"192.0\"/>\n            <circle class=\"bt-node\" cx=\"157.0\" cy=\"48.0\" r=\"16.0\"/>\n            <text class=\"bt-label\" x=\"157.0\" y=\"48.0\">14</text>\n            <circle class=\"bt-node\" cx=\"77.0\" cy=\"96.0\" r=\"16.0\"/>\n            <text class=\"bt-label\" x=\"77.0\" y=\"96.0\">13</text>\n            <circle class=\"bt-node\" cx=\"237.0\" cy=\"96.0\" r=\"16.0\"/>\n            <text class=\"bt-label\" x=\"237.0\" y=\"96.0\">2</text>\n            <circle class=\"bt-node\" cx=\"37.0\" cy=\"144.0\" r=\"16.0\"/>\n            <text class=\"bt-label\" x=\"37.0\" y=\"144.0\">3</text>\n            <circle class=\"bt-node\" cx=\"117.0\" cy=\"144.0\" r=\"16.0\"/>\n            <text class=\"bt-label\" x=\"117.0\" y=\"144.0\">8</text>\n            <circle class=\"bt-node\" cx=\"197.0\" cy=\"144.0\" r=\"16.0\"/>\n            <text class=\"bt-label\" x=\"197.0\" y=\"144.0\">4</text>\n            <circle class=\"bt-node\" cx=\"97.0\" cy=\"192.0\" r=\"16.0\"/>\n            <text class=\"bt-label\" x=\"97.0\" y=\"192.0\">12</text>\n            <circle class=\"bt-node\" cx=\"137.0\" cy=\"192.0\" r=\"16.0\"/>\n            <text class=\"bt-label\" x=\"137.0\" y=\"192.0\">1</text></g></svg>",
      "text/plain": [
       "Node(14)"
      ]
     },
     "execution_count": 1,
     "metadata": {},
     "output_type": "execute_result"
    }
   ],
   "source": [
    "from binarytree import Node, tree\n",
    "# On peut facilement créer un arbre aléatoire\n",
    "mon_arbre = tree(height=3)\n",
    "\n",
    "# L'affichage de l'arbre est aisé\n",
    "print(\"Arbre aléatoire\")\n",
    "mon_arbre"
   ]
  },
  {
   "cell_type": "code",
   "execution_count": 2,
   "metadata": {},
   "outputs": [
    {
     "name": "stdout",
     "output_type": "stream",
     "text": [
      "A la main\n"
     ]
    },
    {
     "data": {
      "image/svg+xml": "\n    <svg width=\"320.0\" height=\"240.0\"\n         xmlns=\"http://www.w3.org/2000/svg\">\n        <style>\n            .bt-label {\n                font: 300 16.0px sans-serif;;\n                text-align: center;\n                dominant-baseline: middle;\n                text-anchor: middle;\n            }\n            .bt-node {\n                fill: lightgray;\n                stroke-width: 1.5;\n            }\n\n        </style>\n        <g stroke=\"#111\">\n    <line x1=\"157.0\" x2=\"77.0\" y1=\"48.0\" y2=\"96.0\"/><line x1=\"157.0\" x2=\"237.0\" y1=\"48.0\" y2=\"96.0\"/><line x1=\"77.0\" x2=\"37.0\" y1=\"96.0\" y2=\"144.0\"/><line x1=\"77.0\" x2=\"117.0\" y1=\"96.0\" y2=\"144.0\"/><line x1=\"117.0\" x2=\"137.0\" y1=\"144.0\" y2=\"192.0\"/>\n            <circle class=\"bt-node\" cx=\"157.0\" cy=\"48.0\" r=\"16.0\"/>\n            <text class=\"bt-label\" x=\"157.0\" y=\"48.0\">3</text>\n            <circle class=\"bt-node\" cx=\"77.0\" cy=\"96.0\" r=\"16.0\"/>\n            <text class=\"bt-label\" x=\"77.0\" y=\"96.0\">2</text>\n            <circle class=\"bt-node\" cx=\"237.0\" cy=\"96.0\" r=\"16.0\"/>\n            <text class=\"bt-label\" x=\"237.0\" y=\"96.0\">6</text>\n            <circle class=\"bt-node\" cx=\"37.0\" cy=\"144.0\" r=\"16.0\"/>\n            <text class=\"bt-label\" x=\"37.0\" y=\"144.0\">1</text>\n            <circle class=\"bt-node\" cx=\"117.0\" cy=\"144.0\" r=\"16.0\"/>\n            <text class=\"bt-label\" x=\"117.0\" y=\"144.0\">4</text>\n            <circle class=\"bt-node\" cx=\"137.0\" cy=\"192.0\" r=\"16.0\"/>\n            <text class=\"bt-label\" x=\"137.0\" y=\"192.0\">5</text></g></svg>",
      "text/plain": [
       "Node(3)"
      ]
     },
     "execution_count": 2,
     "metadata": {},
     "output_type": "execute_result"
    }
   ],
   "source": [
    "# ou créer l'arbre de toutes pièces\n",
    "arbre = Node(3)\n",
    "arbre.left = Node(2)\n",
    "arbre.left.left = Node(1)\n",
    "arbre.left.right = Node(4)\n",
    "arbre.left.right.right = Node(5)\n",
    "arbre.right = Node(6)\n",
    "print(\"A la main\")\n",
    "arbre"
   ]
  },
  {
   "cell_type": "markdown",
   "metadata": {},
   "source": [
    "## Calculer la taille de l'arbre\n",
    "\n",
    "Pour rappel, voici la définition vue dans le [chapitre P1C4 sur les arbres binaires](/tg/nsi/1-structures-de-donnees/4-arbres).\n",
    "\n",
    "Taille d'un arbre\n",
    "\n",
    ":   La taille d'un arbre est son nombre de nœuds.\n",
    "\n",
    "Nous allons utiliser une fonction _recursive_.\n",
    "\n",
    "\n",
    "A chaque appel, on renvoie `1 + taille(gauche(A)) + taille(droite(A))`.\n",
    "\n",
    "Dans le cas de base, en cas d'absence de noeud, on renvoie 0.\n",
    "\n",
    "\n",
    "Voici le pseudo-code correspondant à cette fonction:\n",
    "\n",
    "```\n",
    "taille(Arbre A) :\n",
    "    Si A vide\n",
    "\t\tretourner 0\n",
    "    retourner 1 + taille(gauche(A)) + taille(droite(A))\n",
    "```\n",
    "\n",
    "Et voici l'implémentation de cette fonction en Python en utilisant la classe `binarytree.Node` pour représenter les arbres binaires."
   ]
  },
  {
   "cell_type": "code",
   "execution_count": 12,
   "metadata": {},
   "outputs": [
    {
     "name": "stdout",
     "output_type": "stream",
     "text": [
      "taille: 8\n"
     ]
    },
    {
     "data": {
      "image/svg+xml": "\n    <svg width=\"320.0\" height=\"240.0\"\n         xmlns=\"http://www.w3.org/2000/svg\">\n        <style>\n            .bt-label {\n                font: 300 16.0px sans-serif;;\n                text-align: center;\n                dominant-baseline: middle;\n                text-anchor: middle;\n            }\n            .bt-node {\n                fill: lightgray;\n                stroke-width: 1.5;\n            }\n\n        </style>\n        <g stroke=\"#111\">\n    <line x1=\"157.0\" x2=\"77.0\" y1=\"48.0\" y2=\"96.0\"/><line x1=\"157.0\" x2=\"237.0\" y1=\"48.0\" y2=\"96.0\"/><line x1=\"77.0\" x2=\"37.0\" y1=\"96.0\" y2=\"144.0\"/><line x1=\"77.0\" x2=\"117.0\" y1=\"96.0\" y2=\"144.0\"/><line x1=\"237.0\" x2=\"197.0\" y1=\"96.0\" y2=\"144.0\"/><line x1=\"117.0\" x2=\"97.0\" y1=\"144.0\" y2=\"192.0\"/><line x1=\"117.0\" x2=\"137.0\" y1=\"144.0\" y2=\"192.0\"/>\n            <circle class=\"bt-node\" cx=\"157.0\" cy=\"48.0\" r=\"16.0\"/>\n            <text class=\"bt-label\" x=\"157.0\" y=\"48.0\">14</text>\n            <circle class=\"bt-node\" cx=\"77.0\" cy=\"96.0\" r=\"16.0\"/>\n            <text class=\"bt-label\" x=\"77.0\" y=\"96.0\">13</text>\n            <circle class=\"bt-node\" cx=\"237.0\" cy=\"96.0\" r=\"16.0\"/>\n            <text class=\"bt-label\" x=\"237.0\" y=\"96.0\">2</text>\n            <circle class=\"bt-node\" cx=\"37.0\" cy=\"144.0\" r=\"16.0\"/>\n            <text class=\"bt-label\" x=\"37.0\" y=\"144.0\">3</text>\n            <circle class=\"bt-node\" cx=\"117.0\" cy=\"144.0\" r=\"16.0\"/>\n            <text class=\"bt-label\" x=\"117.0\" y=\"144.0\">8</text>\n            <circle class=\"bt-node\" cx=\"197.0\" cy=\"144.0\" r=\"16.0\"/>\n            <text class=\"bt-label\" x=\"197.0\" y=\"144.0\">4</text>\n            <circle class=\"bt-node\" cx=\"97.0\" cy=\"192.0\" r=\"16.0\"/>\n            <text class=\"bt-label\" x=\"97.0\" y=\"192.0\">12</text>\n            <circle class=\"bt-node\" cx=\"137.0\" cy=\"192.0\" r=\"16.0\"/>\n            <text class=\"bt-label\" x=\"137.0\" y=\"192.0\">1</text></g></svg>",
      "text/plain": [
       "Node(14)"
      ]
     },
     "execution_count": 12,
     "metadata": {},
     "output_type": "execute_result"
    }
   ],
   "source": [
    "def taille(arbre):\n",
    "    \"\"\"Fonction récursive renvoyant la taille d'un arbre\n",
    "    \n",
    "    Arguments\n",
    "    ---------\n",
    "    arbre: Arbre Binaire\n",
    "        Le noeud racine de l'arbre\n",
    "    \n",
    "    Returns\n",
    "    -------\n",
    "    int\n",
    "        La taille de l'arbre\n",
    "    \"\"\"\n",
    "    # Cas de base \n",
    "    if not(arbre):\n",
    "        return 0\n",
    "    else:\n",
    "        # print(arbre)\n",
    "        return 1 + taille(arbre.left) + taille(arbre.right)\n",
    "  \n",
    "\n",
    "print(\"taille:\", taille(mon_arbre))\n",
    "mon_arbre"
   ]
  },
  {
   "cell_type": "markdown",
   "metadata": {},
   "source": [
    "## Calculer la hauteur de l'arbre\n",
    "\n",
    "Pour rappel, voici la définition vue dans le [chapitre P1C4 sur les arbres binaires](/tg/nsi/1-structures-de-donnees/4-arbres).\n",
    "\n",
    "Hauteur d'un arbre\n",
    "\n",
    ":   La hauteur d'un arbre est la plus grande profondeur d'une feuille de l'arbre.\n",
    "\n",
    "\n",
    "A chaque appel, on va renvoyer le maximum  des hauteurs des sous-arbres: `1 + hauteur(node.left), hauteur(node.right))`.\n",
    "\n",
    "Mais comme toute fonction recursive, il faut un cas de base qui ne nécessite pas le rappel de la fonction(sans quoi on aurait une boucle infinie). Ce cas est l'absence de noeud, cela signifie que le noeud parent était une feuille, et renvoie -1 pour diminuer la hauteur accumulée de 1.\n",
    "\n",
    "Voici le pseudo-code correspondant à cette fonction:\n",
    "\n",
    "```\n",
    "hauteur(Arbre A) :\n",
    "    Si A vide\n",
    "\t\tretourner - 1\n",
    "    retourner 1 + max(hauteur(gauche(A)), hauteur(droite(A)))\n",
    "```\n",
    "\n",
    "Et voici l'implémentation de cette fonction en Python en utilisant la classe `binarytree.Node` pour représenter les arbres binaires."
   ]
  },
  {
   "cell_type": "code",
   "execution_count": 15,
   "metadata": {},
   "outputs": [
    {
     "name": "stdout",
     "output_type": "stream",
     "text": [
      "hauteur: 3\n"
     ]
    },
    {
     "data": {
      "image/svg+xml": "\n    <svg width=\"320.0\" height=\"240.0\"\n         xmlns=\"http://www.w3.org/2000/svg\">\n        <style>\n            .bt-label {\n                font: 300 16.0px sans-serif;;\n                text-align: center;\n                dominant-baseline: middle;\n                text-anchor: middle;\n            }\n            .bt-node {\n                fill: lightgray;\n                stroke-width: 1.5;\n            }\n\n        </style>\n        <g stroke=\"#111\">\n    <line x1=\"157.0\" x2=\"77.0\" y1=\"48.0\" y2=\"96.0\"/><line x1=\"157.0\" x2=\"237.0\" y1=\"48.0\" y2=\"96.0\"/><line x1=\"77.0\" x2=\"37.0\" y1=\"96.0\" y2=\"144.0\"/><line x1=\"77.0\" x2=\"117.0\" y1=\"96.0\" y2=\"144.0\"/><line x1=\"237.0\" x2=\"197.0\" y1=\"96.0\" y2=\"144.0\"/><line x1=\"117.0\" x2=\"97.0\" y1=\"144.0\" y2=\"192.0\"/><line x1=\"117.0\" x2=\"137.0\" y1=\"144.0\" y2=\"192.0\"/>\n            <circle class=\"bt-node\" cx=\"157.0\" cy=\"48.0\" r=\"16.0\"/>\n            <text class=\"bt-label\" x=\"157.0\" y=\"48.0\">14</text>\n            <circle class=\"bt-node\" cx=\"77.0\" cy=\"96.0\" r=\"16.0\"/>\n            <text class=\"bt-label\" x=\"77.0\" y=\"96.0\">13</text>\n            <circle class=\"bt-node\" cx=\"237.0\" cy=\"96.0\" r=\"16.0\"/>\n            <text class=\"bt-label\" x=\"237.0\" y=\"96.0\">2</text>\n            <circle class=\"bt-node\" cx=\"37.0\" cy=\"144.0\" r=\"16.0\"/>\n            <text class=\"bt-label\" x=\"37.0\" y=\"144.0\">3</text>\n            <circle class=\"bt-node\" cx=\"117.0\" cy=\"144.0\" r=\"16.0\"/>\n            <text class=\"bt-label\" x=\"117.0\" y=\"144.0\">8</text>\n            <circle class=\"bt-node\" cx=\"197.0\" cy=\"144.0\" r=\"16.0\"/>\n            <text class=\"bt-label\" x=\"197.0\" y=\"144.0\">4</text>\n            <circle class=\"bt-node\" cx=\"97.0\" cy=\"192.0\" r=\"16.0\"/>\n            <text class=\"bt-label\" x=\"97.0\" y=\"192.0\">12</text>\n            <circle class=\"bt-node\" cx=\"137.0\" cy=\"192.0\" r=\"16.0\"/>\n            <text class=\"bt-label\" x=\"137.0\" y=\"192.0\">1</text></g></svg>",
      "text/plain": [
       "Node(14)"
      ]
     },
     "execution_count": 15,
     "metadata": {},
     "output_type": "execute_result"
    }
   ],
   "source": [
    "def hauteur(arbre):\n",
    "    \"\"\"Fonction récursive renvoyant la hauteur d'un arbre\n",
    "    \n",
    "    Arguments\n",
    "    ---------\n",
    "    arbre: Arbre binaire\n",
    "        Le noeud racine de l'arbre\n",
    "    \n",
    "    Returns\n",
    "    -------\n",
    "    int\n",
    "        La hauteur de l'arbre\n",
    "    \"\"\"\n",
    "    # Cas de base \n",
    "    if not(arbre):\n",
    "        return -1\n",
    "    else:\n",
    "        # print(arbre)\n",
    "        return 1 + max(hauteur(arbre.left), hauteur(arbre.right))\n",
    "        \n",
    "print(\"hauteur:\", hauteur(mon_arbre))\n",
    "mon_arbre"
   ]
  },
  {
   "cell_type": "markdown",
   "metadata": {},
   "source": [
    "N'hésitez pas à décommenter le `print` pour observer les arbres sur lesquels sont appelés cette fonction.\n",
    "\n",
    "::: appli\n",
    "\n",
    "Schématiser la pile d'appels de la fonction récursive utilisée pour obtenir ce résultat.\n",
    "\n",
    ":::"
   ]
  },
  {
   "cell_type": "markdown",
   "metadata": {},
   "source": [
    "## Parcours de l'arbre\n",
    "\n",
    "Nous allons voir quatre méthodes de parcours des arbres, en fonction de l'ordre dans lequel on parcourt les noeuds:\n",
    "\n",
    "- parcours préfixe\n",
    "- parcours postfixe\n",
    "- parcours infixe\n",
    "- parcours en largeur\n",
    "\n",
    "![Comparaisons des parcours d'arbres](../../images/parcours-arbres-wikipedia.png)\n",
    "\n",
    "### Parcours préfixe\n",
    "\n",
    "Dans cet ordre, chaque nœud est visité puis chacun de ses fils.\n",
    "\n",
    "Voici le pseudo-code extrait de l'article Wikipedia sur les arbres.\n",
    "\n",
    "```\n",
    "parcours_préfixe(Arbre A) :\n",
    "    visiter (A)\n",
    "    Si nonVide (gauche(A))\n",
    "          parcours_préfixe(gauche(A))\n",
    "    Si nonVide (droite(A))\n",
    "          parcours_préfixe(droite(A))\n",
    "```\n",
    "\n",
    "### Parcours infixe\n",
    "\n",
    "On visite chaque nœud entre les nœuds de son sous-arbre de gauche et les nœuds de son sous-arbre de droite. C'est une manière assez commune de parcourir un _arbre binaire de recherche_, car il donne les valeurs dans l'ordre croissant. \n",
    "\n",
    "Voici le pseudo-code extrait de l'article Wikipedia sur les arbres.\n",
    "\n",
    "```\n",
    "parcours_infixe(Arbre A) :\n",
    "    Si nonVide(gauche(A))\n",
    "       parcours_infixe(gauche(A))\n",
    "    visiter(A)\n",
    "    Si nonVide(droite(A))\n",
    "       parcours_infixe(droite(A))\n",
    "```\n",
    "\n",
    "### Parcours postfixe\n",
    "\n",
    "On affiche chaque nœud après avoir affiché chacun de ses fils.\n",
    "\n",
    "Voici le pseudo-code extrait de l'article Wikipedia sur les arbres.\n",
    "\n",
    "```\n",
    "parcours_postfixe(Arbre A) :\n",
    "    Si nonVide(gauche(A))\n",
    "       parcours_postfixe(gauche(A))\n",
    "    Si nonVide(droite(A))\n",
    "       parcours_postfixe(droite(A))\n",
    "    visiter(A)\n",
    "```\n",
    "\n",
    "\n",
    "### Parcours en largeur\n",
    "\n",
    "On parcours les noeuds de gauche à droite étage par étage, comme si on «lisait» l'arbre.\n",
    "\n",
    "Voici le pseudo-code issu de l'article Wikipedia sur les arbres.\n",
    "\n",
    "Ce code n'est pas _recusrif_ et a la particularité d'utiliser une structure de file avec les méthodes `enfiler` et `défiler`.\n",
    "\n",
    "```\n",
    "parcours_largeur(Arbre A) \n",
    "   f = FileVide\n",
    "   enfiler(Racine(A), f)\n",
    "   Tant que (f != FileVide) \n",
    "       nœud = defiler(f)\n",
    "       Visiter(nœud)                        // On fait une opération\n",
    "       Si (gauche(nœud) != null) Alors\n",
    "           enfiler(gauche(nœud), f)\n",
    "       Si (droite(nœud) != null) Alors\n",
    "           enfiler(droite(nœud), f)\n",
    "```\n",
    "\n",
    "Voici un exemple d'implémentation en Python utilisant une liste en guise de file avec les méthodes:\n",
    "\n",
    "- `list.insert(0, el)`, pour enfiler l'élément à l'index 0. \n",
    "- `list.pop()`, pour supprimer et renvoyer le dernier élément de la file(le défiler). "
   ]
  },
  {
   "cell_type": "code",
   "execution_count": 14,
   "metadata": {},
   "outputs": [
    {
     "name": "stdout",
     "output_type": "stream",
     "text": [
      "Parcours en largeur\n",
      "14\n",
      "13\n",
      "2\n",
      "3\n",
      "8\n",
      "4\n",
      "12\n",
      "1\n"
     ]
    },
    {
     "data": {
      "image/svg+xml": "\n    <svg width=\"320.0\" height=\"240.0\"\n         xmlns=\"http://www.w3.org/2000/svg\">\n        <style>\n            .bt-label {\n                font: 300 16.0px sans-serif;;\n                text-align: center;\n                dominant-baseline: middle;\n                text-anchor: middle;\n            }\n            .bt-node {\n                fill: lightgray;\n                stroke-width: 1.5;\n            }\n\n        </style>\n        <g stroke=\"#111\">\n    <line x1=\"157.0\" x2=\"77.0\" y1=\"48.0\" y2=\"96.0\"/><line x1=\"157.0\" x2=\"237.0\" y1=\"48.0\" y2=\"96.0\"/><line x1=\"77.0\" x2=\"37.0\" y1=\"96.0\" y2=\"144.0\"/><line x1=\"77.0\" x2=\"117.0\" y1=\"96.0\" y2=\"144.0\"/><line x1=\"237.0\" x2=\"197.0\" y1=\"96.0\" y2=\"144.0\"/><line x1=\"117.0\" x2=\"97.0\" y1=\"144.0\" y2=\"192.0\"/><line x1=\"117.0\" x2=\"137.0\" y1=\"144.0\" y2=\"192.0\"/>\n            <circle class=\"bt-node\" cx=\"157.0\" cy=\"48.0\" r=\"16.0\"/>\n            <text class=\"bt-label\" x=\"157.0\" y=\"48.0\">14</text>\n            <circle class=\"bt-node\" cx=\"77.0\" cy=\"96.0\" r=\"16.0\"/>\n            <text class=\"bt-label\" x=\"77.0\" y=\"96.0\">13</text>\n            <circle class=\"bt-node\" cx=\"237.0\" cy=\"96.0\" r=\"16.0\"/>\n            <text class=\"bt-label\" x=\"237.0\" y=\"96.0\">2</text>\n            <circle class=\"bt-node\" cx=\"37.0\" cy=\"144.0\" r=\"16.0\"/>\n            <text class=\"bt-label\" x=\"37.0\" y=\"144.0\">3</text>\n            <circle class=\"bt-node\" cx=\"117.0\" cy=\"144.0\" r=\"16.0\"/>\n            <text class=\"bt-label\" x=\"117.0\" y=\"144.0\">8</text>\n            <circle class=\"bt-node\" cx=\"197.0\" cy=\"144.0\" r=\"16.0\"/>\n            <text class=\"bt-label\" x=\"197.0\" y=\"144.0\">4</text>\n            <circle class=\"bt-node\" cx=\"97.0\" cy=\"192.0\" r=\"16.0\"/>\n            <text class=\"bt-label\" x=\"97.0\" y=\"192.0\">12</text>\n            <circle class=\"bt-node\" cx=\"137.0\" cy=\"192.0\" r=\"16.0\"/>\n            <text class=\"bt-label\" x=\"137.0\" y=\"192.0\">1</text></g></svg>",
      "text/plain": [
       "Node(14)"
      ]
     },
     "execution_count": 14,
     "metadata": {},
     "output_type": "execute_result"
    }
   ],
   "source": [
    "def parcours_largeur(arbre):\n",
    "    f = []\n",
    "    f.insert(0, arbre)\n",
    "    while f:\n",
    "        noeud = f.pop()\n",
    "        print(noeud.value)\n",
    "        if noeud.left:\n",
    "            f.insert(0, noeud.left)\n",
    "        if noeud.right:\n",
    "            f.insert(0, noeud.right)\n",
    "\n",
    "print(\"Parcours en largeur\")\n",
    "parcours_largeur(mon_arbre)\n",
    "mon_arbre"
   ]
  },
  {
   "cell_type": "markdown",
   "metadata": {},
   "source": [
    "## Arbre binaire de recherche\n",
    "\n",
    "Comme nous l'avons vu dans le chapitre sur les [arbres](../../1-structures-de-donnees/4-arbres/#arbres-binaires-de-recherche) de la partie structure de données,\n",
    "\n",
    "> un arbre binaire de recherche permet des opérations rapides pour rechercher une clé, insérer ou\n",
    "supprimer une clé.\n",
    "\n",
    "\n",
    "Pour rappel:\n",
    "\n",
    "Arbre binaire de recherche\n",
    "\n",
    ":   Il s'agit d'un arbre binaire dans lequel toutes les valeurs dans le sous-arbre gauche d'un nœud\n",
    "    sont inférieures à la valeur à la racine de l'arbre et toutes les valeurs dans le sous-arbre droit\n",
    "    d'un nœud sont supérieures ou égales à la valeur à la racine de l'arbre.\n",
    "\n",
    "\n",
    "Nous allons voir les algorithmes permettant la recherche et l'insertion d'une clé.\n",
    "\n",
    "Encore une fois nous utiliserons le package `binarytree` qui permet de facilementcréer des arbres binaires  grâce à la fonction `bst`(_binary search tree_)."
   ]
  },
  {
   "cell_type": "code",
   "execution_count": 6,
   "metadata": {},
   "outputs": [
    {
     "data": {
      "image/svg+xml": "\n    <svg width=\"320.0\" height=\"240.0\"\n         xmlns=\"http://www.w3.org/2000/svg\">\n        <style>\n            .bt-label {\n                font: 300 16.0px sans-serif;;\n                text-align: center;\n                dominant-baseline: middle;\n                text-anchor: middle;\n            }\n            .bt-node {\n                fill: lightgray;\n                stroke-width: 1.5;\n            }\n\n        </style>\n        <g stroke=\"#111\">\n    <line x1=\"157.0\" x2=\"77.0\" y1=\"48.0\" y2=\"96.0\"/><line x1=\"157.0\" x2=\"237.0\" y1=\"48.0\" y2=\"96.0\"/><line x1=\"77.0\" x2=\"37.0\" y1=\"96.0\" y2=\"144.0\"/><line x1=\"77.0\" x2=\"117.0\" y1=\"96.0\" y2=\"144.0\"/><line x1=\"237.0\" x2=\"197.0\" y1=\"96.0\" y2=\"144.0\"/><line x1=\"237.0\" x2=\"277.0\" y1=\"96.0\" y2=\"144.0\"/><line x1=\"197.0\" x2=\"177.0\" y1=\"144.0\" y2=\"192.0\"/><line x1=\"197.0\" x2=\"217.0\" y1=\"144.0\" y2=\"192.0\"/><line x1=\"277.0\" x2=\"257.0\" y1=\"144.0\" y2=\"192.0\"/>\n            <circle class=\"bt-node\" cx=\"157.0\" cy=\"48.0\" r=\"16.0\"/>\n            <text class=\"bt-label\" x=\"157.0\" y=\"48.0\">3</text>\n            <circle class=\"bt-node\" cx=\"77.0\" cy=\"96.0\" r=\"16.0\"/>\n            <text class=\"bt-label\" x=\"77.0\" y=\"96.0\">1</text>\n            <circle class=\"bt-node\" cx=\"237.0\" cy=\"96.0\" r=\"16.0\"/>\n            <text class=\"bt-label\" x=\"237.0\" y=\"96.0\">12</text>\n            <circle class=\"bt-node\" cx=\"37.0\" cy=\"144.0\" r=\"16.0\"/>\n            <text class=\"bt-label\" x=\"37.0\" y=\"144.0\">0</text>\n            <circle class=\"bt-node\" cx=\"117.0\" cy=\"144.0\" r=\"16.0\"/>\n            <text class=\"bt-label\" x=\"117.0\" y=\"144.0\">2</text>\n            <circle class=\"bt-node\" cx=\"197.0\" cy=\"144.0\" r=\"16.0\"/>\n            <text class=\"bt-label\" x=\"197.0\" y=\"144.0\">10</text>\n            <circle class=\"bt-node\" cx=\"277.0\" cy=\"144.0\" r=\"16.0\"/>\n            <text class=\"bt-label\" x=\"277.0\" y=\"144.0\">14</text>\n            <circle class=\"bt-node\" cx=\"177.0\" cy=\"192.0\" r=\"16.0\"/>\n            <text class=\"bt-label\" x=\"177.0\" y=\"192.0\">6</text>\n            <circle class=\"bt-node\" cx=\"217.0\" cy=\"192.0\" r=\"16.0\"/>\n            <text class=\"bt-label\" x=\"217.0\" y=\"192.0\">11</text>\n            <circle class=\"bt-node\" cx=\"257.0\" cy=\"192.0\" r=\"16.0\"/>\n            <text class=\"bt-label\" x=\"257.0\" y=\"192.0\">13</text></g></svg>",
      "text/plain": [
       "Node(3)"
      ]
     },
     "execution_count": 6,
     "metadata": {},
     "output_type": "execute_result"
    }
   ],
   "source": [
    "from binarytree import bst\n",
    "abr = bst(height=3)\n",
    "abr"
   ]
  },
  {
   "cell_type": "markdown",
   "metadata": {},
   "source": [
    "### Recherche d'une clé\n",
    "\n",
    "Puisque ce type d'arbre est trié, nous pouvons utiliser une méthode de\n",
    "[recherche dichotomique](/1g/nsi/8-algorithmique/4-recherche-dichotomique) telle que nous l'avions\n",
    "vu en première.\n",
    "\n",
    "On peut ainsi éliminer la moitié de l'arbre à chaque itération et la complexité est $log(n)$ si\n",
    "l'arbre est équilibré.\n",
    "\n",
    "Voici le pseudo code de cet algorithme.\n",
    "\n",
    "```\n",
    "fonction recherche(a: abr, clé: élément)\n",
    "\n",
    "        Si a vide\n",
    "            retourner Faux\n",
    "\n",
    "        Sinon\n",
    "            e = étiquette de a\n",
    "            Si e == clé \n",
    "                retourner Vrai\n",
    "            Sinon si e < clé\n",
    "                retourner recherche(gauche(a), clé)\n",
    "            Sinon\n",
    "                retourner recherche(droite(a), clé)\n",
    "```\n",
    "\n",
    "\n",
    "::: app\n",
    "\n",
    "Implémenter cet algorithme en Python en utilisant le module `binarytree`.\n",
    "\n",
    ":::"
   ]
  },
  {
   "cell_type": "markdown",
   "metadata": {},
   "source": [
    "### Insertion d'une clé\n",
    "\n",
    "> L'insertion d'un nœud commence par une recherche : on cherche la clé du nœud à insérer ;\n",
    "> lorsqu'on arrive à une feuille, on ajoute le nœud comme fils de la feuille en comparant sa clé à\n",
    "> celle de la feuille : si elle est inférieure, le nouveau nœud sera à gauche ; sinon il sera à\n",
    "> droite.\n",
    "\n",
    "```\n",
    "fonction insertion(a: ABR, clé: élément)\n",
    "        Si a vide\n",
    "            retourner ABR(clé, vide, vide)\n",
    "            \n",
    "        Sinon\n",
    "            e = étiquette de a\n",
    "            Si e < clé\n",
    "                retourner ABR(e, insertion(gauche(a), clé), droite(a))\n",
    "            Sinon\n",
    "                retourner ABR(e, gauche(a), insertion(droite(a), clé))\n",
    "```\n",
    "[ABR sur Wikipedia](https://fr.wikipedia.org/wiki/Arbre_binaire_de_recherche#Insertion){.cite-source}\n",
    "\n",
    "On peut traduire cet algorithme en Python de cette façon:"
   ]
  },
  {
   "cell_type": "code",
   "execution_count": 28,
   "metadata": {},
   "outputs": [
    {
     "name": "stdout",
     "output_type": "stream",
     "text": [
      "Arbre initial\n"
     ]
    },
    {
     "data": {
      "image/svg+xml": "\n    <svg width=\"320.0\" height=\"240.0\"\n         xmlns=\"http://www.w3.org/2000/svg\">\n        <style>\n            .bt-label {\n                font: 300 16.0px sans-serif;;\n                text-align: center;\n                dominant-baseline: middle;\n                text-anchor: middle;\n            }\n            .bt-node {\n                fill: lightgray;\n                stroke-width: 1.5;\n            }\n\n        </style>\n        <g stroke=\"#111\">\n    <line x1=\"157.0\" x2=\"77.0\" y1=\"48.0\" y2=\"96.0\"/><line x1=\"157.0\" x2=\"237.0\" y1=\"48.0\" y2=\"96.0\"/><line x1=\"77.0\" x2=\"37.0\" y1=\"96.0\" y2=\"144.0\"/><line x1=\"237.0\" x2=\"197.0\" y1=\"96.0\" y2=\"144.0\"/><line x1=\"237.0\" x2=\"277.0\" y1=\"96.0\" y2=\"144.0\"/><line x1=\"37.0\" x2=\"17.0\" y1=\"144.0\" y2=\"192.0\"/><line x1=\"37.0\" x2=\"57.0\" y1=\"144.0\" y2=\"192.0\"/><line x1=\"197.0\" x2=\"217.0\" y1=\"144.0\" y2=\"192.0\"/><line x1=\"277.0\" x2=\"257.0\" y1=\"144.0\" y2=\"192.0\"/>\n            <circle class=\"bt-node\" cx=\"157.0\" cy=\"48.0\" r=\"16.0\"/>\n            <text class=\"bt-label\" x=\"157.0\" y=\"48.0\">7</text>\n            <circle class=\"bt-node\" cx=\"77.0\" cy=\"96.0\" r=\"16.0\"/>\n            <text class=\"bt-label\" x=\"77.0\" y=\"96.0\">6</text>\n            <circle class=\"bt-node\" cx=\"237.0\" cy=\"96.0\" r=\"16.0\"/>\n            <text class=\"bt-label\" x=\"237.0\" y=\"96.0\">12</text>\n            <circle class=\"bt-node\" cx=\"37.0\" cy=\"144.0\" r=\"16.0\"/>\n            <text class=\"bt-label\" x=\"37.0\" y=\"144.0\">1</text>\n            <circle class=\"bt-node\" cx=\"197.0\" cy=\"144.0\" r=\"16.0\"/>\n            <text class=\"bt-label\" x=\"197.0\" y=\"144.0\">8</text>\n            <circle class=\"bt-node\" cx=\"277.0\" cy=\"144.0\" r=\"16.0\"/>\n            <text class=\"bt-label\" x=\"277.0\" y=\"144.0\">14</text>\n            <circle class=\"bt-node\" cx=\"17.0\" cy=\"192.0\" r=\"16.0\"/>\n            <text class=\"bt-label\" x=\"17.0\" y=\"192.0\">0</text>\n            <circle class=\"bt-node\" cx=\"57.0\" cy=\"192.0\" r=\"16.0\"/>\n            <text class=\"bt-label\" x=\"57.0\" y=\"192.0\">3</text>\n            <circle class=\"bt-node\" cx=\"217.0\" cy=\"192.0\" r=\"16.0\"/>\n            <text class=\"bt-label\" x=\"217.0\" y=\"192.0\">11</text>\n            <circle class=\"bt-node\" cx=\"257.0\" cy=\"192.0\" r=\"16.0\"/>\n            <text class=\"bt-label\" x=\"257.0\" y=\"192.0\">13</text></g></svg>",
      "text/plain": [
       "Node(7)"
      ]
     },
     "execution_count": 28,
     "metadata": {},
     "output_type": "execute_result"
    }
   ],
   "source": [
    "def insertion(abr, clé):\n",
    "    \"\"\"Insertion de la clé dans l'arbre abr\n",
    "    \n",
    "    Arguments\n",
    "    ---------\n",
    "    abr: binarytree.Node\n",
    "        l'arbre dans lequel doit être inséré la clé\n",
    "    clé: Number\n",
    "        La cle à insérer\n",
    "    \n",
    "    Returns\n",
    "    -------\n",
    "    binarytree.Node\n",
    "        l'arbre modifié\n",
    "    \"\"\"\n",
    "    if not(abr):\n",
    "        return Node(clé)\n",
    "    e = abr.value\n",
    "    if clé < e:\n",
    "        return Node(value=e,\n",
    "                    left=insertion(abr.left, clé),\n",
    "                    right=abr.right)\n",
    "    else:\n",
    "        return Node(value=e,\n",
    "                    left=abr.left,\n",
    "                    right=insertion(abr.right, clé))\n",
    "\n",
    "print(\"Arbre initial\")\n",
    "abr = bst()\n",
    "abr"
   ]
  },
  {
   "cell_type": "code",
   "execution_count": 29,
   "metadata": {},
   "outputs": [
    {
     "data": {
      "image/svg+xml": "\n    <svg width=\"320.0\" height=\"240.0\"\n         xmlns=\"http://www.w3.org/2000/svg\">\n        <style>\n            .bt-label {\n                font: 300 16.0px sans-serif;;\n                text-align: center;\n                dominant-baseline: middle;\n                text-anchor: middle;\n            }\n            .bt-node {\n                fill: lightgray;\n                stroke-width: 1.5;\n            }\n\n        </style>\n        <g stroke=\"#111\">\n    <line x1=\"157.0\" x2=\"77.0\" y1=\"48.0\" y2=\"96.0\"/><line x1=\"157.0\" x2=\"237.0\" y1=\"48.0\" y2=\"96.0\"/><line x1=\"77.0\" x2=\"37.0\" y1=\"96.0\" y2=\"144.0\"/><line x1=\"237.0\" x2=\"197.0\" y1=\"96.0\" y2=\"144.0\"/><line x1=\"237.0\" x2=\"277.0\" y1=\"96.0\" y2=\"144.0\"/><line x1=\"37.0\" x2=\"17.0\" y1=\"144.0\" y2=\"192.0\"/><line x1=\"37.0\" x2=\"57.0\" y1=\"144.0\" y2=\"192.0\"/><line x1=\"197.0\" x2=\"177.0\" y1=\"144.0\" y2=\"192.0\"/><line x1=\"197.0\" x2=\"217.0\" y1=\"144.0\" y2=\"192.0\"/><line x1=\"277.0\" x2=\"257.0\" y1=\"144.0\" y2=\"192.0\"/>\n            <circle class=\"bt-node\" cx=\"157.0\" cy=\"48.0\" r=\"16.0\"/>\n            <text class=\"bt-label\" x=\"157.0\" y=\"48.0\">7</text>\n            <circle class=\"bt-node\" cx=\"77.0\" cy=\"96.0\" r=\"16.0\"/>\n            <text class=\"bt-label\" x=\"77.0\" y=\"96.0\">6</text>\n            <circle class=\"bt-node\" cx=\"237.0\" cy=\"96.0\" r=\"16.0\"/>\n            <text class=\"bt-label\" x=\"237.0\" y=\"96.0\">12</text>\n            <circle class=\"bt-node\" cx=\"37.0\" cy=\"144.0\" r=\"16.0\"/>\n            <text class=\"bt-label\" x=\"37.0\" y=\"144.0\">1</text>\n            <circle class=\"bt-node\" cx=\"197.0\" cy=\"144.0\" r=\"16.0\"/>\n            <text class=\"bt-label\" x=\"197.0\" y=\"144.0\">8</text>\n            <circle class=\"bt-node\" cx=\"277.0\" cy=\"144.0\" r=\"16.0\"/>\n            <text class=\"bt-label\" x=\"277.0\" y=\"144.0\">14</text>\n            <circle class=\"bt-node\" cx=\"17.0\" cy=\"192.0\" r=\"16.0\"/>\n            <text class=\"bt-label\" x=\"17.0\" y=\"192.0\">0</text>\n            <circle class=\"bt-node\" cx=\"57.0\" cy=\"192.0\" r=\"16.0\"/>\n            <text class=\"bt-label\" x=\"57.0\" y=\"192.0\">3</text>\n            <circle class=\"bt-node\" cx=\"177.0\" cy=\"192.0\" r=\"16.0\"/>\n            <text class=\"bt-label\" x=\"177.0\" y=\"192.0\">7</text>\n            <circle class=\"bt-node\" cx=\"217.0\" cy=\"192.0\" r=\"16.0\"/>\n            <text class=\"bt-label\" x=\"217.0\" y=\"192.0\">11</text>\n            <circle class=\"bt-node\" cx=\"257.0\" cy=\"192.0\" r=\"16.0\"/>\n            <text class=\"bt-label\" x=\"257.0\" y=\"192.0\">13</text></g></svg>",
      "text/plain": [
       "Node(7)"
      ]
     },
     "execution_count": 29,
     "metadata": {},
     "output_type": "execute_result"
    }
   ],
   "source": [
    "# Insertion de l'élément 7\n",
    "abr2 = insertion(abr, 7)\n",
    "abr2"
   ]
  },
  {
   "cell_type": "markdown",
   "metadata": {},
   "source": [
    "::: ref\n",
    "\n",
    "- [Article Wikipedia sur les arbres](https://fr.wikipedia.org/wiki/Arbre_enracin%C3%A9)\n",
    "- [Article Wikipedia sur les arbres binaires de recherche](https://fr.wikipedia.org/wiki/Arbre_enracin%C3%A9)\n",
    "\n",
    ":::"
   ]
  }
 ],
 "metadata": {
  "kernelspec": {
   "display_name": "Python 3 (ipykernel)",
   "language": "python",
   "name": "python3"
  },
  "language_info": {
   "codemirror_mode": {
    "name": "ipython",
    "version": 3
   },
   "file_extension": ".py",
   "mimetype": "text/x-python",
   "name": "python",
   "nbconvert_exporter": "python",
   "pygments_lexer": "ipython3",
   "version": "3.10.2"
  }
 },
 "nbformat": 4,
 "nbformat_minor": 4
}
