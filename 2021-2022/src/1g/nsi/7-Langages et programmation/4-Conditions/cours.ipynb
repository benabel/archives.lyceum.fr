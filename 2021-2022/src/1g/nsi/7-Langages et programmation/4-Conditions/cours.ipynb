{
 "cells": [
  {
   "cell_type": "markdown",
   "metadata": {},
   "source": [
    "---\n",
    "\"tags\": [\"opérateurs booléens\", \"structures conditionnelles\"]\n",
    "---\n",
    "\n",
    "::: programme\n",
    "+------------------------+---------------------------------+-----------------------------------+\n",
    "|        Contenus        |       Capacités attendues       |           Commentaires            |\n",
    "+========================+=================================+===================================+\n",
    "| Constructions          | Mettre en évidence un corpus    | Séquences, affectation,           |\n",
    "| élémentaires           | de constructions élémentaires.  | conditionnelles, boucles bornées, |\n",
    "|                        | boucles non bornées, appels de  |                                   |\n",
    "|                        | fonction.                       |                                   |\n",
    "+------------------------+---------------------------------+-----------------------------------+\n",
    ":::\n",
    "\n",
    "> Les structures conditionnelles permettent d'écrire des programmes qui peuvent s'éxecuter différemment selon les conditions dans lesquelles ils sont exécutés. Plus formellement, c'est une structure de contrôle pouvant dévier le flot de contrôle du programme.\n",
    "\n",
    "<a href=\"https://commons.wikimedia.org/wiki/File:SunsetTracksCrop.JPG#/media/Fichier:SunsetTracksCrop.JPG\"><img class=\"half right\" src=\"https://upload.wikimedia.org/wikipedia/commons/2/26/SunsetTracksCrop.JPG\" alt=\"SunsetTracksCrop.JPG\" /></a>Image par <a href=\"//commons.wikimedia.org/wiki/User:Knipptang\" title=\"User:Knipptang\">Arne Hückelheim</a> — <span class=\"int-own-work\" lang=\"fr\">Travail personnel</span>, <a href=\"https://creativecommons.org/licenses/by-sa/3.0\" title=\"Creative Commons Attribution-Share Alike 3.0\">CC BY-SA 3.0</a>, <a href=\"https://commons.wikimedia.org/w/index.php?curid=23003609\">Lien</a>\n",
    "\n",
    "\n",
    "## Les blocs en python\n",
    "\n",
    "Nous avons vu précédemment que les programmes étaient une suite d'instructions. Il est cependant possible d'utiliser des **blocs** d'instructions qui ne seront pas exécutés dès leur apparition dans le programme à l'opposé des instructions écrites dans le flot principal(à gauche de la ligne).\n",
    "\n",
    "En python, les blocs sont délimités grâce aux tabulations et introduits grâce à deux points `:`.\n",
    "\n",
    "```\n",
    "entrée dans un bloc:\n",
    "    ligne 1 du bloc\n",
    "    ligne 2 du bloc\n",
    "    ...\n",
    "\n",
    "retour dans l’exécution normale du programme ligne à ligne.\n",
    "```\n",
    "\n",
    "Aujourd'hui, nous allons utiliser des structures de contrôle qui permettent d’exécuter: des *blocs*, en fonction de conditions. On parle de **structure conditionnelles**."
   ]
  },
  {
   "cell_type": "markdown",
   "metadata": {},
   "source": [
    "## Programme à structure conditionnelle\n",
    "\n",
    "Dans ce types de programme, le code sera toujours interprété ligne par ligne, cependant certains blocs de code ne seront exécutés que si une condition donnée est vraie.\n",
    "\n",
    "### L'instruction `if`\n",
    "\n",
    "Le bloc d'instruction contenu n'est exécuté que si la condition est vérifiée.\n",
    "\n",
    "**Syntaxe**\n",
    "\n",
    "```python\n",
    "if condition:\n",
    "    instruction 1\n",
    "    instruction 2\n",
    "    ...\n",
    "```"
   ]
  },
  {
   "cell_type": "code",
   "execution_count": 1,
   "metadata": {},
   "outputs": [
    {
     "name": "stdout",
     "output_type": "stream",
     "text": [
      "-3\n"
     ]
    }
   ],
   "source": [
    "a = 3\n",
    "if a > 0:\n",
    "    a = -a\n",
    "print(a)"
   ]
  },
  {
   "cell_type": "markdown",
   "metadata": {},
   "source": [
    "Dans le programme précédent l'instruction `if a > 0:` est toujours exécutée par l'interpréteur, car elle est dans le flux normal du programme(en début de ligne).\n",
    "\n",
    "Par contre, l'instruction `a = -a` n'est exécutée que si la condition `a > 0` a renvoyé `True`, il s'agit d'un **bloc** relatif à l'instruction  `if a > 0:` qui le précède Elle est **indentée** avec quatre espaces. Si j'affecte la valeur négative -5 à `a`, ce bloc ne sera pas exécuté, et le changement de signe n'aura pas lieu."
   ]
  },
  {
   "cell_type": "code",
   "execution_count": 2,
   "metadata": {},
   "outputs": [
    {
     "name": "stdout",
     "output_type": "stream",
     "text": [
      "-5\n"
     ]
    }
   ],
   "source": [
    "a = -5\n",
    "if a > 0:\n",
    "    a = -a\n",
    "print(a)"
   ]
  },
  {
   "cell_type": "markdown",
   "metadata": {},
   "source": [
    "### L'instruction `else`\n",
    "\n",
    "Indique le bloc d'instruction a exécuter si la condition n'est pas vérifiée.\n",
    "\n",
    "**Syntaxe**\n",
    "\n",
    "```python\n",
    "if condition:\n",
    "    bloc d'instructions exécuté si la condition est vraie\n",
    "else:\n",
    "    bloc d'instructions exécuté si la condition est fausse\n",
    "```"
   ]
  },
  {
   "cell_type": "code",
   "execution_count": 3,
   "metadata": {},
   "outputs": [
    {
     "name": "stdout",
     "output_type": "stream",
     "text": [
      "-300\n"
     ]
    }
   ],
   "source": [
    "a = -3\n",
    "if a > 0:\n",
    "    a = -a\n",
    "else:\n",
    "    a = a*100\n",
    "\n",
    "print(a)"
   ]
  },
  {
   "cell_type": "markdown",
   "metadata": {},
   "source": [
    "Comme initialement la variable a n'était pas positive, c'est le bloc d'instructions `else` qui a été exécuté.\n",
    "\n",
    "### L'instruction `elif`\n",
    "\n",
    "Cette instruction permet de réaliser des tests imbriqués, c'est un raccourci pour les instructions else et if.\n",
    "\n",
    "**Syntaxe**\n",
    "\n",
    "```python\n",
    "if condition 1:\n",
    "    bloc d'instructions exécuté si la condition 1 est vraie\n",
    "elif condition 2:\n",
    "    bloc d'instructions exécuté si la condition 1 est fausse et la condition 2 vraie\n",
    "else:\n",
    "    bloc d'instructions exécuté si les conditions 1 et 2 sont fausses\n",
    "```"
   ]
  },
  {
   "cell_type": "code",
   "execution_count": 4,
   "metadata": {},
   "outputs": [
    {
     "name": "stdout",
     "output_type": "stream",
     "text": [
      "Quelques modifications sont nécessaires\n",
      "7\n"
     ]
    }
   ],
   "source": [
    "a = 3\n",
    "if a == 7:\n",
    "    print(\"C'est un chiffre porte bonheur\")\n",
    "elif a == 3:\n",
    "    print(\"Quelques modifications sont nécessaires\")\n",
    "    a += 4\n",
    "\n",
    "print(a)"
   ]
  },
  {
   "cell_type": "markdown",
   "metadata": {},
   "source": [
    "Vous voila maintenant armés pour aborder des programmes beaucoup plus riches dans lesquels vous allez pouvoir **prendre des décisions** en fonction des données qui lui arrivent."
   ]
  },
  {
   "cell_type": "markdown",
   "metadata": {},
   "source": [
    "## Opérateurs booléens\n",
    "\n",
    "Les **opérateurs booléens** sont des opérateurs de *comparaison* qui retournent un objet de type booléen: `True` ou `False`.\n",
    "\n",
    "Soit x et y des variables de type `int` ou `float`, les opérateurs de comparaison sont:\n",
    "\n",
    "- `x < y`: x est-il inférieur à y ?\n",
    "- `x <= y`: x est-il inférieur ou égal  à y ?\n",
    "- `x > y`: x est-il supérieur à y ?\n",
    "- `x >= y`: x est-il supérieur ou égal à y ?\n",
    "- `x == y`: x est-il égal à y ?\n",
    "- `x != y`: x est-il différent y ?\n",
    "\n",
    "#### Exemples"
   ]
  },
  {
   "cell_type": "code",
   "execution_count": 5,
   "metadata": {},
   "outputs": [
    {
     "name": "stdout",
     "output_type": "stream",
     "text": [
      "True\n"
     ]
    }
   ],
   "source": [
    "x = 3\n",
    "y = 5\n",
    "print(x < y)"
   ]
  },
  {
   "cell_type": "code",
   "execution_count": 6,
   "metadata": {},
   "outputs": [
    {
     "name": "stdout",
     "output_type": "stream",
     "text": [
      "True\n"
     ]
    }
   ],
   "source": [
    "print(x <= y)"
   ]
  },
  {
   "cell_type": "markdown",
   "metadata": {},
   "source": [
    "Dans l'environnement jupyter notebook, le print sur la dernière ligne est optionnel, et le résultat de la dernière expression entrée est evalué et affiché."
   ]
  },
  {
   "cell_type": "code",
   "execution_count": 7,
   "metadata": {},
   "outputs": [
    {
     "data": {
      "text/plain": [
       "False"
      ]
     },
     "execution_count": 7,
     "metadata": {},
     "output_type": "execute_result"
    }
   ],
   "source": [
    "x > y"
   ]
  },
  {
   "cell_type": "code",
   "execution_count": 8,
   "metadata": {},
   "outputs": [
    {
     "data": {
      "text/plain": [
       "False"
      ]
     },
     "execution_count": 8,
     "metadata": {},
     "output_type": "execute_result"
    }
   ],
   "source": [
    "x >= y"
   ]
  },
  {
   "cell_type": "code",
   "execution_count": 9,
   "metadata": {},
   "outputs": [
    {
     "data": {
      "text/plain": [
       "False"
      ]
     },
     "execution_count": 9,
     "metadata": {},
     "output_type": "execute_result"
    }
   ],
   "source": [
    "x == y"
   ]
  },
  {
   "cell_type": "code",
   "execution_count": 10,
   "metadata": {},
   "outputs": [
    {
     "data": {
      "text/plain": [
       "True"
      ]
     },
     "execution_count": 10,
     "metadata": {},
     "output_type": "execute_result"
    }
   ],
   "source": [
    "x != y"
   ]
  },
  {
   "cell_type": "markdown",
   "metadata": {},
   "source": [
    "On peut constater que ces instructions retournent systématiquement un objet de type booléen."
   ]
  },
  {
   "cell_type": "code",
   "execution_count": 11,
   "metadata": {},
   "outputs": [
    {
     "data": {
      "text/plain": [
       "bool"
      ]
     },
     "execution_count": 11,
     "metadata": {},
     "output_type": "execute_result"
    }
   ],
   "source": [
    "type(x > y)"
   ]
  },
  {
   "cell_type": "markdown",
   "metadata": {},
   "source": [
    "Ou un erreur si on cherche à comparer *l'incomparable*:"
   ]
  },
  {
   "cell_type": "code",
   "execution_count": 12,
   "metadata": {},
   "outputs": [
    {
     "ename": "TypeError",
     "evalue": "'<' not supported between instances of 'int' and 'str'",
     "output_type": "error",
     "traceback": [
      "\u001b[0;31m---------------------------------------------------------------------------\u001b[0m",
      "\u001b[0;31mTypeError\u001b[0m                                 Traceback (most recent call last)",
      "\u001b[0;32m<ipython-input-12-9bebce4cbfdb>\u001b[0m in \u001b[0;36m<module>\u001b[0;34m\u001b[0m\n\u001b[0;32m----> 1\u001b[0;31m \u001b[0mx\u001b[0m \u001b[0;34m<\u001b[0m \u001b[0;34m\"y\"\u001b[0m\u001b[0;34m\u001b[0m\u001b[0;34m\u001b[0m\u001b[0m\n\u001b[0m",
      "\u001b[0;31mTypeError\u001b[0m: '<' not supported between instances of 'int' and 'str'"
     ]
    }
   ],
   "source": [
    "x < \"y\""
   ]
  },
  {
   "cell_type": "markdown",
   "metadata": {},
   "source": [
    "**ATTENTION:** Comme vous l'avez remarqué pour tester une égalité on utilise le double signe égal `==`. Tout simplement car le signe égal seul `=` est déjà utilisé pour l'affectation de variables."
   ]
  }
 ],
 "metadata": {
  "kernelspec": {
   "display_name": "Python 3",
   "language": "python",
   "name": "python3"
  },
  "language_info": {
   "codemirror_mode": {
    "name": "ipython",
    "version": 3
   },
   "file_extension": ".py",
   "mimetype": "text/x-python",
   "name": "python",
   "nbconvert_exporter": "python",
   "pygments_lexer": "ipython3",
   "version": "3.8.5"
  }
 },
 "nbformat": 4,
 "nbformat_minor": 2
}
