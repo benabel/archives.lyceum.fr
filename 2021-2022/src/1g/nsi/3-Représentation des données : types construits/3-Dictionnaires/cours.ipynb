{
 "cells": [
  {
   "cell_type": "markdown",
   "metadata": {},
   "source": [
    "---\n",
    "\"tags\": [\"python\", \"dictionnaire\"]\n",
    "---\n",
    "\n",
    "::: programme\n",
    "+---------------------------+-------------------------------+--------------------------------------+\n",
    "|         Contenus          |      Capacités attendues      |             Commentaires             |\n",
    "+===========================+===============================+======================================+\n",
    "| Dictionnaires par clés et | Construire une entrée de      | Il est possible de présenter les     |\n",
    "| valeurs                   | dictionnaire                  | données EXIF d’une image sous        |\n",
    "|                           |                               | la forme d’un enregistrement.        |\n",
    "|                           |                               |                                      |\n",
    "|                           | Itérer sur les éléments d'un  | En Python, les p-uplets nommés       |\n",
    "|                           | dictionnaire.                 | sont implémentés par des             |\n",
    "|                           |                               | dictionnaires.                       |\n",
    "|                           |                               |                                      |\n",
    "|                           |                               | Utiliser les méthodes `keys()`,      |\n",
    "|                           |                               | `values()` et `items()`              |\n",
    "+---------------------------+-------------------------------+--------------------------------------+\n",
    ":::\n",
    "\n",
    "Dans un dictionnaire les valeurs de la collection ne sont pas repéré par\n",
    "un index, mais par une *clé*.\n",
    "\n",
    "## Syntaxe\n",
    "\n",
    " Les dictionnaires sont entourés d'accolades `{}`. Les clés doivent être des chaînes de caractère `str` elles sont écrites avec des guillemets.\n",
    "\n",
    "```python\n",
    "{'clé_1': valeur_1, 'clé_n': valeur_n, ...'clé_n': valeur_n}\n",
    "```\n"
   ]
  },
  {
   "cell_type": "code",
   "execution_count": 20,
   "metadata": {},
   "outputs": [
    {
     "data": {
      "text/plain": [
       "dict"
      ]
     },
     "execution_count": 20,
     "metadata": {},
     "output_type": "execute_result"
    }
   ],
   "source": [
    "D = { 'nom': 'Lagaffe' , 'prenom': 'Gaston', 'age': 22 }\n",
    "type(D)"
   ]
  },
  {
   "cell_type": "markdown",
   "metadata": {},
   "source": [
    "Pour accéder aux éléments du dictionnaire, il suffit d'appeler la clé correspondante, d'autres part la fonction len est égalemnt disponible."
   ]
  },
  {
   "cell_type": "code",
   "execution_count": 21,
   "metadata": {},
   "outputs": [
    {
     "data": {
      "text/plain": [
       "3"
      ]
     },
     "execution_count": 21,
     "metadata": {},
     "output_type": "execute_result"
    }
   ],
   "source": [
    "len(D)"
   ]
  },
  {
   "cell_type": "code",
   "execution_count": 22,
   "metadata": {},
   "outputs": [
    {
     "data": {
      "text/plain": [
       "'Lagaffe'"
      ]
     },
     "execution_count": 22,
     "metadata": {},
     "output_type": "execute_result"
    }
   ],
   "source": [
    "D['nom']"
   ]
  },
  {
   "cell_type": "code",
   "execution_count": 23,
   "metadata": {},
   "outputs": [
    {
     "data": {
      "text/plain": [
       "22"
      ]
     },
     "execution_count": 23,
     "metadata": {},
     "output_type": "execute_result"
    }
   ],
   "source": [
    "D['age']"
   ]
  },
  {
   "cell_type": "markdown",
   "metadata": {},
   "source": [
    "## Ajout et suppression d'éléments\n",
    "\n",
    "Les dictionnaires étant *[mutables](https://fr.wiktionary.org/wiki/mutable)*, on peut ajouter des éléments au dictionnaire en **assignant* des clés paire valeur à notre guise."
   ]
  },
  {
   "cell_type": "code",
   "execution_count": 24,
   "metadata": {},
   "outputs": [
    {
     "data": {
      "text/plain": [
       "{'nom': 'Lagaffe', 'prenom': 'Gaston', 'age': 22, 'expression': \"M'enfin\"}"
      ]
     },
     "execution_count": 24,
     "metadata": {},
     "output_type": "execute_result"
    }
   ],
   "source": [
    "D[\"expression\"] = \"M'enfin\"\n",
    "D"
   ]
  },
  {
   "cell_type": "markdown",
   "metadata": {},
   "source": [
    "On peut au contraire supprimer des éléments du dictionnaire avec la méthode `pop()`."
   ]
  },
  {
   "cell_type": "code",
   "execution_count": 25,
   "metadata": {},
   "outputs": [
    {
     "data": {
      "text/plain": [
       "{'nom': 'Lagaffe', 'prenom': 'Gaston', 'expression': \"M'enfin\"}"
      ]
     },
     "execution_count": 25,
     "metadata": {},
     "output_type": "execute_result"
    }
   ],
   "source": [
    "D.pop(\"age\")\n",
    "D"
   ]
  },
  {
   "cell_type": "markdown",
   "metadata": {},
   "source": [
    "## Itération sur les dictionnaires\n",
    "\n",
    "\n",
    "Les dictionnaires étant des associations de clés(key) et de valeurs(value), on peut itérer sur les clés, les valeurs, ou les deux.\n",
    "\n",
    "### Itération sur les clés: `keys()`"
   ]
  },
  {
   "cell_type": "code",
   "execution_count": 26,
   "metadata": {},
   "outputs": [
    {
     "name": "stdout",
     "output_type": "stream",
     "text": [
      "nom\n",
      "prenom\n",
      "expression\n"
     ]
    }
   ],
   "source": [
    "for key in D.keys():\n",
    "    print(key)"
   ]
  },
  {
   "cell_type": "markdown",
   "metadata": {},
   "source": [
    "Ou plus simplement."
   ]
  },
  {
   "cell_type": "code",
   "execution_count": 27,
   "metadata": {},
   "outputs": [
    {
     "name": "stdout",
     "output_type": "stream",
     "text": [
      "nom\n",
      "prenom\n",
      "expression\n"
     ]
    }
   ],
   "source": [
    "for key in D:\n",
    "    print(key)"
   ]
  },
  {
   "cell_type": "markdown",
   "metadata": {},
   "source": [
    "### Itération sur les valeurs: `values()`"
   ]
  },
  {
   "cell_type": "code",
   "execution_count": 28,
   "metadata": {},
   "outputs": [
    {
     "name": "stdout",
     "output_type": "stream",
     "text": [
      "Lagaffe\n",
      "Gaston\n",
      "M'enfin\n"
     ]
    }
   ],
   "source": [
    "for value in D.values():\n",
    "    print(value)"
   ]
  },
  {
   "cell_type": "markdown",
   "metadata": {},
   "source": [
    "### Itération sur les paires clé, valeurs: `items()`"
   ]
  },
  {
   "cell_type": "code",
   "execution_count": 29,
   "metadata": {},
   "outputs": [
    {
     "name": "stdout",
     "output_type": "stream",
     "text": [
      "nom => Lagaffe\n",
      "prenom => Gaston\n",
      "expression => M'enfin\n"
     ]
    }
   ],
   "source": [
    "for key, value in D.items():\n",
    "    print(key, '=>', value)"
   ]
  }
 ],
 "metadata": {
  "frontmatter": {
   "tags": [
    "Python",
    "listes",
    "dictionnaires"
   ]
  },
  "kernelspec": {
   "display_name": "Python 3",
   "language": "python",
   "name": "python3"
  },
  "language_info": {
   "codemirror_mode": {
    "name": "ipython",
    "version": 3
   },
   "file_extension": ".py",
   "mimetype": "text/x-python",
   "name": "python",
   "nbconvert_exporter": "python",
   "pygments_lexer": "ipython3",
   "version": "3.9.6"
  },
  "toc": {
   "base_numbering": 1,
   "nav_menu": {},
   "number_sections": true,
   "sideBar": true,
   "skip_h1_title": true,
   "title_cell": "Plan",
   "title_sidebar": "Contenu",
   "toc_cell": true,
   "toc_position": {},
   "toc_section_display": true,
   "toc_window_display": false
  }
 },
 "nbformat": 4,
 "nbformat_minor": 1
}
