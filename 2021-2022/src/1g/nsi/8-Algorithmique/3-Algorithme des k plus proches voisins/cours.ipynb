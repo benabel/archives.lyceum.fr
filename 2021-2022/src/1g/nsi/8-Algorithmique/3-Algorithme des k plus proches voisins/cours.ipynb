{
 "cells": [
  {
   "cell_type": "markdown",
   "metadata": {},
   "source": [
    "---\n",
    "\"tags\": [\"Python\", \"algorithmique\", \"Recherche des k plus proche voisins\"]\n",
    "---\n",
    "\n",
    "::: programme\n",
    "+--------------------------+-----------------------------------+-------------------------------------+\n",
    "|         Contenus         |        Capacités attendues        |            Commentaires             |\n",
    "+==========================+===================================+=====================================+\n",
    "| Algorithme des k plus    | Écrire un algorithme qui prédit   | Il s’agit d’un exemple d’algorithme |\n",
    "| proches voisins          | la classe d’un élément en         | d’apprentissage.                    |\n",
    "|                          | fonction de la classe majoritaire |                                     |\n",
    "|                          | de ses k plus proches voisins.    |                                     |\n",
    "+--------------------------+-----------------------------------+-------------------------------------+\n",
    ":::\n",
    "\n",
    "Dans ce chapitre nous abordons un algorithme dit d’**apprentissage automatique** qui permet à un programme d’apprendre à classer des « objets » en utilisant un jeu de données pour qu’il y trouve des similarités.\n",
    "\n",
    "C’est un algorithme simple de *« machine learning »* un sujet très en vogue à l’heure actuelle dans le domaine de l’informatique.\n",
    "\n",
    "\n",
    "## Principe\n",
    "\n",
    "### Principe de l'apprentissage supervisé\n",
    "\n",
    "A l'heure actuelle, l'intelligence artificielle se base souvent sur l'utilisation de données annotées que l'on fournit à l'ordinateur pour qu'il y trouve des similarités(c'est ce que l'on appele de l'apprentissage supervisé).\n",
    "\n",
    "::: example\n",
    "On peut fournir à un programme une grande quantité d'écritures de chiffres.\n",
    "\n",
    "Le programme va lire toutes les données, et grâce à des algorithmes plus ou moins évolués, le programme va trouver les points communs entre les chiffres représentant le même nombre.\n",
    "<a title=\"Josef Steppan / CC BY-SA (https://creativecommons.org/licenses/by-sa/4.0)\" href=\"https://commons.wikimedia.org/wiki/File:MnistExamples.png\"><img width=\"512\" alt=\"MnistExamples\" src=\"https://upload.wikimedia.org/wikipedia/commons/2/27/MnistExamples.png\"></a>\n",
    "\n",
    "Ensuite, on peut donner au programme une image non annotée, et il nous dira s'il s'agit d'un 1, d'un 6 ou d'un 8...\n",
    "\n",
    "C'est un système qui est utilisé depuis des années pour la lecture des codes postaux sur les lettres avec un efficacité supérieure à 99%.\n",
    ":::\n",
    "\n",
    "\n",
    "### Principe l'algorithme des k plus proches voisins\n",
    "\n",
    "On dispose d'une collection de données annotées, et on veut savoir à quelle catégorie appartient un nouvel échantillon. Il s'agit d'un problème de **classification**.\n",
    "\n",
    "Prenons l'exemple suivant issu de cette [page](https://nadjarebinguet.wordpress.com/2020/03/20/algorithme-des-k-plus-proches-voisins/).\n",
    "\n",
    "> Imaginons… On étudie des papillons. Ceux-ci ont une certaine largeur et une certaine longueur. Certains sont des males, d’autres des femelles.\n",
    ">\n",
    "> On étudie un certain nombre de ces papillons. Cela constitue un jeu d’apprentissage dont les caractéristiques sont représentées ci-dessous.\n",
    ">\n",
    "> A partir de ce jeu d’apprentissage, on cherche à prédire le sexe d’un papillon dont on connaît les dimensions.\n",
    "\n",
    ">![Classification des papillons](./img/geogebra-papillons.png)\n",
    "\n",
    "> L’objectif est maintenant d’identifier le sexe d’un nouveau papillon en s’appuyant sur notre expérience précédente.\n",
    ">\n",
    "> **Le principe est simple : On fait l’hypothèse que notre papillon a le même sexe que ces voisins.**\n",
    "\n",
    "On voit par exemple que le voisin le plus proche est un paillon mâle:\n",
    "\n",
    "![k=1](./img/geogebra-1voisin.png)\n",
    "\n",
    "Cependant la particularité de l'algorithme des k plus proches voisins est le fait que l'on puisse choisir $k$, le nombre de plus proches voisins nous permettant de faire notre choix, on va prendre plusieurs voisins pour éviter de se baser que sur une observation pour notre choix.\n",
    "\n",
    "Voici par exemple l'application pour $k=5$:\n",
    "\n",
    "![k=5](./img/geogebra-5-voisins.png)\n",
    " \n",
    "::: {.appli titre='Influence du nombre de voisins'}\n",
    "En utilisant ce fichier [geogebra](https://www.geogebra.org/m/zhbhycsh) montrer comment le choix de $k$ a une influence sur la prévision de la méthode.\n",
    "\n",
    ":::\n",
    "\n",
    "## Implémentation naïve en Python\n",
    "\n",
    "Le code qui suit utilise des méthodes de `pandas` `matplotlib` et `numpy` non vues, il n'est pas nécessaire de savoir le refaire, par contre en utilisant les commentaires vous pouvez voir comment est effctuée la classification dans cet implémentation.\n",
    "\n",
    "\n",
    "### Classification d'élèves en conseil de classe\n",
    "\n",
    "Nous allons utiliser un fichier `csv` qui contient les *moyennes, absences et mentions d'élèves de lycée*.\n",
    "\n",
    "Vous pouvez visualiser ce fichier ici: https://framagit.org/eduinfo/k-plus-proches-voisins/blob/master/data/mentions-anonymised.csv\n",
    "\n",
    "A partir de ce fichier de données **l'algorithme sera capable de vous indiquer quelle sera votre mention (Félicitations, compliments...)** en fonction de notre moyenne générale et notre nombre d'absences.\n",
    "\n",
    "### Tracé de la classification\n",
    "\n",
    "Commencons par observer l'ensemble des données sous forme graphique pour se faire une idée."
   ]
  },
  {
   "cell_type": "code",
   "execution_count": 1,
   "metadata": {},
   "outputs": [],
   "source": [
    "%matplotlib inline\n",
    "import pandas as pd\n",
    "import matplotlib.pyplot as plt\n",
    "import numpy as np"
   ]
  },
  {
   "cell_type": "code",
   "execution_count": 2,
   "metadata": {},
   "outputs": [
    {
     "data": {
      "text/html": [
       "<div>\n",
       "<style scoped>\n",
       "    .dataframe tbody tr th:only-of-type {\n",
       "        vertical-align: middle;\n",
       "    }\n",
       "\n",
       "    .dataframe tbody tr th {\n",
       "        vertical-align: top;\n",
       "    }\n",
       "\n",
       "    .dataframe thead th {\n",
       "        text-align: right;\n",
       "    }\n",
       "</style>\n",
       "<table border=\"1\" class=\"dataframe\">\n",
       "  <thead>\n",
       "    <tr style=\"text-align: right;\">\n",
       "      <th></th>\n",
       "      <th>Mentions</th>\n",
       "      <th>1/2j abs</th>\n",
       "      <th>Rang</th>\n",
       "      <th>Moyenne Générale</th>\n",
       "      <th>PHILOSOPHIE</th>\n",
       "      <th>HISTOIRE-GEOGRAPHIE</th>\n",
       "      <th>MATHEMATIQUES</th>\n",
       "      <th>PHYSIQUE-CHIMIE</th>\n",
       "      <th>SCIENCES VIE &amp; TERRE</th>\n",
       "      <th>ED.PHYSIQUE &amp; SPORT.</th>\n",
       "      <th>...</th>\n",
       "      <th>ESPAGNOL LV2</th>\n",
       "      <th>ITALIEN LV2</th>\n",
       "      <th>JAPONAIS LV2</th>\n",
       "      <th>SPECIALITE SVT</th>\n",
       "      <th>SPECIALITE PHYS</th>\n",
       "      <th>NISSART LV3</th>\n",
       "      <th>SPECIALITE MATHS</th>\n",
       "      <th>SPECIALITE ISN</th>\n",
       "      <th>arts fac</th>\n",
       "      <th>ENS. MORAL &amp; CIVIQUE</th>\n",
       "    </tr>\n",
       "  </thead>\n",
       "  <tbody>\n",
       "    <tr>\n",
       "      <th>59</th>\n",
       "      <td>Encouragements</td>\n",
       "      <td>16.0</td>\n",
       "      <td>20.0</td>\n",
       "      <td>12.1</td>\n",
       "      <td>13.5</td>\n",
       "      <td>NaN</td>\n",
       "      <td>12.4</td>\n",
       "      <td>9.0</td>\n",
       "      <td>11.0</td>\n",
       "      <td>18.0</td>\n",
       "      <td>...</td>\n",
       "      <td>NaN</td>\n",
       "      <td>12.1</td>\n",
       "      <td>NaN</td>\n",
       "      <td>NaN</td>\n",
       "      <td>NaN</td>\n",
       "      <td>N.Not</td>\n",
       "      <td>13.7</td>\n",
       "      <td>NaN</td>\n",
       "      <td>NaN</td>\n",
       "      <td>NaN</td>\n",
       "    </tr>\n",
       "    <tr>\n",
       "      <th>9</th>\n",
       "      <td>Félicitations</td>\n",
       "      <td>9.0</td>\n",
       "      <td>3.0</td>\n",
       "      <td>17.8</td>\n",
       "      <td>18.5</td>\n",
       "      <td>18.5</td>\n",
       "      <td>18.9</td>\n",
       "      <td>20.0</td>\n",
       "      <td>17.6</td>\n",
       "      <td>12.0</td>\n",
       "      <td>...</td>\n",
       "      <td>NaN</td>\n",
       "      <td>17.3</td>\n",
       "      <td>NaN</td>\n",
       "      <td>NaN</td>\n",
       "      <td>16.3</td>\n",
       "      <td>18.7</td>\n",
       "      <td>NaN</td>\n",
       "      <td>NaN</td>\n",
       "      <td>NaN</td>\n",
       "      <td>NaN</td>\n",
       "    </tr>\n",
       "    <tr>\n",
       "      <th>68</th>\n",
       "      <td>Encouragements</td>\n",
       "      <td>2.0</td>\n",
       "      <td>24.0</td>\n",
       "      <td>12.3</td>\n",
       "      <td>13.7</td>\n",
       "      <td>12.5</td>\n",
       "      <td>12.4</td>\n",
       "      <td>11.5</td>\n",
       "      <td>12.0</td>\n",
       "      <td>15.5</td>\n",
       "      <td>...</td>\n",
       "      <td>NaN</td>\n",
       "      <td>14.5</td>\n",
       "      <td>NaN</td>\n",
       "      <td>11.1</td>\n",
       "      <td>NaN</td>\n",
       "      <td>16.9</td>\n",
       "      <td>NaN</td>\n",
       "      <td>NaN</td>\n",
       "      <td>NaN</td>\n",
       "      <td>14.0</td>\n",
       "    </tr>\n",
       "  </tbody>\n",
       "</table>\n",
       "<p>3 rows × 22 columns</p>\n",
       "</div>"
      ],
      "text/plain": [
       "          Mentions  1/2j abs  Rang  Moyenne Générale  PHILOSOPHIE  \\\n",
       "59  Encouragements      16.0  20.0              12.1         13.5   \n",
       "9    Félicitations       9.0   3.0              17.8         18.5   \n",
       "68  Encouragements       2.0  24.0              12.3         13.7   \n",
       "\n",
       "   HISTOIRE-GEOGRAPHIE  MATHEMATIQUES  PHYSIQUE-CHIMIE  SCIENCES VIE & TERRE  \\\n",
       "59                 NaN           12.4              9.0                  11.0   \n",
       "9                 18.5           18.9             20.0                  17.6   \n",
       "68                12.5           12.4             11.5                  12.0   \n",
       "\n",
       "    ED.PHYSIQUE & SPORT.  ...  ESPAGNOL LV2 ITALIEN LV2  JAPONAIS LV2  \\\n",
       "59                  18.0  ...           NaN        12.1           NaN   \n",
       "9                   12.0  ...           NaN        17.3           NaN   \n",
       "68                  15.5  ...           NaN        14.5           NaN   \n",
       "\n",
       "   SPECIALITE SVT  SPECIALITE PHYS NISSART LV3  SPECIALITE MATHS  \\\n",
       "59            NaN              NaN       N.Not              13.7   \n",
       "9             NaN             16.3        18.7               NaN   \n",
       "68           11.1              NaN        16.9               NaN   \n",
       "\n",
       "   SPECIALITE ISN  arts fac  ENS. MORAL & CIVIQUE  \n",
       "59            NaN       NaN                   NaN  \n",
       "9             NaN       NaN                   NaN  \n",
       "68            NaN       NaN                  14.0  \n",
       "\n",
       "[3 rows x 22 columns]"
      ]
     },
     "execution_count": 2,
     "metadata": {},
     "output_type": "execute_result"
    }
   ],
   "source": [
    "# données du conseil de classe \n",
    "df = pd.read_csv('./data/mentions-anonymised.csv')\n",
    "\n",
    "# On affiche 3 échantillons du tableau\n",
    "df.sample(3)\n"
   ]
  },
  {
   "cell_type": "code",
   "execution_count": 3,
   "metadata": {},
   "outputs": [
    {
     "data": {
      "text/html": [
       "<div>\n",
       "<style scoped>\n",
       "    .dataframe tbody tr th:only-of-type {\n",
       "        vertical-align: middle;\n",
       "    }\n",
       "\n",
       "    .dataframe tbody tr th {\n",
       "        vertical-align: top;\n",
       "    }\n",
       "\n",
       "    .dataframe thead th {\n",
       "        text-align: right;\n",
       "    }\n",
       "</style>\n",
       "<table border=\"1\" class=\"dataframe\">\n",
       "  <thead>\n",
       "    <tr style=\"text-align: right;\">\n",
       "      <th></th>\n",
       "      <th>Moyenne Générale</th>\n",
       "      <th>1/2j abs</th>\n",
       "      <th>Mentions</th>\n",
       "    </tr>\n",
       "  </thead>\n",
       "  <tbody>\n",
       "    <tr>\n",
       "      <th>0</th>\n",
       "      <td>17.4</td>\n",
       "      <td>3.0</td>\n",
       "      <td>Félicitations</td>\n",
       "    </tr>\n",
       "    <tr>\n",
       "      <th>1</th>\n",
       "      <td>18.1</td>\n",
       "      <td>5.0</td>\n",
       "      <td>Félicitations</td>\n",
       "    </tr>\n",
       "    <tr>\n",
       "      <th>2</th>\n",
       "      <td>18.2</td>\n",
       "      <td>NaN</td>\n",
       "      <td>Félicitations</td>\n",
       "    </tr>\n",
       "    <tr>\n",
       "      <th>3</th>\n",
       "      <td>17.0</td>\n",
       "      <td>1.0</td>\n",
       "      <td>Félicitations</td>\n",
       "    </tr>\n",
       "    <tr>\n",
       "      <th>4</th>\n",
       "      <td>17.6</td>\n",
       "      <td>2.0</td>\n",
       "      <td>Félicitations</td>\n",
       "    </tr>\n",
       "    <tr>\n",
       "      <th>...</th>\n",
       "      <td>...</td>\n",
       "      <td>...</td>\n",
       "      <td>...</td>\n",
       "    </tr>\n",
       "    <tr>\n",
       "      <th>91</th>\n",
       "      <td>9.0</td>\n",
       "      <td>12.0</td>\n",
       "      <td>Encouragements</td>\n",
       "    </tr>\n",
       "    <tr>\n",
       "      <th>92</th>\n",
       "      <td>9.4</td>\n",
       "      <td>14.0</td>\n",
       "      <td>Pas de mention</td>\n",
       "    </tr>\n",
       "    <tr>\n",
       "      <th>93</th>\n",
       "      <td>7.7</td>\n",
       "      <td>49.0</td>\n",
       "      <td>Pas de mention</td>\n",
       "    </tr>\n",
       "    <tr>\n",
       "      <th>94</th>\n",
       "      <td>12.3</td>\n",
       "      <td>32.0</td>\n",
       "      <td>Pas de mention</td>\n",
       "    </tr>\n",
       "    <tr>\n",
       "      <th>95</th>\n",
       "      <td>11.7</td>\n",
       "      <td>33.0</td>\n",
       "      <td>Pas de mention</td>\n",
       "    </tr>\n",
       "  </tbody>\n",
       "</table>\n",
       "<p>96 rows × 3 columns</p>\n",
       "</div>"
      ],
      "text/plain": [
       "    Moyenne Générale  1/2j abs        Mentions\n",
       "0               17.4       3.0   Félicitations\n",
       "1               18.1       5.0   Félicitations\n",
       "2               18.2       NaN   Félicitations\n",
       "3               17.0       1.0   Félicitations\n",
       "4               17.6       2.0   Félicitations\n",
       "..               ...       ...             ...\n",
       "91               9.0      12.0  Encouragements\n",
       "92               9.4      14.0  Pas de mention\n",
       "93               7.7      49.0  Pas de mention\n",
       "94              12.3      32.0  Pas de mention\n",
       "95              11.7      33.0  Pas de mention\n",
       "\n",
       "[96 rows x 3 columns]"
      ]
     },
     "execution_count": 3,
     "metadata": {},
     "output_type": "execute_result"
    }
   ],
   "source": [
    "# on ne conserve que 3 colonnes pour cette étude simplifiée\n",
    "df =  df.loc[:, ['Moyenne Générale', '1/2j abs', 'Mentions']]\n",
    "df"
   ]
  },
  {
   "cell_type": "code",
   "execution_count": 4,
   "metadata": {},
   "outputs": [
    {
     "data": {
      "image/png": "[encoded data removed]",
      "text/plain": [
       "<Figure size 432x288 with 1 Axes>"
      ]
     },
     "metadata": {
      "needs_background": "light"
     },
     "output_type": "display_data"
    }
   ],
   "source": [
    "def tracé_graph():\n",
    "    for mention in [\"Pas de mention\",\"Encouragements\", \"Compliments\", \"Félicitations\"]:\n",
    "        df_mention = df.loc[df[\"Mentions\"] == mention]\n",
    "        plt.scatter(df_mention[\"1/2j abs\"], df_mention[\"Moyenne Générale\"], label=mention, alpha=0.5)\n",
    "    plt.legend()\n",
    "tracé_graph()"
   ]
  },
  {
   "cell_type": "markdown",
   "metadata": {},
   "source": [
    "On voit bien le groupe des **Félicitations** se dégager avec des hautes notes et peu d'absences, ainsi que le groupe **Pas de mention** pour les absentéistes. Par contre la zone basse du graphique présente de nombreux points de divers mentions proches. \n",
    "\n",
    "### Implémentation de l'algorithme\n",
    "\n",
    "Nous allons maintenant définir la fonction qui à partie de la moyenne et des absences données en argument renverra la mention des k plus proches voisins(par défaut: 3)."
   ]
  },
  {
   "cell_type": "code",
   "execution_count": 5,
   "metadata": {},
   "outputs": [],
   "source": [
    "def k_plus_proches_voisins(moyenne, absences, k=3):\n",
    "    \"\"\"Renvoie la classe des k plus proches voisins\n",
    "    \n",
    "    Entrée:\n",
    "        moyenne: moyenne de l'élève\n",
    "        absences: nb de 1/2j d'absences lors du trimestre\n",
    "        k: nombre de voisins les plus proches à utiliser(par défaut 3)\n",
    "        \n",
    "    Sortie:\n",
    "        renvoie les classe la plus probable des k plus porches voisins\"\"\"\n",
    "    \n",
    "    # on commence par afficher notre point sur un graphique\n",
    "    plt.scatter(absences, moyenne, label=\"Elève étudié\", marker=\"P\")\n",
    "    \n",
    "    # on crée une liste pour stocker les distances euclidiennes\n",
    "    df['distance'] = df.apply(lambda row: ((row[\"Moyenne Générale\"] - moyenne)**2 + (row[\"1/2j abs\"] - absences)**2)**0.5, axis=1)\n",
    "    # On affiche les trois plus courtes distances\n",
    "    df_voisins = df.iloc[df.distance.sort_values().index[:k]]\n",
    "    print(df_voisins)\n",
    "    # on les marque sur le graph\n",
    "    plt.scatter(df_voisins[\"1/2j abs\"],\n",
    "                df_voisins[\"Moyenne Générale\"],\n",
    "                label=\"Plus proches voisins\", marker=\"*\")\n",
    "    # On ajoute tous les autres points\n",
    "    tracé_graph()\n",
    "    return df_voisins[\"Mentions\"].value_counts().nlargest(1)"
   ]
  },
  {
   "cell_type": "markdown",
   "metadata": {},
   "source": [
    "### Appels de la fonction"
   ]
  },
  {
   "cell_type": "code",
   "execution_count": 6,
   "metadata": {},
   "outputs": [
    {
     "name": "stdout",
     "output_type": "stream",
     "text": [
      "    Moyenne Générale  1/2j abs        Mentions  distance\n",
      "32              12.3      11.0     Compliments  1.019804\n",
      "62              11.6       9.0  Pas de mention  1.345362\n",
      "66              11.4       9.0  Pas de mention  1.486607\n"
     ]
    },
    {
     "data": {
      "text/plain": [
       "Pas de mention    2\n",
       "Name: Mentions, dtype: int64"
      ]
     },
     "execution_count": 6,
     "metadata": {},
     "output_type": "execute_result"
    },
    {
     "data": {
      "image/png": "[encoded data removed]",
      "text/plain": [
       "<Figure size 432x288 with 1 Axes>"
      ]
     },
     "metadata": {
      "needs_background": "light"
     },
     "output_type": "display_data"
    }
   ],
   "source": [
    "k_plus_proches_voisins(12.5, 10)"
   ]
  },
  {
   "cell_type": "markdown",
   "metadata": {},
   "source": [
    "On observe donc que l'élève n'aurait pas de mention malgré ses 12.5 de moyenne, Voyons ce qu'il en est si on réduit le nombre d'absences à 5."
   ]
  },
  {
   "cell_type": "code",
   "execution_count": 7,
   "metadata": {},
   "outputs": [
    {
     "name": "stdout",
     "output_type": "stream",
     "text": [
      "    Moyenne Générale  1/2j abs        Mentions  distance\n",
      "65              12.4       5.0  Encouragements       0.1\n",
      "46              12.9       5.0     Compliments       0.4\n",
      "58              12.5       4.0  Encouragements       1.0\n"
     ]
    },
    {
     "data": {
      "text/plain": [
       "Encouragements    2\n",
       "Name: Mentions, dtype: int64"
      ]
     },
     "execution_count": 7,
     "metadata": {},
     "output_type": "execute_result"
    },
    {
     "data": {
      "image/png": "[encoded data removed]",
      "text/plain": [
       "<Figure size 432x288 with 1 Axes>"
      ]
     },
     "metadata": {
      "needs_background": "light"
     },
     "output_type": "display_data"
    }
   ],
   "source": [
    "k_plus_proches_voisins(12.5, 5)"
   ]
  },
  {
   "cell_type": "markdown",
   "metadata": {},
   "source": [
    "L'élève a maintenant les encouragements.\n",
    "\n",
    "### Et vous, quelle serait votre mention?\n",
    "\n",
    "L'algorithme et les données sont en ligne dans le dépôt suivant:\n",
    "\n",
    "https://framagit.org/eduinfo/k-plus-proches-voisins\n",
    "\n",
    "Vous pouvez *soit* télécharger le [dossier](https://framagit.org/eduinfo/k-plus-proches-voisins/archive/master.zip) pour travailler sur le code sur votre machine si vous avaez installé python et anconda chez vous.\n",
    "\n",
    "Vous pouvez sinon travailler en ligne en lancant un environment [![Binder](http://mybinder.org/badge_logo.svg)](http://mybinder.org/v2/gh/heoinfo/k-plus-proches-voisins/master?filepath=index.ipynb).\n",
    "\n",
    "::: {.appli titre=\"L’algorithme est-il efficace?\"}\n",
    "Reprendre vos bulletins de lycée pour vérifier si la prévision faite à partir de votre moyenne générale et de votre nombre de jours d'absences est conforme au résultat obtenu.\n",
    "\n",
    "Vous pouvez éventuellement changer la valeur de $k$ pour améliorer les prédictions.\n",
    "\n",
    "**Pour conclure:** Que diriez-vous de cette méthode? Peut-on vraiment qualifier cet algorithme d'*intelligence artificielle*? Voyez-vous des dangers à la prise de décisions par des algorithmes?\n",
    "\n",
    ":::\n",
    "\n",
    "\n",
    "## Notes sur l'algorithme\n",
    "\n",
    "Cet algorithme(*brute-force*) est peu efficace avec une complexité de $O[D N^2]$(voir [doc sklearn](https://scikit-learn.org/stable/modules/neighbors.html#nearest-neighbor-algorithms)).\n",
    "\n",
    "D'autres part, il serait bon de mettre à l'échelle les données utilisées, car on voit bien que l'échelle des absences est trois fois plus grande que les moyennes, et ainsi a un importance accrue dans le calcul de la distance des voisins."
   ]
  },
  {
   "cell_type": "markdown",
   "metadata": {},
   "source": [
    "## Références\n",
    "\n",
    "- Cours de Nadja Rebinguet duquel est extrait l'exemple des papillons: https://nadjarebinguet.wordpress.com/2020/03/20/algorithme-des-k-plus-proches-voisins/\n",
    "\n",
    "- Cette video de [Phillippe Bouchery sur le machine learning](https://www.youtube.com/watch?v=OEJX-q6UOag)\n",
    "\n",
    "- Cours sur pixees.fr: https://pixees.fr/informatiquelycee/n_site/nsi_prem_knn.html\n",
    "        \n",
    "- Article Wikipedia: https://fr.wikipedia.org/wiki/M%C3%A9thode_des_k_plus_proches_voisins\n",
    "        \n",
    "- Doc sklearn: https://scikit-learn.org/stable/modules/neighbors.html#nearest-neighbor-algorithms\n"
   ]
  }
 ],
 "metadata": {
  "kernelspec": {
   "display_name": "Python 3",
   "language": "python",
   "name": "python3"
  },
  "language_info": {
   "codemirror_mode": {
    "name": "ipython",
    "version": 3
   },
   "file_extension": ".py",
   "mimetype": "text/x-python",
   "name": "python",
   "nbconvert_exporter": "python",
   "pygments_lexer": "ipython3",
   "version": "3.8.2"
  },
  "toc": {
   "base_numbering": 1,
   "nav_menu": {},
   "number_sections": true,
   "sideBar": true,
   "skip_h1_title": true,
   "title_cell": "Table des matières",
   "title_sidebar": "Contenu",
   "toc_cell": true,
   "toc_position": {},
   "toc_section_display": true,
   "toc_window_display": true
  }
 },
 "nbformat": 4,
 "nbformat_minor": 2
}
