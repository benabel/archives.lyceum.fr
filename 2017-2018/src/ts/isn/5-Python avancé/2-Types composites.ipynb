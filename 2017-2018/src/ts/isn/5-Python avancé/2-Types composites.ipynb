{
 "cells": [
  {
   "cell_type": "markdown",
   "metadata": {},
   "source": [
    "Dans l'introduction à Python, nous avions vu certains types de variables dits *simples*:\n",
    "\n",
    "- `int`: les entiers\n",
    "- `float`: les rééls(nombres à virgule flottante)\n",
    "- `boolean`: booléen (Vrai ou Faux)\n",
    "\n",
    "Cependant, il existe de nombreux objets qui sont représentés par plusieurs valeurs, c'est le cas par exemple du texte, des images et des sons...\n",
    "\n",
    "Dans ce cas les variables sont formées de plusieurs types simples nombres ou booléens. On parle alors de variable **composite**.\n",
    "\n",
    "Nous verrons dans ce cours plusieurs exemples de variables composites:\n",
    "\n",
    "- les chaînes de cractère: `str`(string)\n",
    "- les listes: `list`\n",
    "- les dictionnaires: `dict`\n",
    "\n",
    "Dans les deux premiers types, les valeurs sont rangées dans l'ordre, et on y accéde par un nombre: l'**index** qui commence à 0 pour le premier élément.\n",
    "\n",
    "Dans les dictionnaires, les valeurs sont cléssées à l'aide de **clefs**, on y accède par le nom de la clef."
   ]
  },
  {
   "cell_type": "markdown",
   "metadata": {},
   "source": [
    "# Les chaînes de caractère\n",
    "\n",
    "C'est ainsi que l'on stocke le texte en python, par défaut Python3 utilise l'encodage `UTF-8` pour stocker les chaînes de caractère."
   ]
  },
  {
   "cell_type": "code",
   "execution_count": 65,
   "metadata": {
    "collapsed": false
   },
   "outputs": [
    {
     "name": "stdout",
     "output_type": "stream",
     "text": [
      "Mon texte <class 'str'> Mon deuxième texte <class 'str'>\n"
     ]
    }
   ],
   "source": [
    "a = 'Mon texte'\n",
    "b = \"Mon deuxième texte\"\n",
    "\n",
    "print(a, type(a), b, type(b))"
   ]
  },
  {
   "cell_type": "code",
   "execution_count": 66,
   "metadata": {
    "collapsed": false
   },
   "outputs": [
    {
     "data": {
      "text/plain": [
       "18"
      ]
     },
     "execution_count": 66,
     "metadata": {},
     "output_type": "execute_result"
    }
   ],
   "source": [
    "# longueur de la chaîne de carctères\n",
    "len(b)"
   ]
  },
  {
   "cell_type": "code",
   "execution_count": 67,
   "metadata": {
    "collapsed": false
   },
   "outputs": [
    {
     "data": {
      "text/plain": [
       "('M', 'n', 'e')"
      ]
     },
     "execution_count": 67,
     "metadata": {},
     "output_type": "execute_result"
    }
   ],
   "source": [
    "# accés à un élément par l'index\n",
    "a[0], a[2], a[-1]"
   ]
  },
  {
   "cell_type": "code",
   "execution_count": 68,
   "metadata": {
    "collapsed": false
   },
   "outputs": [
    {
     "data": {
      "text/plain": [
       "('Mon', 'uxième')"
      ]
     },
     "execution_count": 68,
     "metadata": {},
     "output_type": "execute_result"
    }
   ],
   "source": [
    "# sélection d'une partie: un slice\n",
    "a[0:3], b[6:12]"
   ]
  },
  {
   "cell_type": "code",
   "execution_count": 69,
   "metadata": {
    "collapsed": false
   },
   "outputs": [
    {
     "data": {
      "text/plain": [
       "'Mon texte premier'"
      ]
     },
     "execution_count": 69,
     "metadata": {},
     "output_type": "execute_result"
    }
   ],
   "source": [
    "# Ajout de chaines de caractères par concaténation\n",
    "a = a + ' premier'\n",
    "a"
   ]
  },
  {
   "cell_type": "markdown",
   "metadata": {},
   "source": [
    "# Listes\n",
    "\n",
    "\n",
    "Les listes sont des collections *ordonnées de valeurs*, elles sont\n",
    "entourées par des crochets `[]`, leurs éléments sont séparés par des\n",
    "virgules.\n"
   ]
  },
  {
   "cell_type": "code",
   "execution_count": 70,
   "metadata": {
    "collapsed": false
   },
   "outputs": [
    {
     "data": {
      "text/plain": [
       "list"
      ]
     },
     "execution_count": 70,
     "metadata": {},
     "output_type": "execute_result"
    }
   ],
   "source": [
    "c = [ 1, 'deux' , 3]\n",
    "type(c)"
   ]
  },
  {
   "cell_type": "markdown",
   "metadata": {},
   "source": [
    "## Longueur et accés aux éléments\n",
    "On peut facilement accéder à la longueur de la liste grace à la fonction\n",
    "`len` et à chacun de ces éléments grâce à leur index *(Attention le\n",
    "premier élement à l'index 0)*"
   ]
  },
  {
   "cell_type": "code",
   "execution_count": 71,
   "metadata": {
    "collapsed": false
   },
   "outputs": [
    {
     "data": {
      "text/plain": [
       "3"
      ]
     },
     "execution_count": 71,
     "metadata": {},
     "output_type": "execute_result"
    }
   ],
   "source": [
    "len(c)"
   ]
  },
  {
   "cell_type": "code",
   "execution_count": 72,
   "metadata": {
    "collapsed": false
   },
   "outputs": [
    {
     "data": {
      "text/plain": [
       "(1, 3)"
      ]
     },
     "execution_count": 72,
     "metadata": {},
     "output_type": "execute_result"
    }
   ],
   "source": [
    "c[0], c[2]"
   ]
  },
  {
   "cell_type": "markdown",
   "metadata": {},
   "source": [
    "On peut inversement connaître l'indice correspondant à une valeur grâce à l'attribut `index`."
   ]
  },
  {
   "cell_type": "code",
   "execution_count": 73,
   "metadata": {
    "collapsed": false
   },
   "outputs": [
    {
     "data": {
      "text/plain": [
       "(0, 1, 2)"
      ]
     },
     "execution_count": 73,
     "metadata": {},
     "output_type": "execute_result"
    }
   ],
   "source": [
    "c.index(1), c.index('deux'), c.index(3)"
   ]
  },
  {
   "cell_type": "markdown",
   "metadata": {},
   "source": [
    "## Ajout et suppression d'éléments\n",
    "\n",
    "On peut ajouter des éléments à la liste à la fin avec la méthode `append`, ou à un indice quelconque avec la méthode `insert`."
   ]
  },
  {
   "cell_type": "code",
   "execution_count": 74,
   "metadata": {
    "collapsed": false
   },
   "outputs": [
    {
     "data": {
      "text/plain": [
       "[1, 'deux', 3, 4]"
      ]
     },
     "execution_count": 74,
     "metadata": {},
     "output_type": "execute_result"
    }
   ],
   "source": [
    "c.append(4)\n",
    "c"
   ]
  },
  {
   "cell_type": "code",
   "execution_count": 75,
   "metadata": {
    "collapsed": false
   },
   "outputs": [
    {
     "data": {
      "text/plain": [
       "['zéro', 1, 'deux', 3, 4]"
      ]
     },
     "execution_count": 75,
     "metadata": {},
     "output_type": "execute_result"
    }
   ],
   "source": [
    "c.insert(0, 'zéro')\n",
    "c"
   ]
  },
  {
   "cell_type": "markdown",
   "metadata": {},
   "source": [
    "On peut au contraire supprimer des éléments de la liste à la fin avec la méthode `pop()`, ou à un indice quelconque avec la méthode `pop(indice)`."
   ]
  },
  {
   "cell_type": "code",
   "execution_count": 76,
   "metadata": {
    "collapsed": false
   },
   "outputs": [
    {
     "data": {
      "text/plain": [
       "['zéro', 1, 'deux', 3]"
      ]
     },
     "execution_count": 76,
     "metadata": {},
     "output_type": "execute_result"
    }
   ],
   "source": [
    "c.pop()\n",
    "c"
   ]
  },
  {
   "cell_type": "code",
   "execution_count": 77,
   "metadata": {
    "collapsed": false
   },
   "outputs": [
    {
     "data": {
      "text/plain": [
       "['zéro', 'deux', 3]"
      ]
     },
     "execution_count": 77,
     "metadata": {},
     "output_type": "execute_result"
    }
   ],
   "source": [
    "c.pop(1)\n",
    "c"
   ]
  },
  {
   "cell_type": "markdown",
   "metadata": {},
   "source": [
    "## Itération sur les valeurs de la liste\n",
    "\n",
    "On peut utiliser les index ou une méthode simplifiée est implémentée par Python."
   ]
  },
  {
   "cell_type": "code",
   "execution_count": 78,
   "metadata": {
    "collapsed": false
   },
   "outputs": [
    {
     "name": "stdout",
     "output_type": "stream",
     "text": [
      "0 1\n",
      "1 12\n",
      "2 48\n",
      "3 56\n",
      "------------------\n",
      "3\n",
      "3\n",
      "3\n",
      "3\n"
     ]
    }
   ],
   "source": [
    "L = [1, 12, 48, 56]\n",
    "\n",
    "for i in range(len(L)):\n",
    "    print(i, L[i])\n",
    "\n",
    "print(\"------------------\")\n",
    "for el in L:\n",
    "    print(i)"
   ]
  },
  {
   "cell_type": "markdown",
   "metadata": {},
   "source": [
    "# Dictionnaires\n",
    "\n",
    "Dans un dictionnaire les valeurs de la collection ne sont pas repéré par\n",
    "un index, mais par une *clé*. Les dictionnaires sont entourés d'accolades `{}`.\n"
   ]
  },
  {
   "cell_type": "code",
   "execution_count": 79,
   "metadata": {
    "collapsed": false
   },
   "outputs": [
    {
     "data": {
      "text/plain": [
       "dict"
      ]
     },
     "execution_count": 79,
     "metadata": {},
     "output_type": "execute_result"
    }
   ],
   "source": [
    "D = { 'nom': 'Doe' , 'prenom': 'John', 'age': 77 }\n",
    "type(D)"
   ]
  },
  {
   "cell_type": "markdown",
   "metadata": {},
   "source": [
    "Pour accéder aux éléments du dictionnaire, il suffit d'appeler la clé correspondante, d'autres part la fonction len est égalemnt disponible."
   ]
  },
  {
   "cell_type": "code",
   "execution_count": 80,
   "metadata": {
    "collapsed": false
   },
   "outputs": [
    {
     "data": {
      "text/plain": [
       "3"
      ]
     },
     "execution_count": 80,
     "metadata": {},
     "output_type": "execute_result"
    }
   ],
   "source": [
    "len(D)"
   ]
  },
  {
   "cell_type": "code",
   "execution_count": 81,
   "metadata": {
    "collapsed": false
   },
   "outputs": [
    {
     "data": {
      "text/plain": [
       "('Doe', 77)"
      ]
     },
     "execution_count": 81,
     "metadata": {},
     "output_type": "execute_result"
    }
   ],
   "source": [
    "D['nom'], D['age']"
   ]
  },
  {
   "cell_type": "markdown",
   "metadata": {},
   "source": [
    "## Itération sur les dictionnaires\n",
    "\n",
    "\n",
    "Les dictionnaires étant des associations de clés(key) et de valeurs(value), on peut itérer sur les clés, les valeurs, ou les deux.\n"
   ]
  },
  {
   "cell_type": "code",
   "execution_count": 82,
   "metadata": {
    "collapsed": false
   },
   "outputs": [
    {
     "name": "stdout",
     "output_type": "stream",
     "text": [
      "\n",
      " Les clés peuvent être itérées directement en python3\n",
      "prenom\n",
      "age\n",
      "nom\n",
      "\n",
      " Les valeurs sont appelées grâce à l'attribut values des dictionnaires\n",
      "John\n",
      "77\n",
      "Doe\n",
      "\n",
      " Itérations sur les clés et valeurs\n",
      "prenom => John\n",
      "age => 77\n",
      "nom => Doe\n"
     ]
    }
   ],
   "source": [
    "print(\"\\n\", \"Les clés peuvent être itérées directement en python3\")\n",
    "for key in D:\n",
    "    print(key)\n",
    "\n",
    "print(\"\\n\", \"Les valeurs sont appelées grâce à l'attribut values des dictionnaires\")\n",
    "for value in D.values():\n",
    "    print(value)\n",
    "    \n",
    "print(\"\\n\", \"Itérations sur les clés et valeurs\")\n",
    "for key, value in D.items():\n",
    "    print(key, '=>', value)"
   ]
  },
  {
   "cell_type": "markdown",
   "metadata": {},
   "source": [
    "# Persistance des données\n",
    "\n",
    "Les listes et dictionnaires sont des objets **mutables**, c'est à dire que l'on peut modifier leur contenu sans créer un nouvel objet. On dit qu'il s'agit de données [non-persistantes](http://fr.wikipedia.org/wiki/Persistance_%28informatique%29).\n"
   ]
  },
  {
   "cell_type": "code",
   "execution_count": 83,
   "metadata": {
    "collapsed": false
   },
   "outputs": [
    {
     "name": "stdout",
     "output_type": "stream",
     "text": [
      "Valeurs initiales:\n",
      " [1, 'deux', 3] {'prenom': 'John', 'age': 77, 'nom': 'Doe'}\n",
      "Modification des valeurs par assignation:\n",
      " [1, 2, 3] {'prenom': 'John', 'age': 17, 'nom': 'Doe'}\n",
      "Ajout d'éléments:\n",
      " [1, 2, 3, 4] {'prenom': 'John', 'age': 17, 'nom': 'Doe', 'nationalité': 'française'}\n",
      "Suppression d'éléments:\n",
      " [2, 3, 4] {'prenom': 'John', 'nom': 'Doe', 'nationalité': 'française'}\n"
     ]
    }
   ],
   "source": [
    "# Valeurs initiales\n",
    "liste = [ 1, 'deux' , 3]\n",
    "dict = { 'nom': 'Doe' , 'prenom': 'John', 'age': 77 }\n",
    "print(\"Valeurs initiales:\\n\", liste, dict)\n",
    "\n",
    "# Modification des valeurs par assignation\n",
    "liste[1] = 2\n",
    "dict['age'] = 17\n",
    "\n",
    "print(\"Modification des valeurs par assignation:\\n\", liste, dict)\n",
    "\n",
    "# Ajout d'éléments\n",
    "liste.append(4)\n",
    "dict['nationalité'] = 'française'\n",
    "\n",
    "print(\"Ajout d'éléments:\\n\", liste, dict)\n",
    "\n",
    "# Suppression d'éléments\n",
    "liste.pop(0)\n",
    "dict.pop('age')\n",
    "\n",
    "print(\"Suppression d'éléments:\\n\", liste, dict)"
   ]
  },
  {
   "cell_type": "markdown",
   "metadata": {},
   "source": [
    "Si on a besoin de modifier une liste ou un dictionnaire, mais que l'on veut garder une trace des objets initiaux, il faut commencer par en créer une **copie**, il ne suffit pas de créer une variable suplémentaire sans quoi cette variable serait elle aussi modifiée si l'objet initial changeait: l'assignation est dite par **référence** dans ce cas."
   ]
  },
  {
   "cell_type": "code",
   "execution_count": 84,
   "metadata": {
    "collapsed": false
   },
   "outputs": [
    {
     "name": "stdout",
     "output_type": "stream",
     "text": [
      "Valeurs initiales:\n",
      " [1, 'deux', 3]\n",
      "Modification de la liste L:\n",
      "La liste L a bien, été modifiée: [1, 2, 3]\n",
      "La liste L_ref a aussi été modifiée car il s'agit juste d'une référence vers la liste L: [1, 2, 3]\n",
      "La copie L_copie n'a pas été modifiée: [1, 'deux', 3]\n"
     ]
    }
   ],
   "source": [
    "# Valeurs initiales\n",
    "L = [ 1, 'deux' , 3]\n",
    "print(\"Valeurs initiales:\\n\", L)\n",
    "\n",
    "# Création d'une référencxe à la liste par simple assignation\n",
    "L_ref = L\n",
    "\n",
    "# Création d'une copie de la liste\n",
    "L_copie = list(L)\n",
    "\n",
    "# Modification de la liste initiale\n",
    "L[1] = 2\n",
    "\n",
    "print(\"Modification de la liste L:\")\n",
    "print(\"La liste L a bien, été modifiée:\", L)\n",
    "print(\"La liste L_ref a aussi été modifiée car il s'agit juste d'une référence vers la liste L:\", L_ref)\n",
    "print(\"La copie L_copie n'a pas été modifiée:\", L_copie)\n",
    "\n"
   ]
  }
 ],
 "metadata": {
  "kernelspec": {
   "display_name": "Python [default]",
   "language": "python",
   "name": "python3"
  },
  "language_info": {
   "codemirror_mode": {
    "name": "ipython",
    "version": 3
   },
   "file_extension": ".py",
   "mimetype": "text/x-python",
   "name": "python",
   "nbconvert_exporter": "python",
   "pygments_lexer": "ipython3",
   "version": "3.5.2"
  },
   "frontmatter": {
     "tags": ["Python", "listes", "dictionnaires"]
   }
 },
 "nbformat": 4,
 "nbformat_minor": 0
}
