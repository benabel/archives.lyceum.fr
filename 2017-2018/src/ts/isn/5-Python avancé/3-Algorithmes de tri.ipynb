{
 "cells": [
  {
   "cell_type": "markdown",
   "metadata": {},
   "source": [
    "Maintenant que nous disposons de tableaux pour stocker de grandes quantités de données, il faut qu'on apprenne à les classer. Il existe de nombreux algorithmes de tri plus ou moins efficaces, qui sont pour la plupart répertoriées dans _The Art of Computer Programming, Volume 3, Sorting and Searching._ de Knuth, Donald. E. [1998]. Le livre de chevet de tout programmeur.\n",
    "\n",
    "# Problématique\n",
    "\n",
    "> Comment ranger des données afin de faciliter leur accès futur ? C'est par exemple l'ordre alphabétique du dictionnaire, où les mots sont rangés dans un ordre logique qui permet de ne pas devoir parcourir tout l'ouvrage pour retrouver une définition. Ce peut être aussi l'ordre intuitif dans lequel un joueur de cartes va ranger son jeu afin de limiter le temps de recherche pendant le déroulement de la partie. Cette problématique permet d'introduire la notion de tri (avec plusieurs sens distincts : séparer, ordonner, choisir), puis d'étudier différents algorithmes de tri. Le tri permet essentiellement d'accélérer les recherches, grâce à l'algorithme de recherche dichotomique.\n",
    "\n",
    "[Source eduscol](http://cache.media.eduscol.education.fr/file/ISN_Tle_S/29/6/lyceeGT_ressource_ISN_20_06_Tle_S_14_Vous_avez_dit_trier_1_algorithmes_218296.pdf)\n",
    "\n",
    "# Situation d'accroche\n",
    "\n",
    "Un joueur de cartes reçoit 9 cartes lors de la donne en début de partie ; il les trie ensuite pour faciliter la lecture de son jeu.\n",
    "\n",
    "- Comment procède-t-il exactement pour réaliser cette opération ?\n",
    "- Y a-t-il plusieurs façons de procéder :\n",
    "\n",
    "Vous rendre sur cette page sur laquelle vous est proposé un jeu de cartes à trier:\n",
    "\n",
    "<https://github.com/benjaminabel/order-cards-game>.\n",
    "\n",
    "Réalisez les consignes suivantes dans l'ordre.\n",
    "\n",
    "1. **Consigne n° 1:** « triez les cartes » en notant le nombre d'opérations nécessaires au tri, recommencer l'opération pour voir si le nombre de tours d'algorithmes varie, et de quoi peut dépendre ce nombre. Ensuite seulement,\n",
    "2. **Consigne n° 2:** « décrivez par écrit la façon précise dont vous vous y êtes pris pour effectuer le tri ».\n",
    "3. **En plus,** imaginez d'autres méthodes qui pourraient être plus efficaces pour effectuer le tri.\n",
    "\n",
    "\n",
    "# Implémentation en python\n",
    "\n",
    "Nous allons maintenant voir comment implémenter deux algorithmes de tri pas forcément très efficaces, mais relativement simples en python:\n",
    "\n",
    "- le tri par sélection\n",
    "- le tri par insertion"
   ]
  },
  {
   "cell_type": "markdown",
   "metadata": {},
   "source": [
    "# Créer une liste de données aléatoire\n",
    "\n",
    "Commencer par créer des données de façon aléatoire grâce au module `random` afin de pouvoir les classer."
   ]
  },
  {
   "cell_type": "code",
   "execution_count": 1,
   "metadata": {
    "collapsed": false
   },
   "outputs": [
    {
     "name": "stdout",
     "output_type": "stream",
     "text": [
      "[19, 89, 59, 17, 67, 26, 36, 23, 32, 65, 50, 94, 19, 53, 78, 39, 90, 54, 21, 20, 38, 24, 90, 74, 92, 7, 68, 22, 97, 66, 26, 88, 80, 49, 41, 78, 96, 31, 67, 94, 20, 6, 52, 66, 13, 60, 34, 65, 57, 85]\n"
     ]
    }
   ],
   "source": [
    "# Importer le module random pour créer des nombres au hasard\n",
    "import random\n",
    "\n",
    "def genere_liste_aleatoire(N, n):\n",
    "    \"\"\"Génére une liste aléatoire de N éléments compris entre 0 et n\"\"\"\n",
    "    # Créer une liste vide pour accueillir les nombres\n",
    "    data = []\n",
    "    # ajoute les éléments aléatoires dans la liste\n",
    "    for i in range(N):\n",
    "        data.append(random.randrange(n))\n",
    "    return data\n",
    "\n",
    "# Création d'une liste de 50 valeurs comprises entre 0 et 100\n",
    "liste_aléatoire = genere_liste_aleatoire(50, 100)\n",
    "print(liste_aléatoire)"
   ]
  },
  {
   "cell_type": "markdown",
   "metadata": {},
   "source": [
    "# Le tri par sélection\n",
    "## Principe\n",
    "> Sur un tableau de n éléments (numérotés de 0 à n), le principe du tri par sélection est le suivant :\n",
    "- rechercher le plus petit élément du tableau, et l'échanger avec l'élément d'indice 0 ;\n",
    "- rechercher le second plus petit élément du tableau, et l'échanger avec l'élément d'indice 1 ;\n",
    "- continuer de cette façon jusqu'à ce que le tableau soit entièrement trié.\n",
    "\n",
    "[Source Wikipedia](http://fr.wikipedia.org/wiki/Tri_par_s%C3%A9lection)\n",
    "\n",
    "## Illustration graphique\n",
    "\n",
    "<a title=\"Joestape89 at the English language Wikipedia [GFDL (http://www.gnu.org/copyleft/fdl.html) or CC-BY-SA-3.0 (http://creativecommons.org/licenses/by-sa/3.0/)], via Wikimedia Commons\" href=\"http://commons.wikimedia.org/wiki/File%3ASelection-Sort-Animation.gif\"><img width=\"64\" alt=\"Selection-Sort-Animation\" src=\"//upload.wikimedia.org/wikipedia/commons/9/94/Selection-Sort-Animation.gif\"/></a>\n",
    "\n",
    "## Illustration en vidéo"
   ]
  },
  {
   "cell_type": "code",
   "execution_count": 2,
   "metadata": {
    "collapsed": false
   },
   "outputs": [
    {
     "data": {
      "image/jpeg": "[encoded data removed]",
      "text/html": [
       "\n",
       "        <iframe\n",
       "            width=\"400\"\n",
       "            height=\"300\"\n",
       "            src=\"https://www.youtube.com/embed/Ns4TPTC8whw\"\n",
       "            frameborder=\"0\"\n",
       "            allowfullscreen\n",
       "        ></iframe>\n",
       "        "
      ],
      "text/plain": [
       "<IPython.lib.display.YouTubeVideo at 0x7f5d88f6cbe0>"
      ]
     },
     "execution_count": 2,
     "metadata": {},
     "output_type": "execute_result"
    }
   ],
   "source": [
    "from IPython.display import YouTubeVideo\n",
    "# Select-sort with Gypsy folk dance\n",
    "# Created at Sapientia University, Tirgu Mures (Marosvásárhely), Romania.\n",
    "# Directed by Kátai Zoltán and Tóth László.\n",
    "# In cooperation with \"Maros Művészegyüttes\", Tirgu Mures (Marosvásárhely), Romania.\n",
    "YouTubeVideo('Ns4TPTC8whw')"
   ]
  },
  {
   "cell_type": "markdown",
   "metadata": {},
   "source": [
    "## Implémentation en python\n",
    "\n",
    "Voici un exemple de code implémentant cet algorithme de tri présentant l'état de la liste à chaque tour avancée dans le tableau. Vous pouvez voir que le tableau est bien classé en **plaçant systématiquement l'élément minimum du tableau restant à trier à la fin des éléments triés**.\n",
    "\n"
   ]
  },
  {
   "cell_type": "code",
   "execution_count": 3,
   "metadata": {
    "collapsed": false
   },
   "outputs": [
    {
     "name": "stdout",
     "output_type": "stream",
     "text": [
      "Liste initiale:  [86, 85, 98, 73, 62, 1, 95, 54, 95, 70]\n",
      "--------------------------------------------------------------------------------\n",
      "i=  0\n",
      "Etat de la liste: [1, 85, 98, 73, 62, 86, 95, 54, 95, 70]\n",
      "Éléments triés:  [1] Reste à trier:  [85, 98, 73, 62, 86, 95, 54, 95, 70]\n",
      "--------------------------------------------------------------------------------\n",
      "i=  1\n",
      "Etat de la liste: [1, 54, 98, 73, 62, 86, 95, 85, 95, 70]\n",
      "Éléments triés:  [1, 54] Reste à trier:  [98, 73, 62, 86, 95, 85, 95, 70]\n",
      "--------------------------------------------------------------------------------\n",
      "i=  2\n",
      "Etat de la liste: [1, 54, 62, 73, 98, 86, 95, 85, 95, 70]\n",
      "Éléments triés:  [1, 54, 62] Reste à trier:  [73, 98, 86, 95, 85, 95, 70]\n",
      "--------------------------------------------------------------------------------\n",
      "i=  3\n",
      "Etat de la liste: [1, 54, 62, 70, 98, 86, 95, 85, 95, 73]\n",
      "Éléments triés:  [1, 54, 62, 70] Reste à trier:  [98, 86, 95, 85, 95, 73]\n",
      "--------------------------------------------------------------------------------\n",
      "i=  4\n",
      "Etat de la liste: [1, 54, 62, 70, 73, 86, 95, 85, 95, 98]\n",
      "Éléments triés:  [1, 54, 62, 70, 73] Reste à trier:  [86, 95, 85, 95, 98]\n",
      "--------------------------------------------------------------------------------\n",
      "i=  5\n",
      "Etat de la liste: [1, 54, 62, 70, 73, 85, 95, 86, 95, 98]\n",
      "Éléments triés:  [1, 54, 62, 70, 73, 85] Reste à trier:  [95, 86, 95, 98]\n",
      "--------------------------------------------------------------------------------\n",
      "i=  6\n",
      "Etat de la liste: [1, 54, 62, 70, 73, 85, 86, 95, 95, 98]\n",
      "Éléments triés:  [1, 54, 62, 70, 73, 85, 86] Reste à trier:  [95, 95, 98]\n",
      "--------------------------------------------------------------------------------\n",
      "i=  7\n",
      "Etat de la liste: [1, 54, 62, 70, 73, 85, 86, 95, 95, 98]\n",
      "Éléments triés:  [1, 54, 62, 70, 73, 85, 86, 95] Reste à trier:  [95, 98]\n",
      "--------------------------------------------------------------------------------\n",
      "i=  8\n",
      "Etat de la liste: [1, 54, 62, 70, 73, 85, 86, 95, 95, 98]\n",
      "Éléments triés:  [1, 54, 62, 70, 73, 85, 86, 95, 95] Reste à trier:  [98]\n",
      "--------------------------------------------------------------------------------\n",
      "i=  9\n",
      "Etat de la liste: [1, 54, 62, 70, 73, 85, 86, 95, 95, 98]\n",
      "Éléments triés:  [1, 54, 62, 70, 73, 85, 86, 95, 95, 98] Reste à trier:  []\n",
      "Liste triée:  [1, 54, 62, 70, 73, 85, 86, 95, 95, 98]\n"
     ]
    }
   ],
   "source": [
    "# Création d'une liste de 10 valeurs comprises entre 0 et 100 à trier\n",
    "data = genere_liste_aleatoire(10, 100)\n",
    "print(\"Liste initiale: \", data)\n",
    "\n",
    "# Calculer la taille du tableau\n",
    "N = len(data)\n",
    "# Parcourir le tableau entier\n",
    "for i in range(N):\n",
    "    print('-' * 80)\n",
    "    print(\"i= \", i)\n",
    "    # Stocker la valeur initiale de la case d'indice i, et son indice\n",
    "    minimum = data[i]\n",
    "    i_min = i\n",
    "    #  Parcourir le reste du tableau pour rechercher l'élément le plus petit restant\n",
    "    for j in range(i, N):\n",
    "        if data[j] < minimum:\n",
    "            # Stocker la valeur du minimum et son indice\n",
    "            minimum = data[j]\n",
    "            i_min = j\n",
    "    # Intervertir la valeur initiale de la case d'indice i et le minimum trouvé\n",
    "    tmp = data[i]\n",
    "    data[i] = minimum\n",
    "    data[i_min] = tmp\n",
    "    # Affiche les états intermédiaires de la liste\n",
    "    print(\"Etat de la liste:\", data)\n",
    "    print(\"Éléments triés: \", data[:i+1], \"Reste à trier: \", data[i+1:N])\n",
    "\n",
    "print(\"Liste triée: \", data)"
   ]
  },
  {
   "cell_type": "markdown",
   "metadata": {},
   "source": [
    "# Le tri par insertion\n",
    "\n",
    "> Dans l'algorithme, on parcourt le tableau à trier du début à la fin. Au moment où on considère le i-ème élément, les éléments qui le précèdent sont déjà triés. Pour faire l'analogie avec l'exemple du jeu de cartes, lorsqu'on est à la i-ème étape du parcours, le i-ème élément est la carte saisie, les éléments précédents sont la main triée et les éléments suivants correspondent aux cartes encore mélangées sur la table.\n",
    "\n",
    "> L'objectif d'une étape est d'insérer le i-ème élément à sa place parmi ceux qui précèdent. Il faut pour cela trouver où l'élément doit être inséré en le comparant aux autres, puis décaler les éléments afin de pouvoir effectuer l'insertion. En pratique, ces deux actions sont fréquemment effectuées en une passe, qui consiste à faire « remonter » l'élément au fur et à mesure jusqu'à rencontrer un élément plus petit.\n",
    "\n",
    "[Source Wikipedia](http://fr.wikipedia.org/wiki/Tri_par_insertion)\n",
    "\n",
    "## Illustration graphique\n",
    "\n",
    "<p><a href=\"http://commons.wikimedia.org/wiki/File:Insertion-sort-example-300px.gif#mediaviewer/File:Insertion-sort-example-300px.gif\"><img alt=\"Insertion-sort-example-300px.gif\" src=\"http://upload.wikimedia.org/wikipedia/commons/0/0f/Insertion-sort-example-300px.gif\"></a><br>\"<a href=\"http://commons.wikimedia.org/wiki/File:Insertion-sort-example-300px.gif#mediaviewer/File:Insertion-sort-example-300px.gif\">Insertion-sort-example-300px</a>\" by <a href=\"//commons.wikimedia.org/w/index.php?title=User:Swfung8&amp;action=edit&amp;redlink=1\" class=\"new\" title=\"User:Swfung8 (page does not exist)\">Swfung8</a> - <span class=\"int-own-work\">Own work</span>. Licensed under <a title=\"Creative Commons Attribution-Share Alike 3.0\" href=\"http://creativecommons.org/licenses/by-sa/3.0\">CC BY-SA 3.0</a> via <a href=\"//commons.wikimedia.org/wiki/\">Wikimedia Commons</a>.</p>\n",
    "\n",
    "## Illustration en vidéo"
   ]
  },
  {
   "cell_type": "code",
   "execution_count": 4,
   "metadata": {
    "collapsed": false
   },
   "outputs": [
    {
     "data": {
      "image/jpeg": "[encoded data removed]",
      "text/html": [
       "\n",
       "        <iframe\n",
       "            width=\"400\"\n",
       "            height=\"300\"\n",
       "            src=\"https://www.youtube.com/embed/ROalU379l3U\"\n",
       "            frameborder=\"0\"\n",
       "            allowfullscreen\n",
       "        ></iframe>\n",
       "        "
      ],
      "text/plain": [
       "<IPython.lib.display.YouTubeVideo at 0x7f5d88c7c278>"
      ]
     },
     "execution_count": 4,
     "metadata": {},
     "output_type": "execute_result"
    }
   ],
   "source": [
    "from IPython.display import YouTubeVideo\n",
    "# Insert-sort with Romanian folk dance \n",
    "# Created at Sapientia University, Tirgu Mures (Marosvásárhely), Romania.\n",
    "# Directed by Kátai Zoltán and Tóth László.\n",
    "# In cooperation with \"Maros Művészegyüttes\", Tirgu Mures (Marosvásárhely), Romania.\n",
    "YouTubeVideo('ROalU379l3U')"
   ]
  },
  {
   "cell_type": "markdown",
   "metadata": {},
   "source": [
    "## Implémentation en python\n",
    "\n",
    "Voici un exemple d'implémentation ou le tableau est parcouru de la gauche vers la droite, observer bien ou est placée la valeur à insérer à chaque tour de la boucle."
   ]
  },
  {
   "cell_type": "code",
   "execution_count": 5,
   "metadata": {
    "collapsed": false
   },
   "outputs": [
    {
     "name": "stdout",
     "output_type": "stream",
     "text": [
      "Liste initiale:  [72, 49, 57, 13, 38, 1, 21, 97, 22, 66]\n",
      "--------------------------------------------------------------------------------\n",
      "i=  1\n",
      "Valeur à insérer: 49\n",
      "On remonte la valeur <- [49, 72, 57, 13, 38, 1, 21, 97, 22, 66]\n",
      "Etat intérmédiaire de la liste:  [49, 72, 57, 13, 38, 1, 21, 97, 22, 66]\n",
      "--------------------------------------------------------------------------------\n",
      "i=  2\n",
      "Valeur à insérer: 57\n",
      "On remonte la valeur <- [49, 57, 72, 13, 38, 1, 21, 97, 22, 66]\n",
      "Etat intérmédiaire de la liste:  [49, 57, 72, 13, 38, 1, 21, 97, 22, 66]\n",
      "--------------------------------------------------------------------------------\n",
      "i=  3\n",
      "Valeur à insérer: 13\n",
      "On remonte la valeur <- [49, 57, 13, 72, 38, 1, 21, 97, 22, 66]\n",
      "On remonte la valeur <- [49, 13, 57, 72, 38, 1, 21, 97, 22, 66]\n",
      "On remonte la valeur <- [13, 49, 57, 72, 38, 1, 21, 97, 22, 66]\n",
      "Etat intérmédiaire de la liste:  [13, 49, 57, 72, 38, 1, 21, 97, 22, 66]\n",
      "--------------------------------------------------------------------------------\n",
      "i=  4\n",
      "Valeur à insérer: 38\n",
      "On remonte la valeur <- [13, 49, 57, 38, 72, 1, 21, 97, 22, 66]\n",
      "On remonte la valeur <- [13, 49, 38, 57, 72, 1, 21, 97, 22, 66]\n",
      "On remonte la valeur <- [13, 38, 49, 57, 72, 1, 21, 97, 22, 66]\n",
      "Etat intérmédiaire de la liste:  [13, 38, 49, 57, 72, 1, 21, 97, 22, 66]\n",
      "--------------------------------------------------------------------------------\n",
      "i=  5\n",
      "Valeur à insérer: 1\n",
      "On remonte la valeur <- [13, 38, 49, 57, 1, 72, 21, 97, 22, 66]\n",
      "On remonte la valeur <- [13, 38, 49, 1, 57, 72, 21, 97, 22, 66]\n",
      "On remonte la valeur <- [13, 38, 1, 49, 57, 72, 21, 97, 22, 66]\n",
      "On remonte la valeur <- [13, 1, 38, 49, 57, 72, 21, 97, 22, 66]\n",
      "On remonte la valeur <- [1, 13, 38, 49, 57, 72, 21, 97, 22, 66]\n",
      "Etat intérmédiaire de la liste:  [1, 13, 38, 49, 57, 72, 21, 97, 22, 66]\n",
      "--------------------------------------------------------------------------------\n",
      "i=  6\n",
      "Valeur à insérer: 21\n",
      "On remonte la valeur <- [1, 13, 38, 49, 57, 21, 72, 97, 22, 66]\n",
      "On remonte la valeur <- [1, 13, 38, 49, 21, 57, 72, 97, 22, 66]\n",
      "On remonte la valeur <- [1, 13, 38, 21, 49, 57, 72, 97, 22, 66]\n",
      "On remonte la valeur <- [1, 13, 21, 38, 49, 57, 72, 97, 22, 66]\n",
      "Etat intérmédiaire de la liste:  [1, 13, 21, 38, 49, 57, 72, 97, 22, 66]\n",
      "--------------------------------------------------------------------------------\n",
      "i=  7\n",
      "Valeur à insérer: 97\n",
      "Etat intérmédiaire de la liste:  [1, 13, 21, 38, 49, 57, 72, 97, 22, 66]\n",
      "--------------------------------------------------------------------------------\n",
      "i=  8\n",
      "Valeur à insérer: 22\n",
      "On remonte la valeur <- [1, 13, 21, 38, 49, 57, 72, 22, 97, 66]\n",
      "On remonte la valeur <- [1, 13, 21, 38, 49, 57, 22, 72, 97, 66]\n",
      "On remonte la valeur <- [1, 13, 21, 38, 49, 22, 57, 72, 97, 66]\n",
      "On remonte la valeur <- [1, 13, 21, 38, 22, 49, 57, 72, 97, 66]\n",
      "On remonte la valeur <- [1, 13, 21, 22, 38, 49, 57, 72, 97, 66]\n",
      "Etat intérmédiaire de la liste:  [1, 13, 21, 22, 38, 49, 57, 72, 97, 66]\n",
      "--------------------------------------------------------------------------------\n",
      "i=  9\n",
      "Valeur à insérer: 66\n",
      "On remonte la valeur <- [1, 13, 21, 22, 38, 49, 57, 72, 66, 97]\n",
      "On remonte la valeur <- [1, 13, 21, 22, 38, 49, 57, 66, 72, 97]\n",
      "Etat intérmédiaire de la liste:  [1, 13, 21, 22, 38, 49, 57, 66, 72, 97]\n",
      "\n",
      "Liste triée:\n",
      "[1, 13, 21, 22, 38, 49, 57, 66, 72, 97]\n"
     ]
    }
   ],
   "source": [
    "# Création d'une liste de 10 valeurs comprises entre 0 et 100 à trier\n",
    "data = genere_liste_aleatoire(10, 100)\n",
    "print(\"Liste initiale: \", data)\n",
    "\n",
    "# Parcourir l'ensemble de la liste à partir de la deuxième case\n",
    "for i in range(1, len(data)):\n",
    "    print('-' * 80)\n",
    "    print(\"i= \", i)\n",
    "    # Stocker la valeur à \"insérer\"\n",
    "    val = data[i]\n",
    "    print(\"Valeur à insérer:\", val)\n",
    "    # Parcourir le tableau déjà trié de dimension i-1 vers la gauche\n",
    "    # jusqu'à rencontrer une valeur inférieure à notre valeur à insérer\n",
    "    j = i - 1\n",
    "    while data[j] > val and j >=0:\n",
    "        # Intervertir  les valeurs aux indices j et j+1\n",
    "        data[j+1] = data[j]\n",
    "        data[j] = val\n",
    "        # Diminuer j de 1 pour la prochaine comparaison\n",
    "        j = j - 1\n",
    "        print(\"On remonte la valeur <-\", data)\n",
    "    print(\"Etat intérmédiaire de la liste: \", data)\n",
    "# Afficher le résultat\n",
    "print('\\nListe triée:')\n",
    "print(data)"
   ]
  },
  {
   "cell_type": "markdown",
   "metadata": {},
   "source": [
    "# Autres algorithmes\n",
    "\n",
    "Ces deux algorithmes ne sont que des exemples d'algorithmes de tri, et il en existe bien d'autres plus efficace comme le fameux *quicksort*, ou le *timsort* utilisé comme algorithme par défaut en Python.\n",
    "\n",
    "La littérature ne manque pas sur ce sujet car il s'agit d'une introduction de choix à de nombreux concepts clés de l'algorithmique:\n",
    "\n",
    "- **la complexité**: l'étude du temps et de la mémoire nécessité par l'algorithme.\n",
    "- **les cas extremes** ou *edge cases*: que se passe-t-il dans le cas ou la liste est déjà triée, ou au contraire si elle est en ordre inversé.\n",
    "- ** la correction de l'algorithme**: comment prouver par une méthode de récurrence que l'algorithme donne le bon résultat en toute occasion par une approche de démonstration mathématique.\n",
    "\n",
    "\n",
    "Vous pouvez consulter cet article du site [interstices.info](https://interstices.info/jcms/c_6973/les-algorithmes-de-tri) pour en savoir plus."
   ]
  }
 ],
 "metadata": {
  "kernelspec": {
   "display_name": "Python 3",
   "language": "python",
   "name": "python3"
  },
  "language_info": {
   "codemirror_mode": {
    "name": "ipython",
    "version": 3
   },
   "file_extension": ".py",
   "mimetype": "text/x-python",
   "name": "python",
   "nbconvert_exporter": "python",
   "pygments_lexer": "ipython3",
   "version": "3.6.5"
  },
   "frontmatter": {
     "tags": ["Python", "algorithmique"]
   }
 },
 "nbformat": 4,
 "nbformat_minor": 2
}
