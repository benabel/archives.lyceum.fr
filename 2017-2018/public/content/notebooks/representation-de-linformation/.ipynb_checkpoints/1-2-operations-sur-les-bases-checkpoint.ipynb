{
 "cells": [
  {
   "cell_type": "markdown",
   "metadata": {},
   "source": [
    "# Comment passer de la notation décimale à la notation binaire ?\n",
    "\n",
    "On regroupe les objets par paquets de 2 en réalisant des divisions successives jusqu'à obtenir un quotient égal à 0.\n",
    "\n",
    "**Exemple**\n",
    "\n",
    "Trouver en base deux la réprésentation du nombre $13_{10}$\n",
    "\n",
    "```\n",
    "13 | 2\n",
    "   |---\n",
    " 1 | 6 | 2\n",
    "       |---\n",
    "     0 | 3 | 2\n",
    "           |---\n",
    "         1 | 1 | 2 \n",
    "               |---\n",
    "             1 | 0 \n",
    "```\n",
    "L'écriture du nombre se fait alors de droite à gauche:\n",
    "\n",
    "$$13_{10} = 1101_{2}$$\n",
    "\n",
    "On peut vérifier le résultat:\n",
    "\n",
    "$${1110}_2=1 \\times 2^3 + 1 \\times 2^2 + 1 \\times 2^1 + 0 \\times 2^0 = 13_{10}$$\n",
    "\n",
    "# Comment passer de la notation binaire à la notation hexadécimale ?\n",
    "\n",
    "Pour passer de l’écriture binaire à l’écriture hexadécimale, il suffit de regrouper les chiffres 4 par 4.\n",
    "\n",
    "**Exemple**\n",
    "\n",
    "Trouver en base seize la réprésentation du nombre $101101_{2}$\n",
    "\n",
    "```\n",
    "En base 2:    101101 = 0010 1101 \n",
    "En base 16:              2    D\n",
    "```\n",
    "\n",
    "Soit: $$101101_{2} = 2D_{16}$$\n",
    "\n",
    "\n",
    "On peut vérifier le résultat en base 10:\n",
    "\n",
    "$${101101}_2 = + 1 \\times 2^5 + 0 \\times 2^4 + 1 \\times 2^3 + 1 \\times 2^2 + 0 \\times 2^1 + 1 \\times 2^0 = 13_{10}$$\n",
    "\n",
    "\n",
    "# Opérations arithmétiques\n",
    "\n",
    "Les régles utilisées en base dix s'appliquent de la même façon dans les autres bases.\n",
    "\n",
    "## Addition binaire\n",
    "\n",
    "**Exemple**\n",
    "\n",
    "\n",
    "Réaliser l'addition binaire: $1011_2 + 1010_2$\n",
    "\n",
    "```\n",
    " (1) (1)\n",
    "    1 0 1 1\n",
    "  + 1 0 1 0\n",
    "    -------\n",
    "  1 0 1 0 1\n",
    "   \n",
    "```\n",
    "\n",
    "On peut vérifier le résultat en base 10:\n",
    "\n",
    "$$({1011}_2 = 11_{10})+({1010}_2 = 10_{10})={10101}_2 = 21_{10}$$\n",
    "\n",
    "##Addition hexadécimale\n",
    "\n",
    "**Exemple**\n",
    "\n",
    "Réaliser l'addition hexadécimale: $A803_{16} + 2D35_{16}$\n",
    "\n",
    "```\n",
    "   (1)\n",
    "    A 8 0 3\n",
    "  + 2 D 3 5\n",
    "    -------\n",
    "    D 5 3 8\n",
    "   \n",
    "```\n",
    "\n",
    "On peut vérifier le résultat en base 10:\n",
    "\n",
    "$$({A803}_{16} = 43 011_{10})+({2D35}_{16} = 11 573_{10})={D538}_{16} = 54 584_{10}$$\n",
    "\n",
    "## Soustraction binaire\n",
    "\n",
    "**Exemple**\n",
    "\n",
    "Réaliser la soustraction binaire: $1011_2 - 1010_2$\n",
    "\n",
    "```\n",
    "    1 0 1 1\n",
    "  - 1 0 1 0\n",
    "    -------\n",
    "    0 0 0 1\n",
    "   \n",
    "```\n",
    "\n",
    "On peut vérifier le résultat en base 10:\n",
    "\n",
    "$$({1011}_2 = 11_{10})-({1010}_2 = 10_{10})={10101}_2 = 1_{10}$$\n",
    "\n",
    "##Soustraction hexadécimale\n",
    "\n",
    "**Exemple**\n",
    "\n",
    "Réaliser la soustraction hexadécimale: $A803_{16} - 2D35_{16}$\n",
    "\n",
    "```\n",
    "     A  8  0  3\n",
    "  -  2  D  3  5\n",
    "    (1)(1)(1)\n",
    "    -----------\n",
    "     7  A  C  E\n",
    "   \n",
    "```\n",
    "\n",
    "On peut vérifier le résultat en base 10:\n",
    "\n",
    "$$({A803}_{16} = 43 011_{10})-({2D35}_{16} = 11 573_{10})={7ACE}_{16} = 31 438_{10}$$\n",
    "\n",
    "Maintenant que vous avez tout compris, voici un lien vers un convertisseur en ligne.\n",
    "\n",
    "<http://sebastienguillon.com/test/javascript/convertisseur.html>\n",
    "\n",
    "# Conversions et opérations en python\n",
    "\n",
    "Bien entendu comme ce genre d'opérations est courante en informatique, python possède des fonctions pour manipuler les nombres entiers en base décimale `int`, en base deux `bin`, en base seize `hex`.\n",
    "\n",
    "Voici quelques exemples issus d'une réponse sur le très utile forum de programmation an anglais [stackoverflow](http://stackoverflow.com/a/11029366/1919130)\n"
   ]
  },
  {
   "cell_type": "code",
   "execution_count": 25,
   "metadata": {
    "collapsed": false
   },
   "outputs": [
    {
     "data": {
      "text/plain": [
       "'0b1010'"
      ]
     },
     "execution_count": 25,
     "metadata": {},
     "output_type": "execute_result"
    }
   ],
   "source": [
    "# Convert decimal to binary\n",
    "bin(10)"
   ]
  },
  {
   "cell_type": "markdown",
   "metadata": {},
   "source": [
    "Le préfixe `0b` indique qu'il s'agit d'un nombre binaire."
   ]
  },
  {
   "cell_type": "code",
   "execution_count": 26,
   "metadata": {
    "collapsed": false
   },
   "outputs": [
    {
     "data": {
      "text/plain": [
       "10"
      ]
     },
     "execution_count": 26,
     "metadata": {},
     "output_type": "execute_result"
    }
   ],
   "source": [
    "# Convert binary to decimal\n",
    "int('00001010',2)"
   ]
  },
  {
   "cell_type": "code",
   "execution_count": 27,
   "metadata": {
    "collapsed": false
   },
   "outputs": [
    {
     "data": {
      "text/plain": [
       "'0x7b'"
      ]
     },
     "execution_count": 27,
     "metadata": {},
     "output_type": "execute_result"
    }
   ],
   "source": [
    "# Convert decimal to hexadecimal\n",
    "hex(123)"
   ]
  },
  {
   "cell_type": "markdown",
   "metadata": {},
   "source": [
    "Le préfixe `0x` indique qu'il s'agit d'un nombre hexadécimal."
   ]
  },
  {
   "cell_type": "code",
   "execution_count": 28,
   "metadata": {
    "collapsed": false
   },
   "outputs": [
    {
     "data": {
      "text/plain": [
       "123"
      ]
     },
     "execution_count": 28,
     "metadata": {},
     "output_type": "execute_result"
    }
   ],
   "source": [
    "# Convert hexadecimal to decimal\n",
    "int('0000007b', 16)"
   ]
  },
  {
   "cell_type": "code",
   "execution_count": 29,
   "metadata": {
    "collapsed": false
   },
   "outputs": [
    {
     "data": {
      "text/plain": [
       "'0xa'"
      ]
     },
     "execution_count": 29,
     "metadata": {},
     "output_type": "execute_result"
    }
   ],
   "source": [
    "# Convert binary to hexadecimal\n",
    "hex(int('1010', 2))"
   ]
  },
  {
   "cell_type": "code",
   "execution_count": 30,
   "metadata": {
    "collapsed": false
   },
   "outputs": [
    {
     "data": {
      "text/plain": [
       "'0b1010'"
      ]
     },
     "execution_count": 30,
     "metadata": {},
     "output_type": "execute_result"
    }
   ],
   "source": [
    "# Convert hexadecimal to binary\n",
    "bin(int('A', 16))"
   ]
  },
  {
   "cell_type": "code",
   "execution_count": 31,
   "metadata": {
    "collapsed": false
   },
   "outputs": [
    {
     "data": {
      "text/plain": [
       "246"
      ]
     },
     "execution_count": 31,
     "metadata": {},
     "output_type": "execute_result"
    }
   ],
   "source": [
    "# Les opérations fonctionnent aussi\n",
    "\n",
    "0x7b + 0x7b"
   ]
  },
  {
   "cell_type": "code",
   "execution_count": 32,
   "metadata": {
    "collapsed": false
   },
   "outputs": [
    {
     "data": {
      "text/plain": [
       "99"
      ]
     },
     "execution_count": 32,
     "metadata": {},
     "output_type": "execute_result"
    }
   ],
   "source": [
    "0x7b - 24"
   ]
  },
  {
   "cell_type": "code",
   "execution_count": 33,
   "metadata": {
    "collapsed": false
   },
   "outputs": [
    {
     "data": {
      "text/plain": [
       "130"
      ]
     },
     "execution_count": 33,
     "metadata": {},
     "output_type": "execute_result"
    }
   ],
   "source": [
    "13 * 0b1010"
   ]
  }
 ],
 "metadata": {
  "anaconda-cloud": {},
  "kernelspec": {
   "display_name": "Python [default]",
   "language": "python",
   "name": "python3"
  },
  "language_info": {
   "codemirror_mode": {
    "name": "ipython",
    "version": 3
   },
   "file_extension": ".py",
   "mimetype": "text/x-python",
   "name": "python",
   "nbconvert_exporter": "python",
   "pygments_lexer": "ipython3",
   "version": "3.5.2"
  }
 },
 "nbformat": 4,
 "nbformat_minor": 0
}
