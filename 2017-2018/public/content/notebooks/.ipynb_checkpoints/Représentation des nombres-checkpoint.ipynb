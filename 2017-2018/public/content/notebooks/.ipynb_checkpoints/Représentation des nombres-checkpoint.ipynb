{
 "metadata": {
  "name": ""
 },
 "nbformat": 3,
 "nbformat_minor": 0,
 "worksheets": [
  {
   "cells": [
    {
     "cell_type": "heading",
     "level": 1,
     "metadata": {},
     "source": [
      "Le syst\u00e8me binaire"
     ]
    },
    {
     "cell_type": "markdown",
     "metadata": {},
     "source": [
      "\n",
      "\n",
      "<p><a href=\"http://commons.wikimedia.org/wiki/File:Information_binaire.png#mediaviewer/Fichier:Information_binaire.png\"><img alt=\"Information binaire.png\" src=\"http://upload.wikimedia.org/wikipedia/commons/1/1a/Information_binaire.png\"></a><br>\u00ab\u202f<a href=\"http://commons.wikimedia.org/wiki/File:Information_binaire.png#mediaviewer/Fichier:Information_binaire.png\">Information binaire</a>\u202f\u00bb par <a href=\"//commons.wikimedia.org/wiki/User:Okno\" title=\"User:Okno\">Okno</a> \u2014 travail personnel (sous Fireworks 8.0). Sous licence <a title=\"Creative Commons Attribution-Share Alike 3.0-2.5-2.0-1.0\" href=\"http://creativecommons.org/licenses/by-sa/3.0\">CC BY-SA 3.0</a> via <a href=\"//commons.wikimedia.org/wiki/\">Wikimedia Commons</a>.</p>\n",
      "\n",
      "\n",
      "Le syst\u00e8me binaire est un syst\u00e8me de num\u00e9ration utilisant la base 2. On nomme couramment bit (de l'anglais binary digit, soit \u00ab chiffre binaire \u00bb) les chiffres de la num\u00e9ration binaire positionnelle. Ceux-ci ne peuvent prendre que deux valeurs, not\u00e9es par convention 0 et 1.\n",
      "\n",
      "C'est un concept essentiel de l'informatique. En effet, les processeurs des ordinateurs actuels sont compos\u00e9s de transistors ne g\u00e9rant chacun que deux \u00e9tats.\n",
      "\n",
      "> [Source Wikipedia](http://fr.wikipedia.org/wiki/Syst%C3%A8me_binaire)\n",
      "\n",
      "Ainsi dans les syst\u00e8mes num\u00e9riques comme les ordinateurs, toutes les informations, qu'il s'agisse de nombres, de textes d'images, de sons ou encore de vid\u00e9os sont cod\u00e9es en **langage binaire**."
     ]
    },
    {
     "cell_type": "heading",
     "level": 1,
     "metadata": {},
     "source": [
      "M\u00e9moriser des informations"
     ]
    },
    {
     "cell_type": "markdown",
     "metadata": {},
     "source": [
      "> Les m\u00e9moires actuelles sont toutes compos\u00e9es de cellules m\u00e9moires capables de retenir un bit. En mettant pleins de ces cellules dans un seul composant, et en mettant quelques circuits \u00e9lectroniques pour g\u00e9rer le tout, on obtient une m\u00e9moire.[Source OpenClassroom](http://fr.openclassrooms.com/informatique/cours/fonctionnement-d-un-ordinateur-depuis-zero/memoriser-un-bit)\n",
      "\n",
      "L\u2019\u00e9tat d\u2019un circuit m\u00e9moire, se d\u00e9crit par une suite finie de 0 et de 1, que l\u2019on appelle un **mot**. Par exemple, le mot 100 d\u00e9crit l\u2019\u00e9tat d\u2019un circuit compos\u00e9 de trois circuits m\u00e9moire un bit, respectivement dans l\u2019\u00e9tat 1, 0 et 0.\n",
      "\n",
      "Dans la m\u00e9moire des ordinateurs les circuits m\u00e9moire un bit sont souvent group\u00e9s par huit : les **octets**. On utilise souvent des nombres exprim\u00e9s en notation binaire, c\u2019est-\u00e0-dire en base deux, sur un, deux, quatre ou huit\n",
      "octets, soit 8, 16, 32 ou 64 bits.\n"
     ]
    },
    {
     "cell_type": "code",
     "collapsed": false,
     "input": [],
     "language": "python",
     "metadata": {},
     "outputs": []
    }
   ],
   "metadata": {}
  }
 ]
}