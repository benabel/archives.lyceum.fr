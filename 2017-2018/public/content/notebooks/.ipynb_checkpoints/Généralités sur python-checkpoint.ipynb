{
 "metadata": {
  "name": ""
 },
 "nbformat": 3,
 "nbformat_minor": 0,
 "worksheets": [
  {
   "cells": [
    {
     "cell_type": "markdown",
     "metadata": {},
     "source": [
      "#Documentation\n",
      "\n",
      "Quelques liens pour obtenir de la doc:\n",
      "\n",
      "- [Documentation officielle de python 3](https://docs.python.org/3/index.html)\n",
      "- \n",
      "\n",
      "\n",
      "    "
     ]
    },
    {
     "cell_type": "markdown",
     "metadata": {},
     "source": [
      "##Connaitre la version de python utilis\u00e9e:"
     ]
    },
    {
     "cell_type": "code",
     "collapsed": false,
     "input": [
      "import sys\n",
      "sys.version[:5]"
     ],
     "language": "python",
     "metadata": {},
     "outputs": [
      {
       "metadata": {},
       "output_type": "pyout",
       "prompt_number": 9,
       "text": [
        "'3.4.0'"
       ]
      }
     ],
     "prompt_number": 9
    }
   ],
   "metadata": {}
  }
 ]
}