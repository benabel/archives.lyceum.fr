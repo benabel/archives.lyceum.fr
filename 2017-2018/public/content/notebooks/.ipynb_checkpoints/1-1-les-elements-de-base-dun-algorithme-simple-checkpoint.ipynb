{
 "cells": [
  {
   "cell_type": "markdown",
   "metadata": {},
   "source": [
    "#Notions d'algorithmes et de programmes\n",
    "\n",
    "Vous avez déjà rencontré la notion d'algorithme en classe de mathématiques.\n",
    "\n",
    "<dl>\n",
    "<dt>algorithme</dt>\n",
    "<dd>\n",
    "<p>Un algorithme est une méthode, une suite d'instructions pour obtenir un résultat.</p>\n",
    "</dd>\n",
    "</dl>\n",
    "\n",
    "Ce type de méthode est utilisé depuis la nuit des temps pour fabriquer des tissus, nouer des cordages, ou bien préparer des aliments.\n",
    "\n",
    "La révolution de l'informatique survenue au milieu du XX^e^ siècle vient du fait que l'on a pu faire exécuter ces algorithmes à des machines. Pour cela il a fallu exprimer ces algorithmes dans des langages de programmation afin qu'ils puissent être exécutés par les ordinateurs.\n",
    "\n",
    "<dl>\n",
    "<dt>programme <a href=\"http://fr.wikipedia.org/wiki/Programme_informatique\">Source Wikipedia</a></dt>\n",
    "<dd>\n",
    "<p>Un programme est la forme électronique et numérique d'un algorithme exprimé dans un langage de programmation.</p>\n",
    "</dd>\n",
    "</dl>\n",
    "\n",
    "#Les éléments de base d’un algorithme simple\n",
    "\n",
    "Un algorithme simple, c'est à dire ne faisant intervenir ni fonctions ni sous programmes peut être structuré en trois étapes. \n",
    "\n",
    "[Source Eduscol](http://cache.media.eduscol.education.fr/file/Programmes/17/8/Doc_ress_algo_v25_109178.pdf)\n",
    "\n",
    "\n",
    "- La préparation du traitement\n",
    "- Le traitement\n",
    "- La sortie des résultats"
   ]
  }
 ],
 "metadata": {},
 "nbformat": 4,
 "nbformat_minor": 0
}