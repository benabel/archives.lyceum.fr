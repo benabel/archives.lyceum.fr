{
 "cells": [
  {
   "cell_type": "markdown",
   "metadata": {},
   "source": [
    "Une fois le traitement réalisé, on obtient le ou les résultats de l'algorithme qu'il convient de présenter à l'utilisateur.\n",
    "\n",
    "Les résultats obtenus peuvent être affichés sur l’écran, ou imprimés sur papier, ou bien encore conservés dans un fichier. Si on n’en fait rien, ils «restent» en mémoire jusqu’à la prochaine exécution ou sont perdus. À l’occasion, la sortie pourrait être graphique (afficher ou déplacer le pointeur de la souris ou des objets sur l’écran) ou sonore ... voire sur Internet\n",
    "\n",
    "#Afficher les résultats avec l'instruction `print`\n",
    "\n",
    "Très utilse pendant la phase de développement du programme, ce type d'affichage est très utilse pour suivre l'éxecution du programme, et le déboguer.\n",
    "\n",
    "L'affichage se fait dans la console, on dit que le résultat est affiché sur la sortie standard stdout.\n",
    "\n",
    "**Syntaxe**\n",
    "\n",
    "```\n",
    "print(value, ..., sep=' ', end='\\n', file=sys.stdout, flush=False)\n",
    "```\n",
    "\n",
    "S'il y a plusieurs expressions à afficher, elles sont séparées par l'argument sep qui par défaut est un espace.\n",
    "\n",
    "Un retour à la ligne \\n est automatiquement ajouté à la fin de l'instruction sauf si vous modifiez la valeur de l'argument end."
   ]
  },
  {
   "cell_type": "code",
   "execution_count": 1,
   "metadata": {
    "collapsed": false
   },
   "outputs": [
    {
     "name": "stdout",
     "output_type": "stream",
     "text": [
      "\n",
      " Affichage par défaut\n",
      "La valeur de a est: 9\n",
      "La valeur de b est: 7\n",
      "\n",
      " En modifiant les valeur de sep et end\n",
      "La valeur de a est:@9La valeur de b est:&7\n"
     ]
    }
   ],
   "source": [
    "a = 9\n",
    "b = 7\n",
    "\n",
    "print('\\n', 'Affichage par défaut')\n",
    "print('La valeur de a est:', a)\n",
    "print('La valeur de b est:', b)\n",
    "\n",
    "print('\\n', 'En modifiant les valeur de sep et end')\n",
    "print('La valeur de a est:', a, sep='@', end='')\n",
    "print('La valeur de b est:', b, sep='&')"
   ]
  },
  {
   "cell_type": "markdown",
   "metadata": {},
   "source": [
    "#Stocker les résultats dans un fichier\n",
    "\n",
    "Pour cela il faut commencer par ouvrir le fichier en mode écriture('w' pour write) grâce à la fonction open.\n",
    "\n",
    "**Syntaxe**\n",
    "```\n",
    "open(file, mode='r', buffering=-1, encoding=None, errors=None, newline=None, closefd=True, opener=None)\n",
    "```\n",
    "\n",
    "Ensuite, on écrit dans ce fichier grâce à la fonction `print`.\n"
   ]
  },
  {
   "cell_type": "code",
   "execution_count": 3,
   "metadata": {
    "collapsed": false
   },
   "outputs": [
    {
     "name": "stdout",
     "output_type": "stream",
     "text": [
      "La valeur de i est: 0\n",
      "\n",
      "La valeur de i est: 1\n",
      "\n",
      "La valeur de i est: 2\n",
      "\n",
      "La valeur de i est: 3\n",
      "\n",
      "La valeur de i est: 4\n",
      "\n",
      "La valeur de i est: 5\n",
      "\n",
      "La valeur de i est: 6\n",
      "\n",
      "La valeur de i est: 7\n",
      "\n",
      "La valeur de i est: 8\n",
      "\n",
      "La valeur de i est: 9\n",
      "\n"
     ]
    }
   ],
   "source": [
    "f = open('data/fichier.txt', 'w')\n",
    "\n",
    "for i in range(10):\n",
    "    print('La valeur de i est:', i, file=f)\n",
    "\n",
    "    \n",
    "g = open('data/fichier.txt', 'r') # L'option r est facultative car par défaut\n",
    "\n",
    "for line in g:\n",
    "    print(line)"
   ]
  },
  {
   "cell_type": "markdown",
   "metadata": {},
   "source": [
    "On peut même lancer le programme d'édition de texte de système par défaut pour lire plus agréablement le fichier créé."
   ]
  },
  {
   "cell_type": "code",
   "execution_count": 4,
   "metadata": {
    "collapsed": false
   },
   "outputs": [],
   "source": [
    "filepath = 'data/fichier.txt'\n",
    "import subprocess, os, sys\n",
    "if sys.platform.startswith('darwin'):\n",
    "    subprocess.call(('open', filepath))\n",
    "elif os.name == 'nt':\n",
    "    os.startfile(filepath)\n",
    "elif os.name == 'posix':\n",
    "    subprocess.call(('xdg-open', filepath))"
   ]
  },
  {
   "cell_type": "markdown",
   "metadata": {},
   "source": [
    "#Afficher les résultats sous forme graphique\n",
    "\n",
    "Le langage `python` dispose d'un module avancé de tracé de graphique appelé `matplotlib`.\n",
    "\n",
    "Pour voir des exemples consultez la [galerie](http://matplotlib.org/gallery.html) du site du [projet](http://matplotlib.org/)\n",
    "\n",
    "Voici par exemple un exemple de tracé de diagramme circulaire:\n",
    "\n",
    "![Diagramme circulaire](http://matplotlib.org/mpl_examples/pie_and_polar_charts/pie_demo_features.png)\n"
   ]
  }
 ],
 "metadata": {},
 "nbformat": 4,
 "nbformat_minor": 0
}