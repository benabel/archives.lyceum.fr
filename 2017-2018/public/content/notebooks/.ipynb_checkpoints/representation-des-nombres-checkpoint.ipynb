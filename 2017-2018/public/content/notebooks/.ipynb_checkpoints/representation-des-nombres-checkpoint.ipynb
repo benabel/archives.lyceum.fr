{
 "cells": [
  {
   "cell_type": "markdown",
   "metadata": {},
   "source": [
    "#Le système binaire\n",
    "\n",
    "<p><a href=\"http://commons.wikimedia.org/wiki/File:Information_binaire.png#mediaviewer/Fichier:Information_binaire.png\"><img alt=\"Information binaire.png\" src=\"http://upload.wikimedia.org/wikipedia/commons/1/1a/Information_binaire.png\"></a><br>« <a href=\"http://commons.wikimedia.org/wiki/File:Information_binaire.png#mediaviewer/Fichier:Information_binaire.png\">Information binaire</a> » par <a href=\"//commons.wikimedia.org/wiki/User:Okno\" title=\"User:Okno\">Okno</a> — travail personnel (sous Fireworks 8.0). Sous licence <a title=\"Creative Commons Attribution-Share Alike 3.0-2.5-2.0-1.0\" href=\"http://creativecommons.org/licenses/by-sa/3.0\">CC BY-SA 3.0</a> via <a href=\"//commons.wikimedia.org/wiki/\">Wikimedia Commons</a>.</p>\n",
    "\n",
    "\n",
    "> Le système binaire est un système de numération utilisant la base 2. On nomme couramment bit (de l'anglais binary digit, soit « chiffre binaire ») les chiffres de la numération binaire positionnelle. Ceux-ci ne peuvent prendre que deux valeurs, notées par convention 0 et 1.\n",
    "\n",
    "> C'est un concept essentiel de l'informatique. En effet, les processeurs des ordinateurs actuels sont composés de transistors ne gérant chacun que deux états.\n",
    "\n",
    "> [Source Wikipedia](http://fr.wikipedia.org/wiki/Syst%C3%A8me_binaire)\n",
    "\n",
    "Ainsi dans les systèmes numériques comme les ordinateurs, toutes les informations, qu'il s'agisse de nombres, de textes d'images, de sons ou encore de vidéos sont codées en **langage binaire**."
   ]
  },
  {
   "cell_type": "markdown",
   "metadata": {},
   "source": [
    "#Coder des entiers naturels\n",
    "\n",
    "##Système décimal\n",
    "\n",
    "> Le système décimal est un système de numération positionnel utilisant la base dix. Dans ce système, chaque position d'un chiffre est reliée à la position voisine par un facteur dix.[Source Wikipedia](http://fr.wikipedia.org/wiki/Syst%C3%A8me_d%C3%A9cimal)\n",
    "\n",
    "Les chiffres utilisés sont: **0 1 2 3 4 5 6 7 8 9**\n",
    "\n",
    "\n",
    "**exemple: 1789** \n",
    "\n",
    "1789 est l'addition de un millier, sept centaines, huit dizaines, neuf unités.\n",
    "\n",
    "Soit mathématiquement:\n",
    "\n",
    "$$1789=1 \\times 10^3 + 7 \\times 10^2 + 8 \\times 10^1 + 9 \\times 10^0$$\n",
    "\n",
    "##Système binaire\n",
    "\n",
    "Le système binaire est un système de numération positionnel utilisant la base deux.\n",
    "\n",
    "Les chiffres utilisés sont: **0 1**\n",
    "\n",
    "\n",
    "**exemple: 1110** \n",
    "\n",
    "$$1110=1 \\times 2^3 + 1 \\times 2^2 + 1 \\times 2^1 + 0 \\times 2^0$$\n",
    "\n",
    "*Remarque*: on indique la base de numération par un indice à la fin du nombre.\n",
    "\n",
    "Soit $1110_2 = (8 + 4 + 2 + 0)_{10} = 14_{10}$\n",
    "\n",
    "##Système héxadécimal\n",
    "\n",
    "Le système décimal est un système de numération positionnel utilisant la base seize.\n",
    "\n",
    "> Le système hexadécimal est utilisé notamment en électronique numérique et en informatique car il est particulièrement commode et permet un compromis entre le code binaire des machines et une base de numération pratique à utiliser pour les ingénieurs. En effet, chaque chiffre hexadécimal correspond exactement à quatre chiffres binaires (ou bits), rendant les conversions très simples et fournissant une écriture plus compacte.[Source Wikipedia](https://fr.wikipedia.org/wiki/Syst%C3%A8me_hexad%C3%A9cimal)\n",
    "\n",
    "Les chiffres utilisés sont: **0 1 2 3 4 5 6 7 8 9 a b c d e f**\n",
    "\n",
    "\n",
    "**exemple: abe1** \n",
    "\n",
    "$$abe1_{16}=(10 \\times 16^3 + 11 \\times 16^2 + 15 \\times 16^1 + 1 \\times 16^0)_{10}=44017_{10}$$\n",
    "\n",
    "##Applications\n",
    "\n",
    "En vous inspirant de la fonction suivante `twototen` qui permet de passer d'une écriture de la base deux à la base 10:\n",
    "\n",
    "1. Ecrire la fonction `hextoten` qui permet de passer d'une écriture en base seize à une écriture en base dix.\n",
    "2. Ecrire la fonction réciproque `tentotwo` qui permet de passer d'une écriture en base dix à une écriture en base deux.\n",
    "\n",
    "\n",
    "\n"
   ]
  },
  {
   "cell_type": "code",
   "execution_count": 53,
   "metadata": {
    "collapsed": false
   },
   "outputs": [
    {
     "name": "stdout",
     "output_type": "stream",
     "text": [
      "0 1\n",
      "1 3\n",
      "1 1\n",
      "1 2\n",
      "2 1\n",
      "1 1\n",
      "3 0\n",
      "0 0\n"
     ]
    },
    {
     "data": {
      "text/plain": [
       "14"
      ]
     },
     "execution_count": 53,
     "metadata": {},
     "output_type": "execute_result"
    }
   ],
   "source": [
    "def twototen(n):\n",
    "    # Converti le nombre en string(chaîne de caractère)\n",
    "    # afin qu'il puisse être lu chifre par chiffre\n",
    "    number = str(n)\n",
    "    # Initialise la variable qui stockera la somme\n",
    "    sum = 0 \n",
    "    # Réaliser une boucle sur les chiffres du nombre à convertir\n",
    "    for i, chiffre in enumerate(number):\n",
    "        print(i, chiffre)\n",
    "        power = int(len(number)-i-1)\n",
    "        print(chiffre, power)\n",
    "        # Additionne les valeurs des puissances de deux correspondantes au chiffre\n",
    "        sum += int(chiffre) * 2**power\n",
    "    return sum\n",
    "\n",
    "twototen(1110)\n",
    "    "
   ]
  },
  {
   "cell_type": "markdown",
   "metadata": {},
   "source": [
    "#Coder des entiers relatifs\n",
    "\n",
    "> Pour compléter la représentation des entiers, il faut pouvoir écrire des entiers négatifs. La façon informatique de le faire est prévoir un bit de signe, placé en tête. Un bit de signe nul indique une valeur positive, un bit de signe positionné à 1 indique une valeur négative.[Source Wikipedia](https://fr.wikipedia.org/wiki/Syst%C3%A8me_binaire#Repr.C3.A9sentation_des_entiers_n.C3.A9gatifs)\n",
    "\n",
    "##Le complément à un\n",
    "\n",
    "L'entier $9_{10} = 101_{2}$ devra être codé avec un bit supplémentaire et s'écrire $0101_{2}$ pour se distinguer de $-9_{10} = 1010_{2}$\n",
    "\n",
    "**Attention**: Il faut bien être conscient du type de codage utilisé, afin de savoir que $1010_{2}= -9_{10}$ et non **10** si le codage utilisé était celui des entiers naturels vu precedemment.\n",
    "\n",
    "##Le complément à deux\n",
    "\n",
    "Un défaut du complément à 1, est que la valeur 0 a deux représentations : « +0 » et « -0 » (dans notre exemple : 0000 et 1111), ce qui oblige à réaliser 2 tests pour tester la valeur nulle d'un résultat.\n",
    "\n",
    "On utilise donc plutôt la représentation du complément à deux.\n",
    "\n"
   ]
  },
  {
   "cell_type": "markdown",
   "metadata": {},
   "source": [
    "#Mémoriser des informations\n",
    "\n",
    "> Les mémoires actuelles sont toutes composées de cellules mémoires capables de retenir un bit. En mettant pleins de ces cellules dans un seul composant, et en mettant quelques circuits électroniques pour gérer le tout, on obtient une mémoire.[Source OpenClassroom](http://fr.openclassrooms.com/informatique/cours/fonctionnement-d-un-ordinateur-depuis-zero/memoriser-un-bit)\n",
    "\n",
    "L’état d’un circuit mémoire, se décrit par une suite finie de 0 et de 1, que l’on appelle un **mot**. Par exemple, le mot 100 décrit l’état d’un circuit composé de trois circuits mémoire un bit, respectivement dans l’état 1, 0 et 0.\n",
    "\n",
    "Dans la mémoire des ordinateurs les circuits mémoire un bit sont souvent groupés par huit : les **octets**. On utilise souvent des nombres exprimés en notation binaire, c’est-à-dire en base deux, sur un, deux, quatre ou huit\n",
    "octets, soit 8, 16, 32 ou 64 bits.\n"
   ]
  },
  {
   "cell_type": "markdown",
   "metadata": {},
   "source": []
  }
 ],
 "metadata": {},
 "nbformat": 4,
 "nbformat_minor": 0
}