{
 "metadata": {
  "name": "",
  "signature": "sha256:678806e3c7c0d50b4131a882f612bfbb3d7edcca057b0f5e379b559986fd0405"
 },
 "nbformat": 3,
 "nbformat_minor": 0,
 "worksheets": [
  {
   "cells": [
    {
     "cell_type": "markdown",
     "metadata": {},
     "source": [
      "#Utilisation de ipython notebook\n",
      "\n",
      "<img src='http://ipython.org/_static/IPy_header.png'>\n",
      "\n",
      "\n",
      "##Introduction\n",
      "\n",
      "Les notebook d'ipython permettent d'obtenir une pr\u00e9sentation claire d'\u00e9l\u00e9ments de programme et de texte dans un navigateur.\n",
      "\n",
      "Ils s'organisent en cellules qui peuvent avoir plusieurs types:\n",
      "- les cellutes de **titre** appel\u00e9es `Heading`.\n",
      "- les cellules de **texte** appel\u00e9es `markdown` sont format\u00e9s gr\u00e2ce \u00e0 la syntaxe (markdown)[http://daringfireball.net/projects/markdown/syntax].\n",
      "- les cellules de **code** qui sont des instructions en langage python qui peuvent \u00eatre ex\u00e9cut\u00e9es et dont la sortie apparait sous la cellule de code avec le pr\u00e9fixe `Out[]`.\n",
      "\n",
      "La documentation compl\u00e8teest disponible \u00e0 l'adresse suivante: <http://ipython.org/documentation.html>\n",
      "\n",
      "##Raccourcis clavier\n",
      "\n",
      "On peut y acc\u00e9der par l'onglet `Keyboard shortcuts` du menu `Help`.\n",
      "\n",
      "![Raccourcis claviers IPython](../images/ipython-shortcuts.png \"Raccourcis de Ipython notebook version 2.2\")\n",
      "<img src='../images/ipython-shortcuts.png'>\n",
      "Vous remarquerz qu'il existe deux modes:\n",
      "\n",
      "- le mode d'\u00e9dition pour modifier le contenu des cellules\n",
      "- le mode de commande pour utiliser certains raccourcis pour modifier le notebook.\n",
      "\n"
     ]
    },
    {
     "cell_type": "markdown",
     "metadata": {},
     "source": []
    },
    {
     "cell_type": "markdown",
     "metadata": {},
     "source": []
    }
   ],
   "metadata": {}
  }
 ]
}