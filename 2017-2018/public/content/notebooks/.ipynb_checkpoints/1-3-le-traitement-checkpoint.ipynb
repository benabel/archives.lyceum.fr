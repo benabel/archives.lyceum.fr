{
 "cells": [
  {
   "cell_type": "markdown",
   "metadata": {},
   "source": [
    "\n",
    "#Les deux grandes familles d'instructions\n",
    "\n",
    "Il s’agit de déterminer toutes les étapes des traitements à faire et donc des «instructions» à donner pour une exécution automatique. Grâce aux instructions, on peut modifier l'état du programme initialisé à l'étape précédente.\n",
    "\n",
    "On distingue deux familles d'instructions:\n",
    "\n",
    "- Les **instructions simples** qui manipulent directement l'état du programme, et qui s'éxecutent les unes à la suite des autres de haut en bas du programme.\n",
    "\n",
    "En python, la syntaxe est de la forme:\n",
    "\n",
    "```\n",
    "instruction 1\n",
    "instruction 2\n",
    "...\n",
    "instruction n\n",
    "```\n"
   ]
  },
  {
   "cell_type": "code",
   "execution_count": 1,
   "metadata": {
    "collapsed": false
   },
   "outputs": [
    {
     "name": "stdout",
     "output_type": "stream",
     "text": [
      "3\n"
     ]
    }
   ],
   "source": [
    "a = 1\n",
    "a = 2\n",
    "a = 3\n",
    "print(a)"
   ]
  },
  {
   "cell_type": "markdown",
   "metadata": {},
   "source": [
    "- les **instructions composées** qui assemblent plusieurs instructions et qui modifient l'état du programme une fois que l'ensemble des instructions qu'il contient est évalué.\n",
    "\n",
    "En python, la syntaxe est de la forme:\n",
    "\n",
    "```\n",
    "instruction composée:\n",
    "    instruction 1\n",
    "    instruction 2\n",
    "    ...\n",
    "    instruction n\n",
    "```\n",
    "\n",
    "**Il est très important de respecter les deux-points et la tabulation en début de ligne sans quoi l'intérpréteur python renvoie une erreur.**\n"
   ]
  },
  {
   "cell_type": "code",
   "execution_count": 2,
   "metadata": {
    "collapsed": false
   },
   "outputs": [
    {
     "ename": "IndentationError",
     "evalue": "expected an indented block (<ipython-input-2-09354d76f944>, line 2)",
     "output_type": "error",
     "traceback": [
      "\u001b[0;36m  File \u001b[0;32m\"<ipython-input-2-09354d76f944>\"\u001b[0;36m, line \u001b[0;32m2\u001b[0m\n\u001b[0;31m    print(\"La variable a est plus grande que 1\")\u001b[0m\n\u001b[0m        ^\u001b[0m\n\u001b[0;31mIndentationError\u001b[0m\u001b[0;31m:\u001b[0m expected an indented block\n"
     ]
    }
   ],
   "source": [
    "if a >= 1:\n",
    "print(\"La variable a est plus grande que 1\")"
   ]
  },
  {
   "cell_type": "code",
   "execution_count": 3,
   "metadata": {
    "collapsed": false
   },
   "outputs": [
    {
     "name": "stdout",
     "output_type": "stream",
     "text": [
      "La variable a est plus grande que 1\n"
     ]
    }
   ],
   "source": [
    "if a >= 1:\n",
    "    print(\"La variable a est plus grande que 1\")"
   ]
  },
  {
   "cell_type": "markdown",
   "metadata": {},
   "source": [
    "#Instructions conditionnelles if\n",
    "\n",
    "##L'instruction if\n",
    "\n",
    "Le bloc d'instruction contenu n'est exécuté que si la condition est vérifiée.\n",
    "\n",
    "**Syntaxe**\n",
    "\n",
    "```\n",
    "if condition:\n",
    "    instruction 1\n",
    "    instruction 2\n",
    "    ...\n",
    "```\n"
   ]
  },
  {
   "cell_type": "code",
   "execution_count": 4,
   "metadata": {
    "collapsed": false
   },
   "outputs": [
    {
     "name": "stdout",
     "output_type": "stream",
     "text": [
      "La variable a est maintenant négative\n",
      "a = -3\n"
     ]
    }
   ],
   "source": [
    "if a > 0:\n",
    "    a = -a\n",
    "\n",
    "print('La variable a est maintenant négative')\n",
    "print('a =', a)"
   ]
  },
  {
   "cell_type": "markdown",
   "metadata": {},
   "source": [
    "##L'instruction else\n",
    "\n",
    "Indique le bloc d'instruction a exécuter si la condition n'est pas vérifiée.\n",
    "\n",
    "**Syntaxe**\n",
    "\n",
    "```\n",
    "if condition:\n",
    "    bloc d'instruction exécuté si la condition est vraie\n",
    "else:\n",
    "    bloc d'instruction exécuté si la condition est fausse\n",
    "```\n",
    "\n"
   ]
  },
  {
   "cell_type": "code",
   "execution_count": 5,
   "metadata": {
    "collapsed": false
   },
   "outputs": [
    {
     "name": "stdout",
     "output_type": "stream",
     "text": [
      "Valeur initiale\n",
      "a = -3\n",
      "Valeur finale\n",
      "a = -300\n"
     ]
    }
   ],
   "source": [
    "print('Valeur initiale')\n",
    "print('a =', a)\n",
    "\n",
    "if a > 0:\n",
    "    a = -a\n",
    "else:\n",
    "    a = a*100\n",
    "    \n",
    "print('Valeur finale')\n",
    "print('a =', a)"
   ]
  },
  {
   "cell_type": "markdown",
   "metadata": {},
   "source": [
    "Comme initialement la variable a n'était pas positive, c'est le bloc d'instructions `else` qui a été exécuté.\n",
    "\n",
    "##L'instruction elif\n",
    "\n",
    "Cette instruction permet de réaliser des tests imbriqués, c'est un raccourci pour les instructions else et if.\n",
    "\n",
    "**Syntaxe**\n",
    "\n",
    "```\n",
    "if condition 1:\n",
    "    bloc d'instruction exécuté si la condition 1 est vraie\n",
    "elif condition 2:\n",
    "    bloc d'instruction exécuté si la condition 1 est fausse et la condition 2 vraie\n",
    "else:\n",
    "    bloc d'instruction exécuté si les conditions 1 et 2 sont fausses\n",
    "```\n",
    "Ce bloc est équivalent deux instructions if imbriquées.\n",
    "\n",
    "**Syntaxe**\n",
    "\n",
    "```\n",
    "if condition 1:\n",
    "    bloc d'instruction exécuté si la condition 1 est vraie\n",
    "else:\n",
    "    if condition 2:\n",
    "        bloc d'instruction exécuté si la condition 1 est fausse et la condition 2 vraie\n",
    "else:\n",
    "    bloc d'instruction exécuté si les conditions 1 et 2 sont fausses\n",
    "```"
   ]
  },
  {
   "cell_type": "code",
   "execution_count": 6,
   "metadata": {
    "collapsed": false
   },
   "outputs": [
    {
     "name": "stdout",
     "output_type": "stream",
     "text": [
      "Valeur initiale\n",
      "a = -300\n",
      "Valeur finale\n",
      "a = 300\n"
     ]
    }
   ],
   "source": [
    "print('Valeur initiale')\n",
    "print('a =', a)\n",
    "\n",
    "if a > 0:\n",
    "    pass  # L'instruction pass dit de ne rien faire\n",
    "elif a < 0:\n",
    "    a = -a\n",
    "    \n",
    "print('Valeur finale')\n",
    "print('a =', a)"
   ]
  },
  {
   "cell_type": "markdown",
   "metadata": {},
   "source": [
    "#Boucles while et for\n",
    "\n",
    "Les boucles permettent de répéter un grand nombre de fois un bloc d'instructions.\n",
    "\n",
    "Il existe deux types de boucles:\n",
    "\n",
    "- les boucles conditionnelles `while`\n",
    "- les boucles inconditionnelles `for`\n",
    "\n",
    "##Les boucles conditionnelles `while`\n",
    "\n",
    "Ces boucles permettent de répéter un bloc d'instructions tant qu'une condition est vérifiée.\n",
    "\n",
    "**Syntaxe**\n",
    "\n",
    "```\n",
    "while condition:\n",
    "    bloc d'instructions\n",
    "```\n"
   ]
  },
  {
   "cell_type": "code",
   "execution_count": 7,
   "metadata": {
    "collapsed": false
   },
   "outputs": [
    {
     "name": "stdout",
     "output_type": "stream",
     "text": [
      "Valeur initiale: 10\n",
      "9\n",
      "8\n",
      "7\n",
      "6\n",
      "5\n",
      "4\n",
      "3\n",
      "2\n",
      "1\n",
      "0\n",
      "Valeur finale: 0\n"
     ]
    }
   ],
   "source": [
    "a = 10\n",
    "print('Valeur initiale:', a)\n",
    "\n",
    "while a > 0:\n",
    "    a = a - 1\n",
    "    print(a)\n",
    "\n",
    "print('Valeur finale:', a)    "
   ]
  },
  {
   "cell_type": "markdown",
   "metadata": {},
   "source": [
    "##Les boucles inconditionnelles `for`\n",
    "\n",
    "Ces boucles permettent de répéter un bloc d'instructions, en réalisant un nombre d'itérations connu à l'avance.\n",
    "\n",
    "**Syntaxe**\n",
    "\n",
    "```\n",
    "for variable dans ensemble itérable:\n",
    "    bloc d'instructions\n",
    "```\n"
   ]
  },
  {
   "cell_type": "code",
   "execution_count": 8,
   "metadata": {
    "collapsed": false
   },
   "outputs": [
    {
     "name": "stdout",
     "output_type": "stream",
     "text": [
      "2\n",
      "4\n",
      "1024\n"
     ]
    }
   ],
   "source": [
    "for i in 1, 2, 10:\n",
    "    print(2**i)"
   ]
  },
  {
   "cell_type": "markdown",
   "metadata": {},
   "source": [
    "Un moyen simple de créer un ensemble itérable est d'utiliser la fonction range.\n",
    "\n",
    "**Syntaxe**\n",
    "\n",
    "```\n",
    "range(start, stop[, step]) -> list of integers\n",
    "```\n"
   ]
  },
  {
   "cell_type": "code",
   "execution_count": 9,
   "metadata": {
    "collapsed": false
   },
   "outputs": [
    {
     "name": "stdout",
     "output_type": "stream",
     "text": [
      "0\n",
      "1\n",
      "2\n",
      "3\n",
      "4\n",
      "5\n",
      "6\n",
      "7\n",
      "8\n",
      "9\n"
     ]
    }
   ],
   "source": [
    "for i in range(10):\n",
    "    print(i)"
   ]
  },
  {
   "cell_type": "code",
   "execution_count": 10,
   "metadata": {
    "collapsed": false
   },
   "outputs": [
    {
     "name": "stdout",
     "output_type": "stream",
     "text": [
      "5\n",
      "10\n",
      "15\n",
      "20\n"
     ]
    }
   ],
   "source": [
    "for i in range(5, 25, 5):\n",
    "    print(i)"
   ]
  },
  {
   "cell_type": "markdown",
   "metadata": {},
   "source": [
    "Quand on a besoin d'aide sur une fonction, on utilise la fonction `help()`"
   ]
  },
  {
   "cell_type": "code",
   "execution_count": 11,
   "metadata": {
    "collapsed": false
   },
   "outputs": [
    {
     "name": "stdout",
     "output_type": "stream",
     "text": [
      "Help on class range in module builtins:\n",
      "\n",
      "class range(object)\n",
      " |  range(stop) -> range object\n",
      " |  range(start, stop[, step]) -> range object\n",
      " |  \n",
      " |  Return a virtual sequence of numbers from start to stop by step.\n",
      " |  \n",
      " |  Methods defined here:\n",
      " |  \n",
      " |  __contains__(self, key, /)\n",
      " |      Return key in self.\n",
      " |  \n",
      " |  __eq__(self, value, /)\n",
      " |      Return self==value.\n",
      " |  \n",
      " |  __ge__(...)\n",
      " |      __ge__=($self, value, /)\n",
      " |      --\n",
      " |      \n",
      " |      Return self>=value.\n",
      " |  \n",
      " |  __getattribute__(self, name, /)\n",
      " |      Return getattr(self, name).\n",
      " |  \n",
      " |  __getitem__(self, key, /)\n",
      " |      Return self[key].\n",
      " |  \n",
      " |  __gt__(self, value, /)\n",
      " |      Return self>value.\n",
      " |  \n",
      " |  __hash__(self, /)\n",
      " |      Return hash(self).\n",
      " |  \n",
      " |  __iter__(self, /)\n",
      " |      Implement iter(self).\n",
      " |  \n",
      " |  __le__(self, value, /)\n",
      " |      Return self<=value.\n",
      " |  \n",
      " |  __len__(self, /)\n",
      " |      Return len(self).\n",
      " |  \n",
      " |  __lt__(self, value, /)\n",
      " |      Return self<value.\n",
      " |  \n",
      " |  __ne__(self, value, /)\n",
      " |      Return self!=value.\n",
      " |  \n",
      " |  __new__(*args, **kwargs) from builtins.type\n",
      " |      Create and return a new object.  See help(type) for accurate signature.\n",
      " |  \n",
      " |  __reduce__(...)\n",
      " |  \n",
      " |  __repr__(self, /)\n",
      " |      Return repr(self).\n",
      " |  \n",
      " |  __reversed__(...)\n",
      " |      Return a reverse iterator.\n",
      " |  \n",
      " |  count(...)\n",
      " |      rangeobject.count(value) -> integer -- return number of occurrences of value\n",
      " |  \n",
      " |  index(...)\n",
      " |      rangeobject.index(value, [start, [stop]]) -> integer -- return index of value.\n",
      " |      Raise ValueError if the value is not present.\n",
      " |  \n",
      " |  ----------------------------------------------------------------------\n",
      " |  Data descriptors defined here:\n",
      " |  \n",
      " |  start\n",
      " |  \n",
      " |  step\n",
      " |  \n",
      " |  stop\n",
      "\n"
     ]
    }
   ],
   "source": [
    "help(range)"
   ]
  },
  {
   "cell_type": "markdown",
   "metadata": {},
   "source": [
    "On peut réaliser des itérations sur les éléments d'une *liste* ou d'un *dictionnaire*."
   ]
  },
  {
   "cell_type": "code",
   "execution_count": 12,
   "metadata": {
    "collapsed": false
   },
   "outputs": [
    {
     "name": "stdout",
     "output_type": "stream",
     "text": [
      "1\n",
      "12\n",
      "48\n",
      "56\n"
     ]
    }
   ],
   "source": [
    "L = [1, 12, 48, 56]\n",
    "for i in L:\n",
    "    print(i)"
   ]
  },
  {
   "cell_type": "code",
   "execution_count": 13,
   "metadata": {
    "collapsed": false
   },
   "outputs": [
    {
     "name": "stdout",
     "output_type": "stream",
     "text": [
      "\n",
      " Les clés peuvent être itérées directement en python3\n",
      "nom\n",
      "age\n",
      "prenom\n",
      "\n",
      " Les valeurs sont appelées grâce à l'attribut values des dictionnaires\n",
      "Doe\n",
      "77\n",
      "John\n",
      "\n",
      " Itérations sur les clés et valeurs\n",
      "nom => Doe\n",
      "age => 77\n",
      "prenom => John\n"
     ]
    }
   ],
   "source": [
    "D = { 'nom': 'Doe' , 'prenom': 'John', 'age': 77 }\n",
    "\n",
    "# Les dictionnaires étant des associations de clés(key) et de valeurs(value),\n",
    "# on peut itérer sur les clés, les valeurs, ou les deux.\n",
    "\n",
    "print(\"\\n\", \"Les clés peuvent être itérées directement en python3\")\n",
    "for key in D:\n",
    "    print(key)\n",
    "\n",
    "print(\"\\n\", \"Les valeurs sont appelées grâce à l'attribut values des dictionnaires\")\n",
    "for value in D.values():\n",
    "    print(value)\n",
    "    \n",
    "print(\"\\n\", \"Itérations sur les clés et valeurs\")\n",
    "for key, value in D.items():\n",
    "    print(key, '=>', value)"
   ]
  }
 ],
 "metadata": {},
 "nbformat": 4,
 "nbformat_minor": 0
}