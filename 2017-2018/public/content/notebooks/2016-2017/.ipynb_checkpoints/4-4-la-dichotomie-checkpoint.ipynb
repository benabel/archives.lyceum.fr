{
 "cells": [
  {
   "cell_type": "markdown",
   "metadata": {},
   "source": [
    "# Commencons par créer une liste d'éléments triés\n",
    "\n",
    "Pour cela nous allons écrire une fonction pour créer facilement des  listes d'entiers successifs."
   ]
  },
  {
   "cell_type": "code",
   "execution_count": 1,
   "metadata": {
    "collapsed": false
   },
   "outputs": [
    {
     "name": "stdout",
     "output_type": "stream",
     "text": [
      "[0, 1, 2, 3, 4, 5, 6, 7, 8, 9]\n"
     ]
    }
   ],
   "source": [
    "def create_liste_triée(N):\n",
    "    \"\"\"Renvoie une liste triée de N entiers entre 0 et N-1\"\"\"\n",
    "    L = []\n",
    "    for i in range(N):\n",
    "        L.append(i)\n",
    "    return L\n",
    "triés = create_liste_triée(10)\n",
    "print(triés)"
   ]
  },
  {
   "cell_type": "markdown",
   "metadata": {},
   "source": [
    "# La recherche en table\n",
    "\n",
    "Pour trouver un élément la méthode la plus simple consisterait à parcourir l'ensemble du tableau et de s'arrêter lorsqu'on trouve l'élément.\n",
    "\n",
    "On peut par exemple écrire cet algorithme avec une boucle `while`."
   ]
  },
  {
   "cell_type": "code",
   "execution_count": 2,
   "metadata": {
    "collapsed": false
   },
   "outputs": [
    {
     "name": "stdout",
     "output_type": "stream",
     "text": [
      "Non trouvé\n"
     ]
    }
   ],
   "source": [
    "cherché = 12\n",
    "i = 0\n",
    "while i < len(triés) and triés[i] != cherché:\n",
    "    i += 1\n",
    "    \n",
    "if i < len(triés):\n",
    "    print(\"Trouvé:\", i)\n",
    "else:\n",
    "    print(\"Non trouvé\")"
   ]
  },
  {
   "cell_type": "code",
   "execution_count": 3,
   "metadata": {
    "collapsed": false
   },
   "outputs": [
    {
     "name": "stdout",
     "output_type": "stream",
     "text": [
      "Trouvé: 7\n"
     ]
    }
   ],
   "source": [
    "cherché = 7\n",
    "i = 0\n",
    "while i < len(triés) and triés[i] != cherché:\n",
    "    i += 1\n",
    "if i < len(triés):\n",
    "    print(\"Trouvé:\", i)\n",
    "else:\n",
    "    print(\"Non trouvé\")"
   ]
  },
  {
   "cell_type": "markdown",
   "metadata": {},
   "source": [
    "Cette méthode a l'avantage d'ếtre simple, et fonctionne cependant si le tableau est long l'algorithme devient très long. Il faut dans le pire des cas(si l'élément cherché està la fin ou n'est pas trouvé) par courir toute la liste.\n",
    "\n",
    "*Remarque: On dit que c'est un algorithme de complexité n, n étant la taille des données. L'algorithme effectue n opérations dans le pire des cas.*\n",
    "\n",
    "Mesurons le temps pris par cet algorithme sur une liste de 10 millions d'éléments grâce à la fonction magique `%timeit`"
   ]
  },
  {
   "cell_type": "code",
   "execution_count": 4,
   "metadata": {
    "collapsed": false
   },
   "outputs": [
    {
     "name": "stdout",
     "output_type": "stream",
     "text": [
      "Non trouvé\n",
      "Non trouvé\n",
      "Non trouvé\n",
      "Non trouvé\n",
      "1 loop, best of 3: 3.46 s per loop\n"
     ]
    }
   ],
   "source": [
    "%%timeit\n",
    "triés = create_liste_triée(10000000)\n",
    "\n",
    "cherché = 1E10\n",
    "i = 0\n",
    "while i < len(triés) and triés[i] != cherché:\n",
    "    i += 1\n",
    "if i < len(triés):\n",
    "    print(\"Trouvé:\", i)\n",
    "else:\n",
    "    print(\"Non trouvé\")"
   ]
  },
  {
   "cell_type": "markdown",
   "metadata": {},
   "source": [
    "On voit que dans le meilleur des trois cas l'algorithme a pris environ 3s pour effectuer cette boucle."
   ]
  },
  {
   "cell_type": "markdown",
   "metadata": {},
   "source": [
    "# La dichotomie\n",
    "\n",
    "Nous allons maintenant étudier l'algorithme de dichotomie. On peut comparer ça à une recherche dans un dictionnaire(qui a eu la bonne idée d'être trié!)\n",
    "\n",
    "Nous allons commencer par le nombre au milieu de la liste, puis s'il ne s'agit pas de ce nombre, regarder s'il est supérieur ou inférieur au nombre chérché.\n",
    "\n",
    "- S'il est inférieur, on effectue une nouvelle comparaison au milieu de la première moitié du dictionnaire.\n",
    "- S'il est supérieur, on effectue la comparaison au milieu du deuxième dictionnaire.\n",
    "\n",
    "\n",
    "Et ainsi de suite...\n",
    "\n",
    "Voici un exemple d'implémentation:"
   ]
  },
  {
   "cell_type": "code",
   "execution_count": 5,
   "metadata": {
    "collapsed": false
   },
   "outputs": [
    {
     "name": "stdout",
     "output_type": "stream",
     "text": [
      "On cherche en  5\n",
      "On cherche en  7\n",
      "Trouvé: 7\n"
     ]
    }
   ],
   "source": [
    "cherché = 7\n",
    "triés = create_liste_triée(10)\n",
    "\n",
    "i = 0\n",
    "j = len(triés)\n",
    "while i < j:\n",
    "    # On se place au milieu de la liste\n",
    "    k = (i + j) // 2 # il, s'agit d'une division entière\n",
    "    print(\"On cherche en \", k)\n",
    "    if triés[k] == cherché:\n",
    "        i = k\n",
    "        j = k\n",
    "    elif triés[k] < cherché:\n",
    "        i = k\n",
    "    else:\n",
    "        j = k\n",
    "\n",
    "if triés[i] == cherché:\n",
    "    print(\"Trouvé:\", triés[k])\n",
    "else:\n",
    "    print(\"Non trouvé\")\n",
    "      "
   ]
  },
  {
   "cell_type": "markdown",
   "metadata": {},
   "source": [
    "Incroyable on a trouvé en deux fois! Et si on ne trouve pas alors?"
   ]
  },
  {
   "cell_type": "code",
   "execution_count": 6,
   "metadata": {
    "collapsed": false
   },
   "outputs": [
    {
     "name": "stdout",
     "output_type": "stream",
     "text": [
      "On cherche en  5\n",
      "On cherche en  8\n",
      "On cherche en  9\n",
      "Non trouvé\n"
     ]
    }
   ],
   "source": [
    "cherché = 11\n",
    "i = 0\n",
    "j = len(triés)\n",
    "while i != j:\n",
    "    # On se place au milieu de la liste\n",
    "    k = (i + j) // 2 # il, s'agit d'une division entière\n",
    "    print(\"On cherche en \", k)\n",
    "    if triés[k] == cherché:\n",
    "        i = k\n",
    "        j = k\n",
    "    elif triés[k] < cherché:\n",
    "        i = k + 1\n",
    "    else:\n",
    "        j = k - 1\n",
    "\n",
    "if i < len(triés):\n",
    "    print(\"Trouvé:\", triés[i])\n",
    "else:\n",
    "    print(\"Non trouvé\")"
   ]
  },
  {
   "cell_type": "markdown",
   "metadata": {},
   "source": [
    "Incroyable on a trouvé en trois fois seulement. Il s'agit d'un logarithme ayant une compléxité en $log_2 (n)$.\n",
    "\n",
    "Par exemple:\n",
    "\n",
    "- si n= 10: $log_2 (10) = 3.3$.\n",
    "- si n= 1E7: $log_2 (10 000 000) = 23$.\n",
    "\n",
    "**Au lieu de 10 millions d'opérations, on en effectue 23!**\n",
    "\n",
    "Mesurons le temps de recherche pour un élément trouvé et pour un élément non trouvé.\n"
   ]
  },
  {
   "cell_type": "code",
   "execution_count": 7,
   "metadata": {
    "collapsed": false
   },
   "outputs": [
    {
     "name": "stdout",
     "output_type": "stream",
     "text": [
      "On cherche en  5000000\n",
      "On cherche en  2499999\n",
      "On cherche en  1249999\n",
      "On cherche en  624999\n",
      "On cherche en  312499\n",
      "On cherche en  156249\n",
      "On cherche en  78124\n",
      "On cherche en  39061\n",
      "On cherche en  19530\n",
      "On cherche en  9764\n",
      "On cherche en  4881\n",
      "On cherche en  2440\n",
      "On cherche en  1219\n",
      "On cherche en  609\n",
      "On cherche en  304\n",
      "On cherche en  151\n",
      "On cherche en  75\n",
      "On cherche en  37\n",
      "On cherche en  18\n",
      "On cherche en  8\n",
      "On cherche en  13\n",
      "Trouvé: 13\n",
      "On cherche en  5000000\n",
      "On cherche en  2499999\n",
      "On cherche en  1249999\n",
      "On cherche en  624999\n",
      "On cherche en  312499\n",
      "On cherche en  156249\n",
      "On cherche en  78124\n",
      "On cherche en  39061\n",
      "On cherche en  19530\n",
      "On cherche en  9764\n",
      "On cherche en  4881\n",
      "On cherche en  2440\n",
      "On cherche en  1219\n",
      "On cherche en  609\n",
      "On cherche en  304\n",
      "On cherche en  151\n",
      "On cherche en  75\n",
      "On cherche en  37\n",
      "On cherche en  18\n",
      "On cherche en  8\n",
      "On cherche en  13\n",
      "Trouvé: 13\n",
      "On cherche en  5000000\n",
      "On cherche en  2499999\n",
      "On cherche en  1249999\n",
      "On cherche en  624999\n",
      "On cherche en  312499\n",
      "On cherche en  156249\n",
      "On cherche en  78124\n",
      "On cherche en  39061\n",
      "On cherche en  19530\n",
      "On cherche en  9764\n",
      "On cherche en  4881\n",
      "On cherche en  2440\n",
      "On cherche en  1219\n",
      "On cherche en  609\n",
      "On cherche en  304\n",
      "On cherche en  151\n",
      "On cherche en  75\n",
      "On cherche en  37\n",
      "On cherche en  18\n",
      "On cherche en  8\n",
      "On cherche en  13\n",
      "Trouvé: 13\n",
      "On cherche en  5000000\n",
      "On cherche en  2499999\n",
      "On cherche en  1249999\n",
      "On cherche en  624999\n",
      "On cherche en  312499\n",
      "On cherche en  156249\n",
      "On cherche en  78124\n",
      "On cherche en  39061\n",
      "On cherche en  19530\n",
      "On cherche en  9764\n",
      "On cherche en  4881\n",
      "On cherche en  2440\n",
      "On cherche en  1219\n",
      "On cherche en  609\n",
      "On cherche en  304\n",
      "On cherche en  151\n",
      "On cherche en  75\n",
      "On cherche en  37\n",
      "On cherche en  18\n",
      "On cherche en  8\n",
      "On cherche en  13\n",
      "Trouvé: 13\n",
      "1 loop, best of 3: 895 ms per loop\n"
     ]
    }
   ],
   "source": [
    "%%timeit\n",
    "triés = create_liste_triée(10000000)\n",
    "\n",
    "cherché = 13\n",
    "i = 0\n",
    "j = len(triés)\n",
    "while i != j:\n",
    "    # On se place au milieu de la liste\n",
    "    k = (i + j) // 2 # il, s'agit d'une division entière\n",
    "    print(\"On cherche en \", k)\n",
    "    if triés[k] == cherché:\n",
    "        i = k\n",
    "        j = k\n",
    "    elif triés[k] < cherché:\n",
    "        i = k + 1\n",
    "    else:\n",
    "        j = k - 1\n",
    "\n",
    "if i < len(triés):\n",
    "    print(\"Trouvé:\", triés[i])\n",
    "else:\n",
    "    print(\"Non trouvé\")"
   ]
  },
  {
   "cell_type": "markdown",
   "metadata": {},
   "source": [
    "Il nous a fallu moins d'une seconde cette fois-ci. \n",
    "\n",
    "Voyons si l'élément est non trouvé."
   ]
  },
  {
   "cell_type": "code",
   "execution_count": 8,
   "metadata": {
    "collapsed": false
   },
   "outputs": [
    {
     "name": "stdout",
     "output_type": "stream",
     "text": [
      "On cherche en  5000000\n",
      "On cherche en  7500000\n",
      "On cherche en  8750000\n",
      "On cherche en  9375000\n",
      "On cherche en  9687500\n",
      "On cherche en  9843750\n",
      "On cherche en  9921875\n",
      "On cherche en  9960938\n",
      "On cherche en  9980469\n",
      "On cherche en  9990235\n",
      "On cherche en  9995118\n",
      "On cherche en  9997559\n",
      "On cherche en  9998780\n",
      "On cherche en  9999390\n",
      "On cherche en  9999695\n",
      "On cherche en  9999848\n",
      "On cherche en  9999924\n",
      "On cherche en  9999962\n",
      "On cherche en  9999981\n",
      "On cherche en  9999991\n",
      "On cherche en  9999996\n",
      "On cherche en  9999998\n",
      "On cherche en  9999999\n",
      "Non trouvé\n",
      "On cherche en  5000000\n",
      "On cherche en  7500000\n",
      "On cherche en  8750000\n",
      "On cherche en  9375000\n",
      "On cherche en  9687500\n",
      "On cherche en  9843750\n",
      "On cherche en  9921875\n",
      "On cherche en  9960938\n",
      "On cherche en  9980469\n",
      "On cherche en  9990235\n",
      "On cherche en  9995118\n",
      "On cherche en  9997559\n",
      "On cherche en  9998780\n",
      "On cherche en  9999390\n",
      "On cherche en  9999695\n",
      "On cherche en  9999848\n",
      "On cherche en  9999924\n",
      "On cherche en  9999962\n",
      "On cherche en  9999981\n",
      "On cherche en  9999991\n",
      "On cherche en  9999996\n",
      "On cherche en  9999998\n",
      "On cherche en  9999999\n",
      "Non trouvé\n",
      "On cherche en  5000000\n",
      "On cherche en  7500000\n",
      "On cherche en  8750000\n",
      "On cherche en  9375000\n",
      "On cherche en  9687500\n",
      "On cherche en  9843750\n",
      "On cherche en  9921875\n",
      "On cherche en  9960938\n",
      "On cherche en  9980469\n",
      "On cherche en  9990235\n",
      "On cherche en  9995118\n",
      "On cherche en  9997559\n",
      "On cherche en  9998780\n",
      "On cherche en  9999390\n",
      "On cherche en  9999695\n",
      "On cherche en  9999848\n",
      "On cherche en  9999924\n",
      "On cherche en  9999962\n",
      "On cherche en  9999981\n",
      "On cherche en  9999991\n",
      "On cherche en  9999996\n",
      "On cherche en  9999998\n",
      "On cherche en  9999999\n",
      "Non trouvé\n",
      "On cherche en  5000000\n",
      "On cherche en  7500000\n",
      "On cherche en  8750000\n",
      "On cherche en  9375000\n",
      "On cherche en  9687500\n",
      "On cherche en  9843750\n",
      "On cherche en  9921875\n",
      "On cherche en  9960938\n",
      "On cherche en  9980469\n",
      "On cherche en  9990235\n",
      "On cherche en  9995118\n",
      "On cherche en  9997559\n",
      "On cherche en  9998780\n",
      "On cherche en  9999390\n",
      "On cherche en  9999695\n",
      "On cherche en  9999848\n",
      "On cherche en  9999924\n",
      "On cherche en  9999962\n",
      "On cherche en  9999981\n",
      "On cherche en  9999991\n",
      "On cherche en  9999996\n",
      "On cherche en  9999998\n",
      "On cherche en  9999999\n",
      "Non trouvé\n",
      "1 loop, best of 3: 912 ms per loop\n"
     ]
    }
   ],
   "source": [
    "%%timeit\n",
    "triés = create_liste_triée(10000000)\n",
    "\n",
    "cherché = 1E9\n",
    "i = 0\n",
    "j = len(triés)\n",
    "while i != j:\n",
    "    # On se place au milieu de la liste\n",
    "    k = (i + j) // 2 # il, s'agit d'une division entière\n",
    "    print(\"On cherche en \", k)\n",
    "    if triés[k] == cherché:\n",
    "        i = k\n",
    "        j = k\n",
    "    elif triés[k] < cherché:\n",
    "        i = k + 1\n",
    "    else:\n",
    "        j = k - 1\n",
    "\n",
    "if i < len(triés):\n",
    "    print(\"Trouvé:\", triés[i])\n",
    "else:\n",
    "    print(\"Non trouvé\")"
   ]
  },
  {
   "cell_type": "markdown",
   "metadata": {},
   "source": [
    "\n",
    "A nouveau on effectue les 23 itérations en moins d'une seconde. Voila pourquoi la dichotomie est une méthode si puissante.\n",
    "\n",
    "# Conclusion\n",
    "\n",
    "Nous avons vu sur cet exemple en quoi la recherche dichotomique était une méthode efficace pour rechercher un élément dans un tableau trié.\n",
    "\n",
    "Cela nous a permis d'introduire la notion de complexité d'un algorithme qui vise à évaluer l'efficacité des algorithmes en mesurant le nombre d'opérations nécessaires à la finalisation d'un algorithme.\n",
    "\n",
    "Cette méthode n'est qu'un exemple de nombreux autres algorithmes utilisant une méthode générale appelée \"Diviser pour régner\"(Divide and conquer en anglais).\n",
    "\n",
    ">En informatique, diviser pour régner (du latin « Divide ut imperes », divide and conquer en anglais) est une technique algorithmique consistant à :\n",
    "\n",
    ">**Diviser** : découper un problème initial en sous-problèmes ;\n",
    "\n",
    ">**Régner** : résoudre les sous-problèmes (récursivement ou directement s'ils sont assez petits) ;\n",
    "\n",
    ">**Combiner** : calculer une solution au problème initial à partir des solutions des sous-problèmes.\n",
    "\n",
    "<p><a href=\"https://commons.wikimedia.org/wiki/File:Trois_%C3%A9tapes_illustr%C3%A9_avec_l%27algorithme_du_tri_fusion.svg#/media/File:Trois_%C3%A9tapes_illustr%C3%A9_avec_l%27algorithme_du_tri_fusion.svg\"><img src=\"https://upload.wikimedia.org/wikipedia/commons/4/4a/Trois_%C3%A9tapes_illustr%C3%A9_avec_l%27algorithme_du_tri_fusion.svg\" alt=\"Trois étapes illustré avec l'algorithme du tri fusion.svg\" width=\"652\" height=\"113\"></a><br>Par <a href=\"//commons.wikimedia.org/w/index.php?title=User:Fschwarzentruber&amp;action=edit&amp;redlink=1\" class=\"new\" title=\"User:Fschwarzentruber (page does not exist)\">Fschwarzentruber</a> — <span class=\"int-own-work\" lang=\"fr\">Travail personnel</span>, <a href=\"http://creativecommons.org/licenses/by-sa/4.0\" title=\"Creative Commons Attribution-Share Alike 4.0\">CC BY-SA 4.0</a>, <a href=\"https://commons.wikimedia.org/w/index.php?curid=47869242\">Lien</a></p>\n",
    "\n",
    "\n",
    ">Cette technique fournit des algorithmes efficaces pour de nombreux problèmes, comme la **recherche d'un élément dans un tableau trié** (recherche dichotomique), **le tri** (tri fusion, tri rapide), **la multiplication de grands nombres** (algorithme de Karatsuba) ou **la transformation de Fourier discrète** (transformation de Fourier rapide).\n",
    "[Source Wikipedia](https://fr.wikipedia.org/wiki/Diviser_pour_r%C3%A9gner_(informatique))"
   ]
  }
 ],
 "metadata": {
  "kernelspec": {
   "display_name": "Python [default]",
   "language": "python",
   "name": "python3"
  },
  "language_info": {
   "codemirror_mode": {
    "name": "ipython",
    "version": 3
   },
   "file_extension": ".py",
   "mimetype": "text/x-python",
   "name": "python",
   "nbconvert_exporter": "python",
   "pygments_lexer": "ipython3",
   "version": "3.5.2"
  }
 },
 "nbformat": 4,
 "nbformat_minor": 0
}
