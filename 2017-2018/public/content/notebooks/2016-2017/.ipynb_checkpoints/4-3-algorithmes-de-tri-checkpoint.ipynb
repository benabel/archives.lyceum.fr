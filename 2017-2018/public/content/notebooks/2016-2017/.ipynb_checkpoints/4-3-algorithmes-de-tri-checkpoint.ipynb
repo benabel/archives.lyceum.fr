{
 "cells": [
  {
   "cell_type": "markdown",
   "metadata": {},
   "source": [
    "# Créer une liste de données aléatoire\n",
    "\n",
    "Commencer par créer des données de façon aléatoire grâce au module `random` afin de pouvoir les classer."
   ]
  },
  {
   "cell_type": "code",
   "execution_count": 1,
   "metadata": {
    "collapsed": false
   },
   "outputs": [
    {
     "name": "stdout",
     "output_type": "stream",
     "text": [
      "[54, 85, 75, 27, 65, 53, 44, 28, 38, 90, 63, 66, 96, 29, 66, 25, 84, 72, 47, 39, 83, 51, 7, 31, 98, 83, 39, 31, 72, 12, 92, 21, 47, 47, 58, 68, 42, 69, 4, 50, 81, 20, 35, 90, 98, 78, 21, 84, 45, 9]\n"
     ]
    }
   ],
   "source": [
    "# Importer le module random pour créer des nombres au hasard\n",
    "import random\n",
    "\n",
    "def genere_liste_aleatoire(N, n):\n",
    "    \"\"\"Génére une liste aléatoire de N éléments compris entre 0 et n\"\"\"\n",
    "    # Créer une liste vide pour accueillir les nombres\n",
    "    data = []\n",
    "    # ajoute les éléments aléatoires dans la liste\n",
    "    for i in range(N):\n",
    "        data.append(random.randrange(n))\n",
    "    return data\n",
    "\n",
    "# Création d'une liste de 50 valeurs comprises entre 0 et 100\n",
    "liste_aléatoire = genere_liste_aleatoire(50, 100)\n",
    "print(liste_aléatoire)"
   ]
  },
  {
   "cell_type": "markdown",
   "metadata": {},
   "source": [
    "# Le tri par sélection\n",
    "## Principe\n",
    "> Sur un tableau de n éléments (numérotés de 0 à n), le principe du tri par sélection est le suivant :\n",
    "- rechercher le plus petit élément du tableau, et l'échanger avec l'élément d'indice 0 ;\n",
    "- rechercher le second plus petit élément du tableau, et l'échanger avec l'élément d'indice 1 ;\n",
    "- continuer de cette façon jusqu'à ce que le tableau soit entièrement trié.\n",
    "\n",
    "[Source Wikipedia](http://fr.wikipedia.org/wiki/Tri_par_s%C3%A9lection)\n",
    "\n",
    "## Illustration graphique\n",
    "\n",
    "<a title=\"Joestape89 at the English language Wikipedia [GFDL (http://www.gnu.org/copyleft/fdl.html) or CC-BY-SA-3.0 (http://creativecommons.org/licenses/by-sa/3.0/)], via Wikimedia Commons\" href=\"http://commons.wikimedia.org/wiki/File%3ASelection-Sort-Animation.gif\"><img width=\"64\" alt=\"Selection-Sort-Animation\" src=\"//upload.wikimedia.org/wikipedia/commons/9/94/Selection-Sort-Animation.gif\"/></a>\n",
    "\n",
    "## Illustration en vidéo"
   ]
  },
  {
   "cell_type": "code",
   "execution_count": 2,
   "metadata": {
    "collapsed": false
   },
   "outputs": [
    {
     "data": {
      "image/jpeg": "[encoded data removed]",
      "text/html": [
       "\n",
       "        <iframe\n",
       "            width=\"400\"\n",
       "            height=\"300\"\n",
       "            src=\"https://www.youtube.com/embed/Ns4TPTC8whw\"\n",
       "            frameborder=\"0\"\n",
       "            allowfullscreen\n",
       "        ></iframe>\n",
       "        "
      ],
      "text/plain": [
       "<IPython.lib.display.YouTubeVideo at 0x7f37ac12dc88>"
      ]
     },
     "execution_count": 2,
     "metadata": {},
     "output_type": "execute_result"
    }
   ],
   "source": [
    "from IPython.display import YouTubeVideo\n",
    "# Select-sort with Gypsy folk dance\n",
    "# Created at Sapientia University, Tirgu Mures (Marosvásárhely), Romania.\n",
    "# Directed by Kátai Zoltán and Tóth László.\n",
    "# In cooperation with \"Maros Művészegyüttes\", Tirgu Mures (Marosvásárhely), Romania.\n",
    "YouTubeVideo('Ns4TPTC8whw')"
   ]
  },
  {
   "cell_type": "markdown",
   "metadata": {},
   "source": [
    "## Implémentation en python\n",
    "\n",
    "Voici un exemple de code implémentant cet algorithme de tri présentant l'état de la liste à chaque tour avancée dans le tableau. Vous pouvez voir que le tableau est bien classé en **plaçant systématiquement l'élément minimum du tableau restant à trier à la fin des éléments triés**.\n",
    "\n"
   ]
  },
  {
   "cell_type": "code",
   "execution_count": 19,
   "metadata": {
    "collapsed": false
   },
   "outputs": [
    {
     "name": "stdout",
     "output_type": "stream",
     "text": [
      "Liste initiale:  [5, 13, 95, 14, 95, 48, 80, 78, 26, 87]\n",
      "--------------------------------------------------------------------------------\n",
      "i=  0\n",
      "Etat de la liste: [5, 13, 95, 14, 95, 48, 80, 78, 26, 87]\n",
      "Éléments triés:  [5] Reste à trier:  [13, 95, 14, 95, 48, 80, 78, 26, 87]\n",
      "--------------------------------------------------------------------------------\n",
      "i=  1\n",
      "Etat de la liste: [5, 13, 95, 14, 95, 48, 80, 78, 26, 87]\n",
      "Éléments triés:  [5, 13] Reste à trier:  [95, 14, 95, 48, 80, 78, 26, 87]\n",
      "--------------------------------------------------------------------------------\n",
      "i=  2\n",
      "Etat de la liste: [5, 13, 14, 95, 95, 48, 80, 78, 26, 87]\n",
      "Éléments triés:  [5, 13, 14] Reste à trier:  [95, 95, 48, 80, 78, 26, 87]\n",
      "--------------------------------------------------------------------------------\n",
      "i=  3\n",
      "Etat de la liste: [5, 13, 14, 26, 95, 48, 80, 78, 95, 87]\n",
      "Éléments triés:  [5, 13, 14, 26] Reste à trier:  [95, 48, 80, 78, 95, 87]\n",
      "--------------------------------------------------------------------------------\n",
      "i=  4\n",
      "Etat de la liste: [5, 13, 14, 26, 48, 95, 80, 78, 95, 87]\n",
      "Éléments triés:  [5, 13, 14, 26, 48] Reste à trier:  [95, 80, 78, 95, 87]\n",
      "--------------------------------------------------------------------------------\n",
      "i=  5\n",
      "Etat de la liste: [5, 13, 14, 26, 48, 78, 80, 95, 95, 87]\n",
      "Éléments triés:  [5, 13, 14, 26, 48, 78] Reste à trier:  [80, 95, 95, 87]\n",
      "--------------------------------------------------------------------------------\n",
      "i=  6\n",
      "Etat de la liste: [5, 13, 14, 26, 48, 78, 80, 95, 95, 87]\n",
      "Éléments triés:  [5, 13, 14, 26, 48, 78, 80] Reste à trier:  [95, 95, 87]\n",
      "--------------------------------------------------------------------------------\n",
      "i=  7\n",
      "Etat de la liste: [5, 13, 14, 26, 48, 78, 80, 87, 95, 95]\n",
      "Éléments triés:  [5, 13, 14, 26, 48, 78, 80, 87] Reste à trier:  [95, 95]\n",
      "--------------------------------------------------------------------------------\n",
      "i=  8\n",
      "Etat de la liste: [5, 13, 14, 26, 48, 78, 80, 87, 95, 95]\n",
      "Éléments triés:  [5, 13, 14, 26, 48, 78, 80, 87, 95] Reste à trier:  [95]\n",
      "--------------------------------------------------------------------------------\n",
      "i=  9\n",
      "Etat de la liste: [5, 13, 14, 26, 48, 78, 80, 87, 95, 95]\n",
      "Éléments triés:  [5, 13, 14, 26, 48, 78, 80, 87, 95, 95] Reste à trier:  []\n",
      "Liste triée:  [5, 13, 14, 26, 48, 78, 80, 87, 95, 95]\n"
     ]
    }
   ],
   "source": [
    "# Création d'une liste de 10 valeurs comprises entre 0 et 100 à trier\n",
    "data = genere_liste_aleatoire(10, 100)\n",
    "print(\"Liste initiale: \", data)\n",
    "\n",
    "# Calculer la taille du tableau\n",
    "N = len(data)\n",
    "# Parcourir le tableau entier\n",
    "for i in range(N):\n",
    "    print('-' * 80)\n",
    "    print(\"i= \", i)\n",
    "    # Stocker la valeur initiale de la case d'indice i, et son indice\n",
    "    minimum = data[i]\n",
    "    i_min = i\n",
    "    #  Parcourir le reste du tableau pour rechercher l'élément le plus petit restant\n",
    "    for j in range(i, N):\n",
    "        if data[j] < minimum:\n",
    "            # Stocker la valeur du minimum et son indice\n",
    "            minimum = data[j]\n",
    "            i_min = j\n",
    "    # Intervertir la valeur initiale de la case d'indice i et le minimum trouvé\n",
    "    tmp = data[i]\n",
    "    data[i] = minimum\n",
    "    data[i_min] = tmp\n",
    "    # Affiche les états intermédiaires de la liste\n",
    "    print(\"Etat de la liste:\", data)\n",
    "    print(\"Éléments triés: \", data[:i+1], \"Reste à trier: \", data[i+1:N])\n",
    "\n",
    "print(\"Liste triée: \", data)"
   ]
  },
  {
   "cell_type": "markdown",
   "metadata": {},
   "source": [
    "# Le tri par insertion\n",
    "\n",
    "> Dans l'algorithme, on parcourt le tableau à trier du début à la fin. Au moment où on considère le i-ème élément, les éléments qui le précèdent sont déjà triés. Pour faire l'analogie avec l'exemple du jeu de cartes, lorsqu'on est à la i-ème étape du parcours, le i-ème élément est la carte saisie, les éléments précédents sont la main triée et les éléments suivants correspondent aux cartes encore mélangées sur la table.\n",
    "\n",
    "> L'objectif d'une étape est d'insérer le i-ème élément à sa place parmi ceux qui précèdent. Il faut pour cela trouver où l'élément doit être inséré en le comparant aux autres, puis décaler les éléments afin de pouvoir effectuer l'insertion. En pratique, ces deux actions sont fréquemment effectuées en une passe, qui consiste à faire « remonter » l'élément au fur et à mesure jusqu'à rencontrer un élément plus petit.\n",
    "\n",
    "[Source Wikipedia](http://fr.wikipedia.org/wiki/Tri_par_insertion)\n",
    "\n",
    "## Illustration graphique\n",
    "\n",
    "<p><a href=\"http://commons.wikimedia.org/wiki/File:Insertion-sort-example-300px.gif#mediaviewer/File:Insertion-sort-example-300px.gif\"><img alt=\"Insertion-sort-example-300px.gif\" src=\"http://upload.wikimedia.org/wikipedia/commons/0/0f/Insertion-sort-example-300px.gif\"></a><br>\"<a href=\"http://commons.wikimedia.org/wiki/File:Insertion-sort-example-300px.gif#mediaviewer/File:Insertion-sort-example-300px.gif\">Insertion-sort-example-300px</a>\" by <a href=\"//commons.wikimedia.org/w/index.php?title=User:Swfung8&amp;action=edit&amp;redlink=1\" class=\"new\" title=\"User:Swfung8 (page does not exist)\">Swfung8</a> - <span class=\"int-own-work\">Own work</span>. Licensed under <a title=\"Creative Commons Attribution-Share Alike 3.0\" href=\"http://creativecommons.org/licenses/by-sa/3.0\">CC BY-SA 3.0</a> via <a href=\"//commons.wikimedia.org/wiki/\">Wikimedia Commons</a>.</p>\n",
    "\n",
    "## Illustration en vidéo"
   ]
  },
  {
   "cell_type": "code",
   "execution_count": null,
   "metadata": {
    "collapsed": false
   },
   "outputs": [],
   "source": [
    "from IPython.display import YouTubeVideo\n",
    "# Insert-sort with Romanian folk dance \n",
    "# Created at Sapientia University, Tirgu Mures (Marosvásárhely), Romania.\n",
    "# Directed by Kátai Zoltán and Tóth László.\n",
    "# In cooperation with \"Maros Művészegyüttes\", Tirgu Mures (Marosvásárhely), Romania.\n",
    "YouTubeVideo('ROalU379l3U')"
   ]
  },
  {
   "cell_type": "markdown",
   "metadata": {},
   "source": [
    "## Implémentation en python\n",
    "\n",
    "Voici un exemple d'implémentation ou le tableau est parcouru de la gauche vers la droite, observer bien ou est placée la valeur à insérer à chaque tour de la boucle."
   ]
  },
  {
   "cell_type": "code",
   "execution_count": 31,
   "metadata": {
    "collapsed": false
   },
   "outputs": [
    {
     "name": "stdout",
     "output_type": "stream",
     "text": [
      "Liste initiale:  [1, 49, 35, 9, 34, 2, 63, 56, 91, 40]\n",
      "--------------------------------------------------------------------------------\n",
      "i=  1\n",
      "Valeur à insérer: 49\n",
      "Etat intérmédiaire de la liste:  [1, 49, 35, 9, 34, 2, 63, 56, 91, 40]\n",
      "--------------------------------------------------------------------------------\n",
      "i=  2\n",
      "Valeur à insérer: 35\n",
      "On remonte la valeur <- [1, 35, 49, 9, 34, 2, 63, 56, 91, 40]\n",
      "Etat intérmédiaire de la liste:  [1, 35, 49, 9, 34, 2, 63, 56, 91, 40]\n",
      "--------------------------------------------------------------------------------\n",
      "i=  3\n",
      "Valeur à insérer: 9\n",
      "On remonte la valeur <- [1, 35, 9, 49, 34, 2, 63, 56, 91, 40]\n",
      "On remonte la valeur <- [1, 9, 35, 49, 34, 2, 63, 56, 91, 40]\n",
      "Etat intérmédiaire de la liste:  [1, 9, 35, 49, 34, 2, 63, 56, 91, 40]\n",
      "--------------------------------------------------------------------------------\n",
      "i=  4\n",
      "Valeur à insérer: 34\n",
      "On remonte la valeur <- [1, 9, 35, 34, 49, 2, 63, 56, 91, 40]\n",
      "On remonte la valeur <- [1, 9, 34, 35, 49, 2, 63, 56, 91, 40]\n",
      "Etat intérmédiaire de la liste:  [1, 9, 34, 35, 49, 2, 63, 56, 91, 40]\n",
      "--------------------------------------------------------------------------------\n",
      "i=  5\n",
      "Valeur à insérer: 2\n",
      "On remonte la valeur <- [1, 9, 34, 35, 2, 49, 63, 56, 91, 40]\n",
      "On remonte la valeur <- [1, 9, 34, 2, 35, 49, 63, 56, 91, 40]\n",
      "On remonte la valeur <- [1, 9, 2, 34, 35, 49, 63, 56, 91, 40]\n",
      "On remonte la valeur <- [1, 2, 9, 34, 35, 49, 63, 56, 91, 40]\n",
      "Etat intérmédiaire de la liste:  [1, 2, 9, 34, 35, 49, 63, 56, 91, 40]\n",
      "--------------------------------------------------------------------------------\n",
      "i=  6\n",
      "Valeur à insérer: 63\n",
      "Etat intérmédiaire de la liste:  [1, 2, 9, 34, 35, 49, 63, 56, 91, 40]\n",
      "--------------------------------------------------------------------------------\n",
      "i=  7\n",
      "Valeur à insérer: 56\n",
      "On remonte la valeur <- [1, 2, 9, 34, 35, 49, 56, 63, 91, 40]\n",
      "Etat intérmédiaire de la liste:  [1, 2, 9, 34, 35, 49, 56, 63, 91, 40]\n",
      "--------------------------------------------------------------------------------\n",
      "i=  8\n",
      "Valeur à insérer: 91\n",
      "Etat intérmédiaire de la liste:  [1, 2, 9, 34, 35, 49, 56, 63, 91, 40]\n",
      "--------------------------------------------------------------------------------\n",
      "i=  9\n",
      "Valeur à insérer: 40\n",
      "On remonte la valeur <- [1, 2, 9, 34, 35, 49, 56, 63, 40, 91]\n",
      "On remonte la valeur <- [1, 2, 9, 34, 35, 49, 56, 40, 63, 91]\n",
      "On remonte la valeur <- [1, 2, 9, 34, 35, 49, 40, 56, 63, 91]\n",
      "On remonte la valeur <- [1, 2, 9, 34, 35, 40, 49, 56, 63, 91]\n",
      "Etat intérmédiaire de la liste:  [1, 2, 9, 34, 35, 40, 49, 56, 63, 91]\n",
      "\n",
      "Liste triée:\n",
      "[1, 2, 9, 34, 35, 40, 49, 56, 63, 91]\n"
     ]
    }
   ],
   "source": [
    "# Création d'une liste de 10 valeurs comprises entre 0 et 100 à trier\n",
    "data = genere_liste_aleatoire(10, 100)\n",
    "print(\"Liste initiale: \", data)\n",
    "\n",
    "# Parcourir l'ensemble de la liste à partir de la deuxième case\n",
    "for i in range(1, len(data)):\n",
    "    print('-' * 80)\n",
    "    print(\"i= \", i)\n",
    "    # Stocker la valeur à \"insérer\"\n",
    "    val = data[i]\n",
    "    print(\"Valeur à insérer:\", val)\n",
    "    # Parcourir le tableau déjà trié de dimension i-1 vers la gauche\n",
    "    # jusqu'à rencontrer une valeur inférieure à notre valeur à insérer\n",
    "    j = i - 1\n",
    "    while data[j] > val and j >=0:\n",
    "        # Intervertir  les valeurs aux indices j et j+1\n",
    "        data[j+1] = data[j]\n",
    "        data[j] = val\n",
    "        # Diminuer j de 1 pour la prochaine comparaison\n",
    "        j = j - 1\n",
    "        print(\"On remonte la valeur <-\", data)\n",
    "    print(\"Etat intérmédiaire de la liste: \", data)\n",
    "# Afficher le résultat\n",
    "print('\\nListe triée:')\n",
    "print(data)"
   ]
  },
  {
   "cell_type": "markdown",
   "metadata": {},
   "source": [
    "# Autres algorithmes\n",
    "\n",
    "Ces deux algorithmes ne sont que des exemples d'algorithmes de tri, et il en existe bien d'autres plus efficace comme le fameux *quicksort*, ou le *timsort* utilisé comme algorithme par défaut en Python.\n",
    "\n",
    "La littérature ne manque pas sur ce sujet car il s'agit d'une introduction de choix à de nombreux concepts clés de l'algorithmique:\n",
    "\n",
    "- **la complexité**: l'étude du temps et de la mémoire nécessité par l'algorithme.\n",
    "- **les cas extremes** ou *edge cases*: que se passe-t-il dans le cas ou la liste est déjà triée, ou au contraire si elle est en ordre inversé.\n",
    "- ** la correction de l'algorithme**: comment prouver par une méthode de récurrence que l'algorithme donne le bon résultat en toute occasion par une approche de démonstration mathématique.\n",
    "\n",
    "\n",
    "Vous pouvez consulter cet article du site [interstices.info](https://interstices.info/jcms/c_6973/les-algorithmes-de-tri) pour en savoir plus."
   ]
  }
 ],
 "metadata": {
  "kernelspec": {
   "display_name": "Python [default]",
   "language": "python",
   "name": "python3"
  },
  "language_info": {
   "codemirror_mode": {
    "name": "ipython",
    "version": 3
   },
   "file_extension": ".py",
   "mimetype": "text/x-python",
   "name": "python",
   "nbconvert_exporter": "python",
   "pygments_lexer": "ipython3",
   "version": "3.5.2"
  }
 },
 "nbformat": 4,
 "nbformat_minor": 0
}
