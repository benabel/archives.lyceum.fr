{
 "cells": [
  {
   "cell_type": "markdown",
   "metadata": {},
   "source": [
    "Voici par exemple, la syntaxe utilisée pour les opérations de base en Python:\n",
    "\n",
    "- addition: `+`\n",
    "- soustraction: `-`\n",
    "- multiplication: `*`\n",
    "- division: `/`\n",
    "- division entière: `//`\n",
    "- modulo: `%`\n",
    "- puissance: `**`\n",
    "\n",
    "Ces opérations sont implémentées directement dans Python, par contre la racine carrée ne l'est pas, si vous souhaitez calculer une racine carrée, il faut utiliser la puissance un demi:"
   ]
  },
  {
   "cell_type": "code",
   "execution_count": 1,
   "metadata": {
    "collapsed": false
   },
   "outputs": [
    {
     "data": {
      "text/plain": [
       "4.0"
      ]
     },
     "execution_count": 1,
     "metadata": {},
     "output_type": "execute_result"
    }
   ],
   "source": [
    "16**0.5"
   ]
  },
  {
   "cell_type": "markdown",
   "metadata": {},
   "source": [
    "ou importer le module `math` et utiliser la fonction `sqrt` de ce module:"
   ]
  },
  {
   "cell_type": "code",
   "execution_count": 2,
   "metadata": {
    "collapsed": false
   },
   "outputs": [
    {
     "data": {
      "text/plain": [
       "4.0"
      ]
     },
     "execution_count": 2,
     "metadata": {},
     "output_type": "execute_result"
    }
   ],
   "source": [
    "import math\n",
    "math.sqrt(16)"
   ]
  },
  {
   "cell_type": "markdown",
   "metadata": {},
   "source": [
    "Le module `math` contient de nombreuses autres fonctions utiles:\n",
    "\n",
    "- le cosinus: `math.cos()`\n",
    "- le logarithme: `math.log()`\n",
    "- ..."
   ]
  },
  {
   "cell_type": "code",
   "execution_count": 3,
   "metadata": {
    "collapsed": false
   },
   "outputs": [
    {
     "data": {
      "text/plain": [
       "['__doc__',\n",
       " '__file__',\n",
       " '__loader__',\n",
       " '__name__',\n",
       " '__package__',\n",
       " '__spec__',\n",
       " 'acos',\n",
       " 'acosh',\n",
       " 'asin',\n",
       " 'asinh',\n",
       " 'atan',\n",
       " 'atan2',\n",
       " 'atanh',\n",
       " 'ceil',\n",
       " 'copysign',\n",
       " 'cos',\n",
       " 'cosh',\n",
       " 'degrees',\n",
       " 'e',\n",
       " 'erf',\n",
       " 'erfc',\n",
       " 'exp',\n",
       " 'expm1',\n",
       " 'fabs',\n",
       " 'factorial',\n",
       " 'floor',\n",
       " 'fmod',\n",
       " 'frexp',\n",
       " 'fsum',\n",
       " 'gamma',\n",
       " 'gcd',\n",
       " 'hypot',\n",
       " 'inf',\n",
       " 'isclose',\n",
       " 'isfinite',\n",
       " 'isinf',\n",
       " 'isnan',\n",
       " 'ldexp',\n",
       " 'lgamma',\n",
       " 'log',\n",
       " 'log10',\n",
       " 'log1p',\n",
       " 'log2',\n",
       " 'modf',\n",
       " 'nan',\n",
       " 'pi',\n",
       " 'pow',\n",
       " 'radians',\n",
       " 'sin',\n",
       " 'sinh',\n",
       " 'sqrt',\n",
       " 'tan',\n",
       " 'tanh',\n",
       " 'trunc']"
      ]
     },
     "execution_count": 3,
     "metadata": {},
     "output_type": "execute_result"
    }
   ],
   "source": [
    "# On peut lister ces fonctions en utiisant la fonction dir de python\n",
    "dir(math)"
   ]
  },
  {
   "cell_type": "markdown",
   "metadata": {},
   "source": [
    "# Quelques petits exercices pratiques avec jupyter notebook\n",
    "\n",
    "## Utiliser un notebook comme une calculatrice\n",
    "\n",
    "Réaliser les calculs suivants:\n",
    "\n",
    "- `6+4*10`\n",
    "- `(6+4)*10 `\n",
    "\n",
    "Que remarque-t-on?\n",
    "\n",
    "- 23.0 à la puissance 5\n",
    "- calculer la racine positive de l'équation: `34*x^2 + 68*x - 510`\n",
    "(Rappel: pour a*x^2 + b*x + c, la racien positive est x2 = (-b +sqrt(b*b - 4*a*c))/(2*a)\n",
    "\n",
    "- `math.cos(3.4)**2 + math.sin(3.4)**2`\n",
    "\n",
    "## Mettre en forme du texte\n",
    "\n",
    "Mais c'est pas tout, le notebook [jupyter](http://jupyter.org/) permettent de créer du texte enrichi en utilisant la syntaxe [markdown](https://fr.wikipedia.org/wiki/Markdown).\n",
    "\n",
    "Pour cela, il suffit de remplacer le type de cellule `Code` par `Markdown`, et vous pouvez alors mettre en forme votre texte simplement.\n",
    "\n",
    "\t**quelques mots en gras**\n",
    "\t*ici c'est en italique*\n",
    "\tCeci est du `code` informatique\n",
    "\t...\n",
    "\n",
    "Voir le lien vers Wikipedia pour plus d'informations.\n",
    "\n",
    "Vous pouvez même écrire des formules mathématiques avec la syntaxe Latex:\n",
    "\n",
    "\t$\\frac{1}{2}mv^{2}$\n",
    "\n",
    "Donnera: $\\frac{1}{2}mv^{2}$\n",
    "\n",
    "Voir le [wikilivre](https://fr.wikibooks.org/wiki/LaTeX/Math%C3%A9matiques#Les_fonctions_math.C3.A9matiques) sur Latex pour plus d'informations.\n",
    "\n",
    "# Correction des exercices pratiques avec jupyter notebook\n",
    "\n",
    "Le but de ces exercices était de s'approprprier l'environnement de travail des notebook [jupyter](http://jupyter.org/) en apprenant:\n",
    "\n",
    "1. à effectuer des calculs numériques en python\n",
    "2. à utiliser la syntaxe `markdown` pour mettre en forme ses réponses et rédiger du texte.\n",
    "\n",
    "## Régles de priorités des opérations"
   ]
  },
  {
   "cell_type": "code",
   "execution_count": 4,
   "metadata": {
    "collapsed": false
   },
   "outputs": [
    {
     "data": {
      "text/plain": [
       "46"
      ]
     },
     "execution_count": 4,
     "metadata": {},
     "output_type": "execute_result"
    }
   ],
   "source": [
    "6+4*10"
   ]
  },
  {
   "cell_type": "code",
   "execution_count": 5,
   "metadata": {
    "collapsed": false
   },
   "outputs": [
    {
     "data": {
      "text/plain": [
       "100"
      ]
     },
     "execution_count": 5,
     "metadata": {},
     "output_type": "execute_result"
    }
   ],
   "source": [
    "(6+4)*10"
   ]
  },
  {
   "cell_type": "markdown",
   "metadata": {},
   "source": [
    "On remarque que les règles de priorité des calculs sont les mes qu'en mathématique, la multiplication est prioritaire sur l'addition.\n",
    "\n",
    "*Règles PEMDAS*\n",
    "\n",
    "> Sous Python, les règles de priorité sont les mêmes que celles qui vous ont été enseignées au cours de mathématiques. Vous pouvez les mémoriser aisément à l'aide d'un « truc » mnémotechnique, l'acronyme **PEMDAS** :\n",
    "\n",
    ">    P pour parenthèses.\n",
    ">    E pour exposants.\n",
    ">    M et D pour multiplication et division, qui ont la même priorité. Elles sont évaluées avant l'addition A et la soustraction S, lesquelles sont donc effectuées en dernier lieu.\n",
    "> [Source developpez.com](http://python.developpez.com/cours/TutoSwinnen/?page=Chapitre2#L2.9)\n"
   ]
  },
  {
   "cell_type": "code",
   "execution_count": 6,
   "metadata": {
    "collapsed": false
   },
   "outputs": [
    {
     "data": {
      "text/plain": [
       "6436343.0"
      ]
     },
     "execution_count": 6,
     "metadata": {},
     "output_type": "execute_result"
    }
   ],
   "source": [
    "23.0**5"
   ]
  },
  {
   "cell_type": "markdown",
   "metadata": {},
   "source": [
    "## Calcul de la racine carrée du trinôme\n",
    "\n",
    "Calculer la racine positive de l'équation: $34*x^2 + 68*x - 510$\n",
    "\n",
    "Rappel: pour $ax^2 + bx + c$, la racine positive est:\n",
    "$$x_2 = \\frac{-b +\\sqrt{b^2 - 4ac}}{2a}$$\n",
    "\n",
    "ici:\n",
    "\n",
    "a=34\n",
    "b=68\n",
    "c=-510"
   ]
  },
  {
   "cell_type": "code",
   "execution_count": 7,
   "metadata": {
    "collapsed": false
   },
   "outputs": [
    {
     "data": {
      "text/plain": [
       "3.0"
      ]
     },
     "execution_count": 7,
     "metadata": {},
     "output_type": "execute_result"
    }
   ],
   "source": [
    "# On importe le module math pour calculer la racine carrée\n",
    "import math\n",
    "(-68+math.sqrt(68**2-4*34*-510))/(2*34)"
   ]
  },
  {
   "cell_type": "markdown",
   "metadata": {},
   "source": [
    "## Formule trigonomètrique\n",
    "\n",
    "Nous allons vérifier que: $$\\cos^2 x +\\sin^2 x = 1$$"
   ]
  },
  {
   "cell_type": "code",
   "execution_count": 8,
   "metadata": {
    "collapsed": false
   },
   "outputs": [
    {
     "data": {
      "text/plain": [
       "1.0"
      ]
     },
     "execution_count": 8,
     "metadata": {},
     "output_type": "execute_result"
    }
   ],
   "source": [
    "# le module math a déjà été importé plus haut il n'est pas nécessaire de le réimporter\n",
    "math.cos(3.4)**2 + math.sin(3.4)**2"
   ]
  },
  {
   "cell_type": "code",
   "execution_count": null,
   "metadata": {
    "collapsed": true
   },
   "outputs": [],
   "source": []
  }
 ],
 "metadata": {
  "anaconda-cloud": {},
  "kernelspec": {
   "display_name": "Python [default]",
   "language": "python",
   "name": "python3"
  },
  "language_info": {
   "codemirror_mode": {
    "name": "ipython",
    "version": 3
   },
   "file_extension": ".py",
   "mimetype": "text/x-python",
   "name": "python",
   "nbconvert_exporter": "python",
   "pygments_lexer": "ipython3",
   "version": "3.5.2"
  }
 },
 "nbformat": 4,
 "nbformat_minor": 0
}
