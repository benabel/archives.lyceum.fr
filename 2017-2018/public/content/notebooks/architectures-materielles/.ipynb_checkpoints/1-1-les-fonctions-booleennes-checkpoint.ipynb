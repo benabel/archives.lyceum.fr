{
 "cells": [
  {
   "cell_type": "markdown",
   "metadata": {},
   "source": [
    "#Implémentation en python\n",
    "Nous avons déjà rencontré les valeurs logiques ou booléennes lorsque nous avons vu les types de données utilisées en python. (voir \t [types de données en python]({filename}/Algorithmique/1-2-La préparation du traitement.md#valeurs-logiques))\n",
    "\n",
    "Pour rappel, les trois opérateurs de base sont `not`, `or`, et `and`.\n",
    "\n",
    "**Propriété:** On peut exprimer de manière symbolique toutes les fonctions booléennes avec les seules fonctions `non`, `et` et `ou`.\n",
    "\n",
    "##Tables de vérité\n",
    "\n",
    "Les **tables de vérité** indiquent la valeur de la fonction booléenne en fonction des vraiable d'entrée.\n",
    "\n",
    "On peut facilement créer une boucle pour tester les valeurs données par ces opérateurs."
   ]
  },
  {
   "cell_type": "code",
   "execution_count": 24,
   "metadata": {
    "collapsed": false
   },
   "outputs": [
    {
     "name": "stdout",
     "output_type": "stream",
     "text": [
      "  x      not(x)\n",
      "__________\n",
      "True False\n",
      "False True\n"
     ]
    }
   ],
   "source": [
    "#Opérateur not\n",
    "print(\"  x      not(x)\")  \n",
    "print(\"__________\")  \n",
    "for x in True, False:\n",
    "    print(x, not x)"
   ]
  },
  {
   "cell_type": "code",
   "execution_count": 29,
   "metadata": {
    "collapsed": false
   },
   "outputs": [
    {
     "name": "stdout",
     "output_type": "stream",
     "text": [
      "  x   y    and(x)\n",
      "_____________\n",
      "True True True\n",
      "True False False\n",
      "False True False\n",
      "False False False\n"
     ]
    }
   ],
   "source": [
    "#Opérateur and\n",
    "print(\"  x   y    and(x)\")  \n",
    "print(\"_____________\")  \n",
    "for x in True, False:\n",
    "    for y in True, False:\n",
    "        print(x, y,  x and y)"
   ]
  },
  {
   "cell_type": "markdown",
   "metadata": {},
   "source": [
    "#Applications\n",
    "\n",
    "1.  Ecrire le programme python qui donne la table de vérité de la fonction `or`.\n",
    "\n",
    "2. Vérifier que `x ou y = non(non(x) et non(y))`\n",
    "\n",
    "3. Quand deux interrupteurs sont en parallèle, la lumière s’allume quand l’un d’eux est fermé. Quand ils sont en série, la lumière s’allume quand les deux sont fermés. Quand ils sont en va-et-vient la lumière s’allume quand les deux sont fermés ou les deux sont ouverts. Donner la table de la fonction booléenne dans ces trois cas et exprimer ces trois fonctions booléennes avec les fonctions non et ou.\n",
    "4. Montrer que `x et y = y et x`. Est-ce la même chose pour ou ? Calculer `x et 1` et `x et 0`. On appelle élément neutre d’une fonction binaire f, un élément n tel que pour tout x, `f(x,n) = f(n,x) = x` et élément absorbant un élément a tel que pour tout x, `f(x,a) = f(a,x) = a`. La fonction et a-t-elle un élément neutre ? Et un élément absorbant ? La fonction ou a-t-elle un élément neutre ? Et un élément absorbant ?\n",
    "5. Med est content si Bob et Jon sont tous les deux là, mais sans Rut, ou si Rut est là soit avec Bob, soit avec Jon. Construire une table avec en entrée la présence de Rut, Bob et Jon et en sortie le booléen qui vaut 1 si Med est content. Exprimer le choix de Med par une phrase plus simple.\n",
    "\n",
    "[Source: Informatique et sciences du numérique - Edition spéciale Python !](http://www.eyrolles.com/Informatique/Livre/informatique-et-sciences-du-numerique-edition-speciale-python-9782212136760)\n"
   ]
  }
 ],
 "metadata": {},
 "nbformat": 4,
 "nbformat_minor": 0
}