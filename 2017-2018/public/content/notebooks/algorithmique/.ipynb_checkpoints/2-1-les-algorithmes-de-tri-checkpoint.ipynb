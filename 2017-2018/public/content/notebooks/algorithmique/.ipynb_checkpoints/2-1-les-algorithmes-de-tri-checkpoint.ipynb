{
 "cells": [
  {
   "cell_type": "markdown",
   "metadata": {},
   "source": [
    "#Créer un tableau de données aléatoire"
   ]
  },
  {
   "cell_type": "code",
   "execution_count": 1,
   "metadata": {
    "collapsed": false
   },
   "outputs": [
    {
     "name": "stdout",
     "output_type": "stream",
     "text": [
      "[95, 90, 23, 52, 69, 4, 54, 61, 7, 29, 74, 61, 9, 20, 6, 74, 70, 33, 46, 67, 56, 90, 75, 71, 83, 17, 53, 19, 1, 2, 52, 35, 4, 12, 99, 96, 29, 60, 46, 33, 52, 51, 35, 36, 32, 35, 82, 4, 53, 91]\n"
     ]
    }
   ],
   "source": [
    "# Importer le module random pour créer des nombres au hasard\n",
    "import random\n",
    "# Créer une liste vide pour accueillir les nombres\n",
    "data = []\n",
    "# Ajouter à la liste le nombre souhaité de valeurs\n",
    "for i in range(50):\n",
    "    data.append(random.randrange(100))\n",
    "    \n",
    "# Voici la liste aléatoire obtenue\n",
    "print(data)"
   ]
  },
  {
   "cell_type": "markdown",
   "metadata": {},
   "source": [
    "#Le tri par sélection\n",
    "##Principe\n",
    "> Sur un tableau de n éléments (numérotés de 1 à n), le principe du tri par sélection est le suivant :\n",
    "- rechercher le plus petit élément du tableau, et l'échanger avec l'élément d'indice 1 ;\n",
    "- rechercher le second plus petit élément du tableau, et l'échanger avec l'élément d'indice 2 ;\n",
    "- continuer de cette façon jusqu'à ce que le tableau soit entièrement trié.\n",
    "\n",
    "[Source Wikipedia](http://fr.wikipedia.org/wiki/Tri_par_s%C3%A9lection)\n",
    "\n",
    "##Illustration graphique\n",
    "\n",
    "<a title=\"Joestape89 at the English language Wikipedia [GFDL (http://www.gnu.org/copyleft/fdl.html) or CC-BY-SA-3.0 (http://creativecommons.org/licenses/by-sa/3.0/)], via Wikimedia Commons\" href=\"http://commons.wikimedia.org/wiki/File%3ASelection-Sort-Animation.gif\"><img width=\"64\" alt=\"Selection-Sort-Animation\" src=\"//upload.wikimedia.org/wikipedia/commons/9/94/Selection-Sort-Animation.gif\"/></a>\n",
    "\n",
    "##Illustration en vidéo"
   ]
  },
  {
   "cell_type": "code",
   "execution_count": 2,
   "metadata": {
    "collapsed": false
   },
   "outputs": [
    {
     "data": {
      "text/html": [
       "\n",
       "        <iframe\n",
       "            width=\"400\"\n",
       "            height=300\"\n",
       "            src=\"https://www.youtube.com/embed/Ns4TPTC8whw\"\n",
       "            frameborder=\"0\"\n",
       "            allowfullscreen\n",
       "        ></iframe>\n",
       "        "
      ],
      "text/plain": [
       "<IPython.lib.display.YouTubeVideo at 0x7f82714977d0>"
      ]
     },
     "execution_count": 2,
     "metadata": {},
     "output_type": "execute_result"
    }
   ],
   "source": [
    "from IPython.display import YouTubeVideo\n",
    "# Select-sort with Gypsy folk dance\n",
    "# Created at Sapientia University, Tirgu Mures (Marosvásárhely), Romania.\n",
    "# Directed by Kátai Zoltán and Tóth László.\n",
    "# In cooperation with \"Maros Művészegyüttes\", Tirgu Mures (Marosvásárhely), Romania.\n",
    "YouTubeVideo('Ns4TPTC8whw')"
   ]
  },
  {
   "cell_type": "markdown",
   "metadata": {},
   "source": [
    "##Implémentation en python"
   ]
  },
  {
   "cell_type": "code",
   "execution_count": 3,
   "metadata": {
    "collapsed": false
   },
   "outputs": [
    {
     "name": "stdout",
     "output_type": "stream",
     "text": [
      "[1, 2, 4, 4, 4, 6, 7, 9, 12, 17, 19, 20, 23, 29, 29, 32, 33, 33, 35, 35, 35, 36, 46, 46, 51, 52, 52, 52, 53, 53, 54, 56, 60, 61, 61, 67, 69, 70, 71, 74, 74, 75, 82, 83, 90, 90, 91, 95, 96, 99]\n"
     ]
    }
   ],
   "source": [
    "# Garder une copie de la liste aléatoire\n",
    "data0 = list(data)\n",
    "# Calculer la dimension du tableau\n",
    "dim = len(data)\n",
    "# Parcourir le tableau entier\n",
    "for i in range(dim):\n",
    "    # Stocker la valeur initiale de la case d'indice i, et son indice\n",
    "    min = data[i]\n",
    "    i_min = i\n",
    "    #  Parcourir le reste du tableau pour rechercher l'élément le plus petit restant\n",
    "    for j in range(i, dim):\n",
    "        if data[j] < min:\n",
    "            # Stocker la valeur du minimum et son indice\n",
    "            min = data[j]\n",
    "            i_min = j\n",
    "    # Intervertir la valeur initiale de la case d'indice i et le minimum trouvé\n",
    "    tmp = data[i]\n",
    "    data[i] = min\n",
    "    data[i_min] = tmp\n",
    "\n",
    "print(data)"
   ]
  },
  {
   "cell_type": "markdown",
   "metadata": {},
   "source": [
    "#Le tri par insertion\n",
    "\n",
    "> Dans l'algorithme, on parcourt le tableau à trier du début à la fin. Au moment où on considère le i-ème élément, les éléments qui le précèdent sont déjà triés. Pour faire l'analogie avec l'exemple du jeu de cartes, lorsqu'on est à la i-ème étape du parcours, le i-ème élément est la carte saisie, les éléments précédents sont la main triée et les éléments suivants correspondent aux cartes encore mélangées sur la table.\n",
    "\n",
    "> L'objectif d'une étape est d'insérer le i-ème élément à sa place parmi ceux qui précèdent. Il faut pour cela trouver où l'élément doit être inséré en le comparant aux autres, puis décaler les éléments afin de pouvoir effectuer l'insertion. En pratique, ces deux actions sont fréquemment effectuées en une passe, qui consiste à faire « remonter » l'élément au fur et à mesure jusqu'à rencontrer un élément plus petit.\n",
    "\n",
    "[Source Wikipedia](http://fr.wikipedia.org/wiki/Tri_par_insertion)\n",
    "\n",
    "##Illustration graphique\n",
    "\n",
    "<p><a href=\"http://commons.wikimedia.org/wiki/File:Insertion-sort-example-300px.gif#mediaviewer/File:Insertion-sort-example-300px.gif\"><img alt=\"Insertion-sort-example-300px.gif\" src=\"http://upload.wikimedia.org/wikipedia/commons/0/0f/Insertion-sort-example-300px.gif\"></a><br>\"<a href=\"http://commons.wikimedia.org/wiki/File:Insertion-sort-example-300px.gif#mediaviewer/File:Insertion-sort-example-300px.gif\">Insertion-sort-example-300px</a>\" by <a href=\"//commons.wikimedia.org/w/index.php?title=User:Swfung8&amp;action=edit&amp;redlink=1\" class=\"new\" title=\"User:Swfung8 (page does not exist)\">Swfung8</a> - <span class=\"int-own-work\">Own work</span>. Licensed under <a title=\"Creative Commons Attribution-Share Alike 3.0\" href=\"http://creativecommons.org/licenses/by-sa/3.0\">CC BY-SA 3.0</a> via <a href=\"//commons.wikimedia.org/wiki/\">Wikimedia Commons</a>.</p>\n",
    "\n",
    "##Illustration en vidéo"
   ]
  },
  {
   "cell_type": "code",
   "execution_count": 4,
   "metadata": {
    "collapsed": false
   },
   "outputs": [
    {
     "data": {
      "text/html": [
       "\n",
       "        <iframe\n",
       "            width=\"400\"\n",
       "            height=300\"\n",
       "            src=\"https://www.youtube.com/embed/ROalU379l3U\"\n",
       "            frameborder=\"0\"\n",
       "            allowfullscreen\n",
       "        ></iframe>\n",
       "        "
      ],
      "text/plain": [
       "<IPython.lib.display.YouTubeVideo at 0x7f82714b2790>"
      ]
     },
     "execution_count": 4,
     "metadata": {},
     "output_type": "execute_result"
    }
   ],
   "source": [
    "from IPython.display import YouTubeVideo\n",
    "# Insert-sort with Romanian folk dance \n",
    "# Created at Sapientia University, Tirgu Mures (Marosvásárhely), Romania.\n",
    "# Directed by Kátai Zoltán and Tóth László.\n",
    "# In cooperation with \"Maros Művészegyüttes\", Tirgu Mures (Marosvásárhely), Romania.\n",
    "YouTubeVideo('ROalU379l3U')"
   ]
  },
  {
   "cell_type": "markdown",
   "metadata": {},
   "source": [
    "##Implémentation en python"
   ]
  },
  {
   "cell_type": "code",
   "execution_count": 5,
   "metadata": {
    "collapsed": false
   },
   "outputs": [
    {
     "name": "stdout",
     "output_type": "stream",
     "text": [
      "Liste initiale:\n",
      "[95, 90, 23, 52, 69, 4, 54, 61, 7, 29, 74, 61, 9, 20, 6, 74, 70, 33, 46, 67, 56, 90, 75, 71, 83, 17, 53, 19, 1, 2, 52, 35, 4, 12, 99, 96, 29, 60, 46, 33, 52, 51, 35, 36, 32, 35, 82, 4, 53, 91]\n",
      "Liste triée:\n",
      "[1, 2, 4, 4, 4, 6, 7, 9, 12, 17, 19, 20, 23, 29, 29, 32, 33, 33, 35, 35, 35, 36, 46, 46, 51, 52, 52, 52, 53, 53, 54, 56, 60, 61, 61, 67, 69, 70, 71, 74, 74, 75, 82, 83, 90, 90, 91, 95, 96, 99]\n"
     ]
    }
   ],
   "source": [
    "# Repartir de la liste non triée\n",
    "data = list(data0)\n",
    "print('Liste initiale:')\n",
    "print(data)\n",
    "\n",
    "# Parcourir l'ensemble de la liste à partir de la deuxième case\n",
    "for i in range(1, len(data)):\n",
    "    # Stocker la valeur à \"insérer\"\n",
    "    val = data[i]\n",
    "    # Parcourir le tableau déjà trié de dimension i-1 vers la gauche\n",
    "    # jusqu'à rencontrer une valeur inférieure à notre valeur à insérer\n",
    "    j = i - 1\n",
    "    while data[j] > val and j >=0:\n",
    "        # Intervertir  les valeurs aux indices j et j+1\n",
    "        data[j+1] = data[j]\n",
    "        data[j] =val\n",
    "        # Diminuer j de 1 pour la prochaine comparaison\n",
    "        j = j - 1\n",
    "# Afficher le résultat\n",
    "print('Liste triée:')\n",
    "print(data)"
   ]
  }
 ],
 "metadata": {},
 "nbformat": 4,
 "nbformat_minor": 0
}