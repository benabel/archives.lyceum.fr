{
 "cells": [
  {
   "cell_type": "markdown",
   "metadata": {},
   "source": [
    "Les fonctions permettent d'isoler un ensemble d'instructions qui reviennent plusieurs fois dans un programme afin d'éviter la redondance du code.\n",
    "\n",
    "Une fonction possède un nom pour pouvoir être appelée et il est possible de lui communiquer des arguments.\n",
    "\n",
    "En python la syntaxe de définition d'une fonction est la suivante:\n",
    "\n",
    "**Syntaxe**\n",
    "\n",
    "```\n",
    "def nom_de_ma_fonction(arguments séparés par des virgules):\n",
    "    instruction 1\n",
    "    instruction 2\n",
    "    ...\n",
    "    return objet_renvoyé_par_ma_fonction\n",
    "```\n",
    "\n",
    "Pour appeler la fonction, il suffit de taper son nom avec les arguments entre parenthèse.\n",
    "\n",
    "*Remarque: en python, la convention PEP8 donne l'habitude de nommer les fonctions et variables avec des lettres minuscules et des underscores `_`*\n",
    "\n",
    "Nous predrons comme exemple le calcul de l'énergie cinétique d'un véhicule afin d'illustrer quelques notions utiles sur l'utilisation des fonctions en `python`.\n",
    "\n",
    "L'énergie cinétique d'un objet de masse m se déplacant à la vitesse v est:\n",
    "\n",
    "$$Ec = \\frac{1}{2} m  v^{2}$$\n",
    "\n",
    "\n",
    "#Définir et appeler une fonction\n",
    "\n",
    "Nous allons créer une fonction `energie_cinetique` qui calcule sa valeur à partir des paramètres masse et vitesse."
   ]
  },
  {
   "cell_type": "code",
   "execution_count": 3,
   "metadata": {
    "collapsed": false
   },
   "outputs": [
    {
     "data": {
      "text/plain": [
       "9.0"
      ]
     },
     "execution_count": 3,
     "metadata": {},
     "output_type": "execute_result"
    }
   ],
   "source": [
    "# On définit la fonction\n",
    "def energie_cinetique(m, v):\n",
    "    return 0.5*m*v**2\n",
    "# On appelle la fonction pour un objet de 2kg ayant une vitesse de 3m/s\n",
    "energie_cinetique(2,3)"
   ]
  },
  {
   "cell_type": "markdown",
   "metadata": {},
   "source": [
    "#Nommer les arguments de la fonction\n",
    "On peut préciser le nom des arguments dans l'appel de la fonction pour être plus explicite, on parle alors de `keyword arguments`:\"arguments nommés\"."
   ]
  },
  {
   "cell_type": "code",
   "execution_count": 10,
   "metadata": {
    "collapsed": false
   },
   "outputs": [
    {
     "data": {
      "text/plain": [
       "9.0"
      ]
     },
     "execution_count": 10,
     "metadata": {},
     "output_type": "execute_result"
    }
   ],
   "source": [
    "# On définit la fonction\n",
    "def energie_cinetique(m, v):\n",
    "    return 0.5*m*v**2\n",
    "# On appelle la fonction pour un objet de 2kg ayant une vitesse de 3m/s\n",
    "energie_cinetique(m=2, v=3)"
   ]
  },
  {
   "cell_type": "markdown",
   "metadata": {},
   "source": [
    "L'avantage est qu'en plus d'être plus explicite, on peut alors appeler les arguments dans un ordre quelconque ce qui n'est pas le cas lorsque l'on nomme pas les arguments(ce type d'arguments est appelé `positionnal argument`: \"argument positionnel\")"
   ]
  },
  {
   "cell_type": "code",
   "execution_count": 11,
   "metadata": {
    "collapsed": false
   },
   "outputs": [
    {
     "data": {
      "text/plain": [
       "9.0"
      ]
     },
     "execution_count": 11,
     "metadata": {},
     "output_type": "execute_result"
    }
   ],
   "source": [
    "energie_cinetique(v=3, m=2)"
   ]
  },
  {
   "cell_type": "markdown",
   "metadata": {},
   "source": [
    "#Donner des valeurs par défaut aux arguments\n",
    "Lorque l'on définit la fonction on peut rentrer des valeurs par défaut qui seront utilisées en cas d'absence d'argument lors de l'appel."
   ]
  },
  {
   "cell_type": "code",
   "execution_count": 14,
   "metadata": {
    "collapsed": false
   },
   "outputs": [
    {
     "data": {
      "text/plain": [
       "9.0"
      ]
     },
     "execution_count": 14,
     "metadata": {},
     "output_type": "execute_result"
    }
   ],
   "source": [
    "# On définit la fonction\n",
    "def energie_cinetique(m=2, v=3):\n",
    "    return 0.5*m*v**2\n",
    "# On appelle la fonction avec les valeurs par défaut\n",
    "energie_cinetique()"
   ]
  },
  {
   "cell_type": "code",
   "execution_count": 19,
   "metadata": {
    "collapsed": false
   },
   "outputs": [
    {
     "data": {
      "text/plain": [
       "4.0"
      ]
     },
     "execution_count": 19,
     "metadata": {},
     "output_type": "execute_result"
    }
   ],
   "source": [
    "# On remplace une des valeurs seulement\n",
    "energie_cinetique(v=2)"
   ]
  },
  {
   "cell_type": "code",
   "execution_count": 20,
   "metadata": {
    "collapsed": false
   },
   "outputs": [
    {
     "data": {
      "text/plain": [
       "18.0"
      ]
     },
     "execution_count": 20,
     "metadata": {},
     "output_type": "execute_result"
    }
   ],
   "source": [
    "# On remplace une des valeurs seulement de façon positionnelle\n",
    "# On ne remplace que le premier argument du coup\n",
    "energie_cinetique(4)"
   ]
  }
 ],
 "metadata": {},
 "nbformat": 4,
 "nbformat_minor": 0
}