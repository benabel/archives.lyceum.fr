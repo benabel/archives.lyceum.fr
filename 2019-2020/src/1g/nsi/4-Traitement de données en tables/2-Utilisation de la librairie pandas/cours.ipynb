{
 "cells": [
  {
   "cell_type": "markdown",
   "metadata": {},
   "source": [
    "---\n",
    "\"tags\": [\"python\", \"pandas\"]\n",
    "---\n",
    "\n",
    "::: programme\n",
    "+----------------------+------------------------------------+-----------------------------------+\n",
    "|       Contenus       |        Capacités attendues         |           Commentaires            |\n",
    "+======================+====================================+===================================+\n",
    "| Tri d’une table      | Trier une table suivant une        | Une fonction de tri intégrée au   |\n",
    "|                      | colonne.                           | système ou à une bibliothèque     |\n",
    "|                      |                                    | peut être utilisée.               |\n",
    "+----------------------+------------------------------------+-----------------------------------+\n",
    "| Fusion de tables     | Construire une nouvelle table      | La notion de domaine de valeurs   |\n",
    "|                      | en combinant les données de        | est mise en évidence.             |\n",
    "|                      | deux tables.                       |                                   |\n",
    "+----------------------+------------------------------------+-----------------------------------+\n",
    ":::\n",
    "\n",
    "L'utilisation des données en table étant très largement répandue, une bibliothèque spécialisée s'est développée et imposée dans le monde de python [`pandas`](https://pandas.pydata.org/).\n",
    "\n",
    "Cette libraire va grandemant nous faciliter la lecture et l'utilisation des données.\n",
    "\n",
    "## Lecture d'un fichier `csv`\n",
    "\n",
    "Par exemple la lecture csv à partir d'une url, on utilise ici la [Cartographie des stationnements deux roues de Nice](https://www.data.gouv.fr/fr/datasets/cartographie-des-stationnements-deux-roues-de-nice/) mise à disposition sur le site gouvernemental: <https://data.gouv.fr> avec la description suivante:\n",
    "\n",
    "> Vous trouverez ici la cartographie des stationnements deux roues. Table des données SIG relatives aux GAV-GAM et GAV/GAM nb : GAV = Garage à Vélo + GAM = Garage à Moto Code profil 1 = GAM; Code profil 2 = GAV, Code profil 0 = GAV-GAM\n",
    "\n"
   ]
  },
  {
   "cell_type": "code",
   "execution_count": 3,
   "metadata": {},
   "outputs": [
    {
     "data": {
      "text/html": [
       "<div>\n",
       "<style scoped>\n",
       "    .dataframe tbody tr th:only-of-type {\n",
       "        vertical-align: middle;\n",
       "    }\n",
       "\n",
       "    .dataframe tbody tr th {\n",
       "        vertical-align: top;\n",
       "    }\n",
       "\n",
       "    .dataframe thead th {\n",
       "        text-align: right;\n",
       "    }\n",
       "</style>\n",
       "<table border=\"1\" class=\"dataframe\">\n",
       "  <thead>\n",
       "    <tr style=\"text-align: right;\">\n",
       "      <th></th>\n",
       "      <th>NB_ARC_VL</th>\n",
       "      <th>ID_GAV</th>\n",
       "      <th>NB_PL_MT</th>\n",
       "      <th>LARGEUR</th>\n",
       "      <th>GLOBALID</th>\n",
       "      <th>TYPE_MOBIL</th>\n",
       "      <th>PROFIL</th>\n",
       "      <th>LONGUEUR</th>\n",
       "      <th>ETAT_</th>\n",
       "      <th>CODE_INSEE</th>\n",
       "      <th>NB_PL_VL</th>\n",
       "      <th>NB_PLACE</th>\n",
       "      <th>NB_ARC_MT</th>\n",
       "      <th>geometry</th>\n",
       "    </tr>\n",
       "  </thead>\n",
       "  <tbody>\n",
       "    <tr>\n",
       "      <th>0</th>\n",
       "      <td>0.0</td>\n",
       "      <td>1001</td>\n",
       "      <td>30.0</td>\n",
       "      <td>0.65</td>\n",
       "      <td>{578A7D02-A426-4AA0-99C6-D2C1FBED8814}</td>\n",
       "      <td>4.0</td>\n",
       "      <td>1</td>\n",
       "      <td>21.2</td>\n",
       "      <td>En vigueur</td>\n",
       "      <td>6088</td>\n",
       "      <td>0.0</td>\n",
       "      <td>30.0</td>\n",
       "      <td>0</td>\n",
       "      <td>{\"type\": \"Point\", \"coordinates\": [7.21337219, ...</td>\n",
       "    </tr>\n",
       "    <tr>\n",
       "      <th>1</th>\n",
       "      <td>2.0</td>\n",
       "      <td>2010</td>\n",
       "      <td>3.0</td>\n",
       "      <td>2.00</td>\n",
       "      <td>{291C1D1B-2A1C-42B7-9D06-2877D62B2838}</td>\n",
       "      <td>1.0</td>\n",
       "      <td>0</td>\n",
       "      <td>7.5</td>\n",
       "      <td>En vigueur</td>\n",
       "      <td>6088</td>\n",
       "      <td>2.0</td>\n",
       "      <td>5.0</td>\n",
       "      <td>4</td>\n",
       "      <td>{\"type\": \"Point\", \"coordinates\": [7.25311445, ...</td>\n",
       "    </tr>\n",
       "    <tr>\n",
       "      <th>2</th>\n",
       "      <td>0.0</td>\n",
       "      <td>2015</td>\n",
       "      <td>12.0</td>\n",
       "      <td>2.00</td>\n",
       "      <td>{E002A4DF-3CD8-4F5F-9E87-721004924B1C}</td>\n",
       "      <td>1.0</td>\n",
       "      <td>1</td>\n",
       "      <td>26.0</td>\n",
       "      <td>En vigueur</td>\n",
       "      <td>6088</td>\n",
       "      <td>0.0</td>\n",
       "      <td>12.0</td>\n",
       "      <td>12</td>\n",
       "      <td>{\"type\": \"Point\", \"coordinates\": [7.25608087, ...</td>\n",
       "    </tr>\n",
       "    <tr>\n",
       "      <th>3</th>\n",
       "      <td>0.0</td>\n",
       "      <td>2020</td>\n",
       "      <td>3.0</td>\n",
       "      <td>2.00</td>\n",
       "      <td>{DD571B19-C522-4E1F-97E5-0841E6DE59E5}</td>\n",
       "      <td>2.0</td>\n",
       "      <td>0</td>\n",
       "      <td>4.7</td>\n",
       "      <td>En vigueur</td>\n",
       "      <td>6088</td>\n",
       "      <td>1.0</td>\n",
       "      <td>4.0</td>\n",
       "      <td>0</td>\n",
       "      <td>{\"type\": \"Point\", \"coordinates\": [7.25171699, ...</td>\n",
       "    </tr>\n",
       "    <tr>\n",
       "      <th>4</th>\n",
       "      <td>0.0</td>\n",
       "      <td>2024</td>\n",
       "      <td>7.0</td>\n",
       "      <td>2.00</td>\n",
       "      <td>{1710D778-67BF-45ED-B3F5-399B82088C5A}</td>\n",
       "      <td>2.0</td>\n",
       "      <td>0</td>\n",
       "      <td>12.0</td>\n",
       "      <td>En vigueur</td>\n",
       "      <td>6088</td>\n",
       "      <td>3.0</td>\n",
       "      <td>10.0</td>\n",
       "      <td>0</td>\n",
       "      <td>{\"type\": \"Point\", \"coordinates\": [7.25427638, ...</td>\n",
       "    </tr>\n",
       "  </tbody>\n",
       "</table>\n",
       "</div>"
      ],
      "text/plain": [
       "   NB_ARC_VL ID_GAV  NB_PL_MT  LARGEUR  \\\n",
       "0        0.0   1001      30.0     0.65   \n",
       "1        2.0   2010       3.0     2.00   \n",
       "2        0.0   2015      12.0     2.00   \n",
       "3        0.0   2020       3.0     2.00   \n",
       "4        0.0   2024       7.0     2.00   \n",
       "\n",
       "                                 GLOBALID  TYPE_MOBIL  PROFIL  LONGUEUR  \\\n",
       "0  {578A7D02-A426-4AA0-99C6-D2C1FBED8814}         4.0       1      21.2   \n",
       "1  {291C1D1B-2A1C-42B7-9D06-2877D62B2838}         1.0       0       7.5   \n",
       "2  {E002A4DF-3CD8-4F5F-9E87-721004924B1C}         1.0       1      26.0   \n",
       "3  {DD571B19-C522-4E1F-97E5-0841E6DE59E5}         2.0       0       4.7   \n",
       "4  {1710D778-67BF-45ED-B3F5-399B82088C5A}         2.0       0      12.0   \n",
       "\n",
       "        ETAT_  CODE_INSEE  NB_PL_VL  NB_PLACE  NB_ARC_MT  \\\n",
       "0  En vigueur        6088       0.0      30.0          0   \n",
       "1  En vigueur        6088       2.0       5.0          4   \n",
       "2  En vigueur        6088       0.0      12.0         12   \n",
       "3  En vigueur        6088       1.0       4.0          0   \n",
       "4  En vigueur        6088       3.0      10.0          0   \n",
       "\n",
       "                                            geometry  \n",
       "0  {\"type\": \"Point\", \"coordinates\": [7.21337219, ...  \n",
       "1  {\"type\": \"Point\", \"coordinates\": [7.25311445, ...  \n",
       "2  {\"type\": \"Point\", \"coordinates\": [7.25608087, ...  \n",
       "3  {\"type\": \"Point\", \"coordinates\": [7.25171699, ...  \n",
       "4  {\"type\": \"Point\", \"coordinates\": [7.25427638, ...  "
      ]
     },
     "execution_count": 3,
     "metadata": {},
     "output_type": "execute_result"
    }
   ],
   "source": [
    "import pandas as pd\n",
    "\n",
    "# on importe les données dans un variable appelée df pou dataframe(le nom de la variable vous appartient)\n",
    "df = pd.read_csv(\"https://www.data.gouv.fr/fr/datasets/r/d2adbc7e-8526-43f8-9b30-51dc44f1b430\", sep=\";\")\n",
    "\n",
    "# on affiche les 5 premières lignes\n",
    "df.head(5)"
   ]
  },
  {
   "cell_type": "markdown",
   "metadata": {},
   "source": [
    "## Exploration des données\n",
    "\n",
    "On peut également facilement afficher le nom des colonnes avec l'attribut `columns`."
   ]
  },
  {
   "cell_type": "code",
   "execution_count": 4,
   "metadata": {},
   "outputs": [
    {
     "data": {
      "text/plain": [
       "Index(['NB_ARC_VL', 'ID_GAV', 'NB_PL_MT', 'LARGEUR', 'GLOBALID', 'TYPE_MOBIL',\n",
       "       'PROFIL', 'LONGUEUR', 'ETAT_', 'CODE_INSEE', 'NB_PL_VL', 'NB_PLACE',\n",
       "       'NB_ARC_MT', 'geometry'],\n",
       "      dtype='object')"
      ]
     },
     "execution_count": 4,
     "metadata": {},
     "output_type": "execute_result"
    }
   ],
   "source": [
    "df.columns"
   ]
  },
  {
   "cell_type": "markdown",
   "metadata": {},
   "source": [
    "On peut facilement parcourir l'ensemble des lignes du tableau avec la méthode `itertuples()`."
   ]
  },
  {
   "cell_type": "code",
   "execution_count": 8,
   "metadata": {},
   "outputs": [
    {
     "name": "stdout",
     "output_type": "stream",
     "text": [
      "Pandas(Index=0, NB_ARC_VL=0.0, ID_GAV='1001', NB_PL_MT=30.0, LARGEUR=0.65, GLOBALID='{578A7D02-A426-4AA0-99C6-D2C1FBED8814}', TYPE_MOBIL=4.0, PROFIL=1, LONGUEUR=21.2, ETAT_='En vigueur', CODE_INSEE=6088, NB_PL_VL=0.0, NB_PLACE=30.0, NB_ARC_MT=0, geometry='{\"type\": \"Point\", \"coordinates\": [7.21337219, 43.66717783]}')\n",
      "Pandas(Index=1, NB_ARC_VL=2.0, ID_GAV='2010', NB_PL_MT=3.0, LARGEUR=2.0, GLOBALID='{291C1D1B-2A1C-42B7-9D06-2877D62B2838}', TYPE_MOBIL=1.0, PROFIL=0, LONGUEUR=7.5, ETAT_='En vigueur', CODE_INSEE=6088, NB_PL_VL=2.0, NB_PLACE=5.0, NB_ARC_MT=4, geometry='{\"type\": \"Point\", \"coordinates\": [7.25311445, 43.69461128]}')\n",
      "Pandas(Index=2, NB_ARC_VL=0.0, ID_GAV='2015', NB_PL_MT=12.0, LARGEUR=2.0, GLOBALID='{E002A4DF-3CD8-4F5F-9E87-721004924B1C}', TYPE_MOBIL=1.0, PROFIL=1, LONGUEUR=26.0, ETAT_='En vigueur', CODE_INSEE=6088, NB_PL_VL=0.0, NB_PLACE=12.0, NB_ARC_MT=12, geometry='{\"type\": \"Point\", \"coordinates\": [7.25608087, 43.6951747]}')\n"
     ]
    }
   ],
   "source": [
    "for ligne in df.itertuples():\n",
    "    # On s'arrête à la troisième ligne pour pas encombrer le cours\n",
    "    # Commenter ces deux lignes pour parcourir l'ensmble du tableau\n",
    "    if ligne.Index > 2:\n",
    "        break\n",
    "    print(ligne)"
   ]
  },
  {
   "cell_type": "markdown",
   "metadata": {},
   "source": [
    "Chaque ligne renvoyée par la méthode `itertuples()` est un tuple nommé, on peut ainsi accéder accéder aux valeurs individuelles de chaque ligne avec la notation pointée `ligne.nom_de_la_colonne`. Par exemple pour afficher le nombre d'arcs du stationnement."
   ]
  },
  {
   "cell_type": "code",
   "execution_count": 13,
   "metadata": {},
   "outputs": [
    {
     "name": "stdout",
     "output_type": "stream",
     "text": [
      "Nombre d'arcs de stationnement pour vélos: 0.0\n",
      "Nombre d'arcs de stationnement pour vélos: 2.0\n",
      "Nombre d'arcs de stationnement pour vélos: 0.0\n"
     ]
    }
   ],
   "source": [
    "for ligne in df.itertuples():\n",
    "    # On s'arrête à la troisième ligne pour pas encombrer le cours\n",
    "    # Commenter ces deux lignes pour parcourir l'ensmble du tableau\n",
    "    if ligne.Index > 2:\n",
    "        break\n",
    "    print(\"Nombre d'arcs de stationnement pour vélos:\", ligne.NB_ARC_VL)"
   ]
  },
  {
   "cell_type": "markdown",
   "metadata": {},
   "source": [
    "## Sélection logique de données\n",
    "\n",
    "Supposons que l'on cherche des stationnements destinés aux vélos."
   ]
  },
  {
   "cell_type": "code",
   "execution_count": 14,
   "metadata": {},
   "outputs": [
    {
     "name": "stdout",
     "output_type": "stream",
     "text": [
      "1 2.0\n"
     ]
    }
   ],
   "source": [
    "for ligne in df.itertuples():\n",
    "    # On s'arrête à la troisième ligne pour pas encombrer le cours\n",
    "    # Commenter ces deux lignes pour parcourir l'ensmble du tableau\n",
    "    if ligne.Index > 2:\n",
    "        break\n",
    "    if ligne.NB_ARC_VL > 0:\n",
    "        print(ligne.Index, ligne.NB_ARC_VL)"
   ]
  },
  {
   "cell_type": "markdown",
   "metadata": {},
   "source": [
    "Effectivement parmi les trois premières lignes seul la ligne d'index 1(la deuxième) présente des arcs de stationnement pour vélos.\n",
    "\n",
    "Pour explorer davantage cette table de données, passez aux [exercices](./exo).\n",
    "\n",
    "## Liens\n",
    "\n",
    "La librairie `pandas` est extrémemnt riche et seul son utilisation sur des cas concrets permet d'en comprendre les rouages.\n",
    "\n",
    "Pour plus d'informations, vous pouvez consulter:\n",
    "\n",
    "- la [documentation](https://pandas.pydata.org/pandas-docs/stable/)\n",
    "- la fiche de [rappels](https://github.com/pandas-dev/pandas/blob/master/doc/cheatsheet/Pandas_Cheat_Sheet.pdf),\n",
    "- ou encore voir ce qu'arrive à faire les kagglers avec les données en consultatnt des [exemples de notebooks](https://www.kaggle.com/kernels?sortBy=relevance&group=everyone&search=pandas&page=1&pageSize=20) sur le site  <https://kaggle.com>."
   ]
  }
 ],
 "metadata": {
  "kernelspec": {
   "display_name": "Python 3",
   "language": "python",
   "name": "python3"
  },
  "language_info": {
   "codemirror_mode": {
    "name": "ipython",
    "version": 3
   },
   "file_extension": ".py",
   "mimetype": "text/x-python",
   "name": "python",
   "nbconvert_exporter": "python",
   "pygments_lexer": "ipython3",
   "version": "3.8.2"
  }
 },
 "nbformat": 4,
 "nbformat_minor": 2
}