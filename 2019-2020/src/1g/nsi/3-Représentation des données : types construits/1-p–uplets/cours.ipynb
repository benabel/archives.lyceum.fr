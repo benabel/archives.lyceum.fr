{
 "cells": [
  {
   "cell_type": "markdown",
   "metadata": {},
   "source": [
    "---\n",
    "\"tags\": [\"python\", \"type construit\", \"p-uplet\", \"tuple\"]\n",
    "---\n",
    "\n",
    "::: programme\n",
    "+---------------------------+-------------------------------+--------------------------------------+\n",
    "|         Contenus          |      Capacités attendues      |             Commentaires             |\n",
    "+===========================+===============================+======================================+\n",
    "| p-uplets.                 | Écrire une fonction renvoyant |                                      |\n",
    "| p-uplets nommés           | un p-uplet de valeurs.        |                                      |\n",
    "+---------------------------+-------------------------------+--------------------------------------+\n",
    ":::\n",
    "\n",
    "Dans la deuxième partie [2-Représentation des données: types et valeurs de base](../), nous avions vu certains types de variables simples:\n",
    "\n",
    "- `int`: les entiers\n",
    "- `float`: les rééls(nombres à virgule flottante)\n",
    "- `boolean`: booléen (Vrai ou Faux)\n",
    "- `str`: caractère simple(s'il y en a plusieurs, les chaînes de caractères forment alors un type construit de plusieurs caractères semblable aux listes)\n",
    "\n",
    "Cependant, il existe de nombreux objets qui sont représentés par plusieurs valeurs, c'est le cas par exemple du texte, des images et des sons...\n",
    "\n",
    "Dans ce cas les enregistrements collectent des valeurs de types différents dans des champs.\n",
    "\n",
    "Nous verrons dans cette partie trois exemples de types construits:\n",
    "\n",
    "- les p-uplets `tuple ` et listes `list`: des collections d'éléments ordonnés dans lesquels les valeurs sont accédées via un **index de position**.\n",
    "- les p-uplet nommés `namedtuple` et les dictionnaires `dict`: ensemble d'éléments dans lesquels les valeurs sont accédées via une **clef**.\n",
    "\n",
    "Nous commencons dans ce premier chapitre par les `tuple`s, très utilisés notamment lorsque l'on souhaite stocker plusieurs variables d'*un coup*.\n",
    "\n",
    "## Syntaxe\n",
    "\n",
    "Les tuples sont des valeurs séparées par des virgules `,` entourées de parenthèses `(..., ..., ...`)` qui peuvent parfois être *ommises*."
   ]
  },
  {
   "cell_type": "code",
   "execution_count": 1,
   "metadata": {},
   "outputs": [
    {
     "data": {
      "text/plain": [
       "(1, 2, 3)"
      ]
     },
     "execution_count": 1,
     "metadata": {},
     "output_type": "execute_result"
    }
   ],
   "source": [
    "(1, 2, 3)"
   ]
  },
  {
   "cell_type": "code",
   "execution_count": 2,
   "metadata": {},
   "outputs": [
    {
     "data": {
      "text/plain": [
       "(1, 2, 3)"
      ]
     },
     "execution_count": 2,
     "metadata": {},
     "output_type": "execute_result"
    }
   ],
   "source": [
    "# sans parenthèses\n",
    "1, 2, 3"
   ]
  },
  {
   "cell_type": "code",
   "execution_count": 2,
   "metadata": {},
   "outputs": [
    {
     "data": {
      "text/plain": [
       "tuple"
      ]
     },
     "execution_count": 2,
     "metadata": {},
     "output_type": "execute_result"
    }
   ],
   "source": [
    "type((1, 2, 3))"
   ]
  },
  {
   "cell_type": "markdown",
   "metadata": {},
   "source": [
    "## Assignations de variables\n",
    "\n",
    "On peut stocker plusieurs valeurs dans la variable de type tuple."
   ]
  },
  {
   "cell_type": "code",
   "execution_count": 5,
   "metadata": {},
   "outputs": [
    {
     "data": {
      "text/plain": [
       "(1, 4, -3)"
      ]
     },
     "execution_count": 5,
     "metadata": {},
     "output_type": "execute_result"
    }
   ],
   "source": [
    "t = (1, 4, -3)\n",
    "t"
   ]
  },
  {
   "cell_type": "code",
   "execution_count": 6,
   "metadata": {},
   "outputs": [
    {
     "data": {
      "text/plain": [
       "tuple"
      ]
     },
     "execution_count": 6,
     "metadata": {},
     "output_type": "execute_result"
    }
   ],
   "source": [
    "type(t)"
   ]
  },
  {
   "cell_type": "markdown",
   "metadata": {},
   "source": [
    "Les tuples prennent tout leur intéret en récupérant leurs valeurs séparées dans des variables de type simple: on parle de déstructuration."
   ]
  },
  {
   "cell_type": "code",
   "execution_count": 11,
   "metadata": {},
   "outputs": [
    {
     "name": "stdout",
     "output_type": "stream",
     "text": [
      "t= (1, 4, -3)\n",
      "a= 1\n",
      "b= 4\n",
      "c= -3\n"
     ]
    }
   ],
   "source": [
    "a, b, c = t\n",
    "print(\"t=\", t)\n",
    "print(\"a=\", a)\n",
    "print(\"b=\", b)\n",
    "print(\"c=\", c)"
   ]
  },
  {
   "cell_type": "markdown",
   "metadata": {},
   "source": [
    "## Accés aux valeurs par index\n",
    "\n",
    "L'accés se fait par un index entier de position qui **commence à 0**. On place l'index entre des crochets."
   ]
  },
  {
   "cell_type": "code",
   "execution_count": 7,
   "metadata": {},
   "outputs": [
    {
     "data": {
      "text/plain": [
       "1"
      ]
     },
     "execution_count": 7,
     "metadata": {},
     "output_type": "execute_result"
    }
   ],
   "source": [
    "t[0]"
   ]
  },
  {
   "cell_type": "code",
   "execution_count": 8,
   "metadata": {},
   "outputs": [
    {
     "data": {
      "text/plain": [
       "4"
      ]
     },
     "execution_count": 8,
     "metadata": {},
     "output_type": "execute_result"
    }
   ],
   "source": [
    "t[1]"
   ]
  },
  {
   "cell_type": "code",
   "execution_count": 9,
   "metadata": {},
   "outputs": [
    {
     "data": {
      "text/plain": [
       "-3"
      ]
     },
     "execution_count": 9,
     "metadata": {},
     "output_type": "execute_result"
    }
   ],
   "source": [
    "t[2]"
   ]
  },
  {
   "cell_type": "markdown",
   "metadata": {},
   "source": [
    "## Méthodes des tuples\n",
    "\n",
    "On peut citer:\n",
    "\n",
    "- `len`: nombre d'éléments stockés.\n",
    "- `index`: index de l'élément cherché donné en argument.\n",
    "- `count`: nombre d'éléments de valeur donnée en argument. "
   ]
  },
  {
   "cell_type": "code",
   "execution_count": 8,
   "metadata": {},
   "outputs": [
    {
     "data": {
      "text/plain": [
       "3"
      ]
     },
     "execution_count": 8,
     "metadata": {},
     "output_type": "execute_result"
    }
   ],
   "source": [
    "len(t)"
   ]
  },
  {
   "cell_type": "code",
   "execution_count": 9,
   "metadata": {},
   "outputs": [
    {
     "data": {
      "text/plain": [
       "2"
      ]
     },
     "execution_count": 9,
     "metadata": {},
     "output_type": "execute_result"
    }
   ],
   "source": [
    "t.index(-3)"
   ]
  },
  {
   "cell_type": "code",
   "execution_count": 10,
   "metadata": {},
   "outputs": [
    {
     "data": {
      "text/plain": [
       "0"
      ]
     },
     "execution_count": 10,
     "metadata": {},
     "output_type": "execute_result"
    }
   ],
   "source": [
    "t.count(10)"
   ]
  },
  {
   "cell_type": "markdown",
   "metadata": {},
   "source": [
    "## Renvoie de plusieurs valeurs par une fonction\n",
    "\n",
    "Il s'agit d'une application courante des tuples. prenons l'exemple d'une fonction qui renvoie les deux racines du trinome."
   ]
  },
  {
   "cell_type": "code",
   "execution_count": 13,
   "metadata": {},
   "outputs": [
    {
     "data": {
      "text/plain": [
       "(-1.0, 1.0)"
      ]
     },
     "execution_count": 13,
     "metadata": {},
     "output_type": "execute_result"
    }
   ],
   "source": [
    "def racines_du_trinome(a,b,c):\n",
    "    delta = b**2-4*a*c\n",
    "    if delta > 0:\n",
    "        return -b-delta**0.5/(2*a), -b+delta**0.5/(2*a)\n",
    "racines_du_trinome(1,0,-1)"
   ]
  },
  {
   "cell_type": "markdown",
   "metadata": {},
   "source": [
    "Ici on récupère les racines par déstructuration."
   ]
  },
  {
   "cell_type": "code",
   "execution_count": 15,
   "metadata": {},
   "outputs": [
    {
     "name": "stdout",
     "output_type": "stream",
     "text": [
      "racine 1: -1.4142135623730951\n",
      "racine 2: 1.4142135623730951\n"
     ]
    }
   ],
   "source": [
    "x1, x2 = racines_du_trinome(1,0,-2)\n",
    "print(\"racine 1:\", x1)\n",
    "print(\"racine 2:\", x2)"
   ]
  },
  {
   "cell_type": "markdown",
   "metadata": {},
   "source": [
    "## Particularités des tuples\n",
    "\n",
    "Les tuples peuvent stocker n'importe quel type de valeurs."
   ]
  },
  {
   "cell_type": "code",
   "execution_count": 12,
   "metadata": {},
   "outputs": [
    {
     "data": {
      "text/plain": [
       "(False, 'un', 2.0, 3)"
      ]
     },
     "execution_count": 12,
     "metadata": {},
     "output_type": "execute_result"
    }
   ],
   "source": [
    "(False, \"un\", 2.0, 3)"
   ]
  },
  {
   "cell_type": "markdown",
   "metadata": {},
   "source": [
    "Les tuples sont [*immutables*](https://fr.wiktionary.org/wiki/immutable), c'est à dire qu'on ne peut les modifier une fois qu'ils ont été créés."
   ]
  },
  {
   "cell_type": "code",
   "execution_count": 13,
   "metadata": {},
   "outputs": [
    {
     "ename": "TypeError",
     "evalue": "'tuple' object does not support item assignment",
     "output_type": "error",
     "traceback": [
      "\u001b[0;31m---------------------------------------------------------------------------\u001b[0m",
      "\u001b[0;31mTypeError\u001b[0m                                 Traceback (most recent call last)",
      "\u001b[0;32m<ipython-input-13-28b8e5df48e8>\u001b[0m in \u001b[0;36m<module>\u001b[0;34m\u001b[0m\n\u001b[0;32m----> 1\u001b[0;31m \u001b[0mt\u001b[0m\u001b[0;34m[\u001b[0m\u001b[0;36m0\u001b[0m\u001b[0;34m]\u001b[0m \u001b[0;34m=\u001b[0m \u001b[0;36m6\u001b[0m\u001b[0;34m\u001b[0m\u001b[0;34m\u001b[0m\u001b[0m\n\u001b[0m",
      "\u001b[0;31mTypeError\u001b[0m: 'tuple' object does not support item assignment"
     ]
    }
   ],
   "source": [
    "t[0] = 6"
   ]
  },
  {
   "cell_type": "markdown",
   "metadata": {},
   "source": [
    "## p-uplets nommés\n",
    "\n",
    "Il est possible de créer des p-uplets nommés afin de pouvoir accéder aux éléments de la collection par clé.\n",
    "\n",
    "Ce type nécessite d'être importé par le module `collections` avant d'être utilisé."
   ]
  },
  {
   "cell_type": "code",
   "execution_count": 14,
   "metadata": {},
   "outputs": [
    {
     "data": {
      "text/plain": [
       "Eleve(nom='John', age=17, classe='1g', spécialité='nsi')"
      ]
     },
     "execution_count": 14,
     "metadata": {},
     "output_type": "execute_result"
    }
   ],
   "source": [
    "from collections import namedtuple\n",
    "\n",
    "Eleve = namedtuple('Eleve', 'nom, age, classe, spécialité')\n",
    "e = Eleve(\"John\", 17, \"1g\", \"nsi\" )\n",
    "e"
   ]
  },
  {
   "cell_type": "markdown",
   "metadata": {},
   "source": [
    "L'avantage de l'accés par clef est qu'il apporte plus d'expressivité au code.\n",
    "\n",
    "L'accés peut se faire en ajoutant un point et le nom de la clé(*notation pointée*)."
   ]
  },
  {
   "cell_type": "code",
   "execution_count": 15,
   "metadata": {},
   "outputs": [
    {
     "data": {
      "text/plain": [
       "17"
      ]
     },
     "execution_count": 15,
     "metadata": {},
     "output_type": "execute_result"
    }
   ],
   "source": [
    "e.age"
   ]
  },
  {
   "cell_type": "code",
   "execution_count": 16,
   "metadata": {},
   "outputs": [
    {
     "data": {
      "text/plain": [
       "'nsi'"
      ]
     },
     "execution_count": 16,
     "metadata": {},
     "output_type": "execute_result"
    }
   ],
   "source": [
    "e.spécialité"
   ]
  },
  {
   "cell_type": "markdown",
   "metadata": {},
   "source": [
    "## Usage\n",
    "\n",
    "L'usage des p-uplet qu'ils soient nommés ou pas reste peu répandu au profit des tableaux `list` et dictionnaires `dict` respectivement qui au contraire des n-uplets sont [mutables](https://fr.wiktionary.org/wiki/mutable].\n",
    "\n",
    "On pourra ainsi y ajouter des éléments, en retirer...\n",
    "\n"
   ]
  }
 ],
 "metadata": {
  "kernelspec": {
   "display_name": "Python 3",
   "language": "python",
   "name": "python3"
  },
  "language_info": {
   "codemirror_mode": {
    "name": "ipython",
    "version": 3
   },
   "file_extension": ".py",
   "mimetype": "text/x-python",
   "name": "python",
   "nbconvert_exporter": "python",
   "pygments_lexer": "ipython3",
   "version": "3.8.1"
  }
 },
 "nbformat": 4,
 "nbformat_minor": 2
}