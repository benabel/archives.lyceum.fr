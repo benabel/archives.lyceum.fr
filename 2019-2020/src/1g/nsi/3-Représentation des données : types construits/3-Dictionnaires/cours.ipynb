{
 "cells": [
  {
   "cell_type": "markdown",
   "metadata": {},
   "source": [
    "---\n",
    "\"tags\": [\"python\", \"dictionnaire\"]\n",
    "---\n",
    "\n",
    "::: programme\n",
    "+---------------------------+-------------------------------+--------------------------------------+\n",
    "|         Contenus          |      Capacités attendues      |             Commentaires             |\n",
    "+===========================+===============================+======================================+\n",
    "| Dictionnaires par clés et | Construire une entrée de      | Il est possible de présenter les     |\n",
    "| valeurs                   | dictionnaire                  | données EXIF d’une image sous        |\n",
    "|                           |                               | la forme d’un enregistrement.        |\n",
    "|                           |                               |                                      |\n",
    "|                           | Itérer sur les éléments d'un  | En Python, les p-uplets nommés       |\n",
    "|                           | dictionnaire.                 | sont implémentés par des             |\n",
    "|                           |                               | dictionnaires.                       |\n",
    "|                           |                               |                                      |\n",
    "|                           |                               | Utiliser les méthodes `keys()`,      |\n",
    "|                           |                               | `values()` et `items()`              |\n",
    "+---------------------------+-------------------------------+--------------------------------------+\n",
    ":::\n",
    "\n",
    "Dans un dictionnaire les valeurs de la collection ne sont pas repéré par\n",
    "un index, mais par une *clé*.\n",
    "\n",
    "## Syntaxe\n",
    "\n",
    " Les dictionnaires sont entourés d'accolades `{}`. Les clés doivent être des chaînes de caractère `str` elles sont écrites avec des guillemets.\n",
    "\n",
    "```python\n",
    "{'clé_1': valeur_1, 'clé_n': valeur_n, ...'clé_n': valeur_n}\n",
    "```\n"
   ]
  },
  {
   "cell_type": "code",
   "execution_count": 1,
   "metadata": {},
   "outputs": [
    {
     "data": {
      "text/plain": [
       "dict"
      ]
     },
     "execution_count": 1,
     "metadata": {},
     "output_type": "execute_result"
    }
   ],
   "source": [
    "D = { 'nom': 'Doe' , 'prenom': 'John', 'age': 77 }\n",
    "type(D)"
   ]
  },
  {
   "cell_type": "markdown",
   "metadata": {},
   "source": [
    "Pour accéder aux éléments du dictionnaire, il suffit d'appeler la clé correspondante, d'autres part la fonction len est égalemnt disponible."
   ]
  },
  {
   "cell_type": "code",
   "execution_count": 2,
   "metadata": {},
   "outputs": [
    {
     "data": {
      "text/plain": [
       "3"
      ]
     },
     "execution_count": 2,
     "metadata": {},
     "output_type": "execute_result"
    }
   ],
   "source": [
    "len(D)"
   ]
  },
  {
   "cell_type": "code",
   "execution_count": 3,
   "metadata": {},
   "outputs": [
    {
     "data": {
      "text/plain": [
       "('Doe', 77)"
      ]
     },
     "execution_count": 3,
     "metadata": {},
     "output_type": "execute_result"
    }
   ],
   "source": [
    "D['nom'], D['age']"
   ]
  },
  {
   "cell_type": "markdown",
   "metadata": {},
   "source": [
    "## Ajout et suppression d'éléments\n",
    "\n",
    "Les dictionnaires étant *[mutables](https://fr.wiktionary.org/wiki/mutable)*, on peut ajouter des éléments au dictionnaire en **assignant* des clés paire valeur à notre guise."
   ]
  },
  {
   "cell_type": "code",
   "execution_count": 4,
   "metadata": {},
   "outputs": [
    {
     "data": {
      "text/plain": [
       "{'nom': 'Doe', 'prenom': 'John', 'age': 77, 'adresse': 'Nice'}"
      ]
     },
     "execution_count": 4,
     "metadata": {},
     "output_type": "execute_result"
    }
   ],
   "source": [
    "D[\"adresse\"] = \"Nice\"\n",
    "D"
   ]
  },
  {
   "cell_type": "markdown",
   "metadata": {},
   "source": [
    "On peut au contraire supprimer des éléments du dictionnaire avec la méthode `pop()`."
   ]
  },
  {
   "cell_type": "code",
   "execution_count": 5,
   "metadata": {},
   "outputs": [
    {
     "data": {
      "text/plain": [
       "{'nom': 'Doe', 'prenom': 'John', 'adresse': 'Nice'}"
      ]
     },
     "execution_count": 5,
     "metadata": {},
     "output_type": "execute_result"
    }
   ],
   "source": [
    "D.pop(\"age\")\n",
    "D"
   ]
  },
  {
   "cell_type": "markdown",
   "metadata": {},
   "source": [
    "## Itération sur les dictionnaires\n",
    "\n",
    "\n",
    "Les dictionnaires étant des associations de clés(key) et de valeurs(value), on peut itérer sur les clés, les valeurs, ou les deux.\n",
    "\n",
    "### Itération sur les clés: `keys()`"
   ]
  },
  {
   "cell_type": "code",
   "execution_count": 6,
   "metadata": {},
   "outputs": [
    {
     "name": "stdout",
     "output_type": "stream",
     "text": [
      "nom\n",
      "prenom\n",
      "adresse\n",
      "\n",
      "ou plus simplement\n",
      "\n",
      "nom\n",
      "prenom\n",
      "adresse\n"
     ]
    }
   ],
   "source": [
    "for key in D.keys():\n",
    "    print(key)\n",
    "\n",
    "print(\"\\nou plus simplement\\n\")\n",
    "for key in D:\n",
    "    print(key)"
   ]
  },
  {
   "cell_type": "markdown",
   "metadata": {},
   "source": [
    "### Itération sur les valeurs: `values()`"
   ]
  },
  {
   "cell_type": "code",
   "execution_count": 7,
   "metadata": {},
   "outputs": [
    {
     "name": "stdout",
     "output_type": "stream",
     "text": [
      "Doe\n",
      "John\n",
      "Nice\n"
     ]
    }
   ],
   "source": [
    "for value in D.values():\n",
    "    print(value)"
   ]
  },
  {
   "cell_type": "markdown",
   "metadata": {},
   "source": [
    "### Itération sur les paires clé, valeurs: `items()`"
   ]
  },
  {
   "cell_type": "code",
   "execution_count": 8,
   "metadata": {},
   "outputs": [
    {
     "name": "stdout",
     "output_type": "stream",
     "text": [
      "nom => Doe\n",
      "prenom => John\n",
      "adresse => Nice\n"
     ]
    }
   ],
   "source": [
    "for key, value in D.items():\n",
    "    print(key, '=>', value)"
   ]
  }
 ],
 "metadata": {
  "frontmatter": {
   "tags": [
    "Python",
    "listes",
    "dictionnaires"
   ]
  },
  "kernelspec": {
   "display_name": "Python 3",
   "language": "python",
   "name": "python3"
  },
  "language_info": {
   "codemirror_mode": {
    "name": "ipython",
    "version": 3
   },
   "file_extension": ".py",
   "mimetype": "text/x-python",
   "name": "python",
   "nbconvert_exporter": "python",
   "pygments_lexer": "ipython3",
   "version": "3.8.2"
  }
 },
 "nbformat": 4,
 "nbformat_minor": 1
}
