{
 "cells": [
  {
   "cell_type": "markdown",
   "metadata": {},
   "source": [
    "---\n",
    "\"tags\": [\"python\", \"tableaux\", \"listes\", \"array\"]\n",
    "---\n",
    "\n",
    "::: programme\n",
    "+---------------------------+-------------------------------+--------------------------------------+\n",
    "|         Contenus          |      Capacités attendues      |             Commentaires             |\n",
    "+===========================+===============================+======================================+\n",
    "| Tableau indexé, tableau   | Lire et modifier les éléments | Seuls les tableaux dont les          |\n",
    "| donné en                  | d’un tableau grâce à leurs    | éléments sont du même type sont      |\n",
    "| compréhension             | index.                        | présentés.                           |\n",
    "|                           |                               |                                      |\n",
    "|                           | Constuire un tableau par      | Aucune connaissance des              |\n",
    "|                           | compréhension.                | tranches (slices) n’est exigible.    |\n",
    "|                           |                               |                                      |\n",
    "|                           | Utiliser des tableaux de      | L’aspect dynamique des tableaux      |\n",
    "|                           | tableaux pour représenter des | de Python n’est pas évoqué.          |\n",
    "|                           | matrices, notation `a[i][j]`  |                                      |\n",
    "|                           |                               | Python identifie listes et tableaux. |\n",
    "|                           |                               |                                      |\n",
    "|                           | Itérer sur les éléments d'un  | Il n’est pas fait référence aux      |\n",
    "|                           | tableau.                      | tableaux de la bibliothèque          |\n",
    "|                           |                               | NumPy.                               |\n",
    "+---------------------------+-------------------------------+--------------------------------------+\n",
    ":::\n",
    "\n",
    "Nous nous intéressons dans ce chapitre aux tableaux `list` qui sont des collections *ordonnées de valeurs* *[mutables](https://fr.wiktionary.org/wiki/mutable)*.\n",
    "\n",
    "## Syntaxe\n",
    "\n",
    "Les valeurs de la collection sont entourées par des crochets `[]`, leurs éléments sont séparés par des\n",
    "virgules.\n",
    "\n",
    "Les éléments d'une liste peuvent avoir des types différents."
   ]
  },
  {
   "cell_type": "code",
   "execution_count": 26,
   "metadata": {},
   "outputs": [
    {
     "data": {
      "text/plain": [
       "list"
      ]
     },
     "execution_count": 26,
     "metadata": {},
     "output_type": "execute_result"
    }
   ],
   "source": [
    "ma_liste = [ 1, 'deux' , 3]\n",
    "type(ma_liste)"
   ]
  },
  {
   "cell_type": "markdown",
   "metadata": {},
   "source": [
    "### Longueur et accés aux éléments\n",
    "On peut facilement accéder à la longueur de la liste grace à la fonction\n",
    "`len` et à chacun de ces éléments grâce à leur index *(Attention le\n",
    "premier élement à l'index 0)*"
   ]
  },
  {
   "cell_type": "code",
   "execution_count": 27,
   "metadata": {},
   "outputs": [
    {
     "data": {
      "text/plain": [
       "3"
      ]
     },
     "execution_count": 27,
     "metadata": {},
     "output_type": "execute_result"
    }
   ],
   "source": [
    "len(ma_liste)"
   ]
  },
  {
   "cell_type": "code",
   "execution_count": 28,
   "metadata": {},
   "outputs": [
    {
     "data": {
      "text/plain": [
       "1"
      ]
     },
     "execution_count": 28,
     "metadata": {},
     "output_type": "execute_result"
    }
   ],
   "source": [
    "ma_liste[0]"
   ]
  },
  {
   "cell_type": "code",
   "execution_count": 29,
   "metadata": {},
   "outputs": [
    {
     "data": {
      "text/plain": [
       "3"
      ]
     },
     "execution_count": 29,
     "metadata": {},
     "output_type": "execute_result"
    }
   ],
   "source": [
    "ma_liste[2]"
   ]
  },
  {
   "cell_type": "markdown",
   "metadata": {},
   "source": [
    "On peut inversement connaître l'indice correspondant à une valeur grâce à l'attribut `index`."
   ]
  },
  {
   "cell_type": "code",
   "execution_count": 30,
   "metadata": {},
   "outputs": [
    {
     "data": {
      "text/plain": [
       "1"
      ]
     },
     "execution_count": 30,
     "metadata": {},
     "output_type": "execute_result"
    }
   ],
   "source": [
    "ma_liste.index('deux')"
   ]
  },
  {
   "cell_type": "markdown",
   "metadata": {},
   "source": [
    "### Ajout et suppression d'éléments\n",
    "\n",
    "Comme les listes sont *[mutables](https://fr.wiktionary.org/wiki/mutable)*, on peut ajouter des éléments à la liste à la fin avec la méthode `append`, ou à un indice quelconque avec la méthode `insert`."
   ]
  },
  {
   "cell_type": "code",
   "execution_count": 31,
   "metadata": {},
   "outputs": [
    {
     "data": {
      "text/plain": [
       "[1, 'deux', 3, 4]"
      ]
     },
     "execution_count": 31,
     "metadata": {},
     "output_type": "execute_result"
    }
   ],
   "source": [
    "ma_liste.append(4)\n",
    "ma_liste"
   ]
  },
  {
   "cell_type": "code",
   "execution_count": 32,
   "metadata": {},
   "outputs": [
    {
     "data": {
      "text/plain": [
       "['zéro', 1, 'deux', 3, 4]"
      ]
     },
     "execution_count": 32,
     "metadata": {},
     "output_type": "execute_result"
    }
   ],
   "source": [
    "ma_liste.insert(0, 'zéro')\n",
    "ma_liste"
   ]
  },
  {
   "cell_type": "markdown",
   "metadata": {},
   "source": [
    "On peut au contraire supprimer des éléments de la liste à la fin avec la méthode `pop()`, ou à un indice quelconque avec la méthode `pop(indice)`."
   ]
  },
  {
   "cell_type": "code",
   "execution_count": 33,
   "metadata": {},
   "outputs": [
    {
     "data": {
      "text/plain": [
       "['zéro', 1, 'deux', 3]"
      ]
     },
     "execution_count": 33,
     "metadata": {},
     "output_type": "execute_result"
    }
   ],
   "source": [
    "ma_liste.pop()\n",
    "ma_liste"
   ]
  },
  {
   "cell_type": "code",
   "execution_count": 34,
   "metadata": {},
   "outputs": [
    {
     "data": {
      "text/plain": [
       "['zéro', 'deux', 3]"
      ]
     },
     "execution_count": 34,
     "metadata": {},
     "output_type": "execute_result"
    }
   ],
   "source": [
    "ma_liste.pop(1)\n",
    "ma_liste"
   ]
  },
  {
   "cell_type": "markdown",
   "metadata": {},
   "source": [
    "## Itération sur les valeurs de la liste\n",
    "\n",
    "On peut utiliser les index ou une méthode simplifiée implémentée dans Python.\n",
    "\n",
    "### Méthode simplifiée\n",
    "\n",
    "On fait une itération des directe des valeurs du tableau."
   ]
  },
  {
   "cell_type": "code",
   "execution_count": 35,
   "metadata": {},
   "outputs": [
    {
     "name": "stdout",
     "output_type": "stream",
     "text": [
      "zéro\n",
      "deux\n",
      "3\n"
     ]
    }
   ],
   "source": [
    "for e in ma_liste:\n",
    "    print(e)"
   ]
  },
  {
   "cell_type": "markdown",
   "metadata": {},
   "source": [
    "### Itération avec l'index\n",
    "\n",
    "C'est la méthode classique utilisée dans les langages impératifs."
   ]
  },
  {
   "cell_type": "code",
   "execution_count": 36,
   "metadata": {},
   "outputs": [
    {
     "name": "stdout",
     "output_type": "stream",
     "text": [
      "indice: 0 valeur: zéro\n",
      "indice: 1 valeur: deux\n",
      "indice: 2 valeur: 3\n"
     ]
    }
   ],
   "source": [
    "for i in range(len(ma_liste)):\n",
    "    print(\"indice:\", i, \"valeur:\", ma_liste[i])"
   ]
  },
  {
   "cell_type": "markdown",
   "metadata": {},
   "source": [
    "## Tableau donné en compréhension\n",
    "\n",
    "Plutôt que de remplir un tableau par énumération de ces éléments dans une boucle, on peut définir des [listes en compréhension](), c'est-à-dire des listes dont le contenu est *défini par filtrage du contenu d'une autre liste*.\n",
    "\n",
    "### Boucle classique\n",
    "\n",
    "On commence par créer une liste vide, puis, on ajoute grâce à une boucle les éléments un à un à la liste grâce à la méthode `append()`.\n",
    "\n",
    "Voici par exemple comment créer une liste contenant les puissances de 2 de $2^1$ à $2^{12}$."
   ]
  },
  {
   "cell_type": "code",
   "execution_count": 37,
   "metadata": {},
   "outputs": [
    {
     "data": {
      "text/plain": [
       "[1, 2, 4, 8, 16, 32, 64, 128, 256, 512, 1024, 2048, 4096]"
      ]
     },
     "execution_count": 37,
     "metadata": {},
     "output_type": "execute_result"
    }
   ],
   "source": [
    "L = []\n",
    "for i in range(13):\n",
    "    L.append(2**i)\n",
    "L"
   ]
  },
  {
   "cell_type": "markdown",
   "metadata": {},
   "source": [
    "### Ecriture en compréhension\n",
    "\n",
    "Cette construction syntaxique offre des avantages de lisibilité et de concision et se rapproche de la notation utilisée en mathématiques :\n",
    "\n",
    "$$\n",
    "S=\\{2^{n} | n\\in {\\mathbb{N}}, n<13\\}\n",
    "$$\n"
   ]
  },
  {
   "cell_type": "code",
   "execution_count": 1,
   "metadata": {},
   "outputs": [
    {
     "data": {
      "text/plain": [
       "[1, 2, 4, 8, 16, 32, 64, 128, 256, 512, 1024, 2048, 4096]"
      ]
     },
     "execution_count": 1,
     "metadata": {},
     "output_type": "execute_result"
    }
   ],
   "source": [
    "L = [2**n for n in range(13)]\n",
    "L"
   ]
  },
  {
   "cell_type": "markdown",
   "metadata": {},
   "source": [
    "On peut même ajoter des conditions, exemple ici on crée une liste des puissance de 2 des puissance paires."
   ]
  },
  {
   "cell_type": "code",
   "execution_count": 2,
   "metadata": {},
   "outputs": [
    {
     "data": {
      "text/plain": [
       "[1, 4, 16, 64, 256, 1024, 4096]"
      ]
     },
     "execution_count": 2,
     "metadata": {},
     "output_type": "execute_result"
    }
   ],
   "source": [
    "L = [2**n for n in range(13) if n % 2 == 0]\n",
    "L"
   ]
  },
  {
   "cell_type": "markdown",
   "metadata": {},
   "source": [
    "::: {.plus titre="Syntaxe complète avec `else`"}\n",
    "Il est possible d'utiliser une clause `else` dans les conditions grâce à l'opérateur ternaire: `valeur_si_vrai if condition else valeur_si_faux`\n",
    "\n",
    "```python\n",
    "[f(x) if condition else g(x) for x in sequence]\n",
    "```\n",
    "Par exemple:\n",
    "\n",
    "```python\n",
    "[str(i) + \" est pair\" if i % 2 == 0 else str(i) + \" est impair\" for i in range(5)]\n",
    "```\n",
    "renvoie: `['0 est pair', '1 est impair', '2 est pair', '3 est impair', '4 est pair']`\n",
    ":::"
   ]
  },
  {
   "cell_type": "markdown",
   "metadata": {},
   "source": [
    "## Tableaux à deux dimensions: les matrices\n",
    "\n",
    "Pour représenter un tableau de données, on peut utiliser une liste de liste.\n",
    "\n",
    "$$\n",
    "\\begin{pmatrix}\n",
    "   1 & 2 & 3\\\\\n",
    "   2 & 4 & 6\\\\\n",
    "   3 & 6 & 9 \n",
    "\\end{pmatrix}\n",
    "$$"
   ]
  },
  {
   "cell_type": "code",
   "execution_count": 40,
   "metadata": {},
   "outputs": [
    {
     "data": {
      "text/plain": [
       "[[1, 2, 3], [2, 4, 6], [3, 6, 9]]"
      ]
     },
     "execution_count": 40,
     "metadata": {},
     "output_type": "execute_result"
    }
   ],
   "source": [
    "M = [[1, 2, 3],\n",
    "     [2, 4, 6],\n",
    "     [3, 6, 9]]\n",
    "M"
   ]
  },
  {
   "cell_type": "markdown",
   "metadata": {},
   "source": [
    "On accéde alors aux éléments en précisant l'index de ligne et le colonne: `M[i ligne][i colonne]`.\n",
    "\n",
    "Par exemple pour accéder au troisième élément de la première ligne."
   ]
  },
  {
   "cell_type": "code",
   "execution_count": 41,
   "metadata": {},
   "outputs": [
    {
     "data": {
      "text/plain": [
       "3"
      ]
     },
     "execution_count": 41,
     "metadata": {},
     "output_type": "execute_result"
    }
   ],
   "source": [
    "M[0][2]"
   ]
  },
  {
   "cell_type": "markdown",
   "metadata": {},
   "source": [
    "Accés au deuxième élément de la troisième ligne."
   ]
  },
  {
   "cell_type": "code",
   "execution_count": 42,
   "metadata": {},
   "outputs": [
    {
     "data": {
      "text/plain": [
       "6"
      ]
     },
     "execution_count": 42,
     "metadata": {},
     "output_type": "execute_result"
    }
   ],
   "source": [
    "M[2][1]"
   ]
  }
 ],
 "metadata": {
  "kernelspec": {
   "display_name": "Python 3",
   "language": "python",
   "name": "python3"
  },
  "language_info": {
   "codemirror_mode": {
    "name": "ipython",
    "version": 3
   },
   "file_extension": ".py",
   "mimetype": "text/x-python",
   "name": "python",
   "nbconvert_exporter": "python",
   "pygments_lexer": "ipython3",
   "version": "3.8.1"
  }
 },
 "nbformat": 4,
 "nbformat_minor": 2
}