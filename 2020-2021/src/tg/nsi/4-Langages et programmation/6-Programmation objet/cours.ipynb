{
 "cells": [
  {
   "cell_type": "markdown",
   "metadata": {},
   "source": [
    "---\n",
    "tags: [\"cours\", \"terminale\", \"lycée\", \"numérique et sciences informatiques\", \"nsi\", \"poo\", \"attributs\", \"méthodes\"]\n",
    "---\n",
    "\n",
    "::: programme\n",
    "\n",
    "+-------------------------+------------------------------------+------------------------------------------+\n",
    "|        Contenus         |        Capacités attendues         |               Commentaires               |\n",
    "+=========================+====================================+==========================================+\n",
    "| Vocabulaire de la       | Écrire la définition d’une classe. | On n’aborde pas ici tous les             |\n",
    "| programmation objet :   |                                    | aspects de la programmation              |\n",
    "| classes, attributs,     | Accéder aux attributs et           | objet comme le polymorphisme et          |\n",
    "| méthodes, objets.       | méthodes d’une classe.             | l’héritage.                              |\n",
    "+-------------------------+------------------------------------+------------------------------------------+\n",
    "\n",
    ":::\n",
    "\n",
    "La programmation orientée objet est un paradigme de programmation permettant à l'utilisateur de\n",
    "dépasser les objets proposés par le langage de programmation afin d'en créer de nouveaux adaptés au\n",
    "problème réel qu'il tente de résoudre.\n",
    "\n",
    "Les objets sont décrits dans des `class`es contenant:\n",
    "\n",
    "- des _attributs_ qui sont les _données_ associées à l'objet;\n",
    "- des _méthodes_ qui sont les _fonctions_ s'appliquant sur cet objet.\n",
    "\n",
    "## Création d'une classe et instanciation\n",
    "\n",
    "En Python, on créé une classe avec la mot clé `class` qu'on nomme par habitude avec un nom en\n",
    "[_CamelCase_](https://fr.wikipedia.org/wiki/Camel_case)."
   ]
  },
  {
   "cell_type": "code",
   "execution_count": 12,
   "metadata": {},
   "outputs": [],
   "source": [
    "class MaClasse:\n",
    "    nom = \"Terminale\""
   ]
  },
  {
   "cell_type": "markdown",
   "metadata": {},
   "source": [
    "L'objet `MaClasse` est une sorte de patron à partir duquel on va pouvoir créer des objets à la\n",
    "demande en créant ce que l'on appelle des instances par appel de la classe."
   ]
  },
  {
   "cell_type": "code",
   "execution_count": 13,
   "metadata": {},
   "outputs": [],
   "source": [
    "## On crée deux instances de l'objet Maclasse\n",
    "classe1 = MaClasse()\n",
    "classe2 = MaClasse()"
   ]
  },
  {
   "cell_type": "markdown",
   "metadata": {},
   "source": [
    "Notre classe contient un seul attribut x qui peut être retourné à l'aide de la notation pointée: `nom_instance.x`."
   ]
  },
  {
   "cell_type": "code",
   "execution_count": 14,
   "metadata": {},
   "outputs": [
    {
     "data": {
      "text/plain": [
       "'Terminale'"
      ]
     },
     "execution_count": 14,
     "metadata": {},
     "output_type": "execute_result"
    }
   ],
   "source": [
    "# nos deux instances contiennent le même attribut x = 4\n",
    "classe1.nom"
   ]
  },
  {
   "cell_type": "code",
   "execution_count": 15,
   "metadata": {},
   "outputs": [
    {
     "data": {
      "text/plain": [
       "'Terminale'"
      ]
     },
     "execution_count": 15,
     "metadata": {},
     "output_type": "execute_result"
    }
   ],
   "source": [
    "classe2.nom"
   ]
  },
  {
   "cell_type": "markdown",
   "metadata": {},
   "source": [
    "On peut modifier les attributs d'un objet ou les supprimer."
   ]
  },
  {
   "cell_type": "code",
   "execution_count": 42,
   "metadata": {},
   "outputs": [
    {
     "data": {
      "text/plain": [
       "'Première'"
      ]
     },
     "execution_count": 42,
     "metadata": {},
     "output_type": "execute_result"
    }
   ],
   "source": [
    "# méthode déconseillée \n",
    "# on utilise plutôt des getters et setters pour ça (voir plus bas)\n",
    "classe2.nom = \"Première\"\n",
    "# l'attribut x a bien été modifié pour l'instance classe2\n",
    "classe2.nom"
   ]
  },
  {
   "cell_type": "code",
   "execution_count": 17,
   "metadata": {},
   "outputs": [
    {
     "data": {
      "text/plain": [
       "'Terminale'"
      ]
     },
     "execution_count": 17,
     "metadata": {},
     "output_type": "execute_result"
    }
   ],
   "source": [
    "# par contre l'attribut de l'instance classe1 est inchangé\n",
    "classe1.nom"
   ]
  },
  {
   "cell_type": "code",
   "execution_count": 18,
   "metadata": {},
   "outputs": [
    {
     "ename": "AttributeError",
     "evalue": "nom",
     "output_type": "error",
     "traceback": [
      "\u001b[0;31m---------------------------------------------------------------------------\u001b[0m",
      "\u001b[0;31mAttributeError\u001b[0m                            Traceback (most recent call last)",
      "\u001b[0;32m<ipython-input-18-e51cde97e415>\u001b[0m in \u001b[0;36m<module>\u001b[0;34m\u001b[0m\n\u001b[0;32m----> 1\u001b[0;31m \u001b[0;32mdel\u001b[0m \u001b[0mclasse1\u001b[0m\u001b[0;34m.\u001b[0m\u001b[0mnom\u001b[0m\u001b[0;34m\u001b[0m\u001b[0;34m\u001b[0m\u001b[0m\n\u001b[0m\u001b[1;32m      2\u001b[0m \u001b[0mclasse1\u001b[0m\u001b[0;34m.\u001b[0m\u001b[0mnom\u001b[0m\u001b[0;34m\u001b[0m\u001b[0;34m\u001b[0m\u001b[0m\n",
      "\u001b[0;31mAttributeError\u001b[0m: nom"
     ]
    }
   ],
   "source": [
    "del classe1.nom\n",
    "classe1.nom"
   ]
  },
  {
   "cell_type": "markdown",
   "metadata": {},
   "source": [
    "## Les méthodes et le mot clé `self`\n",
    "\n",
    "Les méthodes sont des fonctions définies au sein de la classe.\n",
    "\n",
    "Une méthode prend toujours en premier paramètre l'objet lui-même par l'intermédiare de l'argument `self`.\n",
    "\n",
    "L'appel de la méthode se fait également avec la notation pointée: `nom_instance.methode(...)` "
   ]
  },
  {
   "cell_type": "code",
   "execution_count": 23,
   "metadata": {},
   "outputs": [
    {
     "data": {
      "text/plain": [
       "\"Terminale du lycée Honoré d'Estienne d'Orves\""
      ]
     },
     "execution_count": 23,
     "metadata": {},
     "output_type": "execute_result"
    }
   ],
   "source": [
    "class MaClasse:\n",
    "    nom = 'Terminale'\n",
    "    def ajoute_lycée(self, lycée):\n",
    "        \"\"\"Cette méthode modifie l'attribut nom et le renvoie\"\"\"\n",
    "        self.nom = self.nom + \" du lycée \" + lycée\n",
    "        return self.nom\n",
    "\n",
    "classe1 = MaClasse()\n",
    "# appel de la méthode pour ajouter le nom du lycée et le renvoer et le renvoyer\n",
    "classe1.ajoute_lycée(\"Honoré d'Estienne d'Orves\")"
   ]
  },
  {
   "cell_type": "code",
   "execution_count": 24,
   "metadata": {},
   "outputs": [
    {
     "data": {
      "text/plain": [
       "\"Terminale du lycée Honoré d'Estienne d'Orves\""
      ]
     },
     "execution_count": 24,
     "metadata": {},
     "output_type": "execute_result"
    }
   ],
   "source": [
    "# l'attribut x a bien été modifié\n",
    "classe1.nom"
   ]
  },
  {
   "cell_type": "markdown",
   "metadata": {},
   "source": [
    "## Méthodes particulières\n",
    "\n",
    "### Initialisation avec le constructeur `__init__()`\n",
    "\n",
    "Il est souvent interressant de créer des objets différents à partir d'un même classe , il est donc possible d'ajouter des arguments qui seront pris en charge lors de l'instanciation de l'objet en utilisant la méthode prédéfinie: `__init__()`.\n",
    "\n",
    "Prenons l'exemple d'une classe plus réaliste consitant à représenter une personne."
   ]
  },
  {
   "cell_type": "code",
   "execution_count": 37,
   "metadata": {},
   "outputs": [
    {
     "name": "stdout",
     "output_type": "stream",
     "text": [
      "Jim\n",
      "27\n"
     ]
    }
   ],
   "source": [
    "class Personne:\n",
    "    def __init__(self, nom, age):\n",
    "        self.nom = nom\n",
    "        self.age = age\n",
    "\n",
    "jim = Personne(\"Jim\", 27)\n",
    "\n",
    "print(jim.nom)\n",
    "print(jim.age) "
   ]
  },
  {
   "cell_type": "markdown",
   "metadata": {},
   "source": [
    "### La méthode `__repr__()`\n",
    "\n",
    "Cette méthode est utilisée pour donner une représentation des objets sous forme lisible par exemple lors d'un appel de la fonction `print`. \n",
    "\n",
    "Pour l'instant si on affiche notre instance, on a:"
   ]
  },
  {
   "cell_type": "code",
   "execution_count": 38,
   "metadata": {},
   "outputs": [
    {
     "name": "stdout",
     "output_type": "stream",
     "text": [
      "<__main__.Personne object at 0x7f64a010d4f0>\n"
     ]
    }
   ],
   "source": [
    "print(jim)"
   ]
  },
  {
   "cell_type": "code",
   "execution_count": 41,
   "metadata": {},
   "outputs": [
    {
     "name": "stdout",
     "output_type": "stream",
     "text": [
      "John est une Personne de 32 ans.\n"
     ]
    },
    {
     "data": {
      "text/plain": [
       "John est une Personne de 32 ans."
      ]
     },
     "execution_count": 41,
     "metadata": {},
     "output_type": "execute_result"
    }
   ],
   "source": [
    "class Personne:\n",
    "    def __init__(self, nom, age):\n",
    "        self.nom = nom\n",
    "        self.age = age\n",
    "    def __repr__(self):\n",
    "        return f\"{self.nom} est une Personne de {self.age} ans.\"\n",
    "\n",
    "john = Personne(\"John\", 32)\n",
    "\n",
    "print(john)\n",
    "john"
   ]
  },
  {
   "cell_type": "markdown",
   "metadata": {},
   "source": [
    "### Les getters et setters\n",
    "\n",
    "Il est fortement déconseillé de récupérer _(get)_ ou modifier _(set)_ des attributs de l'objet directement par l'utilisation de la notation pointée vue précédemment.\n",
    "\n",
    "Pour chaque attribut, il est conseillé de définir deux méthodes:\n",
    "\n",
    "- `get_nom_attribut`: pour le récupérer.\n",
    "- `set_nom_attribut`: pour le modifier.\n",
    "\n",
    "_C'est long oui, mais c'est la pratique couramment recommandée._\n",
    "\n",
    "Voici ce que cela donnerait dans notre cas, on a deux attributs: `nom` et `age` , il faut donc ajouter quatre méthodes."
   ]
  },
  {
   "cell_type": "code",
   "execution_count": 53,
   "metadata": {},
   "outputs": [
    {
     "name": "stdout",
     "output_type": "stream",
     "text": [
      "Au début\n",
      "John est une Personne de 32 ans.\n",
      "Modification des attributs avec les setters\n",
      "Jean est une Personne de 12 ans.\n",
      "Récupération des attributs avec les getters\n"
     ]
    },
    {
     "data": {
      "text/plain": [
       "('Jean', 12)"
      ]
     },
     "execution_count": 53,
     "metadata": {},
     "output_type": "execute_result"
    }
   ],
   "source": [
    "class Personne:\n",
    "    def __init__(self, nom, age):\n",
    "        self.nom = nom\n",
    "        self.age = age\n",
    "    \n",
    "    def get_nom(self):\n",
    "        return self.nom\n",
    "    \n",
    "    def set_nom(self, nom):\n",
    "        self.nom = nom\n",
    "    \n",
    "    def get_age(self):\n",
    "        return self.age\n",
    "    \n",
    "    def set_age(self, age):\n",
    "        self.age = age\n",
    "        \n",
    "    def __repr__(self):\n",
    "        return f\"{self.nom} est une Personne de {self.age} ans.\"\n",
    "\n",
    "john = Personne(\"John\", 32)\n",
    "\n",
    "print(\"Au début\")\n",
    "print(john)\n",
    "\n",
    "print(\"Modification des attributs avec les setters\")\n",
    "john.set_nom(\"Jean\")\n",
    "john.set_age(12)\n",
    "print(john)\n",
    "\n",
    "print(\"Récupération des attributs avec les getters\")\n",
    "john.get_nom(), john.get_age()"
   ]
  },
  {
   "cell_type": "markdown",
   "metadata": {},
   "source": [
    "## En plus: Héritage\n",
    "\n",
    "Un des aspects intéressants _(mais hors-programme)_ est la possibilité de créer des sous classes qui héritent des attributs et méthode de la classe parente.\n",
    "\n",
    "L'héritage q'il est bien réalisé permet d'éviter des répétitions de code _(Principe DRY: Don't Repeat Yourself)_, et permet d'aboutir à une grande structuration des données."
   ]
  },
  {
   "cell_type": "code",
   "execution_count": 54,
   "metadata": {},
   "outputs": [
    {
     "data": {
      "text/plain": [
       "Bonjour, je suis Albert, j'ai 27 et je suis en nsi"
      ]
     },
     "execution_count": 54,
     "metadata": {},
     "output_type": "execute_result"
    }
   ],
   "source": [
    "class Eleve(Personne):\n",
    "    def __init__(self, nom, age, classe):\n",
    "        # super appelle le constructeur du parent\n",
    "        super().__init__(nom, age)\n",
    "        self.classe = classe\n",
    "    # On ne met à jour que les méthodes qui sont changées\n",
    "    def __repr__(self):\n",
    "        return f\"Bonjour, je suis {self.nom}, j'ai {self.age} et je suis en {self.classe}\"\n",
    "    \n",
    "\n",
    "albert = Eleve(\"Albert\", 27, 'nsi')\n",
    "\n",
    "albert"
   ]
  },
  {
   "cell_type": "markdown",
   "metadata": {},
   "source": [
    "Toutes les méthodes du parent non modifiées sont _héritées_."
   ]
  },
  {
   "cell_type": "code",
   "execution_count": 55,
   "metadata": {},
   "outputs": [
    {
     "data": {
      "text/plain": [
       "(27, 'Albert')"
      ]
     },
     "execution_count": 55,
     "metadata": {},
     "output_type": "execute_result"
    }
   ],
   "source": [
    "albert.get_age(), albert.get_nom()"
   ]
  },
  {
   "cell_type": "markdown",
   "metadata": {},
   "source": [
    "Il en reste cepenant à définir propre à cet objet: `get_classe()`, `set_classe()`, et peut-être d'autres (`travaille()`, `bavarde()` ...)"
   ]
  }
 ],
 "metadata": {
  "kernelspec": {
   "display_name": "Python 3",
   "language": "python",
   "name": "python3"
  },
  "language_info": {
   "codemirror_mode": {
    "name": "ipython",
    "version": 3
   },
   "file_extension": ".py",
   "mimetype": "text/x-python",
   "name": "python",
   "nbconvert_exporter": "python",
   "pygments_lexer": "ipython3",
   "version": "3.8.6"
  }
 },
 "nbformat": 4,
 "nbformat_minor": 4
}
