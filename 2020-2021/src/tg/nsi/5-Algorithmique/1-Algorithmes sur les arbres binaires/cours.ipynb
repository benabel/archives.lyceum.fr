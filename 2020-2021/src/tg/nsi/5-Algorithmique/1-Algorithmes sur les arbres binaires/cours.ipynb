{
 "cells": [
  {
   "cell_type": "markdown",
   "metadata": {},
   "source": [
    "---\n",
    "tags: [\"cours\", \"terminale\", \"lycée\", \"numérique et sciences informatiques\", \"nsi\"]\n",
    "---\n",
    "\n",
    "::: programme\n",
    "\n",
    "+------------------------+-----------------------------------+---------------------------------------+\n",
    "|        Contenus        |        Capacités attendues        |             Commentaires              |\n",
    "+========================+===================================+=======================================+\n",
    "| Algorithmes sur les    | Calculer la taille et la hauteur  | Une structure de données              |\n",
    "| arbres binaires et sur | d’un arbre.                       | récursive adaptée est utilisée.       |\n",
    "| les arbres binaires de |                                   |                                       |\n",
    "| recherche.             | Parcourir un arbre de différentes | L’exemple des arbres permet           |\n",
    "|                        | façons (ordres infixe, préfixe ou | d’illustrer la programmation par      |\n",
    "|                        | suffixe ; ordre en largeur        | classe.                               |\n",
    "|                        | d’abord).                         |                                       |\n",
    "|                        |                                   | La recherche dans un arbre de         |\n",
    "|                        | Rechercher une clé dans un        | recherche équilibré est de coût       |\n",
    "|                        | arbre de recherche, insérer une   | logarithmique.                        |\n",
    "|                        | clé.                              |                                       |\n",
    "+------------------------+-----------------------------------+---------------------------------------+\n",
    "\n",
    ":::\n",
    "\n",
    "Dans ce chapitre nous allons voir quelques algorithmes classiques sur les\n",
    "[arbres](/tg/nsi/1-structures-de-donnees/4-arbres/):\n",
    "\n",
    "- Calcul de la taille et de la hauteur de l'arbre.\n",
    "- Parcours de l'arbre de différentes façons\n",
    "- Recherche et insertion d'une clé dans un arbre binaire de recherche.\n",
    "\n",
    "## Description de la structure de données\n",
    "\n",
    "Pour représenter les arbres, nous allons décrire l'arbre à partir d'une classe `Node` _récursive_\n",
    "avec les attributs suivants:\n",
    "\n",
    "- `value`: valeur ou clé du nœud de type numérique,\n",
    "- `left`: sous-arbre gauche de type `Node`,\n",
    "- `right`: sous-arbre droit de type `Node`,\n",
    "\n",
    "Cette structure de données est _récursive_ car les attributes `left` et `right` de l'objet `Node`\n",
    "sont eux-mêmes de type `Node`.\n",
    "\n",
    "::: plus\n",
    "\n",
    "La syntaxe utilisée est basée sur le package python\n",
    "[binarytree](https://binarytree.readthedocs.io/en/latest/index.html) ce qui à l'inconvénient\n",
    "d'être en anglais, mais qui nous permettra de programmer et tester facilement nos algorithmes en\n",
    "Python.\n",
    "\n",
    ":::"
   ]
  },
  {
   "cell_type": "code",
   "execution_count": 2,
   "metadata": {},
   "outputs": [
    {
     "output_type": "stream",
     "name": "stdout",
     "text": [
      "Arbre aléatoire\n"
     ]
    },
    {
     "output_type": "execute_result",
     "data": {
      "text/plain": [
       "Node(9)"
      ],
      "image/svg+xml": "\n    <svg width=\"500.0\" height=\"375\" xmlns=\"http://www.w3.org/2000/svg\"\n         dominant-baseline=\"middle\" text-anchor=\"middle\">\n        <style>\n            .etiquette {\n                font: 500 25px sans-serif;\n                text-align: center;\n            }\n            .noeud {\n                fill: lightgray;\n            }\n\n        </style>\n        <g transform=\"scale(1)\">\n    <line x1=\"244.75\" x2=\"119.75\" y1=\"75\" y2=\"150\" stroke=\"#333\" stroke-width=\"1.5\" /><line x1=\"244.75\" x2=\"369.75\" y1=\"75\" y2=\"150\" stroke=\"#333\" stroke-width=\"1.5\" /><line x1=\"119.75\" x2=\"57.25\" y1=\"150\" y2=\"225\" stroke=\"#333\" stroke-width=\"1.5\" /><line x1=\"119.75\" x2=\"182.25\" y1=\"150\" y2=\"225\" stroke=\"#333\" stroke-width=\"1.5\" /><line x1=\"369.75\" x2=\"307.25\" y1=\"150\" y2=\"225\" stroke=\"#333\" stroke-width=\"1.5\" /><line x1=\"369.75\" x2=\"432.25\" y1=\"150\" y2=\"225\" stroke=\"#333\" stroke-width=\"1.5\" /><line x1=\"57.25\" x2=\"26.0\" y1=\"225\" y2=\"300\" stroke=\"#333\" stroke-width=\"1.5\" /><line x1=\"182.25\" x2=\"213.5\" y1=\"225\" y2=\"300\" stroke=\"#333\" stroke-width=\"1.5\" /><line x1=\"307.25\" x2=\"276.0\" y1=\"225\" y2=\"300\" stroke=\"#333\" stroke-width=\"1.5\" /><line x1=\"307.25\" x2=\"338.5\" y1=\"225\" y2=\"300\" stroke=\"#333\" stroke-width=\"1.5\" />\n            <!--<rect x=\"244.75\" y=\"75\" rx=\"2.5\" ry=\"25\" width=\"55.00000000000001\" height=\"27.500000000000004\" fill=\"blue\"/>-->\n            <circle class=\"noeud\" cx=\"244.75\" cy=\"75\" r=\"25\" stroke=\"#333\" stroke-width=\"1.5\" />\n                   <text class=\"etiquette\" x=\"244.75\" y=\"75\" dominant-baseline=\"middle\">9</text>\n            <!--<rect x=\"119.75\" y=\"150\" rx=\"2.5\" ry=\"25\" width=\"55.00000000000001\" height=\"27.500000000000004\" fill=\"blue\"/>-->\n            <circle class=\"noeud\" cx=\"119.75\" cy=\"150\" r=\"25\" stroke=\"#333\" stroke-width=\"1.5\" />\n                   <text class=\"etiquette\" x=\"119.75\" y=\"150\" dominant-baseline=\"middle\">6</text>\n            <!--<rect x=\"369.75\" y=\"150\" rx=\"2.5\" ry=\"25\" width=\"55.00000000000001\" height=\"27.500000000000004\" fill=\"blue\"/>-->\n            <circle class=\"noeud\" cx=\"369.75\" cy=\"150\" r=\"25\" stroke=\"#333\" stroke-width=\"1.5\" />\n                   <text class=\"etiquette\" x=\"369.75\" y=\"150\" dominant-baseline=\"middle\">10</text>\n            <!--<rect x=\"57.25\" y=\"225\" rx=\"2.5\" ry=\"25\" width=\"55.00000000000001\" height=\"27.500000000000004\" fill=\"blue\"/>-->\n            <circle class=\"noeud\" cx=\"57.25\" cy=\"225\" r=\"25\" stroke=\"#333\" stroke-width=\"1.5\" />\n                   <text class=\"etiquette\" x=\"57.25\" y=\"225\" dominant-baseline=\"middle\">12</text>\n            <!--<rect x=\"182.25\" y=\"225\" rx=\"2.5\" ry=\"25\" width=\"55.00000000000001\" height=\"27.500000000000004\" fill=\"blue\"/>-->\n            <circle class=\"noeud\" cx=\"182.25\" cy=\"225\" r=\"25\" stroke=\"#333\" stroke-width=\"1.5\" />\n                   <text class=\"etiquette\" x=\"182.25\" y=\"225\" dominant-baseline=\"middle\">4</text>\n            <!--<rect x=\"307.25\" y=\"225\" rx=\"2.5\" ry=\"25\" width=\"55.00000000000001\" height=\"27.500000000000004\" fill=\"blue\"/>-->\n            <circle class=\"noeud\" cx=\"307.25\" cy=\"225\" r=\"25\" stroke=\"#333\" stroke-width=\"1.5\" />\n                   <text class=\"etiquette\" x=\"307.25\" y=\"225\" dominant-baseline=\"middle\">7</text>\n            <!--<rect x=\"432.25\" y=\"225\" rx=\"2.5\" ry=\"25\" width=\"55.00000000000001\" height=\"27.500000000000004\" fill=\"blue\"/>-->\n            <circle class=\"noeud\" cx=\"432.25\" cy=\"225\" r=\"25\" stroke=\"#333\" stroke-width=\"1.5\" />\n                   <text class=\"etiquette\" x=\"432.25\" y=\"225\" dominant-baseline=\"middle\">5</text>\n            <!--<rect x=\"26.0\" y=\"300\" rx=\"2.5\" ry=\"25\" width=\"55.00000000000001\" height=\"27.500000000000004\" fill=\"blue\"/>-->\n            <circle class=\"noeud\" cx=\"26.0\" cy=\"300\" r=\"25\" stroke=\"#333\" stroke-width=\"1.5\" />\n                   <text class=\"etiquette\" x=\"26.0\" y=\"300\" dominant-baseline=\"middle\">1</text>\n            <!--<rect x=\"213.5\" y=\"300\" rx=\"2.5\" ry=\"25\" width=\"55.00000000000001\" height=\"27.500000000000004\" fill=\"blue\"/>-->\n            <circle class=\"noeud\" cx=\"213.5\" cy=\"300\" r=\"25\" stroke=\"#333\" stroke-width=\"1.5\" />\n                   <text class=\"etiquette\" x=\"213.5\" y=\"300\" dominant-baseline=\"middle\">11</text>\n            <!--<rect x=\"276.0\" y=\"300\" rx=\"2.5\" ry=\"25\" width=\"55.00000000000001\" height=\"27.500000000000004\" fill=\"blue\"/>-->\n            <circle class=\"noeud\" cx=\"276.0\" cy=\"300\" r=\"25\" stroke=\"#333\" stroke-width=\"1.5\" />\n                   <text class=\"etiquette\" x=\"276.0\" y=\"300\" dominant-baseline=\"middle\">3</text>\n            <!--<rect x=\"338.5\" y=\"300\" rx=\"2.5\" ry=\"25\" width=\"55.00000000000001\" height=\"27.500000000000004\" fill=\"blue\"/>-->\n            <circle class=\"noeud\" cx=\"338.5\" cy=\"300\" r=\"25\" stroke=\"#333\" stroke-width=\"1.5\" />\n                   <text class=\"etiquette\" x=\"338.5\" y=\"300\" dominant-baseline=\"middle\">0</text></g></svg>"
     },
     "metadata": {},
     "execution_count": 2
    }
   ],
   "source": [
    "from binarytree import Node, tree\n",
    "# On peut facilement créer un arbre aléatoire\n",
    "mon_arbre = tree(height=3)\n",
    "\n",
    "# L'affichage de l'arbre est aisé\n",
    "print(\"Arbre aléatoire\")\n",
    "mon_arbre"
   ]
  },
  {
   "cell_type": "code",
   "execution_count": 3,
   "metadata": {},
   "outputs": [
    {
     "output_type": "stream",
     "name": "stdout",
     "text": [
      "A la main\n"
     ]
    },
    {
     "output_type": "execute_result",
     "data": {
      "text/plain": [
       "Node(3)"
      ],
      "image/svg+xml": "\n    <svg width=\"500.0\" height=\"375\" xmlns=\"http://www.w3.org/2000/svg\"\n         dominant-baseline=\"middle\" text-anchor=\"middle\">\n        <style>\n            .etiquette {\n                font: 500 25px sans-serif;\n                text-align: center;\n            }\n            .noeud {\n                fill: lightgray;\n            }\n\n        </style>\n        <g transform=\"scale(1)\">\n    <line x1=\"244.75\" x2=\"119.75\" y1=\"75\" y2=\"150\" stroke=\"#333\" stroke-width=\"1.5\" /><line x1=\"244.75\" x2=\"369.75\" y1=\"75\" y2=\"150\" stroke=\"#333\" stroke-width=\"1.5\" /><line x1=\"119.75\" x2=\"57.25\" y1=\"150\" y2=\"225\" stroke=\"#333\" stroke-width=\"1.5\" /><line x1=\"119.75\" x2=\"182.25\" y1=\"150\" y2=\"225\" stroke=\"#333\" stroke-width=\"1.5\" /><line x1=\"182.25\" x2=\"213.5\" y1=\"225\" y2=\"300\" stroke=\"#333\" stroke-width=\"1.5\" />\n            <!--<rect x=\"244.75\" y=\"75\" rx=\"2.5\" ry=\"25\" width=\"55.00000000000001\" height=\"27.500000000000004\" fill=\"blue\"/>-->\n            <circle class=\"noeud\" cx=\"244.75\" cy=\"75\" r=\"25\" stroke=\"#333\" stroke-width=\"1.5\" />\n                   <text class=\"etiquette\" x=\"244.75\" y=\"75\" dominant-baseline=\"middle\">3</text>\n            <!--<rect x=\"119.75\" y=\"150\" rx=\"2.5\" ry=\"25\" width=\"55.00000000000001\" height=\"27.500000000000004\" fill=\"blue\"/>-->\n            <circle class=\"noeud\" cx=\"119.75\" cy=\"150\" r=\"25\" stroke=\"#333\" stroke-width=\"1.5\" />\n                   <text class=\"etiquette\" x=\"119.75\" y=\"150\" dominant-baseline=\"middle\">2</text>\n            <!--<rect x=\"369.75\" y=\"150\" rx=\"2.5\" ry=\"25\" width=\"55.00000000000001\" height=\"27.500000000000004\" fill=\"blue\"/>-->\n            <circle class=\"noeud\" cx=\"369.75\" cy=\"150\" r=\"25\" stroke=\"#333\" stroke-width=\"1.5\" />\n                   <text class=\"etiquette\" x=\"369.75\" y=\"150\" dominant-baseline=\"middle\">6</text>\n            <!--<rect x=\"57.25\" y=\"225\" rx=\"2.5\" ry=\"25\" width=\"55.00000000000001\" height=\"27.500000000000004\" fill=\"blue\"/>-->\n            <circle class=\"noeud\" cx=\"57.25\" cy=\"225\" r=\"25\" stroke=\"#333\" stroke-width=\"1.5\" />\n                   <text class=\"etiquette\" x=\"57.25\" y=\"225\" dominant-baseline=\"middle\">1</text>\n            <!--<rect x=\"182.25\" y=\"225\" rx=\"2.5\" ry=\"25\" width=\"55.00000000000001\" height=\"27.500000000000004\" fill=\"blue\"/>-->\n            <circle class=\"noeud\" cx=\"182.25\" cy=\"225\" r=\"25\" stroke=\"#333\" stroke-width=\"1.5\" />\n                   <text class=\"etiquette\" x=\"182.25\" y=\"225\" dominant-baseline=\"middle\">4</text>\n            <!--<rect x=\"213.5\" y=\"300\" rx=\"2.5\" ry=\"25\" width=\"55.00000000000001\" height=\"27.500000000000004\" fill=\"blue\"/>-->\n            <circle class=\"noeud\" cx=\"213.5\" cy=\"300\" r=\"25\" stroke=\"#333\" stroke-width=\"1.5\" />\n                   <text class=\"etiquette\" x=\"213.5\" y=\"300\" dominant-baseline=\"middle\">5</text></g></svg>"
     },
     "metadata": {},
     "execution_count": 3
    }
   ],
   "source": [
    "# ou créer l'arbre de toutes pièces\n",
    "arbre = Node(3)\n",
    "arbre.left = Node(2)\n",
    "arbre.left.left = Node(1)\n",
    "arbre.left.right = Node(4)\n",
    "arbre.left.right.right = Node(5)\n",
    "arbre.right = Node(6)\n",
    "print(\"A la main\")\n",
    "arbre"
   ]
  },
  {
   "cell_type": "markdown",
   "metadata": {},
   "source": [
    "## Calculer la hauteur de l'arbre\n",
    "\n",
    "Pour rappel:\n",
    "\n",
    "::: {.def terme=\"Hauteur d'un arbre\"}\n",
    "\n",
    "La hauteur d'un arbre est la plus grande profondeur d'une feuille de l'arbre.\n",
    "\n",
    ":::\n",
    "\n",
    "Pour rappel:\n",
    "\n",
    "::: {.def terme=\"Taille d'un arbre\"}\n",
    "\n",
    "La taille d'un arbre est son nombre de nœuds.\n",
    "\n",
    ":::\n",
    "\n",
    "Nous allons à nouveau utiliser une fonction _recursive_.\n",
    "\n",
    "A chaque appel, on renvoie `1 + max(taille(node.left), taille(node.right))`.\n",
    "\n",
    "Mais comme toute fonction recursive, il faut un cas de base qui ne nécessite pas le rappel de la fonction(sans quoi on aurait une boucle infinie). Ce cas est l'absence de noeud, cela signifie que le noeud parent était une feuille, et renvoie -1 pour diminuer la hauteur accumulée de 1.\n",
    "\n",
    "Voici le pseudo-code correspondant à cette fonction:\n",
    "\n",
    "```\n",
    "hauteur(Arbre A) :\n",
    "    Si A vide\n",
    "\t\tretourner -1\n",
    "    retourner 1 + max(hauteur(gauche(A)), hauteur(droite(A)))\n",
    "```\n",
    "\n",
    "Et voici l'implémentation de cette fonction en Python en utilisant la classe `binarytree.Node` pour représenter les arbres binaires."
   ]
  },
  {
   "cell_type": "code",
   "execution_count": 4,
   "metadata": {},
   "outputs": [
    {
     "output_type": "stream",
     "name": "stdout",
     "text": [
      "hauteur: 3\n"
     ]
    },
    {
     "output_type": "execute_result",
     "data": {
      "text/plain": [
       "Node(9)"
      ],
      "image/svg+xml": "\n    <svg width=\"500.0\" height=\"375\" xmlns=\"http://www.w3.org/2000/svg\"\n         dominant-baseline=\"middle\" text-anchor=\"middle\">\n        <style>\n            .etiquette {\n                font: 500 25px sans-serif;\n                text-align: center;\n            }\n            .noeud {\n                fill: lightgray;\n            }\n\n        </style>\n        <g transform=\"scale(1)\">\n    <line x1=\"244.75\" x2=\"119.75\" y1=\"75\" y2=\"150\" stroke=\"#333\" stroke-width=\"1.5\" /><line x1=\"244.75\" x2=\"369.75\" y1=\"75\" y2=\"150\" stroke=\"#333\" stroke-width=\"1.5\" /><line x1=\"119.75\" x2=\"57.25\" y1=\"150\" y2=\"225\" stroke=\"#333\" stroke-width=\"1.5\" /><line x1=\"119.75\" x2=\"182.25\" y1=\"150\" y2=\"225\" stroke=\"#333\" stroke-width=\"1.5\" /><line x1=\"369.75\" x2=\"307.25\" y1=\"150\" y2=\"225\" stroke=\"#333\" stroke-width=\"1.5\" /><line x1=\"369.75\" x2=\"432.25\" y1=\"150\" y2=\"225\" stroke=\"#333\" stroke-width=\"1.5\" /><line x1=\"57.25\" x2=\"26.0\" y1=\"225\" y2=\"300\" stroke=\"#333\" stroke-width=\"1.5\" /><line x1=\"182.25\" x2=\"213.5\" y1=\"225\" y2=\"300\" stroke=\"#333\" stroke-width=\"1.5\" /><line x1=\"307.25\" x2=\"276.0\" y1=\"225\" y2=\"300\" stroke=\"#333\" stroke-width=\"1.5\" /><line x1=\"307.25\" x2=\"338.5\" y1=\"225\" y2=\"300\" stroke=\"#333\" stroke-width=\"1.5\" />\n            <!--<rect x=\"244.75\" y=\"75\" rx=\"2.5\" ry=\"25\" width=\"55.00000000000001\" height=\"27.500000000000004\" fill=\"blue\"/>-->\n            <circle class=\"noeud\" cx=\"244.75\" cy=\"75\" r=\"25\" stroke=\"#333\" stroke-width=\"1.5\" />\n                   <text class=\"etiquette\" x=\"244.75\" y=\"75\" dominant-baseline=\"middle\">9</text>\n            <!--<rect x=\"119.75\" y=\"150\" rx=\"2.5\" ry=\"25\" width=\"55.00000000000001\" height=\"27.500000000000004\" fill=\"blue\"/>-->\n            <circle class=\"noeud\" cx=\"119.75\" cy=\"150\" r=\"25\" stroke=\"#333\" stroke-width=\"1.5\" />\n                   <text class=\"etiquette\" x=\"119.75\" y=\"150\" dominant-baseline=\"middle\">6</text>\n            <!--<rect x=\"369.75\" y=\"150\" rx=\"2.5\" ry=\"25\" width=\"55.00000000000001\" height=\"27.500000000000004\" fill=\"blue\"/>-->\n            <circle class=\"noeud\" cx=\"369.75\" cy=\"150\" r=\"25\" stroke=\"#333\" stroke-width=\"1.5\" />\n                   <text class=\"etiquette\" x=\"369.75\" y=\"150\" dominant-baseline=\"middle\">10</text>\n            <!--<rect x=\"57.25\" y=\"225\" rx=\"2.5\" ry=\"25\" width=\"55.00000000000001\" height=\"27.500000000000004\" fill=\"blue\"/>-->\n            <circle class=\"noeud\" cx=\"57.25\" cy=\"225\" r=\"25\" stroke=\"#333\" stroke-width=\"1.5\" />\n                   <text class=\"etiquette\" x=\"57.25\" y=\"225\" dominant-baseline=\"middle\">12</text>\n            <!--<rect x=\"182.25\" y=\"225\" rx=\"2.5\" ry=\"25\" width=\"55.00000000000001\" height=\"27.500000000000004\" fill=\"blue\"/>-->\n            <circle class=\"noeud\" cx=\"182.25\" cy=\"225\" r=\"25\" stroke=\"#333\" stroke-width=\"1.5\" />\n                   <text class=\"etiquette\" x=\"182.25\" y=\"225\" dominant-baseline=\"middle\">4</text>\n            <!--<rect x=\"307.25\" y=\"225\" rx=\"2.5\" ry=\"25\" width=\"55.00000000000001\" height=\"27.500000000000004\" fill=\"blue\"/>-->\n            <circle class=\"noeud\" cx=\"307.25\" cy=\"225\" r=\"25\" stroke=\"#333\" stroke-width=\"1.5\" />\n                   <text class=\"etiquette\" x=\"307.25\" y=\"225\" dominant-baseline=\"middle\">7</text>\n            <!--<rect x=\"432.25\" y=\"225\" rx=\"2.5\" ry=\"25\" width=\"55.00000000000001\" height=\"27.500000000000004\" fill=\"blue\"/>-->\n            <circle class=\"noeud\" cx=\"432.25\" cy=\"225\" r=\"25\" stroke=\"#333\" stroke-width=\"1.5\" />\n                   <text class=\"etiquette\" x=\"432.25\" y=\"225\" dominant-baseline=\"middle\">5</text>\n            <!--<rect x=\"26.0\" y=\"300\" rx=\"2.5\" ry=\"25\" width=\"55.00000000000001\" height=\"27.500000000000004\" fill=\"blue\"/>-->\n            <circle class=\"noeud\" cx=\"26.0\" cy=\"300\" r=\"25\" stroke=\"#333\" stroke-width=\"1.5\" />\n                   <text class=\"etiquette\" x=\"26.0\" y=\"300\" dominant-baseline=\"middle\">1</text>\n            <!--<rect x=\"213.5\" y=\"300\" rx=\"2.5\" ry=\"25\" width=\"55.00000000000001\" height=\"27.500000000000004\" fill=\"blue\"/>-->\n            <circle class=\"noeud\" cx=\"213.5\" cy=\"300\" r=\"25\" stroke=\"#333\" stroke-width=\"1.5\" />\n                   <text class=\"etiquette\" x=\"213.5\" y=\"300\" dominant-baseline=\"middle\">11</text>\n            <!--<rect x=\"276.0\" y=\"300\" rx=\"2.5\" ry=\"25\" width=\"55.00000000000001\" height=\"27.500000000000004\" fill=\"blue\"/>-->\n            <circle class=\"noeud\" cx=\"276.0\" cy=\"300\" r=\"25\" stroke=\"#333\" stroke-width=\"1.5\" />\n                   <text class=\"etiquette\" x=\"276.0\" y=\"300\" dominant-baseline=\"middle\">3</text>\n            <!--<rect x=\"338.5\" y=\"300\" rx=\"2.5\" ry=\"25\" width=\"55.00000000000001\" height=\"27.500000000000004\" fill=\"blue\"/>-->\n            <circle class=\"noeud\" cx=\"338.5\" cy=\"300\" r=\"25\" stroke=\"#333\" stroke-width=\"1.5\" />\n                   <text class=\"etiquette\" x=\"338.5\" y=\"300\" dominant-baseline=\"middle\">0</text></g></svg>"
     },
     "metadata": {},
     "execution_count": 4
    }
   ],
   "source": [
    "def hauteur(node):\n",
    "    \"\"\"Fonction récursive renvoyant la hauteur d'un arbre\n",
    "    \n",
    "    Arguments\n",
    "    ---------\n",
    "    node: Node\n",
    "        Le noeud racine de l'arbre\n",
    "    \n",
    "    Returns\n",
    "    -------\n",
    "    int\n",
    "        La hauteur de l'arbre\n",
    "    \"\"\"\n",
    "    # Cas de base \n",
    "    if not(node):\n",
    "        return -1\n",
    "    else:\n",
    "        # print(node)\n",
    "        return 1 + max(hauteur(node.left), hauteur(node.right))\n",
    "        \n",
    "print(\"hauteur:\", hauteur(mon_arbre))\n",
    "mon_arbre"
   ]
  },
  {
   "cell_type": "markdown",
   "metadata": {},
   "source": [
    "N'hésitez pas à décommenter le `print` pour observer les arbres sur lesquels sont appelés cette fonction.\n",
    "\n",
    "::: appli\n",
    "\n",
    "Schématiser la pile d'appels de la fonction récursive utilisée pour obtenir ce résultat.\n",
    "\n",
    ":::"
   ]
  },
  {
   "cell_type": "markdown",
   "metadata": {},
   "source": [
    "## Calculer la taille de l'arbre\n",
    "\n",
    "Pour rappel:\n",
    "\n",
    "::: {.def terme=\"Taille d'un arbre\"}\n",
    "\n",
    "La taille d'un arbre est son nombre de nœuds.\n",
    "\n",
    ":::\n",
    "\n",
    "\n",
    "Encore une fois, nous allons utiliser une fonction _recursive_.\n",
    "\n",
    "A chaque appel, au lieu d'utiliser le maximum  comme précédemment on va simplement additionner les hauteurs des sous-arbres: on renvoie `1 + hauteur(node.left), hauteur(node.right))`.\n",
    "\n",
    "Le cas de base, en cas d'absence de noeud, on renvoie 0.\n",
    "\n",
    "Voici le pseudo-code correspondant à cette fonction:\n",
    "\n",
    "```\n",
    "taille(Arbre A) :\n",
    "    Si A vide\n",
    "\t\tretourner 0\n",
    "    retourner 1 + taille(gauche(A)) + taille(droite(A))\n",
    "```\n",
    "\n",
    "Et voici l'implémentation de cette fonction en Python en utilisant la classe `binarytree.Node` pour représenter les arbres binaires."
   ]
  },
  {
   "cell_type": "code",
   "execution_count": 5,
   "metadata": {},
   "outputs": [
    {
     "output_type": "stream",
     "name": "stdout",
     "text": [
      "taille: 11\n"
     ]
    },
    {
     "output_type": "execute_result",
     "data": {
      "text/plain": [
       "Node(9)"
      ],
      "image/svg+xml": "\n    <svg width=\"500.0\" height=\"375\" xmlns=\"http://www.w3.org/2000/svg\"\n         dominant-baseline=\"middle\" text-anchor=\"middle\">\n        <style>\n            .etiquette {\n                font: 500 25px sans-serif;\n                text-align: center;\n            }\n            .noeud {\n                fill: lightgray;\n            }\n\n        </style>\n        <g transform=\"scale(1)\">\n    <line x1=\"244.75\" x2=\"119.75\" y1=\"75\" y2=\"150\" stroke=\"#333\" stroke-width=\"1.5\" /><line x1=\"244.75\" x2=\"369.75\" y1=\"75\" y2=\"150\" stroke=\"#333\" stroke-width=\"1.5\" /><line x1=\"119.75\" x2=\"57.25\" y1=\"150\" y2=\"225\" stroke=\"#333\" stroke-width=\"1.5\" /><line x1=\"119.75\" x2=\"182.25\" y1=\"150\" y2=\"225\" stroke=\"#333\" stroke-width=\"1.5\" /><line x1=\"369.75\" x2=\"307.25\" y1=\"150\" y2=\"225\" stroke=\"#333\" stroke-width=\"1.5\" /><line x1=\"369.75\" x2=\"432.25\" y1=\"150\" y2=\"225\" stroke=\"#333\" stroke-width=\"1.5\" /><line x1=\"57.25\" x2=\"26.0\" y1=\"225\" y2=\"300\" stroke=\"#333\" stroke-width=\"1.5\" /><line x1=\"182.25\" x2=\"213.5\" y1=\"225\" y2=\"300\" stroke=\"#333\" stroke-width=\"1.5\" /><line x1=\"307.25\" x2=\"276.0\" y1=\"225\" y2=\"300\" stroke=\"#333\" stroke-width=\"1.5\" /><line x1=\"307.25\" x2=\"338.5\" y1=\"225\" y2=\"300\" stroke=\"#333\" stroke-width=\"1.5\" />\n            <!--<rect x=\"244.75\" y=\"75\" rx=\"2.5\" ry=\"25\" width=\"55.00000000000001\" height=\"27.500000000000004\" fill=\"blue\"/>-->\n            <circle class=\"noeud\" cx=\"244.75\" cy=\"75\" r=\"25\" stroke=\"#333\" stroke-width=\"1.5\" />\n                   <text class=\"etiquette\" x=\"244.75\" y=\"75\" dominant-baseline=\"middle\">9</text>\n            <!--<rect x=\"119.75\" y=\"150\" rx=\"2.5\" ry=\"25\" width=\"55.00000000000001\" height=\"27.500000000000004\" fill=\"blue\"/>-->\n            <circle class=\"noeud\" cx=\"119.75\" cy=\"150\" r=\"25\" stroke=\"#333\" stroke-width=\"1.5\" />\n                   <text class=\"etiquette\" x=\"119.75\" y=\"150\" dominant-baseline=\"middle\">6</text>\n            <!--<rect x=\"369.75\" y=\"150\" rx=\"2.5\" ry=\"25\" width=\"55.00000000000001\" height=\"27.500000000000004\" fill=\"blue\"/>-->\n            <circle class=\"noeud\" cx=\"369.75\" cy=\"150\" r=\"25\" stroke=\"#333\" stroke-width=\"1.5\" />\n                   <text class=\"etiquette\" x=\"369.75\" y=\"150\" dominant-baseline=\"middle\">10</text>\n            <!--<rect x=\"57.25\" y=\"225\" rx=\"2.5\" ry=\"25\" width=\"55.00000000000001\" height=\"27.500000000000004\" fill=\"blue\"/>-->\n            <circle class=\"noeud\" cx=\"57.25\" cy=\"225\" r=\"25\" stroke=\"#333\" stroke-width=\"1.5\" />\n                   <text class=\"etiquette\" x=\"57.25\" y=\"225\" dominant-baseline=\"middle\">12</text>\n            <!--<rect x=\"182.25\" y=\"225\" rx=\"2.5\" ry=\"25\" width=\"55.00000000000001\" height=\"27.500000000000004\" fill=\"blue\"/>-->\n            <circle class=\"noeud\" cx=\"182.25\" cy=\"225\" r=\"25\" stroke=\"#333\" stroke-width=\"1.5\" />\n                   <text class=\"etiquette\" x=\"182.25\" y=\"225\" dominant-baseline=\"middle\">4</text>\n            <!--<rect x=\"307.25\" y=\"225\" rx=\"2.5\" ry=\"25\" width=\"55.00000000000001\" height=\"27.500000000000004\" fill=\"blue\"/>-->\n            <circle class=\"noeud\" cx=\"307.25\" cy=\"225\" r=\"25\" stroke=\"#333\" stroke-width=\"1.5\" />\n                   <text class=\"etiquette\" x=\"307.25\" y=\"225\" dominant-baseline=\"middle\">7</text>\n            <!--<rect x=\"432.25\" y=\"225\" rx=\"2.5\" ry=\"25\" width=\"55.00000000000001\" height=\"27.500000000000004\" fill=\"blue\"/>-->\n            <circle class=\"noeud\" cx=\"432.25\" cy=\"225\" r=\"25\" stroke=\"#333\" stroke-width=\"1.5\" />\n                   <text class=\"etiquette\" x=\"432.25\" y=\"225\" dominant-baseline=\"middle\">5</text>\n            <!--<rect x=\"26.0\" y=\"300\" rx=\"2.5\" ry=\"25\" width=\"55.00000000000001\" height=\"27.500000000000004\" fill=\"blue\"/>-->\n            <circle class=\"noeud\" cx=\"26.0\" cy=\"300\" r=\"25\" stroke=\"#333\" stroke-width=\"1.5\" />\n                   <text class=\"etiquette\" x=\"26.0\" y=\"300\" dominant-baseline=\"middle\">1</text>\n            <!--<rect x=\"213.5\" y=\"300\" rx=\"2.5\" ry=\"25\" width=\"55.00000000000001\" height=\"27.500000000000004\" fill=\"blue\"/>-->\n            <circle class=\"noeud\" cx=\"213.5\" cy=\"300\" r=\"25\" stroke=\"#333\" stroke-width=\"1.5\" />\n                   <text class=\"etiquette\" x=\"213.5\" y=\"300\" dominant-baseline=\"middle\">11</text>\n            <!--<rect x=\"276.0\" y=\"300\" rx=\"2.5\" ry=\"25\" width=\"55.00000000000001\" height=\"27.500000000000004\" fill=\"blue\"/>-->\n            <circle class=\"noeud\" cx=\"276.0\" cy=\"300\" r=\"25\" stroke=\"#333\" stroke-width=\"1.5\" />\n                   <text class=\"etiquette\" x=\"276.0\" y=\"300\" dominant-baseline=\"middle\">3</text>\n            <!--<rect x=\"338.5\" y=\"300\" rx=\"2.5\" ry=\"25\" width=\"55.00000000000001\" height=\"27.500000000000004\" fill=\"blue\"/>-->\n            <circle class=\"noeud\" cx=\"338.5\" cy=\"300\" r=\"25\" stroke=\"#333\" stroke-width=\"1.5\" />\n                   <text class=\"etiquette\" x=\"338.5\" y=\"300\" dominant-baseline=\"middle\">0</text></g></svg>"
     },
     "metadata": {},
     "execution_count": 5
    }
   ],
   "source": [
    "def taille(node):\n",
    "    \"\"\"Fonction récursive renvoyant la taille d'un arbre\n",
    "    \n",
    "    Arguments\n",
    "    ---------\n",
    "    node: Node\n",
    "        Le noeud racine de l'arbre\n",
    "    \n",
    "    Returns\n",
    "    -------\n",
    "    int\n",
    "        La taille de l'arbre\n",
    "    \"\"\"\n",
    "    # Cas de base \n",
    "    if not(node):\n",
    "        return 0\n",
    "    else:\n",
    "        # print(node)\n",
    "        return 1 + taille(node.left) + taille(node.right)\n",
    "  \n",
    "\n",
    "print(\"taille:\", taille(mon_arbre))\n",
    "mon_arbre"
   ]
  },
  {
   "cell_type": "markdown",
   "metadata": {},
   "source": [
    "## Parcours de l'arbre\n",
    "\n",
    "Nous allons voir quatre méthodes de parcours des arbres, en fonction de l'ordre dans lequel on parcourt les noeuds:\n",
    "\n",
    "- parcours préfixe\n",
    "- parcours postfixe\n",
    "- parcours infixe\n",
    "- parcours en largeur\n",
    "\n",
    "![Comparaisons des parcours d'arbres](../../images/parcours-arbres-wikipedia.png)\n",
    "\n",
    "### Parcours préfixe\n",
    "\n",
    "Dans cet ordre, chaque nœud est visité puis chacun de ses fils.\n",
    "\n",
    "Voici le pseudo-code extrait de l'article Wikipedia sur les arbres.\n",
    "\n",
    "```\n",
    "visiterPréfixe(Arbre A) :\n",
    "    visiter (A)\n",
    "    Si nonVide (gauche(A))\n",
    "          visiterPréfixe(gauche(A))\n",
    "    Si nonVide (droite(A))\n",
    "          visiterPréfixe(droite(A))\n",
    "```\n",
    "\n",
    "### Parcours postfixe\n",
    "\n",
    "On affiche chaque nœud après avoir affiché chacun de ses fils.\n",
    "\n",
    "Voici le pseudo-code extrait de l'article Wikipedia sur les arbres.\n",
    "\n",
    "```\n",
    "visiterPostfixe(Arbre A) :\n",
    "    Si nonVide(gauche(A))\n",
    "       visiterPostfixe(gauche(A))\n",
    "    Si nonVide(droite(A))\n",
    "       visiterPostfixe(droite(A))\n",
    "    visiter(A)\n",
    "```\n",
    "\n",
    "### Parcours infixe\n",
    "\n",
    "On visite chaque nœud entre les nœuds de son sous-arbre de gauche et les nœuds de son sous-arbre de droite. C'est une manière assez commune de parcourir un arbre binaire de recherche, car il donne les valeurs dans l'ordre croissant. \n",
    "\n",
    "Voici le pseudo-code extrait de l'article Wikipedia sur les arbres.\n",
    "\n",
    "```\n",
    "visiterInfixe(Arbre A) :\n",
    "    Si nonVide(gauche(A))\n",
    "       visiterInfixe(gauche(A))\n",
    "    visiter(A)\n",
    "    Si nonVide(droite(A))\n",
    "       visiterInfixe(droite(A))\n",
    "```\n",
    "\n",
    "\n",
    "### Parcours en largeur\n",
    "\n",
    "On parcours les noeuds de gauche à droite étage par étage, comme si on \"lisait\" l'arbre.\n",
    "\n",
    "Voici le pseudo-code issu de l'article Wikipedia sur les arbres.\n",
    "\n",
    "Ce code n'est pas _recusrif_ et a la particularité d'utiliser une structure de file avec les méthodes `enfiler` et `défiler`.\n",
    "\n",
    "```\n",
    "ParcoursLargeur(Arbre A) {\n",
    "   f = FileVide\n",
    "   enfiler(Racine(A), f)\n",
    "   Tant que (f != FileVide) {\n",
    "       nœud = defiler(f)\n",
    "       Visiter(nœud)                        //On choisit de faire une opération\n",
    "       Si (gauche(nœud) != null) Alors\n",
    "           enfiler(gauche(nœud), f)\n",
    "       Si (droite(nœud) != null) Alors\n",
    "           enfiler(droite(nœud), f)\n",
    "   }\n",
    "}\n",
    "```\n",
    "\n",
    "Voici un exemple d'implémentation en Python utilisant une liste en guise de file avec les méthodes:\n",
    "\n",
    "- `list.insert(0, el)`, pour enfiler l'élément à l'index 0. \n",
    "- `list.pop()`, pour supprimer et renvoyer le dernier élément de la file(le défiler). "
   ]
  },
  {
   "cell_type": "code",
   "execution_count": 5,
   "metadata": {},
   "outputs": [
    {
     "name": "stdout",
     "output_type": "stream",
     "text": [
      "Parcours en largeur\n",
      "11\n",
      "13\n",
      "5\n",
      "3\n",
      "2\n",
      "14\n",
      "10\n",
      "9\n",
      "4\n",
      "8\n",
      "12\n"
     ]
    },
    {
     "data": {
      "image/svg+xml": [
       "\n",
       "    <svg width=\"500.0\" height=\"375\" xmlns=\"http://www.w3.org/2000/svg\"\n",
       "         dominant-baseline=\"middle\" text-anchor=\"middle\">\n",
       "        <style>\n",
       "            .etiquette {\n",
       "                font: 500 25px sans-serif;\n",
       "                text-align: center;\n",
       "            }\n",
       "            .noeud {\n",
       "                fill: lightgray;\n",
       "            }\n",
       "\n",
       "        </style>\n",
       "        <g transform=\"scale(1)\">\n",
       "    <line x1=\"244.75\" x2=\"119.75\" y1=\"75\" y2=\"150\" stroke=\"#333\" stroke-width=\"1.5\" /><line x1=\"244.75\" x2=\"369.75\" y1=\"75\" y2=\"150\" stroke=\"#333\" stroke-width=\"1.5\" /><line x1=\"119.75\" x2=\"57.25\" y1=\"150\" y2=\"225\" stroke=\"#333\" stroke-width=\"1.5\" /><line x1=\"119.75\" x2=\"182.25\" y1=\"150\" y2=\"225\" stroke=\"#333\" stroke-width=\"1.5\" /><line x1=\"369.75\" x2=\"307.25\" y1=\"150\" y2=\"225\" stroke=\"#333\" stroke-width=\"1.5\" /><line x1=\"369.75\" x2=\"432.25\" y1=\"150\" y2=\"225\" stroke=\"#333\" stroke-width=\"1.5\" /><line x1=\"57.25\" x2=\"26.0\" y1=\"225\" y2=\"300\" stroke=\"#333\" stroke-width=\"1.5\" /><line x1=\"57.25\" x2=\"88.5\" y1=\"225\" y2=\"300\" stroke=\"#333\" stroke-width=\"1.5\" /><line x1=\"307.25\" x2=\"276.0\" y1=\"225\" y2=\"300\" stroke=\"#333\" stroke-width=\"1.5\" /><line x1=\"432.25\" x2=\"463.5\" y1=\"225\" y2=\"300\" stroke=\"#333\" stroke-width=\"1.5\" />\n",
       "            <!--<rect x=\"244.75\" y=\"75\" rx=\"2.5\" ry=\"25\" width=\"55.00000000000001\" height=\"27.500000000000004\" fill=\"blue\"/>-->\n",
       "            <circle class=\"noeud\" cx=\"244.75\" cy=\"75\" r=\"25\" stroke=\"#333\" stroke-width=\"1.5\" />\n",
       "                   <text class=\"etiquette\" x=\"244.75\" y=\"75\" dominant-baseline=\"middle\">11</text>\n",
       "            <!--<rect x=\"119.75\" y=\"150\" rx=\"2.5\" ry=\"25\" width=\"55.00000000000001\" height=\"27.500000000000004\" fill=\"blue\"/>-->\n",
       "            <circle class=\"noeud\" cx=\"119.75\" cy=\"150\" r=\"25\" stroke=\"#333\" stroke-width=\"1.5\" />\n",
       "                   <text class=\"etiquette\" x=\"119.75\" y=\"150\" dominant-baseline=\"middle\">13</text>\n",
       "            <!--<rect x=\"369.75\" y=\"150\" rx=\"2.5\" ry=\"25\" width=\"55.00000000000001\" height=\"27.500000000000004\" fill=\"blue\"/>-->\n",
       "            <circle class=\"noeud\" cx=\"369.75\" cy=\"150\" r=\"25\" stroke=\"#333\" stroke-width=\"1.5\" />\n",
       "                   <text class=\"etiquette\" x=\"369.75\" y=\"150\" dominant-baseline=\"middle\">5</text>\n",
       "            <!--<rect x=\"57.25\" y=\"225\" rx=\"2.5\" ry=\"25\" width=\"55.00000000000001\" height=\"27.500000000000004\" fill=\"blue\"/>-->\n",
       "            <circle class=\"noeud\" cx=\"57.25\" cy=\"225\" r=\"25\" stroke=\"#333\" stroke-width=\"1.5\" />\n",
       "                   <text class=\"etiquette\" x=\"57.25\" y=\"225\" dominant-baseline=\"middle\">3</text>\n",
       "            <!--<rect x=\"182.25\" y=\"225\" rx=\"2.5\" ry=\"25\" width=\"55.00000000000001\" height=\"27.500000000000004\" fill=\"blue\"/>-->\n",
       "            <circle class=\"noeud\" cx=\"182.25\" cy=\"225\" r=\"25\" stroke=\"#333\" stroke-width=\"1.5\" />\n",
       "                   <text class=\"etiquette\" x=\"182.25\" y=\"225\" dominant-baseline=\"middle\">2</text>\n",
       "            <!--<rect x=\"307.25\" y=\"225\" rx=\"2.5\" ry=\"25\" width=\"55.00000000000001\" height=\"27.500000000000004\" fill=\"blue\"/>-->\n",
       "            <circle class=\"noeud\" cx=\"307.25\" cy=\"225\" r=\"25\" stroke=\"#333\" stroke-width=\"1.5\" />\n",
       "                   <text class=\"etiquette\" x=\"307.25\" y=\"225\" dominant-baseline=\"middle\">14</text>\n",
       "            <!--<rect x=\"432.25\" y=\"225\" rx=\"2.5\" ry=\"25\" width=\"55.00000000000001\" height=\"27.500000000000004\" fill=\"blue\"/>-->\n",
       "            <circle class=\"noeud\" cx=\"432.25\" cy=\"225\" r=\"25\" stroke=\"#333\" stroke-width=\"1.5\" />\n",
       "                   <text class=\"etiquette\" x=\"432.25\" y=\"225\" dominant-baseline=\"middle\">10</text>\n",
       "            <!--<rect x=\"26.0\" y=\"300\" rx=\"2.5\" ry=\"25\" width=\"55.00000000000001\" height=\"27.500000000000004\" fill=\"blue\"/>-->\n",
       "            <circle class=\"noeud\" cx=\"26.0\" cy=\"300\" r=\"25\" stroke=\"#333\" stroke-width=\"1.5\" />\n",
       "                   <text class=\"etiquette\" x=\"26.0\" y=\"300\" dominant-baseline=\"middle\">9</text>\n",
       "            <!--<rect x=\"88.5\" y=\"300\" rx=\"2.5\" ry=\"25\" width=\"55.00000000000001\" height=\"27.500000000000004\" fill=\"blue\"/>-->\n",
       "            <circle class=\"noeud\" cx=\"88.5\" cy=\"300\" r=\"25\" stroke=\"#333\" stroke-width=\"1.5\" />\n",
       "                   <text class=\"etiquette\" x=\"88.5\" y=\"300\" dominant-baseline=\"middle\">4</text>\n",
       "            <!--<rect x=\"276.0\" y=\"300\" rx=\"2.5\" ry=\"25\" width=\"55.00000000000001\" height=\"27.500000000000004\" fill=\"blue\"/>-->\n",
       "            <circle class=\"noeud\" cx=\"276.0\" cy=\"300\" r=\"25\" stroke=\"#333\" stroke-width=\"1.5\" />\n",
       "                   <text class=\"etiquette\" x=\"276.0\" y=\"300\" dominant-baseline=\"middle\">8</text>\n",
       "            <!--<rect x=\"463.5\" y=\"300\" rx=\"2.5\" ry=\"25\" width=\"55.00000000000001\" height=\"27.500000000000004\" fill=\"blue\"/>-->\n",
       "            <circle class=\"noeud\" cx=\"463.5\" cy=\"300\" r=\"25\" stroke=\"#333\" stroke-width=\"1.5\" />\n",
       "                   <text class=\"etiquette\" x=\"463.5\" y=\"300\" dominant-baseline=\"middle\">12</text></g></svg>"
      ],
      "text/plain": [
       "Node(11)"
      ]
     },
     "execution_count": 5,
     "metadata": {},
     "output_type": "execute_result"
    }
   ],
   "source": [
    "def parcours_largeur(arbre):\n",
    "    f = []\n",
    "    f.insert(0, arbre)\n",
    "    while f:\n",
    "        noeud = f.pop()\n",
    "        print(noeud.value)\n",
    "        if noeud.left:\n",
    "            f.insert(0, noeud.left)\n",
    "        if noeud.right:\n",
    "            f.insert(0, noeud.right)\n",
    "\n",
    "print(\"Parcours en largeur\")\n",
    "parcours_largeur(mon_arbre)\n",
    "mon_arbre"
   ]
  },
  {
   "cell_type": "markdown",
   "metadata": {},
   "source": [
    "## Arbre binaire de recherche\n",
    "\n",
    "Comme nous l'avons vu dans le chapitre sur les [arbres](../../1-structures-de-donnees/4-arbres/#arbres-binaires-de-recherche) de la partie structure de données,\n",
    "\n",
    "> un arbre binaire de recherche permet des opérations rapides pour rechercher une clé, insérer ou\n",
    "supprimer une clé.\n",
    "\n",
    "\n",
    "Pour rappel:\n",
    "\n",
    "::: {.def titre=\"Arbre binaire de recherche\"}\n",
    "\n",
    "Il s'agit d'un arbre binaire dans lequel toutes les valeurs dans le sous-arbre gauche d'un nœud\n",
    "sont inférieures à la valeur à la racine de l'arbre et toutes les valeurs dans le sous-arbre droit\n",
    "d'un nœud sont supérieures ou égales à la valeur à la racine de l'arbre.\n",
    "\n",
    ":::\n",
    "\n",
    "Nous allons voir les algorithmes permettant la recherche et l'insertion d'une clé.\n",
    "\n",
    "Encore une fois nous utiliserons le package `binarytree` qui permet de facilementcréer des arbres binaires  grâce à la fonction `bst`(_binary search tree_)."
   ]
  },
  {
   "cell_type": "code",
   "execution_count": 6,
   "metadata": {},
   "outputs": [
    {
     "data": {
      "image/svg+xml": [
       "\n",
       "    <svg width=\"500.0\" height=\"375\" xmlns=\"http://www.w3.org/2000/svg\"\n",
       "         dominant-baseline=\"middle\" text-anchor=\"middle\">\n",
       "        <style>\n",
       "            .etiquette {\n",
       "                font: 500 25px sans-serif;\n",
       "                text-align: center;\n",
       "            }\n",
       "            .noeud {\n",
       "                fill: lightgray;\n",
       "            }\n",
       "\n",
       "        </style>\n",
       "        <g transform=\"scale(1)\">\n",
       "    <line x1=\"244.75\" x2=\"119.75\" y1=\"75\" y2=\"150\" stroke=\"#333\" stroke-width=\"1.5\" /><line x1=\"244.75\" x2=\"369.75\" y1=\"75\" y2=\"150\" stroke=\"#333\" stroke-width=\"1.5\" /><line x1=\"119.75\" x2=\"57.25\" y1=\"150\" y2=\"225\" stroke=\"#333\" stroke-width=\"1.5\" /><line x1=\"119.75\" x2=\"182.25\" y1=\"150\" y2=\"225\" stroke=\"#333\" stroke-width=\"1.5\" /><line x1=\"57.25\" x2=\"26.0\" y1=\"225\" y2=\"300\" stroke=\"#333\" stroke-width=\"1.5\" /><line x1=\"57.25\" x2=\"88.5\" y1=\"225\" y2=\"300\" stroke=\"#333\" stroke-width=\"1.5\" />\n",
       "            <!--<rect x=\"244.75\" y=\"75\" rx=\"2.5\" ry=\"25\" width=\"55.00000000000001\" height=\"27.500000000000004\" fill=\"blue\"/>-->\n",
       "            <circle class=\"noeud\" cx=\"244.75\" cy=\"75\" r=\"25\" stroke=\"#333\" stroke-width=\"1.5\" />\n",
       "                   <text class=\"etiquette\" x=\"244.75\" y=\"75\" dominant-baseline=\"middle\">13</text>\n",
       "            <!--<rect x=\"119.75\" y=\"150\" rx=\"2.5\" ry=\"25\" width=\"55.00000000000001\" height=\"27.500000000000004\" fill=\"blue\"/>-->\n",
       "            <circle class=\"noeud\" cx=\"119.75\" cy=\"150\" r=\"25\" stroke=\"#333\" stroke-width=\"1.5\" />\n",
       "                   <text class=\"etiquette\" x=\"119.75\" y=\"150\" dominant-baseline=\"middle\">11</text>\n",
       "            <!--<rect x=\"369.75\" y=\"150\" rx=\"2.5\" ry=\"25\" width=\"55.00000000000001\" height=\"27.500000000000004\" fill=\"blue\"/>-->\n",
       "            <circle class=\"noeud\" cx=\"369.75\" cy=\"150\" r=\"25\" stroke=\"#333\" stroke-width=\"1.5\" />\n",
       "                   <text class=\"etiquette\" x=\"369.75\" y=\"150\" dominant-baseline=\"middle\">14</text>\n",
       "            <!--<rect x=\"57.25\" y=\"225\" rx=\"2.5\" ry=\"25\" width=\"55.00000000000001\" height=\"27.500000000000004\" fill=\"blue\"/>-->\n",
       "            <circle class=\"noeud\" cx=\"57.25\" cy=\"225\" r=\"25\" stroke=\"#333\" stroke-width=\"1.5\" />\n",
       "                   <text class=\"etiquette\" x=\"57.25\" y=\"225\" dominant-baseline=\"middle\">9</text>\n",
       "            <!--<rect x=\"182.25\" y=\"225\" rx=\"2.5\" ry=\"25\" width=\"55.00000000000001\" height=\"27.500000000000004\" fill=\"blue\"/>-->\n",
       "            <circle class=\"noeud\" cx=\"182.25\" cy=\"225\" r=\"25\" stroke=\"#333\" stroke-width=\"1.5\" />\n",
       "                   <text class=\"etiquette\" x=\"182.25\" y=\"225\" dominant-baseline=\"middle\">12</text>\n",
       "            <!--<rect x=\"26.0\" y=\"300\" rx=\"2.5\" ry=\"25\" width=\"55.00000000000001\" height=\"27.500000000000004\" fill=\"blue\"/>-->\n",
       "            <circle class=\"noeud\" cx=\"26.0\" cy=\"300\" r=\"25\" stroke=\"#333\" stroke-width=\"1.5\" />\n",
       "                   <text class=\"etiquette\" x=\"26.0\" y=\"300\" dominant-baseline=\"middle\">0</text>\n",
       "            <!--<rect x=\"88.5\" y=\"300\" rx=\"2.5\" ry=\"25\" width=\"55.00000000000001\" height=\"27.500000000000004\" fill=\"blue\"/>-->\n",
       "            <circle class=\"noeud\" cx=\"88.5\" cy=\"300\" r=\"25\" stroke=\"#333\" stroke-width=\"1.5\" />\n",
       "                   <text class=\"etiquette\" x=\"88.5\" y=\"300\" dominant-baseline=\"middle\">10</text></g></svg>"
      ],
      "text/plain": [
       "Node(13)"
      ]
     },
     "execution_count": 6,
     "metadata": {},
     "output_type": "execute_result"
    }
   ],
   "source": [
    "from binarytree import bst\n",
    "abr = bst(height=3)\n",
    "abr"
   ]
  },
  {
   "cell_type": "markdown",
   "metadata": {},
   "source": [
    "### Insertion d'une clé\n",
    "\n",
    "> L'insertion d'un nœud commence par une recherche : on cherche la clé du nœud à insérer ; lorsqu'on arrive à une feuille, on ajoute le nœud comme fils de la feuille en comparant sa clé à celle de la feuille : si elle est inférieure, le nouveau nœud sera à gauche ; sinon il sera à droite. \n",
    "\n",
    "```\n",
    "fonction Insertion(A,e)\n",
    "        Si A = .\n",
    "            retourner (e,.,.)\n",
    "        Sinon A = (x,FilsGauche,FilsDroit)\n",
    "            Si e < x\n",
    "                retourner (x,Insertion(FilsGauche,e),FilsDroit)\n",
    "            Sinon\n",
    "                retourner (x,FilsGauche,Insertion(FilsDroit,e))\n",
    "```\n",
    "*[ABR sur Wikipedia](https://fr.wikipedia.org/wiki/Arbre_binaire_de_recherche#Insertion)*{.cite-source}\n",
    "\n",
    "On peut traduire cet algorithme en Python de cette façon:"
   ]
  },
  {
   "cell_type": "code",
   "execution_count": 27,
   "metadata": {},
   "outputs": [
    {
     "name": "stdout",
     "output_type": "stream",
     "text": [
      "Arbre initial\n"
     ]
    },
    {
     "data": {
      "image/svg+xml": [
       "\n",
       "    <svg width=\"500.0\" height=\"375\" xmlns=\"http://www.w3.org/2000/svg\"\n",
       "         dominant-baseline=\"middle\" text-anchor=\"middle\">\n",
       "        <style>\n",
       "            .etiquette {\n",
       "                font: 500 25px sans-serif;\n",
       "                text-align: center;\n",
       "            }\n",
       "            .noeud {\n",
       "                fill: lightgray;\n",
       "            }\n",
       "\n",
       "        </style>\n",
       "        <g transform=\"scale(1)\">\n",
       "    <line x1=\"244.75\" x2=\"119.75\" y1=\"75\" y2=\"150\" stroke=\"#333\" stroke-width=\"1.5\" /><line x1=\"244.75\" x2=\"369.75\" y1=\"75\" y2=\"150\" stroke=\"#333\" stroke-width=\"1.5\" /><line x1=\"119.75\" x2=\"57.25\" y1=\"150\" y2=\"225\" stroke=\"#333\" stroke-width=\"1.5\" /><line x1=\"119.75\" x2=\"182.25\" y1=\"150\" y2=\"225\" stroke=\"#333\" stroke-width=\"1.5\" /><line x1=\"369.75\" x2=\"307.25\" y1=\"150\" y2=\"225\" stroke=\"#333\" stroke-width=\"1.5\" /><line x1=\"57.25\" x2=\"88.5\" y1=\"225\" y2=\"300\" stroke=\"#333\" stroke-width=\"1.5\" /><line x1=\"182.25\" x2=\"151.0\" y1=\"225\" y2=\"300\" stroke=\"#333\" stroke-width=\"1.5\" /><line x1=\"182.25\" x2=\"213.5\" y1=\"225\" y2=\"300\" stroke=\"#333\" stroke-width=\"1.5\" />\n",
       "            <!--<rect x=\"244.75\" y=\"75\" rx=\"2.5\" ry=\"25\" width=\"55.00000000000001\" height=\"27.500000000000004\" fill=\"blue\"/>-->\n",
       "            <circle class=\"noeud\" cx=\"244.75\" cy=\"75\" r=\"25\" stroke=\"#333\" stroke-width=\"1.5\" />\n",
       "                   <text class=\"etiquette\" x=\"244.75\" y=\"75\" dominant-baseline=\"middle\">12</text>\n",
       "            <!--<rect x=\"119.75\" y=\"150\" rx=\"2.5\" ry=\"25\" width=\"55.00000000000001\" height=\"27.500000000000004\" fill=\"blue\"/>-->\n",
       "            <circle class=\"noeud\" cx=\"119.75\" cy=\"150\" r=\"25\" stroke=\"#333\" stroke-width=\"1.5\" />\n",
       "                   <text class=\"etiquette\" x=\"119.75\" y=\"150\" dominant-baseline=\"middle\">5</text>\n",
       "            <!--<rect x=\"369.75\" y=\"150\" rx=\"2.5\" ry=\"25\" width=\"55.00000000000001\" height=\"27.500000000000004\" fill=\"blue\"/>-->\n",
       "            <circle class=\"noeud\" cx=\"369.75\" cy=\"150\" r=\"25\" stroke=\"#333\" stroke-width=\"1.5\" />\n",
       "                   <text class=\"etiquette\" x=\"369.75\" y=\"150\" dominant-baseline=\"middle\">14</text>\n",
       "            <!--<rect x=\"57.25\" y=\"225\" rx=\"2.5\" ry=\"25\" width=\"55.00000000000001\" height=\"27.500000000000004\" fill=\"blue\"/>-->\n",
       "            <circle class=\"noeud\" cx=\"57.25\" cy=\"225\" r=\"25\" stroke=\"#333\" stroke-width=\"1.5\" />\n",
       "                   <text class=\"etiquette\" x=\"57.25\" y=\"225\" dominant-baseline=\"middle\">0</text>\n",
       "            <!--<rect x=\"182.25\" y=\"225\" rx=\"2.5\" ry=\"25\" width=\"55.00000000000001\" height=\"27.500000000000004\" fill=\"blue\"/>-->\n",
       "            <circle class=\"noeud\" cx=\"182.25\" cy=\"225\" r=\"25\" stroke=\"#333\" stroke-width=\"1.5\" />\n",
       "                   <text class=\"etiquette\" x=\"182.25\" y=\"225\" dominant-baseline=\"middle\">8</text>\n",
       "            <!--<rect x=\"307.25\" y=\"225\" rx=\"2.5\" ry=\"25\" width=\"55.00000000000001\" height=\"27.500000000000004\" fill=\"blue\"/>-->\n",
       "            <circle class=\"noeud\" cx=\"307.25\" cy=\"225\" r=\"25\" stroke=\"#333\" stroke-width=\"1.5\" />\n",
       "                   <text class=\"etiquette\" x=\"307.25\" y=\"225\" dominant-baseline=\"middle\">13</text>\n",
       "            <!--<rect x=\"88.5\" y=\"300\" rx=\"2.5\" ry=\"25\" width=\"55.00000000000001\" height=\"27.500000000000004\" fill=\"blue\"/>-->\n",
       "            <circle class=\"noeud\" cx=\"88.5\" cy=\"300\" r=\"25\" stroke=\"#333\" stroke-width=\"1.5\" />\n",
       "                   <text class=\"etiquette\" x=\"88.5\" y=\"300\" dominant-baseline=\"middle\">4</text>\n",
       "            <!--<rect x=\"151.0\" y=\"300\" rx=\"2.5\" ry=\"25\" width=\"55.00000000000001\" height=\"27.500000000000004\" fill=\"blue\"/>-->\n",
       "            <circle class=\"noeud\" cx=\"151.0\" cy=\"300\" r=\"25\" stroke=\"#333\" stroke-width=\"1.5\" />\n",
       "                   <text class=\"etiquette\" x=\"151.0\" y=\"300\" dominant-baseline=\"middle\">6</text>\n",
       "            <!--<rect x=\"213.5\" y=\"300\" rx=\"2.5\" ry=\"25\" width=\"55.00000000000001\" height=\"27.500000000000004\" fill=\"blue\"/>-->\n",
       "            <circle class=\"noeud\" cx=\"213.5\" cy=\"300\" r=\"25\" stroke=\"#333\" stroke-width=\"1.5\" />\n",
       "                   <text class=\"etiquette\" x=\"213.5\" y=\"300\" dominant-baseline=\"middle\">11</text></g></svg>"
      ],
      "text/plain": [
       "Node(12)"
      ]
     },
     "execution_count": 27,
     "metadata": {},
     "output_type": "execute_result"
    }
   ],
   "source": [
    "def insertion(node, e):\n",
    "    \"\"\"Insertion de l'élément e dans l'arbre node\n",
    "    \n",
    "    Arguments\n",
    "    ---------\n",
    "    node: binarytree.Node\n",
    "        l'arbre dans lequel doit être inséré le noeud\n",
    "    e: Number\n",
    "        L'élément à insérer\n",
    "    Returns\n",
    "    -------\n",
    "    binarytree.Node\n",
    "        l'arbre modifié\n",
    "    \"\"\"\n",
    "    if not(node):\n",
    "        return Node(e)\n",
    "    x = node.value\n",
    "    if e < x:\n",
    "        return Node(value=x,\n",
    "                    left=insertion(node.left, e),\n",
    "                    right=node.right)\n",
    "    else:\n",
    "        return Node(value=x,\n",
    "                    left=node.left,\n",
    "                    right=insertion(node.right, e))\n",
    "\n",
    "print(\"Arbre initial\")\n",
    "abr = bst()\n",
    "abr"
   ]
  },
  {
   "cell_type": "code",
   "execution_count": 29,
   "metadata": {},
   "outputs": [
    {
     "data": {
      "image/svg+xml": [
       "\n",
       "    <svg width=\"1000.0\" height=\"450\" xmlns=\"http://www.w3.org/2000/svg\"\n",
       "         dominant-baseline=\"middle\" text-anchor=\"middle\">\n",
       "        <style>\n",
       "            .etiquette {\n",
       "                font: 500 25px sans-serif;\n",
       "                text-align: center;\n",
       "            }\n",
       "            .noeud {\n",
       "                fill: lightgray;\n",
       "            }\n",
       "\n",
       "        </style>\n",
       "        <g transform=\"scale(1)\">\n",
       "    <line x1=\"494.75\" x2=\"244.75\" y1=\"75\" y2=\"150\" stroke=\"#333\" stroke-width=\"1.5\" /><line x1=\"494.75\" x2=\"744.75\" y1=\"75\" y2=\"150\" stroke=\"#333\" stroke-width=\"1.5\" /><line x1=\"244.75\" x2=\"119.75\" y1=\"150\" y2=\"225\" stroke=\"#333\" stroke-width=\"1.5\" /><line x1=\"244.75\" x2=\"369.75\" y1=\"150\" y2=\"225\" stroke=\"#333\" stroke-width=\"1.5\" /><line x1=\"744.75\" x2=\"619.75\" y1=\"150\" y2=\"225\" stroke=\"#333\" stroke-width=\"1.5\" /><line x1=\"119.75\" x2=\"182.25\" y1=\"225\" y2=\"300\" stroke=\"#333\" stroke-width=\"1.5\" /><line x1=\"369.75\" x2=\"307.25\" y1=\"225\" y2=\"300\" stroke=\"#333\" stroke-width=\"1.5\" /><line x1=\"369.75\" x2=\"432.25\" y1=\"225\" y2=\"300\" stroke=\"#333\" stroke-width=\"1.5\" /><line x1=\"307.25\" x2=\"338.5\" y1=\"300\" y2=\"375\" stroke=\"#333\" stroke-width=\"1.5\" />\n",
       "            <!--<rect x=\"494.75\" y=\"75\" rx=\"2.5\" ry=\"25\" width=\"55.00000000000001\" height=\"27.500000000000004\" fill=\"blue\"/>-->\n",
       "            <circle class=\"noeud\" cx=\"494.75\" cy=\"75\" r=\"25\" stroke=\"#333\" stroke-width=\"1.5\" />\n",
       "                   <text class=\"etiquette\" x=\"494.75\" y=\"75\" dominant-baseline=\"middle\">12</text>\n",
       "            <!--<rect x=\"244.75\" y=\"150\" rx=\"2.5\" ry=\"25\" width=\"55.00000000000001\" height=\"27.500000000000004\" fill=\"blue\"/>-->\n",
       "            <circle class=\"noeud\" cx=\"244.75\" cy=\"150\" r=\"25\" stroke=\"#333\" stroke-width=\"1.5\" />\n",
       "                   <text class=\"etiquette\" x=\"244.75\" y=\"150\" dominant-baseline=\"middle\">5</text>\n",
       "            <!--<rect x=\"744.75\" y=\"150\" rx=\"2.5\" ry=\"25\" width=\"55.00000000000001\" height=\"27.500000000000004\" fill=\"blue\"/>-->\n",
       "            <circle class=\"noeud\" cx=\"744.75\" cy=\"150\" r=\"25\" stroke=\"#333\" stroke-width=\"1.5\" />\n",
       "                   <text class=\"etiquette\" x=\"744.75\" y=\"150\" dominant-baseline=\"middle\">14</text>\n",
       "            <!--<rect x=\"119.75\" y=\"225\" rx=\"2.5\" ry=\"25\" width=\"55.00000000000001\" height=\"27.500000000000004\" fill=\"blue\"/>-->\n",
       "            <circle class=\"noeud\" cx=\"119.75\" cy=\"225\" r=\"25\" stroke=\"#333\" stroke-width=\"1.5\" />\n",
       "                   <text class=\"etiquette\" x=\"119.75\" y=\"225\" dominant-baseline=\"middle\">0</text>\n",
       "            <!--<rect x=\"369.75\" y=\"225\" rx=\"2.5\" ry=\"25\" width=\"55.00000000000001\" height=\"27.500000000000004\" fill=\"blue\"/>-->\n",
       "            <circle class=\"noeud\" cx=\"369.75\" cy=\"225\" r=\"25\" stroke=\"#333\" stroke-width=\"1.5\" />\n",
       "                   <text class=\"etiquette\" x=\"369.75\" y=\"225\" dominant-baseline=\"middle\">8</text>\n",
       "            <!--<rect x=\"619.75\" y=\"225\" rx=\"2.5\" ry=\"25\" width=\"55.00000000000001\" height=\"27.500000000000004\" fill=\"blue\"/>-->\n",
       "            <circle class=\"noeud\" cx=\"619.75\" cy=\"225\" r=\"25\" stroke=\"#333\" stroke-width=\"1.5\" />\n",
       "                   <text class=\"etiquette\" x=\"619.75\" y=\"225\" dominant-baseline=\"middle\">13</text>\n",
       "            <!--<rect x=\"182.25\" y=\"300\" rx=\"2.5\" ry=\"25\" width=\"55.00000000000001\" height=\"27.500000000000004\" fill=\"blue\"/>-->\n",
       "            <circle class=\"noeud\" cx=\"182.25\" cy=\"300\" r=\"25\" stroke=\"#333\" stroke-width=\"1.5\" />\n",
       "                   <text class=\"etiquette\" x=\"182.25\" y=\"300\" dominant-baseline=\"middle\">4</text>\n",
       "            <!--<rect x=\"307.25\" y=\"300\" rx=\"2.5\" ry=\"25\" width=\"55.00000000000001\" height=\"27.500000000000004\" fill=\"blue\"/>-->\n",
       "            <circle class=\"noeud\" cx=\"307.25\" cy=\"300\" r=\"25\" stroke=\"#333\" stroke-width=\"1.5\" />\n",
       "                   <text class=\"etiquette\" x=\"307.25\" y=\"300\" dominant-baseline=\"middle\">6</text>\n",
       "            <!--<rect x=\"432.25\" y=\"300\" rx=\"2.5\" ry=\"25\" width=\"55.00000000000001\" height=\"27.500000000000004\" fill=\"blue\"/>-->\n",
       "            <circle class=\"noeud\" cx=\"432.25\" cy=\"300\" r=\"25\" stroke=\"#333\" stroke-width=\"1.5\" />\n",
       "                   <text class=\"etiquette\" x=\"432.25\" y=\"300\" dominant-baseline=\"middle\">11</text>\n",
       "            <!--<rect x=\"338.5\" y=\"375\" rx=\"2.5\" ry=\"25\" width=\"55.00000000000001\" height=\"27.500000000000004\" fill=\"blue\"/>-->\n",
       "            <circle class=\"noeud\" cx=\"338.5\" cy=\"375\" r=\"25\" stroke=\"#333\" stroke-width=\"1.5\" />\n",
       "                   <text class=\"etiquette\" x=\"338.5\" y=\"375\" dominant-baseline=\"middle\">7</text></g></svg>"
      ],
      "text/plain": [
       "Node(12)"
      ]
     },
     "execution_count": 29,
     "metadata": {},
     "output_type": "execute_result"
    }
   ],
   "source": [
    "# Insertion de l'élément 7\n",
    "abr2 = insertion(abr, 7)\n",
    "abr2"
   ]
  },
  {
   "cell_type": "markdown",
   "metadata": {},
   "source": [
    "### Recherche d'une clé\n",
    "\n",
    "Puisque ce type d'arbre est trié, nous pouvons utiliser une méthode de [recherche dichotomique](../../../../1g/nsi/8-algorithmique/4-recherche-dichotomique) telle que nous l'avions vu en première.\n",
    "\n",
    "On peut ainsi éliminer la moitié de l'arbre à chaque itération et la complexité est $log(n)$ si l'arbre est équilibré.\n",
    "\n",
    "Voici le pseudo code de cet algorithme.\n",
    "\n",
    "```\n",
    "fonction Recherche(A,e)\n",
    "\n",
    "        Si A = .\n",
    "\n",
    "            retourner Faux\n",
    "\n",
    "        Sinon A = (x,FilsGauche,FilsDroit)\n",
    "\n",
    "            Si x = e\n",
    "\n",
    "                retourner Vrai\n",
    "\n",
    "            Sinon si e < x\n",
    "\n",
    "                retourner Recherche(FilsGauche,e)\n",
    "\n",
    "            Sinon\n",
    "\n",
    "                retourner Recherche(FilsDroit,e)\n",
    "```\n",
    "\n",
    "\n",
    "::: app\n",
    "\n",
    "Implémenter cet algorithme en Python en utilisant le module binarytree.\n",
    "\n",
    ":::\n",
    "\n",
    "::: ref\n",
    "\n",
    "- [Article Wikipedia sur les arbres](https://fr.wikipedia.org/wiki/Arbre_enracin%C3%A9)\n",
    "- [Article Wikipedia sur les arbres binaires de recherche](https://fr.wikipedia.org/wiki/Arbre_enracin%C3%A9)\n",
    "\n",
    ":::"
   ]
  }
 ],
 "metadata": {
  "kernelspec": {
   "display_name": "Python 3",
   "language": "python",
   "name": "python3"
  },
  "language_info": {
   "codemirror_mode": {
    "name": "ipython",
    "version": 3
   },
   "file_extension": ".py",
   "mimetype": "text/x-python",
   "name": "python",
   "nbconvert_exporter": "python",
   "pygments_lexer": "ipython3",
   "version": "3.9.1-final"
  }
 },
 "nbformat": 4,
 "nbformat_minor": 4
}