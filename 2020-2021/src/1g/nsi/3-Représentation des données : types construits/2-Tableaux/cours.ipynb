{
 "cells": [
  {
   "cell_type": "markdown",
   "metadata": {},
   "source": [
    "---\n",
    "\"tags\": [\"python\", \"tableaux\", \"listes\", \"array\"]\n",
    "---\n",
    "\n",
    "::: programme\n",
    "+---------------------------+-------------------------------+--------------------------------------+\n",
    "|         Contenus          |      Capacités attendues      |             Commentaires             |\n",
    "+===========================+===============================+======================================+\n",
    "| Tableau indexé, tableau   | Lire et modifier les éléments | Seuls les tableaux dont les          |\n",
    "| donné en                  | d’un tableau grâce à leurs    | éléments sont du même type sont      |\n",
    "| compréhension             | index.                        | présentés.                           |\n",
    "|                           |                               |                                      |\n",
    "|                           | Constuire un tableau par      | Aucune connaissance des              |\n",
    "|                           | compréhension.                | tranches (slices) n’est exigible.    |\n",
    "|                           |                               |                                      |\n",
    "|                           | Utiliser des tableaux de      | L’aspect dynamique des tableaux      |\n",
    "|                           | tableaux pour représenter des | de Python n’est pas évoqué.          |\n",
    "|                           | matrices, notation `a[i][j]`  |                                      |\n",
    "|                           |                               | Python identifie listes et tableaux. |\n",
    "|                           |                               |                                      |\n",
    "|                           | Itérer sur les éléments d'un  | Il n’est pas fait référence aux      |\n",
    "|                           | tableau.                      | tableaux de la bibliothèque          |\n",
    "|                           |                               | NumPy.                               |\n",
    "+---------------------------+-------------------------------+--------------------------------------+\n",
    ":::\n",
    "\n",
    "> Nous nous intéressons dans ce chapitre aux tableaux qui sont implémentées en Python dans le type `list`. Tout comme les [p-uplets](/1g/nsi/3-representation-des-donnees-types-construits/1-puplets), il s'agit de collections *ordonnées de valeurs*. cependant, à la différence de ces derniers, les `list`es sont [mutables](https://fr.wiktionary.org/wiki/mutable)* ce qui les rend particulièrement pratique pour stocker des valeurs lors d'un boucle par exemple.\n",
    "\n",
    "## Syntaxe\n",
    "\n",
    "Les valeurs de la collection sont entourées par des crochets `[]`, leurs éléments sont séparés par des\n",
    "virgules.\n",
    "\n",
    "Les éléments d'une liste peuvent avoir des types différents."
   ]
  },
  {
   "cell_type": "code",
   "execution_count": 3,
   "metadata": {},
   "outputs": [
    {
     "data": {
      "text/plain": [
       "list"
      ]
     },
     "execution_count": 3,
     "metadata": {},
     "output_type": "execute_result"
    }
   ],
   "source": [
    "ma_liste = [ 1, 'deux' , 3]\n",
    "type(ma_liste)"
   ]
  },
  {
   "cell_type": "markdown",
   "metadata": {},
   "source": [
    "### Longueur et accés aux éléments\n",
    "On peut facilement accéder à la longueur de la liste grace à la fonction\n",
    "`len` et à chacun de ces éléments grâce à leur index *(Attention le\n",
    "premier élement à l'index 0)*"
   ]
  },
  {
   "cell_type": "code",
   "execution_count": 4,
   "metadata": {},
   "outputs": [
    {
     "data": {
      "text/plain": [
       "3"
      ]
     },
     "execution_count": 4,
     "metadata": {},
     "output_type": "execute_result"
    }
   ],
   "source": [
    "len(ma_liste)"
   ]
  },
  {
   "cell_type": "code",
   "execution_count": 5,
   "metadata": {},
   "outputs": [
    {
     "data": {
      "text/plain": [
       "1"
      ]
     },
     "execution_count": 5,
     "metadata": {},
     "output_type": "execute_result"
    }
   ],
   "source": [
    "ma_liste[0]"
   ]
  },
  {
   "cell_type": "code",
   "execution_count": 6,
   "metadata": {},
   "outputs": [
    {
     "data": {
      "text/plain": [
       "3"
      ]
     },
     "execution_count": 6,
     "metadata": {},
     "output_type": "execute_result"
    }
   ],
   "source": [
    "ma_liste[2]"
   ]
  },
  {
   "cell_type": "markdown",
   "metadata": {},
   "source": [
    "On peut inversement connaître l'indice correspondant à une valeur grâce à la méthode `index`."
   ]
  },
  {
   "cell_type": "code",
   "execution_count": 7,
   "metadata": {},
   "outputs": [
    {
     "data": {
      "text/plain": [
       "1"
      ]
     },
     "execution_count": 7,
     "metadata": {},
     "output_type": "execute_result"
    }
   ],
   "source": [
    "ma_liste.index('deux')"
   ]
  },
  {
   "cell_type": "markdown",
   "metadata": {},
   "source": [
    "### Ajout et suppression d'éléments\n",
    "\n",
    "Comme les listes sont *[mutables](https://fr.wiktionary.org/wiki/mutable)*, on peut:\n",
    "\n",
    "- modifier des valeurs,"
   ]
  },
  {
   "cell_type": "code",
   "execution_count": 8,
   "metadata": {},
   "outputs": [
    {
     "data": {
      "text/plain": [
       "[1, 2.0, 3]"
      ]
     },
     "execution_count": 8,
     "metadata": {},
     "output_type": "execute_result"
    }
   ],
   "source": [
    "ma_liste[1] = 2.0\n",
    "ma_liste"
   ]
  },
  {
   "cell_type": "markdown",
   "metadata": {},
   "source": [
    "- ajouter des éléments à la liste à la fin avec la méthode `append`, ou à un indice quelconque avec la méthode `insert`."
   ]
  },
  {
   "cell_type": "code",
   "execution_count": 9,
   "metadata": {},
   "outputs": [
    {
     "data": {
      "text/plain": [
       "[1, 2.0, 3, 4]"
      ]
     },
     "execution_count": 9,
     "metadata": {},
     "output_type": "execute_result"
    }
   ],
   "source": [
    "ma_liste.append(4)\n",
    "ma_liste"
   ]
  },
  {
   "cell_type": "code",
   "execution_count": 10,
   "metadata": {},
   "outputs": [
    {
     "data": {
      "text/plain": [
       "['zéro', 1, 2.0, 3, 4]"
      ]
     },
     "execution_count": 10,
     "metadata": {},
     "output_type": "execute_result"
    }
   ],
   "source": [
    "ma_liste.insert(0, 'zéro')\n",
    "ma_liste"
   ]
  },
  {
   "cell_type": "markdown",
   "metadata": {},
   "source": [
    "-  supprimer des éléments de la liste à la fin avec la méthode `pop()`, ou à un indice quelconque avec la méthode `pop(indice)`."
   ]
  },
  {
   "cell_type": "code",
   "execution_count": 11,
   "metadata": {},
   "outputs": [
    {
     "data": {
      "text/plain": [
       "['zéro', 1, 2.0, 3]"
      ]
     },
     "execution_count": 11,
     "metadata": {},
     "output_type": "execute_result"
    }
   ],
   "source": [
    "ma_liste.pop()\n",
    "ma_liste"
   ]
  },
  {
   "cell_type": "code",
   "execution_count": 12,
   "metadata": {},
   "outputs": [
    {
     "data": {
      "text/plain": [
       "['zéro', 2.0, 3]"
      ]
     },
     "execution_count": 12,
     "metadata": {},
     "output_type": "execute_result"
    }
   ],
   "source": [
    "ma_liste.pop(1)\n",
    "ma_liste"
   ]
  },
  {
   "cell_type": "markdown",
   "metadata": {},
   "source": [
    "## Itération sur une liste\n",
    "\n",
    "On peut itérer sur les valeurs ou sur les index.\n",
    "\n",
    "### Itération sur les valeurs\n",
    "\n",
    "On fait une itération des directe des valeurs du tableau en utilisant le mot-clé `in`."
   ]
  },
  {
   "cell_type": "code",
   "execution_count": 13,
   "metadata": {},
   "outputs": [
    {
     "name": "stdout",
     "output_type": "stream",
     "text": [
      "zéro\n",
      "2.0\n",
      "3\n"
     ]
    }
   ],
   "source": [
    "for val in ma_liste:\n",
    "    print(val)"
   ]
  },
  {
   "cell_type": "markdown",
   "metadata": {},
   "source": [
    "### Itération sur les index\n",
    "\n",
    "C'est la méthode classique utilisée dans les langages impératifs."
   ]
  },
  {
   "cell_type": "code",
   "execution_count": 14,
   "metadata": {},
   "outputs": [
    {
     "name": "stdout",
     "output_type": "stream",
     "text": [
      "indice: 0 valeur: zéro\n",
      "indice: 1 valeur: 2.0\n",
      "indice: 2 valeur: 3\n"
     ]
    }
   ],
   "source": [
    "for i in range(len(ma_liste)):\n",
    "    val = ma_liste[i]\n",
    "    print(\"indice:\", i, \"valeur:\", val)"
   ]
  },
  {
   "cell_type": "markdown",
   "metadata": {},
   "source": [
    "::: plus\n",
    "   \n",
    "Même si le chois du nom de la variable locale vous appartient, on a l'habitude \n",
    "d'utiliser:\n",
    "\n",
    "- `i`, `idx`, `j`, `k`... pour les index\n",
    "- `val`, `v`, `e`... pour les valeurs des éléments du tableau.\n",
    "\n",
    ":::"
   ]
  },
  {
   "cell_type": "markdown",
   "metadata": {},
   "source": [
    "## Tableau donné en compréhension\n",
    "\n",
    "Plutôt que de remplir un tableau par énumération de ces éléments dans une boucle, on peut définir des [listes en compréhension](), c'est-à-dire des listes dont le contenu est *défini par filtrage du contenu d'une autre liste*.\n",
    "\n",
    "### Boucle classique\n",
    "\n",
    "On commence par créer une liste vide, puis, on ajoute grâce à une boucle les éléments un à un à la liste grâce à la méthode `append()`.\n",
    "\n",
    "Voici par exemple comment créer une liste contenant les puissances de 2 de $2^1$ à $2^{12}$."
   ]
  },
  {
   "cell_type": "code",
   "execution_count": null,
   "metadata": {},
   "outputs": [],
   "source": [
    "L = []\n",
    "for i in range(13):\n",
    "    L.append(2**i)\n",
    "L"
   ]
  },
  {
   "cell_type": "markdown",
   "metadata": {},
   "source": [
    "### Ecriture en compréhension\n",
    "\n",
    "Cette construction syntaxique offre des avantages de lisibilité et de concision et se rapproche de la notation utilisée en mathématiques :\n",
    "\n",
    "$$\n",
    "S=\\{2^{n} | n\\in {\\mathbb{N}}, n<13\\}\n",
    "$$\n"
   ]
  },
  {
   "cell_type": "code",
   "execution_count": null,
   "metadata": {},
   "outputs": [],
   "source": [
    "L = [2**n for n in range(13)]\n",
    "L"
   ]
  },
  {
   "cell_type": "markdown",
   "metadata": {},
   "source": [
    "On peut même ajoter des conditions, exemple ici on crée une liste des puissance de 2 des puissance paires."
   ]
  },
  {
   "cell_type": "code",
   "execution_count": null,
   "metadata": {},
   "outputs": [],
   "source": [
    "L = [2**n for n in range(13) if n % 2 == 0]\n",
    "L"
   ]
  },
  {
   "cell_type": "markdown",
   "metadata": {},
   "source": [
    "::: {.plus titre=\"Syntaxe complète avec `else`\"}\n",
    "Il est possible d'utiliser une clause `else` dans les conditions grâce à l'opérateur ternaire: `valeur_si_vrai if condition else valeur_si_faux`\n",
    "\n",
    "```python\n",
    "[f(x) if condition else g(x) for x in sequence]\n",
    "```\n",
    "Par exemple:\n",
    "\n",
    "```python\n",
    "[str(i) + \" est pair\" if i % 2 == 0 else str(i) + \" est impair\" for i in range(5)]\n",
    "```\n",
    "renvoie: `['0 est pair', '1 est impair', '2 est pair', '3 est impair', '4 est pair']`\n",
    ":::"
   ]
  },
  {
   "cell_type": "markdown",
   "metadata": {},
   "source": [
    "## Tableaux à deux dimensions: les matrices\n",
    "\n",
    "Pour représenter un tableau de données, on peut utiliser une liste de liste.\n",
    "\n",
    "$$\n",
    "\\begin{pmatrix}\n",
    "   1 & 2 & 3\\\\\n",
    "   4 & 5 & 6\\\\\n",
    "   7 & 8 & 9 \n",
    "\\end{pmatrix}\n",
    "$$"
   ]
  },
  {
   "cell_type": "code",
   "execution_count": 22,
   "metadata": {},
   "outputs": [
    {
     "data": {
      "text/plain": [
       "[[1, 2, 3], [4, 5, 6], [7, 8, 9]]"
      ]
     },
     "execution_count": 22,
     "metadata": {},
     "output_type": "execute_result"
    }
   ],
   "source": [
    "M = [[1, 2, 3],\n",
    "     [4, 5, 6],\n",
    "     [7, 8, 9]]\n",
    "M"
   ]
  },
  {
   "cell_type": "markdown",
   "metadata": {},
   "source": [
    "### Accés aux éléments\n",
    "\n",
    "On accéde alors aux éléments en précisant l'index de ligne et le colonne: `M[i ligne][i colonne]`.\n",
    "\n",
    "Par exemple pour accéder au troisième élément de la première ligne."
   ]
  },
  {
   "cell_type": "code",
   "execution_count": 23,
   "metadata": {},
   "outputs": [
    {
     "data": {
      "text/plain": [
       "3"
      ]
     },
     "execution_count": 23,
     "metadata": {},
     "output_type": "execute_result"
    }
   ],
   "source": [
    "M[0][2]"
   ]
  },
  {
   "cell_type": "markdown",
   "metadata": {},
   "source": [
    "Accés au deuxième élément de la troisième ligne."
   ]
  },
  {
   "cell_type": "code",
   "execution_count": 24,
   "metadata": {},
   "outputs": [
    {
     "data": {
      "text/plain": [
       "8"
      ]
     },
     "execution_count": 24,
     "metadata": {},
     "output_type": "execute_result"
    }
   ],
   "source": [
    "M[2][1]"
   ]
  },
  {
   "cell_type": "markdown",
   "metadata": {},
   "source": [
    "### Accés aux lignes et colonnes\n",
    "\n",
    "L'accés à une ligne est aisé, par exemple pour la deuxième ligne."
   ]
  },
  {
   "cell_type": "code",
   "execution_count": 25,
   "metadata": {},
   "outputs": [
    {
     "data": {
      "text/plain": [
       "[4, 5, 6]"
      ]
     },
     "execution_count": 25,
     "metadata": {},
     "output_type": "execute_result"
    }
   ],
   "source": [
    "M[1]"
   ]
  },
  {
   "cell_type": "markdown",
   "metadata": {},
   "source": [
    "L'accés aux colonnes est plus délicat, on peut par exemple utiliser une liste en compréhension, par exemple pour accéder à la première colonne."
   ]
  },
  {
   "cell_type": "code",
   "execution_count": 26,
   "metadata": {},
   "outputs": [
    {
     "data": {
      "text/plain": [
       "[1, 4, 7]"
      ]
     },
     "execution_count": 26,
     "metadata": {},
     "output_type": "execute_result"
    }
   ],
   "source": [
    "[ligne[0] for ligne in M]"
   ]
  },
  {
   "cell_type": "markdown",
   "metadata": {},
   "source": [
    "### Itérations sur les valeurs\n",
    "\n",
    "Comme il s'agit d'une structure imbriquée, nous devons utiliser deux boucles imbriquées.\n",
    "\n",
    "On peut par exemple itérer sur les valeurs des lignes."
   ]
  },
  {
   "cell_type": "code",
   "execution_count": 27,
   "metadata": {},
   "outputs": [
    {
     "name": "stdout",
     "output_type": "stream",
     "text": [
      "1\n",
      "2\n",
      "3\n",
      "4\n",
      "5\n",
      "6\n",
      "7\n",
      "8\n",
      "9\n"
     ]
    }
   ],
   "source": [
    "for ligne in M:\n",
    "    for val in ligne:\n",
    "        print(val)"
   ]
  }
 ],
 "metadata": {
  "kernelspec": {
   "display_name": "Python 3",
   "language": "python",
   "name": "python3"
  },
  "language_info": {
   "codemirror_mode": {
    "name": "ipython",
    "version": 3
   },
   "file_extension": ".py",
   "mimetype": "text/x-python",
   "name": "python",
   "nbconvert_exporter": "python",
   "pygments_lexer": "ipython3",
   "version": "3.9.1"
  },
  "toc": {
   "base_numbering": 1,
   "nav_menu": {},
   "number_sections": true,
   "sideBar": true,
   "skip_h1_title": true,
   "title_cell": "Plan",
   "title_sidebar": "Contenu",
   "toc_cell": true,
   "toc_position": {},
   "toc_section_display": true,
   "toc_window_display": false
  }
 },
 "nbformat": 4,
 "nbformat_minor": 2
}
