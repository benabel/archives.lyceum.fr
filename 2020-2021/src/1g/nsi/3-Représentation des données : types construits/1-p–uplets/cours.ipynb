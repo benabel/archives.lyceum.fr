{
 "cells": [
  {
   "cell_type": "markdown",
   "metadata": {},
   "source": [
    "---\n",
    "\"tags\": [\"python\", \"type construit\", \"p-uplet\", \"tuple\"]\n",
    "---\n",
    "\n",
    "::: programme\n",
    "+---------------------------+-------------------------------+--------------------------------------+\n",
    "|         Contenus          |      Capacités attendues      |             Commentaires             |\n",
    "+===========================+===============================+======================================+\n",
    "| p-uplets.                 | Écrire une fonction renvoyant |                                      |\n",
    "| p-uplets nommés           | un p-uplet de valeurs.        |                                      |\n",
    "+---------------------------+-------------------------------+--------------------------------------+\n",
    ":::\n",
    "\n",
    "::: intro clearfix\n",
    "\n",
    "<p><a href=\"https://commons.wikimedia.org/wiki/File:Tableau_%C3%A0_une_dimension.png#/media/File:Tableau_à_une_dimension.png\"><img class=\"right\" src=\"https://upload.wikimedia.org/wikipedia/commons/7/7f/Tableau_%C3%A0_une_dimension.png\" alt=\"Tableau à une dimension.png\" width=\"640\" height=\"143\"></a></p>\n",
    "\n",
    "Dans la deuxième partie [2-Représentation des données: types et valeurs de base](../), nous avions vu certains types de **variables simples**: `int`(entiers), `float`(nombres à virgule flottante) `bool`(booléen), `str`(châine de caractères)\n",
    "\n",
    "Nous allons maintenant voir des **types construits** qui sont des _collections d'objets_ de type simple assemblés dans ce que l'on appelle une structure de données.\n",
    "\n",
    "\n",
    ":::\n",
    "\n",
    "Nous verrons dans cette partie trois exemples de types construits:\n",
    "\n",
    "- les p-uplets `tuple ` et listes `list`: des collections d'éléments ordonnés dans lesquels les valeurs sont accédées via un **index de position**.\n",
    "- les p-uplet nommés `namedtuple` et les dictionnaires `dict`: ensemble d'éléments dans lesquels les valeurs sont accédées via une **clef**.\n",
    "\n",
    "Nous commencons dans ce premier chapitre par les `tuple`s, très utilisés notamment lorsque l'on souhaite travailler avec plusieurs variables _simultanément_.\n",
    "\n",
    "## Syntaxe\n",
    "\n",
    "Les tuples sont des valeurs séparées par des virgules `,` entourées de parenthèses `(..., ..., ...`)` qui peuvent parfois être *ommises*."
   ]
  },
  {
   "cell_type": "code",
   "execution_count": 1,
   "metadata": {},
   "outputs": [
    {
     "data": {
      "text/plain": [
       "(1, 2, 3)"
      ]
     },
     "execution_count": 1,
     "metadata": {},
     "output_type": "execute_result"
    }
   ],
   "source": [
    "(1, 2, 3)"
   ]
  },
  {
   "cell_type": "code",
   "execution_count": 2,
   "metadata": {},
   "outputs": [
    {
     "data": {
      "text/plain": [
       "(1, 2, 3)"
      ]
     },
     "execution_count": 2,
     "metadata": {},
     "output_type": "execute_result"
    }
   ],
   "source": [
    "# sans parenthèses\n",
    "1, 2, 3"
   ]
  },
  {
   "cell_type": "code",
   "execution_count": 3,
   "metadata": {},
   "outputs": [
    {
     "data": {
      "text/plain": [
       "tuple"
      ]
     },
     "execution_count": 3,
     "metadata": {},
     "output_type": "execute_result"
    }
   ],
   "source": [
    "type((1, 2, 3))"
   ]
  },
  {
   "cell_type": "markdown",
   "metadata": {},
   "source": [
    "## Accés aux valeurs par index\n",
    "\n",
    "On peut stocker plusieurs valeurs de types différents dans une variable de type tuple."
   ]
  },
  {
   "cell_type": "code",
   "execution_count": 4,
   "metadata": {},
   "outputs": [
    {
     "data": {
      "text/plain": [
       "(1, 2.0, 'trois')"
      ]
     },
     "execution_count": 4,
     "metadata": {},
     "output_type": "execute_result"
    }
   ],
   "source": [
    "t = (1, 2.0, \"trois\")\n",
    "t"
   ]
  },
  {
   "cell_type": "code",
   "execution_count": 5,
   "metadata": {},
   "outputs": [
    {
     "data": {
      "text/plain": [
       "tuple"
      ]
     },
     "execution_count": 5,
     "metadata": {},
     "output_type": "execute_result"
    }
   ],
   "source": [
    "type(t)"
   ]
  },
  {
   "cell_type": "markdown",
   "metadata": {},
   "source": [
    "L'accés se fait par un index entier de position qui **commence à 0**. On place l'index entre des crochets."
   ]
  },
  {
   "cell_type": "code",
   "execution_count": 6,
   "metadata": {},
   "outputs": [
    {
     "data": {
      "text/plain": [
       "1"
      ]
     },
     "execution_count": 6,
     "metadata": {},
     "output_type": "execute_result"
    }
   ],
   "source": [
    "t[0]"
   ]
  },
  {
   "cell_type": "code",
   "execution_count": 7,
   "metadata": {},
   "outputs": [
    {
     "data": {
      "text/plain": [
       "2.0"
      ]
     },
     "execution_count": 7,
     "metadata": {},
     "output_type": "execute_result"
    }
   ],
   "source": [
    "t[1]"
   ]
  },
  {
   "cell_type": "code",
   "execution_count": 8,
   "metadata": {},
   "outputs": [
    {
     "data": {
      "text/plain": [
       "'trois'"
      ]
     },
     "execution_count": 8,
     "metadata": {},
     "output_type": "execute_result"
    }
   ],
   "source": [
    "t[2]"
   ]
  },
  {
   "cell_type": "markdown",
   "metadata": {},
   "source": [
    "**ATTENTION: Dans les types construits, il faut bien distinguer l'index et la valeur stockée à cet index.**"
   ]
  },
  {
   "cell_type": "markdown",
   "metadata": {},
   "source": [
    "## Méthodes des tuples\n",
    "\n",
    "Les tuples présentent de nombreuses méthodes qui sont décrites dans la [documentation](https://docs.python.org/fr/3/library/stdtypes.html#sequence-types-list-tuple-range) ou grâce à l'appel `help(tuple)`\n",
    "\n",
    "- La fonction `len`: nombre d'éléments stockés.\n",
    "- La méthode `index`: index de l'élément cherché donné en argument.\n",
    "- La méthode `count`: nombre d'éléments de valeur donnée en argument.\n",
    "\n",
    "::: {.plus titre=\"Différence entre méthode et fonction\"}\n",
    "\n",
    "La différence entre méthode et fonction sera approfondie en terminale lors de l'étude de la [programmation orientée objet](/tg/nsi/4-langages-et-programmation/6-programmation-objet). Pour l'instant nous pouvons simplement dire qu'il s'agit d'une fonction attachée à un objet qui s'appelle en utilisant une **notation pointée**.\n",
    "\n",
    "```python\n",
    "# appel d'une fonction\n",
    "fonction(arguments)\n",
    "# appel d'une méthode d'objet\n",
    "objet.méthode(arguments)\n",
    "```\n",
    "\n",
    ":::"
   ]
  },
  {
   "cell_type": "code",
   "execution_count": 9,
   "metadata": {},
   "outputs": [
    {
     "name": "stdout",
     "output_type": "stream",
     "text": [
      "(1, 2.0, 'trois')\n"
     ]
    }
   ],
   "source": [
    "print(t)"
   ]
  },
  {
   "cell_type": "code",
   "execution_count": 10,
   "metadata": {},
   "outputs": [
    {
     "data": {
      "text/plain": [
       "3"
      ]
     },
     "execution_count": 10,
     "metadata": {},
     "output_type": "execute_result"
    }
   ],
   "source": [
    "len(t)"
   ]
  },
  {
   "cell_type": "code",
   "execution_count": 11,
   "metadata": {},
   "outputs": [
    {
     "ename": "ValueError",
     "evalue": "tuple.index(x): x not in tuple",
     "output_type": "error",
     "traceback": [
      "\u001b[0;31m-------------------------------------------------------------------------\u001b[0m",
      "\u001b[0;31mValueError\u001b[0m                              Traceback (most recent call last)",
      "\u001b[0;32m<ipython-input-11-1ab9b8c50e8f>\u001b[0m in \u001b[0;36m<module>\u001b[0;34m\u001b[0m\n\u001b[0;32m----> 1\u001b[0;31m \u001b[0mt\u001b[0m\u001b[0;34m.\u001b[0m\u001b[0mindex\u001b[0m\u001b[0;34m(\u001b[0m\u001b[0;34m-\u001b[0m\u001b[0;36m3\u001b[0m\u001b[0;34m)\u001b[0m\u001b[0;34m\u001b[0m\u001b[0;34m\u001b[0m\u001b[0m\n\u001b[0m",
      "\u001b[0;31mValueError\u001b[0m: tuple.index(x): x not in tuple"
     ]
    }
   ],
   "source": [
    "t.index(-3)"
   ]
  },
  {
   "cell_type": "code",
   "execution_count": null,
   "metadata": {},
   "outputs": [],
   "source": [
    "t.count(10)"
   ]
  },
  {
   "cell_type": "markdown",
   "metadata": {},
   "source": [
    "## Utilisations courantes\n",
    "\n",
    "### Déstructuration\n",
    "\n",
    "Il peut être _pratique_ de récupérer les valeurs stockées dans le tuple dans des variables de type simple: on parle de **déstructuration**."
   ]
  },
  {
   "cell_type": "code",
   "execution_count": null,
   "metadata": {},
   "outputs": [],
   "source": [
    "a, b, c = t\n",
    "print(\"t=\", t)\n",
    "print(\"a=\", a)\n",
    "print(\"b=\", b)\n",
    "print(\"c=\", c)"
   ]
  },
  {
   "cell_type": "markdown",
   "metadata": {},
   "source": [
    "### Permuter des variables\n",
    "\n",
    "Habituellement, lorsque l'on souhaite pemuter deux variables, il est nécessaire de passer par une troisième variable auxiliaire. Grâce aux tuples, la permutation peut se faire en une instruction."
   ]
  },
  {
   "cell_type": "code",
   "execution_count": 12,
   "metadata": {},
   "outputs": [
    {
     "name": "stdout",
     "output_type": "stream",
     "text": [
      "a= 3 b= 2\n",
      "Permutation\n",
      "a= 2 b= 3\n"
     ]
    }
   ],
   "source": [
    "a = 3\n",
    "b = 2\n",
    "print(\"a=\",a, \"b=\", b)\n",
    "print(\"Permutation\")\n",
    "a, b = b, a\n",
    "print(\"a=\",a, \"b=\", b)"
   ]
  },
  {
   "cell_type": "markdown",
   "metadata": {},
   "source": [
    "### Renvoyer plusieurs valeurs dans une fonction\n",
    "\n",
    "Il s'agit d'une application courante des tuples. prenons l'exemple d'une fonction qui renvoie les deux racines du trinome."
   ]
  },
  {
   "cell_type": "code",
   "execution_count": 13,
   "metadata": {},
   "outputs": [
    {
     "data": {
      "text/plain": [
       "(-1.0, 1.0)"
      ]
     },
     "execution_count": 13,
     "metadata": {},
     "output_type": "execute_result"
    }
   ],
   "source": [
    "def racines_du_trinome(a,b,c):\n",
    "    delta = b**2-4*a*c\n",
    "    if delta > 0:\n",
    "        return -b-delta**0.5/(2*a), -b+delta**0.5/(2*a)\n",
    "racines_du_trinome(1,0,-1)"
   ]
  },
  {
   "cell_type": "markdown",
   "metadata": {},
   "source": [
    "Ici on récupère les racines par déstructuration."
   ]
  },
  {
   "cell_type": "code",
   "execution_count": 14,
   "metadata": {},
   "outputs": [
    {
     "name": "stdout",
     "output_type": "stream",
     "text": [
      "racine 1: -1.4142135623730951\n",
      "racine 2: 1.4142135623730951\n"
     ]
    }
   ],
   "source": [
    "x1, x2 = racines_du_trinome(1,0,-2)\n",
    "print(\"racine 1:\", x1)\n",
    "print(\"racine 2:\", x2)"
   ]
  },
  {
   "cell_type": "markdown",
   "metadata": {},
   "source": [
    "## Particularités des tuples\n",
    "\n",
    "Les tuples peuvent stocker n'importe quel type de valeurs."
   ]
  },
  {
   "cell_type": "code",
   "execution_count": 15,
   "metadata": {},
   "outputs": [
    {
     "data": {
      "text/plain": [
       "(False, 'un', 2.0, 3)"
      ]
     },
     "execution_count": 15,
     "metadata": {},
     "output_type": "execute_result"
    }
   ],
   "source": [
    "(False, \"un\", 2.0, 3)"
   ]
  },
  {
   "cell_type": "markdown",
   "metadata": {},
   "source": [
    "Les tuples sont [*immutables*](https://fr.wiktionary.org/wiki/immutable), c'est à dire qu'on ne peut les modifier une fois qu'ils ont été créés."
   ]
  },
  {
   "cell_type": "code",
   "execution_count": 17,
   "metadata": {},
   "outputs": [
    {
     "ename": "TypeError",
     "evalue": "'tuple' object does not support item assignment",
     "output_type": "error",
     "traceback": [
      "\u001b[0;31m-------------------------------------------------------------------------\u001b[0m",
      "\u001b[0;31mTypeError\u001b[0m                               Traceback (most recent call last)",
      "\u001b[0;32m<ipython-input-17-28b8e5df48e8>\u001b[0m in \u001b[0;36m<module>\u001b[0;34m\u001b[0m\n\u001b[0;32m----> 1\u001b[0;31m \u001b[0mt\u001b[0m\u001b[0;34m[\u001b[0m\u001b[0;36m0\u001b[0m\u001b[0;34m]\u001b[0m \u001b[0;34m=\u001b[0m \u001b[0;36m6\u001b[0m\u001b[0;34m\u001b[0m\u001b[0;34m\u001b[0m\u001b[0m\n\u001b[0m",
      "\u001b[0;31mTypeError\u001b[0m: 'tuple' object does not support item assignment"
     ]
    }
   ],
   "source": [
    "t[0] = 6"
   ]
  },
  {
   "cell_type": "markdown",
   "metadata": {},
   "source": [
    "## p-uplets nommés\n",
    "\n",
    "Il est possible de créer des p-uplets nommés afin de pouvoir accéder aux éléments de la collection par clé.\n",
    "\n",
    "Ce type nécessite d'être importé par le module `collections` avant d'être utilisé."
   ]
  },
  {
   "cell_type": "code",
   "execution_count": 18,
   "metadata": {},
   "outputs": [
    {
     "data": {
      "text/plain": [
       "Eleve(nom='John', age=17, classe='1g', spécialité='nsi')"
      ]
     },
     "execution_count": 18,
     "metadata": {},
     "output_type": "execute_result"
    }
   ],
   "source": [
    "from collections import namedtuple\n",
    "\n",
    "Eleve = namedtuple('Eleve', 'nom, age, classe, spécialité')\n",
    "e = Eleve(\"John\", 17, \"1g\", \"nsi\" )\n",
    "e"
   ]
  },
  {
   "cell_type": "markdown",
   "metadata": {},
   "source": [
    "L'avantage de l'accés par clef est qu'il apporte plus d'expressivité au code.\n",
    "\n",
    "L'accés peut se faire en ajoutant un point et le nom de la clé. Il s'agit encore d'une _notation pointée_ comme dans le cas d'appel de méthodes, cependant il n'y a pas de parenthèses car il s'agit de valeurs et non de fonctions(On parle d'attributs de l'objet)."
   ]
  },
  {
   "cell_type": "code",
   "execution_count": 19,
   "metadata": {},
   "outputs": [
    {
     "data": {
      "text/plain": [
       "17"
      ]
     },
     "execution_count": 19,
     "metadata": {},
     "output_type": "execute_result"
    }
   ],
   "source": [
    "e.age"
   ]
  },
  {
   "cell_type": "code",
   "execution_count": 20,
   "metadata": {},
   "outputs": [
    {
     "data": {
      "text/plain": [
       "'nsi'"
      ]
     },
     "execution_count": 20,
     "metadata": {},
     "output_type": "execute_result"
    }
   ],
   "source": [
    "e.spécialité"
   ]
  },
  {
   "cell_type": "markdown",
   "metadata": {},
   "source": [
    "## Usage\n",
    "\n",
    "L'usage des p-uplet qu'ils soient nommés ou pas reste peu répandu au profit des tableaux `list` et dictionnaires `dict` respectivement, qui au contraire des n-uplets sont [mutables](https://fr.wiktionary.org/wiki/mutable).\n",
    "\n",
    "On pourra ainsi y ajouter des éléments, en retirer...\n",
    "\n"
   ]
  }
 ],
 "metadata": {
  "kernelspec": {
   "display_name": "Python 3",
   "language": "python",
   "name": "python3"
  },
  "language_info": {
   "codemirror_mode": {
    "name": "ipython",
    "version": 3
   },
   "file_extension": ".py",
   "mimetype": "text/x-python",
   "name": "python",
   "nbconvert_exporter": "python",
   "pygments_lexer": "ipython3",
   "version": "3.9.1"
  },
  "toc": {
   "base_numbering": 1,
   "nav_menu": {},
   "number_sections": true,
   "sideBar": true,
   "skip_h1_title": true,
   "title_cell": "Plan",
   "title_sidebar": "Contenu",
   "toc_cell": true,
   "toc_position": {},
   "toc_section_display": true,
   "toc_window_display": false
  }
 },
 "nbformat": 4,
 "nbformat_minor": 2
}
