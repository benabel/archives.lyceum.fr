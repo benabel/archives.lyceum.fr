{
 "cells": [
  {
   "cell_type": "markdown",
   "metadata": {},
   "source": [
    "---\n",
    "\"tags\": [\"Python\", \"algorithmique\", \"algorithme de force brute\"]\n",
    "---\n",
    "\n",
    "::: programme\n",
    "+--------------------------+-----------------------------------+-------------------------------------+\n",
    "|         Contenus         |        Capacités attendues        |            Commentaires             |\n",
    "+==========================+===================================+=====================================+\n",
    "| Parcours séquentiel d'un | Écrire un algorithme de           | On montre que le coût est linéaire  |\n",
    "| tableau                  | recherche d'une occurence sur     |                                     |\n",
    "|                          | des valeurs de type               |                                     |\n",
    "|                          | quelconque                        |                                     |\n",
    "|                          |                                   |                                     |\n",
    "|                          | Écrire un algorithme de           |                                     |\n",
    "|                          | recherche d'un extremum, de       |                                     |\n",
    "|                          | calcul d'une moyenne.             |                                     |\n",
    "+--------------------------+-----------------------------------+-------------------------------------+\n",
    ":::\n",
    "\n",
    "Dans ce chapitre, nous allons étudier des algorithmes de parcours séquentiel d'un tableau pour:\n",
    "\n",
    "1. Rechercher un élément d'un type donné.\n",
    "2. Rechercher le maximum d'un tableau.\n",
    "3. Calculer la moyenne d'un tableau.\n",
    "\n",
    "Ces algorithmes \"séquentiels\" ne sont pas du tout efficace, on les appelle en anglais *\"Brute force algorithms\"*."
   ]
  },
  {
   "cell_type": "markdown",
   "metadata": {},
   "source": [
    "## Méthodes de parcours séquentiel d'un tableau\n",
    "\n",
    "### avec les indices\n",
    "\n",
    "On peut parcourir le tableau en utilisant les indices, pour cela on utise la fonction range qui génére des entiers successifs jusqu'à une limite supérieure ici la longueur totale de la liste. "
   ]
  },
  {
   "cell_type": "code",
   "execution_count": 1,
   "metadata": {},
   "outputs": [
    {
     "output_type": "stream",
     "name": "stdout",
     "text": [
      "indice:  0 valeur:  12\nindice:  1 valeur:  24\nindice:  2 valeur:  32\nindice:  3 valeur:  69\nindice:  4 valeur:  45\nindice:  5 valeur:  -12\n"
     ]
    }
   ],
   "source": [
    "L = [12, 24, 32, 69, 45, -12]\n",
    "for i in range(len(L)):\n",
    "    print(\"indice: \", i, \"valeur: \", L[i])"
   ]
  },
  {
   "cell_type": "markdown",
   "metadata": {},
   "source": [
    "### avec le mot-clé `in`\n",
    "\n",
    "Python met à disposition le mot-clé `in` pour réaliser aisément des itérations sur les listes."
   ]
  },
  {
   "cell_type": "code",
   "execution_count": 2,
   "metadata": {},
   "outputs": [
    {
     "output_type": "stream",
     "name": "stdout",
     "text": [
      "élément:  12\nélément:  24\nélément:  32\nélément:  69\nélément:  45\nélément:  -12\n"
     ]
    }
   ],
   "source": [
    "for e in L:\n",
    "    print(\"élément: \", e)"
   ]
  },
  {
   "cell_type": "markdown",
   "metadata": {},
   "source": [
    "## Recherche d'un extrémum\n",
    "\n",
    "On initialise la valeur au premier élement du tableau puis on parcours le tableau pour vérifier s'il existe un élément soit plus petit soit plus grand.\n",
    "\n",
    "### Recherche du maximum"
   ]
  },
  {
   "cell_type": "code",
   "execution_count": 3,
   "metadata": {},
   "outputs": [
    {
     "output_type": "execute_result",
     "data": {
      "text/plain": [
       "69"
      ]
     },
     "metadata": {},
     "execution_count": 3
    }
   ],
   "source": [
    "def maximum(liste):\n",
    "    # ne pas utiliser max pour le nom de variable\n",
    "    # car la fonction max existe en Python(on l'écraserait!)\n",
    "    maxi = liste[0]\n",
    "    for e in liste:\n",
    "        if e > maxi:\n",
    "            maxi = e\n",
    "    return maxi\n",
    "\n",
    "# appel de la fonction sur L\n",
    "maximum(L)"
   ]
  },
  {
   "cell_type": "markdown",
   "metadata": {},
   "source": [
    "### Recherche du minimum"
   ]
  },
  {
   "cell_type": "code",
   "execution_count": 4,
   "metadata": {},
   "outputs": [
    {
     "output_type": "execute_result",
     "data": {
      "text/plain": [
       "-12"
      ]
     },
     "metadata": {},
     "execution_count": 4
    }
   ],
   "source": [
    "def minimum(liste):\n",
    "    mini = L[0]\n",
    "    for e in liste:\n",
    "        if e < mini:\n",
    "            mini = e\n",
    "    return mini\n",
    "\n",
    "# appel de la fonction avec la liste L en argument\n",
    "minimum(L)"
   ]
  },
  {
   "cell_type": "markdown",
   "metadata": {},
   "source": [
    "## Calculer la moyenne d'un tableau\n",
    "\n",
    "On initialise une valeur accumulatrice à 0, puis on additionne tous les éléments du tableau. Enfin on divise la somme des éléments par le nombre d'éléments du tableau.\n"
   ]
  },
  {
   "cell_type": "code",
   "execution_count": 5,
   "metadata": {},
   "outputs": [
    {
     "output_type": "execute_result",
     "data": {
      "text/plain": [
       "28.333333333333332"
      ]
     },
     "metadata": {},
     "execution_count": 5
    }
   ],
   "source": [
    "def moyenne(liste):\n",
    "    somme = 0\n",
    "    for e in liste:\n",
    "        somme = somme + e\n",
    "    # On divise la somme de tpus les éléments par leur nombre\n",
    "    moyenne = somme / len(L)\n",
    "    return moyenne\n",
    "\n",
    "moyenne(L)"
   ]
  },
  {
   "cell_type": "markdown",
   "metadata": {},
   "source": [
    "## La recherche en table\n",
    "\n",
    "Nous allons voir comment chercher une valeur dans un tableau par une méthode de parcours du tableau. Cet algorithme naïf est trsè couteux, et on verra par la suite d'autres algoritmes beaucoup plus efficaces pour rechercher un élément.\n",
    "\n",
    "### Commencons par créer une liste d'éléments\n",
    "\n",
    "Pour cela nous allons écrire une fonction pour créer facilement des  listes de mots."
   ]
  },
  {
   "cell_type": "code",
   "execution_count": 6,
   "metadata": {},
   "outputs": [
    {
     "output_type": "stream",
     "name": "stdout",
     "text": [
      "['xwt', 'bup', 'bou', 'xbd', 'upd', 'fuz', 'tfb', 'yht', 'ryd', 'twn']\n"
     ]
    }
   ],
   "source": [
    "import random\n",
    "import string\n",
    "\n",
    "lettres = string.ascii_lowercase\n",
    "\n",
    "def create_liste(N, l=3):\n",
    "    \"\"\"Renvoie une liste de N mots ayant l lettres\"\"\"\n",
    "    L = []\n",
    "    # on rend le générateur prédictible en imposant une graine fixe\n",
    "    random.seed(1789)\n",
    "    for i in range(N):\n",
    "        mot = ''.join(random.choice(lettres) for i in range(l))\n",
    "        L.append(mot)\n",
    "    return L\n",
    "mots = create_liste(10, 3)\n",
    "print(mots)"
   ]
  },
  {
   "cell_type": "markdown",
   "metadata": {},
   "source": [
    "### Algorithme de recherche par parcours séquentiel du tableau\n",
    "\n",
    "Pour trouver un élément la méthode la plus simple consisterait à parcourir l'ensemble du tableau et de s'arrêter lorsqu'on trouve l'élément.\n",
    "\n",
    "Dans une fonction **le `return` est définitif**, on peut donc facilement arrêter la boucle dès que la valeur est trouvée. Si on est arrivé au bout de la boucle on est donc certains que l'élément cherché n'est pas présent."
   ]
  },
  {
   "cell_type": "code",
   "execution_count": 7,
   "metadata": {},
   "outputs": [
    {
     "output_type": "execute_result",
     "data": {
      "text/plain": [
       "5"
      ]
     },
     "metadata": {},
     "execution_count": 7
    }
   ],
   "source": [
    "def recherche(liste, cherche):\n",
    "    \"\"\"Fonction de recherche de l'élément dans la liste\n",
    "\n",
    "    Arguments\n",
    "    ---------\n",
    "    l: liste\n",
    "        la liste dans laquelle on cherche\n",
    "    e: str\n",
    "        l'élément chérché\n",
    "    Retourne\n",
    "    --------\n",
    "    int \n",
    "       l'indice de l'élément si trouvé et moins la longeur de la liste -1  sinon\n",
    "    \"\"\"\n",
    "    for e in liste:\n",
    "        if e == cherche:\n",
    "            return i\n",
    "    return -len(liste) - 1\n",
    "\n",
    "recherche(mots, \"fuz\")"
   ]
  },
  {
   "cell_type": "code",
   "execution_count": 8,
   "metadata": {},
   "outputs": [
    {
     "output_type": "execute_result",
     "data": {
      "text/plain": [
       "-11"
      ]
     },
     "metadata": {},
     "execution_count": 8
    }
   ],
   "source": [
    "recherche(mots, \"ful\")"
   ]
  },
  {
   "cell_type": "markdown",
   "metadata": {},
   "source": [
    "::: plus\n",
    "\n",
    "Le choix de la valeur de retour peut paraitre étrange, mais il convient:\n",
    "\n",
    "- de toujours renvoyer le même type de valeur. Ici `int`, il n'est pas souhaitable de passer par un booléen si non trouvé.\n",
    "- que cette valeur en cas de recherche infructueuse soit facilement reconnaissable et inutilisable. Une valeur négative est facile à reconnaitre, et de plus malgré les indexages négatifs possibles en python, si quelqu'un utilisait cette valeur pour l'index, il aurait une `IndexError` alors qu'un renvoi de `-1` donnerait l'indice du dernier élément en indexage négatif.\n",
    "\n",
    ":::\n",
    "\n",
    "### Coût de l'algorithme: notion de complexité\n",
    "\n",
    "Cette méthode a l'avantage d'ếtre simple, et fonctionne cependant si le tableau est long l'algorithme devient très long. Il faut dans le pire des cas(si l'élément cherché est à la fin ou n'est pas trouvé) parcourir toute la liste.\n",
    "\n",
    "On dit que le coût de l'algorithme est linéaire ou encore que c'est un algorithme de complexité n, n étant la taille des données. En effet, l'algorithme effectue n tours de boucles pour trouver la solution dans le pire des cas.\n",
    "\n",
    "### Mesure du temps de référence(benchmark)\n",
    "\n",
    "Mesurons le temps pris par cet algorithme sur une liste de 10 millions d'éléments grâce à la fonction magique `%timeit`.\n",
    "\n",
    "*Remarque: on utilise des mots de 5 caractères ce qui permet d'obtenir $26^5$ mots différents(bien que le générateur puisse créer des doublons dans la liste).*"
   ]
  },
  {
   "cell_type": "code",
   "execution_count": 9,
   "metadata": {},
   "outputs": [],
   "source": [
    "mots = create_liste(int(1E7), 5)"
   ]
  },
  {
   "cell_type": "code",
   "execution_count": 10,
   "metadata": {},
   "outputs": [
    {
     "output_type": "stream",
     "name": "stdout",
     "text": [
      "129 ms ± 655 µs per loop (mean ± std. dev. of 7 runs, 10 loops each)\n"
     ]
    }
   ],
   "source": [
    "%%timeit\n",
    "recherche(mots, 'abcde')"
   ]
  },
  {
   "cell_type": "markdown",
   "metadata": {},
   "source": [
    "On voit qu'en moyenne, l'algorithme a pris environ 130ms pour effectuer cette recherche. On comparera ce temps au temps mis par un algorithme de recherche beaucoup plus efficace dans un chapitre ultérieur: **la [recherche dichotomique](/1g/nsi/8-algorithmique/4-recherche-dichotomique)**."
   ]
  }
 ],
 "metadata": {
  "kernelspec": {
   "display_name": "Python 3",
   "language": "python",
   "name": "python3"
  },
  "language_info": {
   "codemirror_mode": {
    "name": "ipython",
    "version": 3
   },
   "file_extension": ".py",
   "mimetype": "text/x-python",
   "name": "python",
   "nbconvert_exporter": "python",
   "pygments_lexer": "ipython3",
   "version": "3.9.5"
  },
  "toc": {
   "base_numbering": 1,
   "nav_menu": {},
   "number_sections": true,
   "sideBar": true,
   "skip_h1_title": true,
   "title_cell": "Table des matières",
   "title_sidebar": "Contenu",
   "toc_cell": false,
   "toc_position": {},
   "toc_section_display": true,
   "toc_window_display": true
  }
 },
 "nbformat": 4,
 "nbformat_minor": 2
}